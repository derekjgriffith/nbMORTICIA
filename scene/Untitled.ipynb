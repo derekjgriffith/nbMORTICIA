{
 "cells": [
  {
   "cell_type": "code",
   "execution_count": 3,
   "metadata": {
    "collapsed": false
   },
   "outputs": [
    {
     "name": "stdout",
     "output_type": "stream",
     "text": [
      "The autoreload extension is already loaded. To reload it, use:\n",
      "  %reload_ext autoreload\n",
      "Modules to reload:\n",
      "morticia.scene.mitsuba\n",
      "\n",
      "Modules to skip:\n",
      "\n"
     ]
    }
   ],
   "source": [
    "import os, sys\n",
    "import matplotlib.pyplot as plt\n",
    "import matplotlib.image as mpimg\n",
    "import numpy as np\n",
    "# Note that the MORTICIA scene module for Mitsuba is imported as mormit,\n",
    "# whereas the Mitsuba Python API is imported as mitsuba\n",
    "import morticia.rad.radute as radute\n",
    "import morticia.scene.mitsuba as mormit\n",
    "%matplotlib inline\n",
    "# Now import the mitsuba Python extension\n",
    "# The following applies only to Windows\n",
    "# NOTE: remember to specify paths using FORWARD slashes (i.e. '/' instead of\n",
    "# '\\' to avoid pitfalls with string escaping)\n",
    "# Configure the search path for the Python extension module\n",
    "my_path_to_mitsuba = 'C:/Users/DGriffith/Downloads/Mitsuba/Mitsuba 0.5.0'\n",
    "sys.path.append(my_path_to_mitsuba + '/python/2.7')\n",
    "# Ensure that Python will be able to find the Mitsuba core libraries\n",
    "os.environ['PATH'] = my_path_to_mitsuba + os.pathsep + os.environ['PATH']\n",
    "# On other platforms, measures may also be required to ensure that Python can find the Mitsuba package\n",
    "import mitsuba\n",
    "from lxml import etree\n",
    "from io import StringIO, BytesIO\n",
    "# Use auto reload of librad for development purposes\n",
    "%load_ext autoreload\n",
    "%autoreload 1\n",
    "%aimport morticia.scene.mitsuba\n",
    "%aimport \n",
    "%matplotlib inline"
   ]
  },
  {
   "cell_type": "code",
   "execution_count": 4,
   "metadata": {
    "collapsed": true
   },
   "outputs": [],
   "source": [
    "a = etree.parse('./MitsubaScenes/cubiPNG.xml')"
   ]
  },
  {
   "cell_type": "code",
   "execution_count": 10,
   "metadata": {
    "collapsed": false
   },
   "outputs": [
    {
     "data": {
      "text/plain": [
       "[]"
      ]
     },
     "execution_count": 10,
     "metadata": {},
     "output_type": "execute_result"
    }
   ],
   "source": [
    "a.findall('<scene>')"
   ]
  },
  {
   "cell_type": "code",
   "execution_count": null,
   "metadata": {
    "collapsed": true
   },
   "outputs": [],
   "source": []
  }
 ],
 "metadata": {
  "kernelspec": {
   "display_name": "Python [mordevpy27]",
   "language": "python",
   "name": "Python [mordevpy27]"
  },
  "language_info": {
   "codemirror_mode": {
    "name": "ipython",
    "version": 2
   },
   "file_extension": ".py",
   "mimetype": "text/x-python",
   "name": "python",
   "nbconvert_exporter": "python",
   "pygments_lexer": "ipython2",
   "version": "2.7.12"
  }
 },
 "nbformat": 4,
 "nbformat_minor": 0
}
