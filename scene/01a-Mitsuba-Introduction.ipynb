{
 "cells": [
  {
   "cell_type": "markdown",
   "metadata": {},
   "source": [
    "# Python API for Mitsuba\n",
    "The [Mitsuba](http://www.mitsuba-renderer.org/) rendering system exposes many of the C++ API calls to Python access. This notebook includes the examples from the Mitsuba documentation as well as some additional examples for composing and rendering a scene from Python. This notebook shows direct interaction via the Mitsuba Python bindings. Also available is a light wrapper around some of the Mitsuba classes to be found in the `morticia.scene.mortsuba` module. Use of this module is illustrated in other notebooks.\n",
    "\n",
    "Documentation for the [Mitsuba Python bindings](http://www.mitsuba-renderer.org/api/group__libpython.html) is available at the Mitsuba website.\n",
    "\n",
    "Note that this notebook runs on the assumption that there is a local installation of Mitsuba and that it is compiled in the normal RGB (SPECTRUM_SAMPLES = 3) mode. \"Field\" integrators are not available when Mitsuba is compiled with SPECTRUM_SAMPLES > 3. The field integrators are illustrated in this notebook, including distance, normals, UV-mapping coordinates are more. These integrators can be accessed using the Mitsuba \"multichannel\" integrator facility.\n",
    "\n",
    "One potential approach is that the local copy of Mitsuba be compiled with SPECTRUM_SAMPLES = 3 for the use of field integrators and that additional compute platforms be available with Mitsuba compiled having SPECTRUM_SAMPLES > 3. The most consistent approach is to compile all instances of Mitsuba with SPECTRUM_SAMPLES = 3 and run Mitsuba multiple times to render any scenes requiring more than 3 spectral channels."
   ]
  },
  {
   "cell_type": "code",
   "execution_count": 10,
   "metadata": {},
   "outputs": [
    {
     "name": "stdout",
     "output_type": "stream",
     "text": [
      "The autoreload extension is already loaded. To reload it, use:\n",
      "  %reload_ext autoreload\n",
      "Modules to reload:\n",
      "morticia.scene.mitsuba morticia.scene.mortsuba\n",
      "\n",
      "Modules to skip:\n",
      "\n"
     ]
    }
   ],
   "source": [
    "import os, sys\n",
    "import matplotlib as mpl\n",
    "import matplotlib.pyplot as plt\n",
    "import matplotlib.image as mpimg\n",
    "import numpy as np\n",
    "# Note that the MORTICIA scene module for Mitsuba is imported as mormit,\n",
    "# whereas the Mitsuba Python API is imported as mitsuba\n",
    "import morticia.rad.radute as radute\n",
    "import morticia.scene.mortsuba as mormit\n",
    "font = {'family' : 'normal',\n",
    "        'weight' : 'bold',\n",
    "        'size'   : 22}\n",
    "mpl.rc('font', **font)\n",
    "# Use the following magic to configure the backend for \n",
    "# PDF graphic generation if exporting for publication\n",
    "backend_figure_format = 'png'\n",
    "if backend_figure_format:\n",
    "    %config InlineBackend.figure_format = '$backend_figure_format'\n",
    "# Now import the mitsuba Python extension\n",
    "# The following applies only to Windows\n",
    "# NOTE: remember to specify paths using FORWARD slashes (i.e. '/' instead of\n",
    "# '\\' to avoid pitfalls with string escaping)\n",
    "# Configure the search path for the Python extension module\n",
    "my_path_to_mitsuba = 'C:/Users/DGriffith/Downloads/Mitsuba/Mitsuba 0.5.0'\n",
    "sys.path.append(my_path_to_mitsuba + '/python/2.7')\n",
    "# Ensure that Python will be able to find the Mitsuba core libraries\n",
    "os.environ['PATH'] = my_path_to_mitsuba + os.pathsep + os.environ['PATH']\n",
    "# On other platforms, measures may also be required to ensure that Python can find the Mitsuba package\n",
    "import mitsuba\n",
    "# Use auto reload of librad for development purposes\n",
    "%load_ext autoreload\n",
    "%autoreload 1\n",
    "%aimport morticia.scene.mortsuba\n",
    "%aimport \n",
    "%matplotlib inline\n",
    "casetitle = 'Mitsuba Python API' \n",
    "subtitle = 'Examples and Exercises'"
   ]
  },
  {
   "cell_type": "markdown",
   "metadata": {},
   "source": [
    "## Accessing Core Funcions"
   ]
  },
  {
   "cell_type": "code",
   "execution_count": 4,
   "metadata": {},
   "outputs": [
    {
     "name": "stdout",
     "output_type": "stream",
     "text": [
      "[0.801784, 0.534522, -0.267261]\n"
     ]
    }
   ],
   "source": [
    "# A simple 3-vector transformation operation\n",
    "from mitsuba.core import *\n",
    "# Create a normalized direction vector\n",
    "myVector = normalize(mitsuba.core.Vector(1.0, 2.0, 3.0))\n",
    "# 90 deg. rotation around the Y axis\n",
    "trafo = Transform.rotate(mitsuba.core.Vector(0, 1, 0), 90)\n",
    "# Apply the rotation and display the result\n",
    "print(trafo * myVector)"
   ]
  },
  {
   "cell_type": "markdown",
   "metadata": {},
   "source": [
    "## Loading a Scene\n",
    "Scenes are loaded using the file resolver to find the .xml scene file and then the [SceneHandler](http://www.mitsuba-renderer.org/api/classmitsuba_1_1_scene_handler.html) to load the scene.\n",
    "\n",
    "Here, the scene cubi.xml contains a CUBI object used in thermal signatorics. The CUBI is also used as a standard object for field validation."
   ]
  },
  {
   "cell_type": "code",
   "execution_count": 5,
   "metadata": {},
   "outputs": [],
   "source": [
    "from mitsuba.render import SceneHandler\n",
    "# Get a reference to the thread's file resolver\n",
    "fileResolver = Thread.getThread().getFileResolver()\n",
    "# Register any searchs path needed to load scene resources (optional)\n",
    "fileResolver.appendPath('./MitsubaScenes/')\n",
    "# Optional: supply parameters that can be accessed\n",
    "# by the scene (e.g. as $myParameter)\n",
    "paramMap = StringMap()\n",
    "paramMap['myParameter'] = 'value'"
   ]
  },
  {
   "cell_type": "code",
   "execution_count": 6,
   "metadata": {},
   "outputs": [
    {
     "name": "stdout",
     "output_type": "stream",
     "text": [
      "Scene[\n",
      "  sensor = ref<PerspectiveCameraImpl>[ref=2, ptr=PerspectiveCamera[\n",
      "    xfov = 40,\n",
      "    nearClip = 0.01,\n",
      "    farClip = 10000,\n",
      "    worldTransform = ref<AnimatedTransform>[ref=1, ptr=Matrix4x4[\n",
      "      -0.707107, -0.235706, -0.666665, 2.12711;\n",
      "      -0.707107, 0.235706, 0.666665, -2.12711;\n",
      "      0, 0.942807, -0.333339, 1.06356;\n",
      "      0, 0, 0, 1\n",
      "    ]],\n",
      "    sampler = IndependentSampler[\n",
      "      sampleCount = 1\n",
      "    ],\n",
      "    film = HDRFilm[\n",
      "      size = [1024, 768],\n",
      "      fileFormat = 1,\n",
      "      pixelFormat = rgb, luminance, rgb, \n",
      "      channelNames = \"normal.R\", \"normal.G\", \"normal.B\", \"distance.Y\", \"uv.R\", \"uv.G\", \"uv.B\", \n",
      "      componentFormat = float32,\n",
      "      cropOffset = [0, 0],\n",
      "      cropSize = [1024, 768],\n",
      "      banner = 1,\n",
      "      filter = GaussianFilter[stddev=0.500000, radius=2.000000]\n",
      "    ],\n",
      "    medium = ref<Medium>[null],\n",
      "    shutterOpen = 0,\n",
      "    shutterOpenTime = 0\n",
      "  ]],\n",
      "  sampler = ref<IndependentSampler>[ref=2, ptr=IndependentSampler[\n",
      "    sampleCount = 1\n",
      "  ]],\n",
      "  integrator = ref<MultiChannelIntegrator>[ref=1, ptr=MultiChannelIntegrator[\n",
      "    integrators = {\n",
      "      FieldIntegrator[],\n",
      "      FieldIntegrator[],\n",
      "      FieldIntegrator[],\n",
      "    }\n",
      "  ]],\n",
      "  kdtree = ref<ShapeKDTree>[ref=1, ptr=ShapeKDTree[unknown]],\n",
      "  environmentEmitter = ref<EnvironmentMap>[ref=2, ptr=EnvironmentMap[\n",
      "    filename = \"\",\n",
      "    samplingWeight = 1,\n",
      "    bsphere = BSphere[center = [0, 0, 0], radius = 0],\n",
      "    worldTransform = ref<AnimatedTransform>[ref=2, ptr=Matrix4x4[\n",
      "      1, 0, 0, 0;\n",
      "      0, -4.37114e-008, -1, 0;\n",
      "      0, 1, -4.37114e-008, 0;\n",
      "      0, 0, 0, 1\n",
      "    ]],\n",
      "    mipmap = TMIPMap[\n",
      "       pixelFormat = rgb,\n",
      "       size = 1.0 MiB,\n",
      "       levels = 10,\n",
      "       cached = no,\n",
      "       filterType = ewa,\n",
      "       bc = [repeat, clamp],\n",
      "       minimum = [0, 0, 0],\n",
      "       maximum = [4591.88, 3524.41, 2460.93],\n",
      "       average = [0.0837834, 0.0815985, 0.082528]\n",
      "    ],\n",
      "    medium = ref<Medium>[null]\n",
      "  ]],\n",
      "  shapes = {\n",
      "    Rectangle[\n",
      "      objectToWorld = Matrix4x4[\n",
      "        0.25, 0, 0, 0;\n",
      "        0, -1.09278e-008, -0.25, 0;\n",
      "        0, 0.25, -1.09278e-008, 0.25;\n",
      "        0, 0, 0, 1\n",
      "      ],\n",
      "      bsdf = ref<SmoothDiffuse>[ref=15, ptr=SmoothDiffuse[\n",
      "        id = \"diffuseWhite\",\n",
      "        reflectance = [1, 1, 1]\n",
      "      ]],\n",
      "      emitter = ref<Emitter>[null],\n",
      "      sensor = ref<Sensor>[null],\n",
      "      subsurface = ref<Subsurface>[null]\n",
      "    ],\n",
      "    Rectangle[\n",
      "      objectToWorld = Matrix4x4[\n",
      "        0.25, 0, 0, 0;\n",
      "        0, 0.25, 0, -0.25;\n",
      "        0, 0, 0.25, 0;\n",
      "        0, 0, 0, 1\n",
      "      ],\n",
      "      bsdf = ref<SmoothDiffuse>[ref=15, ptr=SmoothDiffuse[\n",
      "        id = \"diffuseWhite\",\n",
      "        reflectance = [1, 1, 1]\n",
      "      ]],\n",
      "      emitter = ref<Emitter>[null],\n",
      "      sensor = ref<Sensor>[null],\n",
      "      subsurface = ref<Subsurface>[null]\n",
      "    ],\n",
      "    Rectangle[\n",
      "      objectToWorld = Matrix4x4[\n",
      "        0.25, 0, 0, 0;\n",
      "        0, 0.25, 0, 0.25;\n",
      "        0, 0, 0.25, 0.5;\n",
      "        0, 0, 0, 1\n",
      "      ],\n",
      "      bsdf = ref<SmoothDiffuse>[ref=15, ptr=SmoothDiffuse[\n",
      "        id = \"diffuseWhite\",\n",
      "        reflectance = [1, 1, 1]\n",
      "      ]],\n",
      "      emitter = ref<Emitter>[null],\n",
      "      sensor = ref<Sensor>[null],\n",
      "      subsurface = ref<Subsurface>[null]\n",
      "    ],\n",
      "    Rectangle[\n",
      "      objectToWorld = Matrix4x4[\n",
      "        0.25, 0, 0, 0;\n",
      "        0, -1.09278e-008, -0.25, -0.5;\n",
      "        0, 0.25, -1.09278e-008, -0.25;\n",
      "        0, 0, 0, 1\n",
      "      ],\n",
      "      bsdf = ref<SmoothDiffuse>[ref=15, ptr=SmoothDiffuse[\n",
      "        id = \"diffuseWhite\",\n",
      "        reflectance = [1, 1, 1]\n",
      "      ]],\n",
      "      emitter = ref<Emitter>[null],\n",
      "      sensor = ref<Sensor>[null],\n",
      "      subsurface = ref<Subsurface>[null]\n",
      "    ],\n",
      "    Rectangle[\n",
      "      objectToWorld = Matrix4x4[\n",
      "        -1.09278e-008, 0, -0.25, -0.25;\n",
      "        0, 0.25, 0, -0.25;\n",
      "        0.25, 0, -1.09278e-008, -0.25;\n",
      "        0, 0, 0, 1\n",
      "      ],\n",
      "      bsdf = ref<SmoothDiffuse>[ref=15, ptr=SmoothDiffuse[\n",
      "        id = \"diffuseWhite\",\n",
      "        reflectance = [1, 1, 1]\n",
      "      ]],\n",
      "      emitter = ref<Emitter>[null],\n",
      "      sensor = ref<Sensor>[null],\n",
      "      subsurface = ref<Subsurface>[null]\n",
      "    ],\n",
      "    Rectangle[\n",
      "      objectToWorld = Matrix4x4[\n",
      "        0.25, 0, 0, 0;\n",
      "        0, -0.25, 2.18557e-008, -0.25;\n",
      "        0, -2.18557e-008, -0.25, -0.5;\n",
      "        0, 0, 0, 1\n",
      "      ],\n",
      "      bsdf = ref<SmoothDiffuse>[ref=15, ptr=SmoothDiffuse[\n",
      "        id = \"diffuseWhite\",\n",
      "        reflectance = [1, 1, 1]\n",
      "      ]],\n",
      "      emitter = ref<Emitter>[null],\n",
      "      sensor = ref<Sensor>[null],\n",
      "      subsurface = ref<Subsurface>[null]\n",
      "    ],\n",
      "    Rectangle[\n",
      "      objectToWorld = Matrix4x4[\n",
      "        0.25, 0, 0, 0;\n",
      "        0, -0.25, 2.18557e-008, 0.25;\n",
      "        0, -2.18557e-008, -0.25, -0.5;\n",
      "        0, 0, 0, 1\n",
      "      ],\n",
      "      bsdf = ref<SmoothDiffuse>[ref=15, ptr=SmoothDiffuse[\n",
      "        id = \"diffuseWhite\",\n",
      "        reflectance = [1, 1, 1]\n",
      "      ]],\n",
      "      emitter = ref<Emitter>[null],\n",
      "      sensor = ref<Sensor>[null],\n",
      "      subsurface = ref<Subsurface>[null]\n",
      "    ],\n",
      "    Rectangle[\n",
      "      objectToWorld = Matrix4x4[\n",
      "        -1.09278e-008, 0, -0.25, -0.25;\n",
      "        0, 0.25, 0, 0.25;\n",
      "        0.25, 0, -1.09278e-008, -0.25;\n",
      "        0, 0, 0, 1\n",
      "      ],\n",
      "      bsdf = ref<SmoothDiffuse>[ref=15, ptr=SmoothDiffuse[\n",
      "        id = \"diffuseWhite\",\n",
      "        reflectance = [1, 1, 1]\n",
      "      ]],\n",
      "      emitter = ref<Emitter>[null],\n",
      "      sensor = ref<Sensor>[null],\n",
      "      subsurface = ref<Subsurface>[null]\n",
      "    ],\n",
      "    Rectangle[\n",
      "      objectToWorld = Matrix4x4[\n",
      "        -1.09278e-008, 0, -0.25, -0.25;\n",
      "        0, 0.25, 0, 0.25;\n",
      "        0.25, 0, -1.09278e-008, 0.25;\n",
      "        0, 0, 0, 1\n",
      "      ],\n",
      "      bsdf = ref<SmoothDiffuse>[ref=15, ptr=SmoothDiffuse[\n",
      "        id = \"diffuseWhite\",\n",
      "        reflectance = [1, 1, 1]\n",
      "      ]],\n",
      "      emitter = ref<Emitter>[null],\n",
      "      sensor = ref<Sensor>[null],\n",
      "      subsurface = ref<Subsurface>[null]\n",
      "    ],\n",
      "    Rectangle[\n",
      "      objectToWorld = Matrix4x4[\n",
      "        0.25, 0, 0, 0;\n",
      "        0, -1.09278e-008, 0.25, 0.5;\n",
      "        0, -0.25, -1.09278e-008, 0.25;\n",
      "        0, 0, 0, 1\n",
      "      ],\n",
      "      bsdf = ref<SmoothDiffuse>[ref=15, ptr=SmoothDiffuse[\n",
      "        id = \"diffuseWhite\",\n",
      "        reflectance = [1, 1, 1]\n",
      "      ]],\n",
      "      emitter = ref<Emitter>[null],\n",
      "      sensor = ref<Sensor>[null],\n",
      "      subsurface = ref<Subsurface>[null]\n",
      "    ],\n",
      "    Rectangle[\n",
      "      objectToWorld = Matrix4x4[\n",
      "        0.25, 0, 0, 0;\n",
      "        0, -1.09278e-008, 0.25, 0.5;\n",
      "        0, -0.25, -1.09278e-008, -0.25;\n",
      "        0, 0, 0, 1\n",
      "      ],\n",
      "      bsdf = ref<SmoothDiffuse>[ref=15, ptr=SmoothDiffuse[\n",
      "        id = \"diffuseWhite\",\n",
      "        reflectance = [1, 1, 1]\n",
      "      ]],\n",
      "      emitter = ref<Emitter>[null],\n",
      "      sensor = ref<Sensor>[null],\n",
      "      subsurface = ref<Subsurface>[null]\n",
      "    ],\n",
      "    Rectangle[\n",
      "      objectToWorld = Matrix4x4[\n",
      "        -1.09278e-008, 0, 0.25, 0.25;\n",
      "        0, 0.25, 0, 0.25;\n",
      "        -0.25, 0, -1.09278e-008, -0.25;\n",
      "        0, 0, 0, 1\n",
      "      ],\n",
      "      bsdf = ref<SmoothDiffuse>[ref=15, ptr=SmoothDiffuse[\n",
      "        id = \"diffuseWhite\",\n",
      "        reflectance = [1, 1, 1]\n",
      "      ]],\n",
      "      emitter = ref<Emitter>[null],\n",
      "      sensor = ref<Sensor>[null],\n",
      "      subsurface = ref<Subsurface>[null]\n",
      "    ],\n",
      "    Rectangle[\n",
      "      objectToWorld = Matrix4x4[\n",
      "        -1.09278e-008, 0, 0.25, 0.25;\n",
      "        0, 0.25, 0, 0.25;\n",
      "        -0.25, 0, -1.09278e-008, 0.25;\n",
      "        0, 0, 0, 1\n",
      "      ],\n",
      "      bsdf = ref<SmoothDiffuse>[ref=15, ptr=SmoothDiffuse[\n",
      "        id = \"diffuseWhite\",\n",
      "        reflectance = [1, 1, 1]\n",
      "      ]],\n",
      "      emitter = ref<Emitter>[null],\n",
      "      sensor = ref<Sensor>[null],\n",
      "      subsurface = ref<Subsurface>[null]\n",
      "    ],\n",
      "    Rectangle[\n",
      "      objectToWorld = Matrix4x4[\n",
      "        -1.09278e-008, 0, 0.25, 0.25;\n",
      "        0, 0.25, 0, -0.25;\n",
      "        -0.25, 0, -1.09278e-008, -0.25;\n",
      "        0, 0, 0, 1\n",
      "      ],\n",
      "      bsdf = ref<SmoothDiffuse>[ref=15, ptr=SmoothDiffuse[\n",
      "        id = \"diffuseWhite\",\n",
      "        reflectance = [1, 1, 1]\n",
      "      ]],\n",
      "      emitter = ref<Emitter>[null],\n",
      "      sensor = ref<Sensor>[null],\n",
      "      subsurface = ref<Subsurface>[null]\n",
      "    ]\n",
      "  },\n",
      "  emitters = {\n",
      "    EnvironmentMap[\n",
      "      filename = \"\",\n",
      "      samplingWeight = 1,\n",
      "      bsphere = BSphere[center = [0, 0, 0], radius = 0],\n",
      "      worldTransform = ref<AnimatedTransform>[ref=2, ptr=Matrix4x4[\n",
      "        1, 0, 0, 0;\n",
      "        0, -4.37114e-008, -1, 0;\n",
      "        0, 1, -4.37114e-008, 0;\n",
      "        0, 0, 0, 1\n",
      "      ]],\n",
      "      mipmap = TMIPMap[\n",
      "         pixelFormat = rgb,\n",
      "         size = 1.0 MiB,\n",
      "         levels = 10,\n",
      "         cached = no,\n",
      "         filterType = ewa,\n",
      "         bc = [repeat, clamp],\n",
      "         minimum = [0, 0, 0],\n",
      "         maximum = [4591.88, 3524.41, 2460.93],\n",
      "         average = [0.0837834, 0.0815985, 0.082528]\n",
      "      ],\n",
      "      medium = ref<Medium>[null]\n",
      "    ]\n",
      "  },\n",
      "  media = {\n",
      "  },\n",
      "  sensors = {\n",
      "    PerspectiveCamera[\n",
      "      xfov = 40,\n",
      "      nearClip = 0.01,\n",
      "      farClip = 10000,\n",
      "      worldTransform = ref<AnimatedTransform>[ref=1, ptr=Matrix4x4[\n",
      "        -0.707107, -0.235706, -0.666665, 2.12711;\n",
      "        -0.707107, 0.235706, 0.666665, -2.12711;\n",
      "        0, 0.942807, -0.333339, 1.06356;\n",
      "        0, 0, 0, 1\n",
      "      ]],\n",
      "      sampler = IndependentSampler[\n",
      "        sampleCount = 1\n",
      "      ],\n",
      "      film = HDRFilm[\n",
      "        size = [1024, 768],\n",
      "        fileFormat = 1,\n",
      "        pixelFormat = rgb, luminance, rgb, \n",
      "        channelNames = \"normal.R\", \"normal.G\", \"normal.B\", \"distance.Y\", \"uv.R\", \"uv.G\", \"uv.B\", \n",
      "        componentFormat = float32,\n",
      "        cropOffset = [0, 0],\n",
      "        cropSize = [1024, 768],\n",
      "        banner = 1,\n",
      "        filter = GaussianFilter[stddev=0.500000, radius=2.000000]\n",
      "      ],\n",
      "      medium = ref<Medium>[null],\n",
      "      shutterOpen = 0,\n",
      "      shutterOpenTime = 0\n",
      "    ]\n",
      "  },\n",
      "  ssIntegrators = {\n",
      "  },\n",
      "  objects = {\n",
      "    SmoothDiffuse[\n",
      "      id = \"diffuseWhite\",\n",
      "      reflectance = [1, 1, 1]\n",
      "    ],\n",
      "    SmoothDiffuse[\n",
      "      id = \"diffuseRed\",\n",
      "      reflectance = [1, 0, 0]\n",
      "    ]\n",
      "  }\n",
      "]\n"
     ]
    }
   ],
   "source": [
    "# Load the scene from an XML file\n",
    "scene = SceneHandler.loadScene(fileResolver.resolve(\"./MitsubaScenes/cubi.xml\"), paramMap)\n",
    "scene.setDestinationFile('./MitsubaScenes/cubiEXR')  # Set the name of the render output file\n",
    "# Display a textual summary of the scene's contents\n",
    "print(scene)"
   ]
  },
  {
   "cell_type": "markdown",
   "metadata": {},
   "source": [
    "## Rendering a Scene\n",
    "First the scheduler and workers are set up and then the render job is submitted to a job queue. The queue should be set up only once per host. Either execute the next cell for execution on the local host, or the following cell for remote execution."
   ]
  },
  {
   "cell_type": "code",
   "execution_count": 7,
   "metadata": {
    "collapsed": true
   },
   "outputs": [],
   "source": [
    "# Run this cell only once per session\n",
    "from mitsuba.render import RenderQueue, RenderJob\n",
    "import multiprocessing\n",
    "scheduler = Scheduler.getInstance()\n",
    "\n",
    "# Start up the scheduling system with one worker per local core\n",
    "for i in range(0, multiprocessing.cpu_count()):\n",
    "    scheduler.registerWorker(LocalWorker(i, 'wrk%i' % i))\n",
    "scheduler.start()"
   ]
  },
  {
   "cell_type": "markdown",
   "metadata": {},
   "source": [
    "The next cell shows how to render via a remote instance of *mtssrv*. Thas can be tested on the local host by specifying the -i 127.0.0.1 option with *mtssrv*."
   ]
  },
  {
   "cell_type": "code",
   "execution_count": 5,
   "metadata": {
    "collapsed": true
   },
   "outputs": [],
   "source": [
    "# Alternatively set up remote workers\n",
    "# Run this cell only once per session\n",
    "\n",
    "# Connect to a socket on a named host or IP address\n",
    "# 7554 is the default port of 'mtssrv'\n",
    "# The IP number 127.0.0.1 usually refers to the local host, but run mtssrv -i 127.0.0.1\n",
    "stream = SocketStream('146.64.248.22', 7554)"
   ]
  },
  {
   "cell_type": "code",
   "execution_count": 6,
   "metadata": {},
   "outputs": [],
   "source": [
    "# Create a remote worker instance that communicates over the stream\n",
    "remoteWorker = RemoteWorker('netWorker', stream)\n",
    "scheduler = Scheduler.getInstance()\n",
    "# Register the remote worker (and any other potential workers)\n",
    "scheduler.registerWorker(remoteWorker)\n",
    "scheduler.start()"
   ]
  },
  {
   "cell_type": "code",
   "execution_count": 8,
   "metadata": {},
   "outputs": [],
   "source": [
    "from mitsuba.render import RenderQueue, RenderJob\n",
    "# Create a queue for tracking render jobs\n",
    "queue = RenderQueue()"
   ]
  },
  {
   "cell_type": "code",
   "execution_count": 9,
   "metadata": {},
   "outputs": [
    {
     "name": "stdout",
     "output_type": "stream",
     "text": [
      "------------------------------------------------------------\n",
      " * Loaded plugins :\n",
      "    -  plugins\\diffuse.dll [Smooth diffuse BRDF]\n",
      "    -  plugins\\envmap.dll [Environment map]\n",
      "    -  plugins\\field.dll [Field extraction integrator]\n",
      "    -  plugins\\gaussian.dll [Gaussian reconstruction filter]\n",
      "    -  plugins\\hdrfilm.dll [High dynamic range film]\n",
      "    -  plugins\\independent.dll [Independent sampler]\n",
      "    -  plugins\\lanczos.dll [Lanczos Sinc filter]\n",
      "    -  plugins\\multichannel.dll [Multi-channel integrator]\n",
      "    -  plugins\\perspective.dll [Perspective camera]\n",
      "    -  plugins\\rectangle.dll [Rectangle intersection primitive]\n",
      "    -  plugins\\sky.dll [Skylight emitter]\n",
      "    -  plugins\\sphere.dll [Sphere intersection primitive]\n",
      "    -  plugins\\sunsky.dll [Sun & sky emitter]\n",
      "\n",
      "  * General :\n",
      "    -  Normal rays traced : 786.432 K\n",
      "\n",
      "  * Texture system :\n",
      "    -  Cumulative MIP map memory allocations : 1 MiB\n",
      "------------------------------------------------------------\n"
     ]
    }
   ],
   "source": [
    "# Create a render job and insert it into the queue\n",
    "job = RenderJob('myRenderJob', scene, queue)\n",
    "job.start()\n",
    "# Wait for all jobs to finish and release resources\n",
    "queue.waitLeft(0)\n",
    "queue.join()\n",
    "# Print some statistics about the rendering process\n",
    "print(Statistics.getInstance().getStats())"
   ]
  },
  {
   "cell_type": "code",
   "execution_count": 8,
   "metadata": {},
   "outputs": [
    {
     "name": "stdout",
     "output_type": "stream",
     "text": [
      "['normal', 'normal.G', 'uv.R', 'uv', 'distance.Y', 'normal.B', 'uv.B', 'uv.G', 'normal.R']\n"
     ]
    }
   ],
   "source": [
    "# Read the data resulting from the Mitsuba run\n",
    "channel_names, im_dict, header = radute.readOpenEXR('./MitsubaScenes/cubiEXR.exr')\n",
    "# Print keys of what came back in the image dictionary\n",
    "print im_dict.keys()"
   ]
  },
  {
   "cell_type": "code",
   "execution_count": 11,
   "metadata": {
    "scrolled": false
   },
   "outputs": [
    {
     "data": {
      "text/plain": [
       "<matplotlib.image.AxesImage at 0x10977198>"
      ]
     },
     "execution_count": 11,
     "metadata": {},
     "output_type": "execute_result"
    },
    {
     "data": {
      "image/png": "[encoded data removed]",
      "text/plain": [
       "<matplotlib.figure.Figure at 0x1057c7f0>"
      ]
     },
     "metadata": {},
     "output_type": "display_data"
    }
   ],
   "source": [
    "# Plot the distance data\n",
    "plt.figure(figsize=(10.24, 7.68))\n",
    "plt.imshow(im_dict['distance.Y'])"
   ]
  },
  {
   "cell_type": "code",
   "execution_count": 12,
   "metadata": {},
   "outputs": [
    {
     "data": {
      "text/plain": [
       "<matplotlib.image.AxesImage at 0x10a2a2e8>"
      ]
     },
     "execution_count": 12,
     "metadata": {},
     "output_type": "execute_result"
    },
    {
     "data": {
      "image/png": "[encoded data removed]",
      "text/plain": [
       "<matplotlib.figure.Figure at 0x10accf60>"
      ]
     },
     "metadata": {},
     "output_type": "display_data"
    }
   ],
   "source": [
    "# Plot the UV data (u, v coordinates on each pixel hit)\n",
    "plt.figure(figsize=(10.24, 7.68))\n",
    "plt.imshow(im_dict['uv'])"
   ]
  },
  {
   "cell_type": "code",
   "execution_count": 13,
   "metadata": {},
   "outputs": [
    {
     "data": {
      "text/plain": [
       "<matplotlib.image.AxesImage at 0x108e3a58>"
      ]
     },
     "execution_count": 13,
     "metadata": {},
     "output_type": "execute_result"
    },
    {
     "ename": "ValueError",
     "evalue": "Floating point image RGB values must be in the 0..1 range.",
     "output_type": "error",
     "traceback": [
      "\u001b[1;31m---------------------------------------------------------------------------\u001b[0m",
      "\u001b[1;31mValueError\u001b[0m                                Traceback (most recent call last)",
      "\u001b[1;32mC:\\Anaconda\\envs\\mordevpy27\\lib\\site-packages\\IPython\\core\\formatters.pyc\u001b[0m in \u001b[0;36m__call__\u001b[1;34m(self, obj)\u001b[0m\n\u001b[0;32m    332\u001b[0m                 \u001b[1;32mpass\u001b[0m\u001b[1;33m\u001b[0m\u001b[0m\n\u001b[0;32m    333\u001b[0m             \u001b[1;32melse\u001b[0m\u001b[1;33m:\u001b[0m\u001b[1;33m\u001b[0m\u001b[0m\n\u001b[1;32m--> 334\u001b[1;33m                 \u001b[1;32mreturn\u001b[0m \u001b[0mprinter\u001b[0m\u001b[1;33m(\u001b[0m\u001b[0mobj\u001b[0m\u001b[1;33m)\u001b[0m\u001b[1;33m\u001b[0m\u001b[0m\n\u001b[0m\u001b[0;32m    335\u001b[0m             \u001b[1;31m# Finally look for special method names\u001b[0m\u001b[1;33m\u001b[0m\u001b[1;33m\u001b[0m\u001b[0m\n\u001b[0;32m    336\u001b[0m             \u001b[0mmethod\u001b[0m \u001b[1;33m=\u001b[0m \u001b[0mget_real_method\u001b[0m\u001b[1;33m(\u001b[0m\u001b[0mobj\u001b[0m\u001b[1;33m,\u001b[0m \u001b[0mself\u001b[0m\u001b[1;33m.\u001b[0m\u001b[0mprint_method\u001b[0m\u001b[1;33m)\u001b[0m\u001b[1;33m\u001b[0m\u001b[0m\n",
      "\u001b[1;32mC:\\Anaconda\\envs\\mordevpy27\\lib\\site-packages\\IPython\\core\\pylabtools.pyc\u001b[0m in \u001b[0;36m<lambda>\u001b[1;34m(fig)\u001b[0m\n\u001b[0;32m    238\u001b[0m \u001b[1;33m\u001b[0m\u001b[0m\n\u001b[0;32m    239\u001b[0m     \u001b[1;32mif\u001b[0m \u001b[1;34m'png'\u001b[0m \u001b[1;32min\u001b[0m \u001b[0mformats\u001b[0m\u001b[1;33m:\u001b[0m\u001b[1;33m\u001b[0m\u001b[0m\n\u001b[1;32m--> 240\u001b[1;33m         \u001b[0mpng_formatter\u001b[0m\u001b[1;33m.\u001b[0m\u001b[0mfor_type\u001b[0m\u001b[1;33m(\u001b[0m\u001b[0mFigure\u001b[0m\u001b[1;33m,\u001b[0m \u001b[1;32mlambda\u001b[0m \u001b[0mfig\u001b[0m\u001b[1;33m:\u001b[0m \u001b[0mprint_figure\u001b[0m\u001b[1;33m(\u001b[0m\u001b[0mfig\u001b[0m\u001b[1;33m,\u001b[0m \u001b[1;34m'png'\u001b[0m\u001b[1;33m,\u001b[0m \u001b[1;33m**\u001b[0m\u001b[0mkwargs\u001b[0m\u001b[1;33m)\u001b[0m\u001b[1;33m)\u001b[0m\u001b[1;33m\u001b[0m\u001b[0m\n\u001b[0m\u001b[0;32m    241\u001b[0m     \u001b[1;32mif\u001b[0m \u001b[1;34m'retina'\u001b[0m \u001b[1;32min\u001b[0m \u001b[0mformats\u001b[0m \u001b[1;32mor\u001b[0m \u001b[1;34m'png2x'\u001b[0m \u001b[1;32min\u001b[0m \u001b[0mformats\u001b[0m\u001b[1;33m:\u001b[0m\u001b[1;33m\u001b[0m\u001b[0m\n\u001b[0;32m    242\u001b[0m         \u001b[0mpng_formatter\u001b[0m\u001b[1;33m.\u001b[0m\u001b[0mfor_type\u001b[0m\u001b[1;33m(\u001b[0m\u001b[0mFigure\u001b[0m\u001b[1;33m,\u001b[0m \u001b[1;32mlambda\u001b[0m \u001b[0mfig\u001b[0m\u001b[1;33m:\u001b[0m \u001b[0mretina_figure\u001b[0m\u001b[1;33m(\u001b[0m\u001b[0mfig\u001b[0m\u001b[1;33m,\u001b[0m \u001b[1;33m**\u001b[0m\u001b[0mkwargs\u001b[0m\u001b[1;33m)\u001b[0m\u001b[1;33m)\u001b[0m\u001b[1;33m\u001b[0m\u001b[0m\n",
      "\u001b[1;32mC:\\Anaconda\\envs\\mordevpy27\\lib\\site-packages\\IPython\\core\\pylabtools.pyc\u001b[0m in \u001b[0;36mprint_figure\u001b[1;34m(fig, fmt, bbox_inches, **kwargs)\u001b[0m\n\u001b[0;32m    122\u001b[0m \u001b[1;33m\u001b[0m\u001b[0m\n\u001b[0;32m    123\u001b[0m     \u001b[0mbytes_io\u001b[0m \u001b[1;33m=\u001b[0m \u001b[0mBytesIO\u001b[0m\u001b[1;33m(\u001b[0m\u001b[1;33m)\u001b[0m\u001b[1;33m\u001b[0m\u001b[0m\n\u001b[1;32m--> 124\u001b[1;33m     \u001b[0mfig\u001b[0m\u001b[1;33m.\u001b[0m\u001b[0mcanvas\u001b[0m\u001b[1;33m.\u001b[0m\u001b[0mprint_figure\u001b[0m\u001b[1;33m(\u001b[0m\u001b[0mbytes_io\u001b[0m\u001b[1;33m,\u001b[0m \u001b[1;33m**\u001b[0m\u001b[0mkw\u001b[0m\u001b[1;33m)\u001b[0m\u001b[1;33m\u001b[0m\u001b[0m\n\u001b[0m\u001b[0;32m    125\u001b[0m     \u001b[0mdata\u001b[0m \u001b[1;33m=\u001b[0m \u001b[0mbytes_io\u001b[0m\u001b[1;33m.\u001b[0m\u001b[0mgetvalue\u001b[0m\u001b[1;33m(\u001b[0m\u001b[1;33m)\u001b[0m\u001b[1;33m\u001b[0m\u001b[0m\n\u001b[0;32m    126\u001b[0m     \u001b[1;32mif\u001b[0m \u001b[0mfmt\u001b[0m \u001b[1;33m==\u001b[0m \u001b[1;34m'svg'\u001b[0m\u001b[1;33m:\u001b[0m\u001b[1;33m\u001b[0m\u001b[0m\n",
      "\u001b[1;32mC:\\Anaconda\\envs\\mordevpy27\\lib\\site-packages\\matplotlib\\backend_bases.pyc\u001b[0m in \u001b[0;36mprint_figure\u001b[1;34m(self, filename, dpi, facecolor, edgecolor, orientation, format, **kwargs)\u001b[0m\n\u001b[0;32m   2206\u001b[0m                     \u001b[0morientation\u001b[0m\u001b[1;33m=\u001b[0m\u001b[0morientation\u001b[0m\u001b[1;33m,\u001b[0m\u001b[1;33m\u001b[0m\u001b[0m\n\u001b[0;32m   2207\u001b[0m                     \u001b[0mdryrun\u001b[0m\u001b[1;33m=\u001b[0m\u001b[0mTrue\u001b[0m\u001b[1;33m,\u001b[0m\u001b[1;33m\u001b[0m\u001b[0m\n\u001b[1;32m-> 2208\u001b[1;33m                     **kwargs)\n\u001b[0m\u001b[0;32m   2209\u001b[0m                 \u001b[0mrenderer\u001b[0m \u001b[1;33m=\u001b[0m \u001b[0mself\u001b[0m\u001b[1;33m.\u001b[0m\u001b[0mfigure\u001b[0m\u001b[1;33m.\u001b[0m\u001b[0m_cachedRenderer\u001b[0m\u001b[1;33m\u001b[0m\u001b[0m\n\u001b[0;32m   2210\u001b[0m                 \u001b[0mbbox_inches\u001b[0m \u001b[1;33m=\u001b[0m \u001b[0mself\u001b[0m\u001b[1;33m.\u001b[0m\u001b[0mfigure\u001b[0m\u001b[1;33m.\u001b[0m\u001b[0mget_tightbbox\u001b[0m\u001b[1;33m(\u001b[0m\u001b[0mrenderer\u001b[0m\u001b[1;33m)\u001b[0m\u001b[1;33m\u001b[0m\u001b[0m\n",
      "\u001b[1;32mC:\\Anaconda\\envs\\mordevpy27\\lib\\site-packages\\matplotlib\\backends\\backend_agg.pyc\u001b[0m in \u001b[0;36mprint_png\u001b[1;34m(self, filename_or_obj, *args, **kwargs)\u001b[0m\n\u001b[0;32m    505\u001b[0m \u001b[1;33m\u001b[0m\u001b[0m\n\u001b[0;32m    506\u001b[0m     \u001b[1;32mdef\u001b[0m \u001b[0mprint_png\u001b[0m\u001b[1;33m(\u001b[0m\u001b[0mself\u001b[0m\u001b[1;33m,\u001b[0m \u001b[0mfilename_or_obj\u001b[0m\u001b[1;33m,\u001b[0m \u001b[1;33m*\u001b[0m\u001b[0margs\u001b[0m\u001b[1;33m,\u001b[0m \u001b[1;33m**\u001b[0m\u001b[0mkwargs\u001b[0m\u001b[1;33m)\u001b[0m\u001b[1;33m:\u001b[0m\u001b[1;33m\u001b[0m\u001b[0m\n\u001b[1;32m--> 507\u001b[1;33m         \u001b[0mFigureCanvasAgg\u001b[0m\u001b[1;33m.\u001b[0m\u001b[0mdraw\u001b[0m\u001b[1;33m(\u001b[0m\u001b[0mself\u001b[0m\u001b[1;33m)\u001b[0m\u001b[1;33m\u001b[0m\u001b[0m\n\u001b[0m\u001b[0;32m    508\u001b[0m         \u001b[0mrenderer\u001b[0m \u001b[1;33m=\u001b[0m \u001b[0mself\u001b[0m\u001b[1;33m.\u001b[0m\u001b[0mget_renderer\u001b[0m\u001b[1;33m(\u001b[0m\u001b[1;33m)\u001b[0m\u001b[1;33m\u001b[0m\u001b[0m\n\u001b[0;32m    509\u001b[0m         \u001b[0moriginal_dpi\u001b[0m \u001b[1;33m=\u001b[0m \u001b[0mrenderer\u001b[0m\u001b[1;33m.\u001b[0m\u001b[0mdpi\u001b[0m\u001b[1;33m\u001b[0m\u001b[0m\n",
      "\u001b[1;32mC:\\Anaconda\\envs\\mordevpy27\\lib\\site-packages\\matplotlib\\backends\\backend_agg.pyc\u001b[0m in \u001b[0;36mdraw\u001b[1;34m(self)\u001b[0m\n\u001b[0;32m    428\u001b[0m             \u001b[1;32mif\u001b[0m \u001b[0mtoolbar\u001b[0m\u001b[1;33m:\u001b[0m\u001b[1;33m\u001b[0m\u001b[0m\n\u001b[0;32m    429\u001b[0m                 \u001b[0mtoolbar\u001b[0m\u001b[1;33m.\u001b[0m\u001b[0mset_cursor\u001b[0m\u001b[1;33m(\u001b[0m\u001b[0mcursors\u001b[0m\u001b[1;33m.\u001b[0m\u001b[0mWAIT\u001b[0m\u001b[1;33m)\u001b[0m\u001b[1;33m\u001b[0m\u001b[0m\n\u001b[1;32m--> 430\u001b[1;33m             \u001b[0mself\u001b[0m\u001b[1;33m.\u001b[0m\u001b[0mfigure\u001b[0m\u001b[1;33m.\u001b[0m\u001b[0mdraw\u001b[0m\u001b[1;33m(\u001b[0m\u001b[0mself\u001b[0m\u001b[1;33m.\u001b[0m\u001b[0mrenderer\u001b[0m\u001b[1;33m)\u001b[0m\u001b[1;33m\u001b[0m\u001b[0m\n\u001b[0m\u001b[0;32m    431\u001b[0m         \u001b[1;32mfinally\u001b[0m\u001b[1;33m:\u001b[0m\u001b[1;33m\u001b[0m\u001b[0m\n\u001b[0;32m    432\u001b[0m             \u001b[1;32mif\u001b[0m \u001b[0mtoolbar\u001b[0m\u001b[1;33m:\u001b[0m\u001b[1;33m\u001b[0m\u001b[0m\n",
      "\u001b[1;32mC:\\Anaconda\\envs\\mordevpy27\\lib\\site-packages\\matplotlib\\artist.pyc\u001b[0m in \u001b[0;36mdraw_wrapper\u001b[1;34m(artist, renderer, *args, **kwargs)\u001b[0m\n\u001b[0;32m     53\u001b[0m                 \u001b[0mrenderer\u001b[0m\u001b[1;33m.\u001b[0m\u001b[0mstart_filter\u001b[0m\u001b[1;33m(\u001b[0m\u001b[1;33m)\u001b[0m\u001b[1;33m\u001b[0m\u001b[0m\n\u001b[0;32m     54\u001b[0m \u001b[1;33m\u001b[0m\u001b[0m\n\u001b[1;32m---> 55\u001b[1;33m             \u001b[1;32mreturn\u001b[0m \u001b[0mdraw\u001b[0m\u001b[1;33m(\u001b[0m\u001b[0martist\u001b[0m\u001b[1;33m,\u001b[0m \u001b[0mrenderer\u001b[0m\u001b[1;33m,\u001b[0m \u001b[1;33m*\u001b[0m\u001b[0margs\u001b[0m\u001b[1;33m,\u001b[0m \u001b[1;33m**\u001b[0m\u001b[0mkwargs\u001b[0m\u001b[1;33m)\u001b[0m\u001b[1;33m\u001b[0m\u001b[0m\n\u001b[0m\u001b[0;32m     56\u001b[0m         \u001b[1;32mfinally\u001b[0m\u001b[1;33m:\u001b[0m\u001b[1;33m\u001b[0m\u001b[0m\n\u001b[0;32m     57\u001b[0m             \u001b[1;32mif\u001b[0m \u001b[0martist\u001b[0m\u001b[1;33m.\u001b[0m\u001b[0mget_agg_filter\u001b[0m\u001b[1;33m(\u001b[0m\u001b[1;33m)\u001b[0m \u001b[1;32mis\u001b[0m \u001b[1;32mnot\u001b[0m \u001b[0mNone\u001b[0m\u001b[1;33m:\u001b[0m\u001b[1;33m\u001b[0m\u001b[0m\n",
      "\u001b[1;32mC:\\Anaconda\\envs\\mordevpy27\\lib\\site-packages\\matplotlib\\figure.pyc\u001b[0m in \u001b[0;36mdraw\u001b[1;34m(self, renderer)\u001b[0m\n\u001b[0;32m   1293\u001b[0m \u001b[1;33m\u001b[0m\u001b[0m\n\u001b[0;32m   1294\u001b[0m             mimage._draw_list_compositing_images(\n\u001b[1;32m-> 1295\u001b[1;33m                 renderer, self, artists, self.suppressComposite)\n\u001b[0m\u001b[0;32m   1296\u001b[0m \u001b[1;33m\u001b[0m\u001b[0m\n\u001b[0;32m   1297\u001b[0m             \u001b[0mrenderer\u001b[0m\u001b[1;33m.\u001b[0m\u001b[0mclose_group\u001b[0m\u001b[1;33m(\u001b[0m\u001b[1;34m'figure'\u001b[0m\u001b[1;33m)\u001b[0m\u001b[1;33m\u001b[0m\u001b[0m\n",
      "\u001b[1;32mC:\\Anaconda\\envs\\mordevpy27\\lib\\site-packages\\matplotlib\\image.pyc\u001b[0m in \u001b[0;36m_draw_list_compositing_images\u001b[1;34m(renderer, parent, artists, suppress_composite)\u001b[0m\n\u001b[0;32m    136\u001b[0m     \u001b[1;32mif\u001b[0m \u001b[0mnot_composite\u001b[0m \u001b[1;32mor\u001b[0m \u001b[1;32mnot\u001b[0m \u001b[0mhas_images\u001b[0m\u001b[1;33m:\u001b[0m\u001b[1;33m\u001b[0m\u001b[0m\n\u001b[0;32m    137\u001b[0m         \u001b[1;32mfor\u001b[0m \u001b[0ma\u001b[0m \u001b[1;32min\u001b[0m \u001b[0martists\u001b[0m\u001b[1;33m:\u001b[0m\u001b[1;33m\u001b[0m\u001b[0m\n\u001b[1;32m--> 138\u001b[1;33m             \u001b[0ma\u001b[0m\u001b[1;33m.\u001b[0m\u001b[0mdraw\u001b[0m\u001b[1;33m(\u001b[0m\u001b[0mrenderer\u001b[0m\u001b[1;33m)\u001b[0m\u001b[1;33m\u001b[0m\u001b[0m\n\u001b[0m\u001b[0;32m    139\u001b[0m     \u001b[1;32melse\u001b[0m\u001b[1;33m:\u001b[0m\u001b[1;33m\u001b[0m\u001b[0m\n\u001b[0;32m    140\u001b[0m         \u001b[1;31m# Composite any adjacent images together\u001b[0m\u001b[1;33m\u001b[0m\u001b[1;33m\u001b[0m\u001b[0m\n",
      "\u001b[1;32mC:\\Anaconda\\envs\\mordevpy27\\lib\\site-packages\\matplotlib\\artist.pyc\u001b[0m in \u001b[0;36mdraw_wrapper\u001b[1;34m(artist, renderer, *args, **kwargs)\u001b[0m\n\u001b[0;32m     53\u001b[0m                 \u001b[0mrenderer\u001b[0m\u001b[1;33m.\u001b[0m\u001b[0mstart_filter\u001b[0m\u001b[1;33m(\u001b[0m\u001b[1;33m)\u001b[0m\u001b[1;33m\u001b[0m\u001b[0m\n\u001b[0;32m     54\u001b[0m \u001b[1;33m\u001b[0m\u001b[0m\n\u001b[1;32m---> 55\u001b[1;33m             \u001b[1;32mreturn\u001b[0m \u001b[0mdraw\u001b[0m\u001b[1;33m(\u001b[0m\u001b[0martist\u001b[0m\u001b[1;33m,\u001b[0m \u001b[0mrenderer\u001b[0m\u001b[1;33m,\u001b[0m \u001b[1;33m*\u001b[0m\u001b[0margs\u001b[0m\u001b[1;33m,\u001b[0m \u001b[1;33m**\u001b[0m\u001b[0mkwargs\u001b[0m\u001b[1;33m)\u001b[0m\u001b[1;33m\u001b[0m\u001b[0m\n\u001b[0m\u001b[0;32m     56\u001b[0m         \u001b[1;32mfinally\u001b[0m\u001b[1;33m:\u001b[0m\u001b[1;33m\u001b[0m\u001b[0m\n\u001b[0;32m     57\u001b[0m             \u001b[1;32mif\u001b[0m \u001b[0martist\u001b[0m\u001b[1;33m.\u001b[0m\u001b[0mget_agg_filter\u001b[0m\u001b[1;33m(\u001b[0m\u001b[1;33m)\u001b[0m \u001b[1;32mis\u001b[0m \u001b[1;32mnot\u001b[0m \u001b[0mNone\u001b[0m\u001b[1;33m:\u001b[0m\u001b[1;33m\u001b[0m\u001b[0m\n",
      "\u001b[1;32mC:\\Anaconda\\envs\\mordevpy27\\lib\\site-packages\\matplotlib\\axes\\_base.pyc\u001b[0m in \u001b[0;36mdraw\u001b[1;34m(self, renderer, inframe)\u001b[0m\n\u001b[0;32m   2397\u001b[0m             \u001b[0mrenderer\u001b[0m\u001b[1;33m.\u001b[0m\u001b[0mstop_rasterizing\u001b[0m\u001b[1;33m(\u001b[0m\u001b[1;33m)\u001b[0m\u001b[1;33m\u001b[0m\u001b[0m\n\u001b[0;32m   2398\u001b[0m \u001b[1;33m\u001b[0m\u001b[0m\n\u001b[1;32m-> 2399\u001b[1;33m         \u001b[0mmimage\u001b[0m\u001b[1;33m.\u001b[0m\u001b[0m_draw_list_compositing_images\u001b[0m\u001b[1;33m(\u001b[0m\u001b[0mrenderer\u001b[0m\u001b[1;33m,\u001b[0m \u001b[0mself\u001b[0m\u001b[1;33m,\u001b[0m \u001b[0martists\u001b[0m\u001b[1;33m)\u001b[0m\u001b[1;33m\u001b[0m\u001b[0m\n\u001b[0m\u001b[0;32m   2400\u001b[0m \u001b[1;33m\u001b[0m\u001b[0m\n\u001b[0;32m   2401\u001b[0m         \u001b[0mrenderer\u001b[0m\u001b[1;33m.\u001b[0m\u001b[0mclose_group\u001b[0m\u001b[1;33m(\u001b[0m\u001b[1;34m'axes'\u001b[0m\u001b[1;33m)\u001b[0m\u001b[1;33m\u001b[0m\u001b[0m\n",
      "\u001b[1;32mC:\\Anaconda\\envs\\mordevpy27\\lib\\site-packages\\matplotlib\\image.pyc\u001b[0m in \u001b[0;36m_draw_list_compositing_images\u001b[1;34m(renderer, parent, artists, suppress_composite)\u001b[0m\n\u001b[0;32m    136\u001b[0m     \u001b[1;32mif\u001b[0m \u001b[0mnot_composite\u001b[0m \u001b[1;32mor\u001b[0m \u001b[1;32mnot\u001b[0m \u001b[0mhas_images\u001b[0m\u001b[1;33m:\u001b[0m\u001b[1;33m\u001b[0m\u001b[0m\n\u001b[0;32m    137\u001b[0m         \u001b[1;32mfor\u001b[0m \u001b[0ma\u001b[0m \u001b[1;32min\u001b[0m \u001b[0martists\u001b[0m\u001b[1;33m:\u001b[0m\u001b[1;33m\u001b[0m\u001b[0m\n\u001b[1;32m--> 138\u001b[1;33m             \u001b[0ma\u001b[0m\u001b[1;33m.\u001b[0m\u001b[0mdraw\u001b[0m\u001b[1;33m(\u001b[0m\u001b[0mrenderer\u001b[0m\u001b[1;33m)\u001b[0m\u001b[1;33m\u001b[0m\u001b[0m\n\u001b[0m\u001b[0;32m    139\u001b[0m     \u001b[1;32melse\u001b[0m\u001b[1;33m:\u001b[0m\u001b[1;33m\u001b[0m\u001b[0m\n\u001b[0;32m    140\u001b[0m         \u001b[1;31m# Composite any adjacent images together\u001b[0m\u001b[1;33m\u001b[0m\u001b[1;33m\u001b[0m\u001b[0m\n",
      "\u001b[1;32mC:\\Anaconda\\envs\\mordevpy27\\lib\\site-packages\\matplotlib\\artist.pyc\u001b[0m in \u001b[0;36mdraw_wrapper\u001b[1;34m(artist, renderer, *args, **kwargs)\u001b[0m\n\u001b[0;32m     53\u001b[0m                 \u001b[0mrenderer\u001b[0m\u001b[1;33m.\u001b[0m\u001b[0mstart_filter\u001b[0m\u001b[1;33m(\u001b[0m\u001b[1;33m)\u001b[0m\u001b[1;33m\u001b[0m\u001b[0m\n\u001b[0;32m     54\u001b[0m \u001b[1;33m\u001b[0m\u001b[0m\n\u001b[1;32m---> 55\u001b[1;33m             \u001b[1;32mreturn\u001b[0m \u001b[0mdraw\u001b[0m\u001b[1;33m(\u001b[0m\u001b[0martist\u001b[0m\u001b[1;33m,\u001b[0m \u001b[0mrenderer\u001b[0m\u001b[1;33m,\u001b[0m \u001b[1;33m*\u001b[0m\u001b[0margs\u001b[0m\u001b[1;33m,\u001b[0m \u001b[1;33m**\u001b[0m\u001b[0mkwargs\u001b[0m\u001b[1;33m)\u001b[0m\u001b[1;33m\u001b[0m\u001b[0m\n\u001b[0m\u001b[0;32m     56\u001b[0m         \u001b[1;32mfinally\u001b[0m\u001b[1;33m:\u001b[0m\u001b[1;33m\u001b[0m\u001b[0m\n\u001b[0;32m     57\u001b[0m             \u001b[1;32mif\u001b[0m \u001b[0martist\u001b[0m\u001b[1;33m.\u001b[0m\u001b[0mget_agg_filter\u001b[0m\u001b[1;33m(\u001b[0m\u001b[1;33m)\u001b[0m \u001b[1;32mis\u001b[0m \u001b[1;32mnot\u001b[0m \u001b[0mNone\u001b[0m\u001b[1;33m:\u001b[0m\u001b[1;33m\u001b[0m\u001b[0m\n",
      "\u001b[1;32mC:\\Anaconda\\envs\\mordevpy27\\lib\\site-packages\\matplotlib\\image.pyc\u001b[0m in \u001b[0;36mdraw\u001b[1;34m(self, renderer, *args, **kwargs)\u001b[0m\n\u001b[0;32m    546\u001b[0m         \u001b[1;32melse\u001b[0m\u001b[1;33m:\u001b[0m\u001b[1;33m\u001b[0m\u001b[0m\n\u001b[0;32m    547\u001b[0m             im, l, b, trans = self.make_image(\n\u001b[1;32m--> 548\u001b[1;33m                 renderer, renderer.get_image_magnification())\n\u001b[0m\u001b[0;32m    549\u001b[0m             \u001b[1;32mif\u001b[0m \u001b[0mim\u001b[0m \u001b[1;32mis\u001b[0m \u001b[1;32mnot\u001b[0m \u001b[0mNone\u001b[0m\u001b[1;33m:\u001b[0m\u001b[1;33m\u001b[0m\u001b[0m\n\u001b[0;32m    550\u001b[0m                 \u001b[0mrenderer\u001b[0m\u001b[1;33m.\u001b[0m\u001b[0mdraw_image\u001b[0m\u001b[1;33m(\u001b[0m\u001b[0mgc\u001b[0m\u001b[1;33m,\u001b[0m \u001b[0ml\u001b[0m\u001b[1;33m,\u001b[0m \u001b[0mb\u001b[0m\u001b[1;33m,\u001b[0m \u001b[0mim\u001b[0m\u001b[1;33m)\u001b[0m\u001b[1;33m\u001b[0m\u001b[0m\n",
      "\u001b[1;32mC:\\Anaconda\\envs\\mordevpy27\\lib\\site-packages\\matplotlib\\image.pyc\u001b[0m in \u001b[0;36mmake_image\u001b[1;34m(self, renderer, magnification, unsampled)\u001b[0m\n\u001b[0;32m    772\u001b[0m         return self._make_image(\n\u001b[0;32m    773\u001b[0m             \u001b[0mself\u001b[0m\u001b[1;33m.\u001b[0m\u001b[0m_A\u001b[0m\u001b[1;33m,\u001b[0m \u001b[0mbbox\u001b[0m\u001b[1;33m,\u001b[0m \u001b[0mtransformed_bbox\u001b[0m\u001b[1;33m,\u001b[0m \u001b[0mself\u001b[0m\u001b[1;33m.\u001b[0m\u001b[0maxes\u001b[0m\u001b[1;33m.\u001b[0m\u001b[0mbbox\u001b[0m\u001b[1;33m,\u001b[0m \u001b[0mmagnification\u001b[0m\u001b[1;33m,\u001b[0m\u001b[1;33m\u001b[0m\u001b[0m\n\u001b[1;32m--> 774\u001b[1;33m             unsampled=unsampled)\n\u001b[0m\u001b[0;32m    775\u001b[0m \u001b[1;33m\u001b[0m\u001b[0m\n\u001b[0;32m    776\u001b[0m     \u001b[1;32mdef\u001b[0m \u001b[0m_check_unsampled_image\u001b[0m\u001b[1;33m(\u001b[0m\u001b[0mself\u001b[0m\u001b[1;33m,\u001b[0m \u001b[0mrenderer\u001b[0m\u001b[1;33m)\u001b[0m\u001b[1;33m:\u001b[0m\u001b[1;33m\u001b[0m\u001b[0m\n",
      "\u001b[1;32mC:\\Anaconda\\envs\\mordevpy27\\lib\\site-packages\\matplotlib\\image.pyc\u001b[0m in \u001b[0;36m_make_image\u001b[1;34m(self, A, in_bbox, out_bbox, clip_bbox, magnification, unsampled, round_to_pixel_border)\u001b[0m\n\u001b[0;32m    464\u001b[0m             \u001b[1;31m# (of int or float)\u001b[0m\u001b[1;33m\u001b[0m\u001b[1;33m\u001b[0m\u001b[0m\n\u001b[0;32m    465\u001b[0m             \u001b[1;31m# or an RGBA array of re-sampled input\u001b[0m\u001b[1;33m\u001b[0m\u001b[1;33m\u001b[0m\u001b[0m\n\u001b[1;32m--> 466\u001b[1;33m             \u001b[0moutput\u001b[0m \u001b[1;33m=\u001b[0m \u001b[0mself\u001b[0m\u001b[1;33m.\u001b[0m\u001b[0mto_rgba\u001b[0m\u001b[1;33m(\u001b[0m\u001b[0moutput\u001b[0m\u001b[1;33m,\u001b[0m \u001b[0mbytes\u001b[0m\u001b[1;33m=\u001b[0m\u001b[0mTrue\u001b[0m\u001b[1;33m,\u001b[0m \u001b[0mnorm\u001b[0m\u001b[1;33m=\u001b[0m\u001b[0mFalse\u001b[0m\u001b[1;33m)\u001b[0m\u001b[1;33m\u001b[0m\u001b[0m\n\u001b[0m\u001b[0;32m    467\u001b[0m             \u001b[1;31m# output is now a correctly sized RGBA array of uint8\u001b[0m\u001b[1;33m\u001b[0m\u001b[1;33m\u001b[0m\u001b[0m\n\u001b[0;32m    468\u001b[0m \u001b[1;33m\u001b[0m\u001b[0m\n",
      "\u001b[1;32mC:\\Anaconda\\envs\\mordevpy27\\lib\\site-packages\\matplotlib\\cm.pyc\u001b[0m in \u001b[0;36mto_rgba\u001b[1;34m(self, x, alpha, bytes, norm)\u001b[0m\n\u001b[0;32m    255\u001b[0m                 \u001b[1;32mif\u001b[0m \u001b[0mxx\u001b[0m\u001b[1;33m.\u001b[0m\u001b[0mdtype\u001b[0m\u001b[1;33m.\u001b[0m\u001b[0mkind\u001b[0m \u001b[1;33m==\u001b[0m \u001b[1;34m'f'\u001b[0m\u001b[1;33m:\u001b[0m\u001b[1;33m\u001b[0m\u001b[0m\n\u001b[0;32m    256\u001b[0m                     \u001b[1;32mif\u001b[0m \u001b[0mnorm\u001b[0m \u001b[1;32mand\u001b[0m \u001b[0mxx\u001b[0m\u001b[1;33m.\u001b[0m\u001b[0mmax\u001b[0m\u001b[1;33m(\u001b[0m\u001b[1;33m)\u001b[0m \u001b[1;33m>\u001b[0m \u001b[1;36m1\u001b[0m \u001b[1;32mor\u001b[0m \u001b[0mxx\u001b[0m\u001b[1;33m.\u001b[0m\u001b[0mmin\u001b[0m\u001b[1;33m(\u001b[0m\u001b[1;33m)\u001b[0m \u001b[1;33m<\u001b[0m \u001b[1;36m0\u001b[0m\u001b[1;33m:\u001b[0m\u001b[1;33m\u001b[0m\u001b[0m\n\u001b[1;32m--> 257\u001b[1;33m                         raise ValueError(\"Floating point image RGB values \"\n\u001b[0m\u001b[0;32m    258\u001b[0m                                          \"must be in the 0..1 range.\")\n\u001b[0;32m    259\u001b[0m                     \u001b[1;32mif\u001b[0m \u001b[0mbytes\u001b[0m\u001b[1;33m:\u001b[0m\u001b[1;33m\u001b[0m\u001b[0m\n",
      "\u001b[1;31mValueError\u001b[0m: Floating point image RGB values must be in the 0..1 range."
     ]
    },
    {
     "data": {
      "text/plain": [
       "<matplotlib.figure.Figure at 0x109c8c50>"
      ]
     },
     "metadata": {},
     "output_type": "display_data"
    }
   ],
   "source": [
    "# Plot the UV data (u, v coordinates on each pixel hit)\n",
    "plt.figure(figsize=(10.24, 7.68))\n",
    "plt.imshow(im_dict['normal'])"
   ]
  },
  {
   "cell_type": "code",
   "execution_count": 14,
   "metadata": {},
   "outputs": [
    {
     "ename": "NameError",
     "evalue": "name 'queue' is not defined",
     "output_type": "error",
     "traceback": [
      "\u001b[1;31m---------------------------------------------------------------------------\u001b[0m",
      "\u001b[1;31mNameError\u001b[0m                                 Traceback (most recent call last)",
      "\u001b[1;32m<ipython-input-14-6d561f8277fd>\u001b[0m in \u001b[0;36m<module>\u001b[1;34m()\u001b[0m\n\u001b[0;32m      8\u001b[0m \u001b[0mscenePNG\u001b[0m\u001b[1;33m.\u001b[0m\u001b[0msetDestinationFile\u001b[0m\u001b[1;33m(\u001b[0m\u001b[1;34m'./MitsubaScenes/cubiPNG'\u001b[0m\u001b[1;33m)\u001b[0m  \u001b[1;31m# Set the name of the render output file\u001b[0m\u001b[1;33m\u001b[0m\u001b[0m\n\u001b[0;32m      9\u001b[0m \u001b[1;31m# Create a render job and insert it into the queue\u001b[0m\u001b[1;33m\u001b[0m\u001b[1;33m\u001b[0m\u001b[0m\n\u001b[1;32m---> 10\u001b[1;33m \u001b[0mjob\u001b[0m \u001b[1;33m=\u001b[0m \u001b[0mRenderJob\u001b[0m\u001b[1;33m(\u001b[0m\u001b[1;34m'myRenderJob'\u001b[0m\u001b[1;33m,\u001b[0m \u001b[0mscenePNG\u001b[0m\u001b[1;33m,\u001b[0m \u001b[0mqueue\u001b[0m\u001b[1;33m)\u001b[0m\u001b[1;33m\u001b[0m\u001b[0m\n\u001b[0m\u001b[0;32m     11\u001b[0m \u001b[0mjob\u001b[0m\u001b[1;33m.\u001b[0m\u001b[0mstart\u001b[0m\u001b[1;33m(\u001b[0m\u001b[1;33m)\u001b[0m\u001b[1;33m\u001b[0m\u001b[0m\n\u001b[0;32m     12\u001b[0m \u001b[1;31m# Wait for all jobs to finish and release resources\u001b[0m\u001b[1;33m\u001b[0m\u001b[1;33m\u001b[0m\u001b[0m\n",
      "\u001b[1;31mNameError\u001b[0m: name 'queue' is not defined"
     ]
    }
   ],
   "source": [
    "# Load the scene from an XML file for the low dynamic range version\n",
    "# Supply parameters that can be accessed\n",
    "# by the scene (e.g. as $myParameter)\n",
    "paramMap = StringMap()\n",
    "paramMap['surfaceAlbedo'] = '0.5 0.5 0.5'\n",
    "paramMap['CUBIfaceReflectance'] = '1.0 1.0 1.0'\n",
    "scenePNG = SceneHandler.loadScene(fileResolver.resolve(\"./MitsubaScenes/cubiPNG.xml\"), paramMap)\n",
    "scenePNG.setDestinationFile('./MitsubaScenes/cubiPNG')  # Set the name of the render output file\n",
    "# Create a render job and insert it into the queue\n",
    "job = RenderJob('myRenderJob', scenePNG, queue)\n",
    "job.start()\n",
    "# Wait for all jobs to finish and release resources\n",
    "queue.waitLeft(0)\n",
    "queue.join()\n",
    "\n",
    "# Take a look at the CUBI\n",
    "cubi_img = mpimg.imread('./MitsubaScenes/cubiPNG.png')\n",
    "plt.figure(figsize=(10.24, 7.68))\n",
    "plt.imshow(cubi_img)"
   ]
  },
  {
   "cell_type": "code",
   "execution_count": 15,
   "metadata": {},
   "outputs": [
    {
     "name": "stdout",
     "output_type": "stream",
     "text": [
      "Scene[\n",
      "  sensor = ref<PerspectiveCameraImpl>[ref=2, ptr=PerspectiveCamera[\n",
      "    xfov = 37.8664,\n",
      "    nearClip = 0.01,\n",
      "    farClip = 10000,\n",
      "    worldTransform = ref<AnimatedTransform>[ref=1, ptr=Matrix4x4[\n",
      "      -0.685884, -0.317366, -0.654861, 3.69558;\n",
      "      -0.727631, 0.312466, 0.610671, -3.46243;\n",
      "      0.0108156, 0.895346, -0.44524, 3.25463;\n",
      "      0, 0, 0, 1\n",
      "    ]],\n",
      "    sampler = LowDiscrepancySampler[\n",
      "      sampleCount = 64,\n",
      "      dimension = 4\n",
      "    ],\n",
      "    film = LDRFilm[\n",
      "      size = [683, 512],\n",
      "      fileFormat = 0,\n",
      "      pixelFormat = rgb,\n",
      "      gamma = -1,\n",
      "      cropOffset = [0, 0],\n",
      "      cropSize = [683, 512],\n",
      "      banner = 0,\n",
      "      method = gamma,\n",
      "      exposure = 0,\n",
      "      reinhardKey = 0.18,\n",
      "      reinhardBurn = 0,\n",
      "      filter = GaussianFilter[stddev=0.500000, radius=2.000000]\n",
      "    ],\n",
      "    medium = ref<Medium>[null],\n",
      "    shutterOpen = 0,\n",
      "    shutterOpenTime = 0\n",
      "  ]],\n",
      "  sampler = ref<LowDiscrepancySampler>[ref=2, ptr=LowDiscrepancySampler[\n",
      "    sampleCount = 64,\n",
      "    dimension = 4\n",
      "  ]],\n",
      "  integrator = ref<MIPathTracer>[ref=1, ptr=MIPathTracer[\n",
      "    maxDepth = -1,\n",
      "    rrDepth = 5,\n",
      "    strictNormals = 0\n",
      "  ]],\n",
      "  kdtree = ref<ShapeKDTree>[ref=1, ptr=ShapeKDTree[unknown]],\n",
      "  environmentEmitter = ref<EnvironmentMap>[ref=2, ptr=EnvironmentMap[\n",
      "    filename = \"./MitsubaScenes/envmap.exr\",\n",
      "    samplingWeight = 1,\n",
      "    bsphere = BSphere[center = [0, 0, 0], radius = 0],\n",
      "    worldTransform = ref<AnimatedTransform>[ref=1, ptr=Matrix4x4[\n",
      "      0.224951, -1e-006, 0.97437, 0;\n",
      "      0.97437, 0, -0.224951, 0;\n",
      "      8.74228e-014, 1, 1e-006, 8.87;\n",
      "      0, 0, 0, 1\n",
      "    ]],\n",
      "    mipmap = TMIPMap[\n",
      "       pixelFormat = rgb,\n",
      "       size = 1.0 MiB,\n",
      "       levels = 10,\n",
      "       cached = no,\n",
      "       filterType = ewa,\n",
      "       bc = [repeat, clamp],\n",
      "       minimum = [8.19564e-005, 0.000175357, 4.86374e-005],\n",
      "       maximum = [19.2813, 10.7656, 8.82031],\n",
      "       average = [0.39696, 0.316207, 0.278359]\n",
      "    ],\n",
      "    medium = ref<Medium>[null]\n",
      "  ]],\n",
      "  shapes = {\n",
      "    SerializedMesh[\n",
      "      name = \"matpreview@2\",\n",
      "      triangleCount = 57152,\n",
      "      vertexCount = 29439,\n",
      "      faceNormals = false,\n",
      "      hasNormals = true,\n",
      "      hasTexcoords = true,\n",
      "      hasTangents = false,\n",
      "      hasColors = false,\n",
      "      surfaceArea = -1,\n",
      "      aabb = AABB3[min=[-1.05939, -1.08033, 0.01403], max=[1.08033, 1.05939, 1.91551]],\n",
      "      bsdf = ref<SmoothPlastic>[ref=1, ptr=SmoothPlastic[\n",
      "        id = \"unnamed\",\n",
      "        specularReflectance = [1, 1, 1],\n",
      "        diffuseReflectance = [0.00913406, 0.0595112, 0.107023],\n",
      "        specularSamplingWeight = 0.950366,\n",
      "        diffuseSamplingWeight = 0.0496341,\n",
      "        nonlinear = 0,\n",
      "        eta = 1.89947,\n",
      "        fdrInt = 0.763693,\n",
      "        fdrExt = 0.147406\n",
      "      ]],\n",
      "      subsurface = ref<Subsurface>[null],\n",
      "      emitter = ref<Emitter>[null]\n",
      "    ],\n",
      "    SerializedMesh[\n",
      "      name = \"Interior-mesh_0\",\n",
      "      triangleCount = 3936,\n",
      "      vertexCount = 2078,\n",
      "      faceNormals = false,\n",
      "      hasNormals = true,\n",
      "      hasTexcoords = true,\n",
      "      hasTangents = false,\n",
      "      hasColors = false,\n",
      "      surfaceArea = -1,\n",
      "      aabb = AABB3[min=[-0.927272, -0.927272, -0.0058961], max=[0.927272, 0.927272, 1.71208]],\n",
      "      bsdf = ref<SmoothDiffuse>[ref=2, ptr=SmoothDiffuse[\n",
      "        id = \"__diffmat\",\n",
      "        reflectance = [0.18, 0.18, 0.18]\n",
      "      ]],\n",
      "      subsurface = ref<Subsurface>[null],\n",
      "      emitter = ref<Emitter>[null]\n",
      "    ],\n",
      "    SerializedMesh[\n",
      "      name = \"Plane-mesh_0\",\n",
      "      triangleCount = 512,\n",
      "      vertexCount = 289,\n",
      "      faceNormals = false,\n",
      "      hasNormals = true,\n",
      "      hasTexcoords = true,\n",
      "      hasTangents = false,\n",
      "      hasColors = false,\n",
      "      surfaceArea = -1,\n",
      "      aabb = AABB3[min=[-7.19786, -5.46007, -0.0120714], max=[5.14732, 7.94973, 6.84708]],\n",
      "      bsdf = ref<SmoothDiffuse>[ref=2, ptr=SmoothDiffuse[\n",
      "        id = \"__planemat\",\n",
      "        reflectance = Checkerboard[\n",
      "            color1 = [0.2, 0.2, 0.2],\n",
      "            color0 = [0.4, 0.4, 0.4]\n",
      "        ]\n",
      "      ]],\n",
      "      subsurface = ref<Subsurface>[null],\n",
      "      emitter = ref<Emitter>[null]\n",
      "    ]\n",
      "  },\n",
      "  emitters = {\n",
      "    EnvironmentMap[\n",
      "      filename = \"./MitsubaScenes/envmap.exr\",\n",
      "      samplingWeight = 1,\n",
      "      bsphere = BSphere[center = [0, 0, 0], radius = 0],\n",
      "      worldTransform = ref<AnimatedTransform>[ref=1, ptr=Matrix4x4[\n",
      "        0.224951, -1e-006, 0.97437, 0;\n",
      "        0.97437, 0, -0.224951, 0;\n",
      "        8.74228e-014, 1, 1e-006, 8.87;\n",
      "        0, 0, 0, 1\n",
      "      ]],\n",
      "      mipmap = TMIPMap[\n",
      "         pixelFormat = rgb,\n",
      "         size = 1.0 MiB,\n",
      "         levels = 10,\n",
      "         cached = no,\n",
      "         filterType = ewa,\n",
      "         bc = [repeat, clamp],\n",
      "         minimum = [8.19564e-005, 0.000175357, 4.86374e-005],\n",
      "         maximum = [19.2813, 10.7656, 8.82031],\n",
      "         average = [0.39696, 0.316207, 0.278359]\n",
      "      ],\n",
      "      medium = ref<Medium>[null]\n",
      "    ]\n",
      "  },\n",
      "  media = {\n",
      "  },\n",
      "  sensors = {\n",
      "    PerspectiveCamera[\n",
      "      xfov = 37.8664,\n",
      "      nearClip = 0.01,\n",
      "      farClip = 10000,\n",
      "      worldTransform = ref<AnimatedTransform>[ref=1, ptr=Matrix4x4[\n",
      "        -0.685884, -0.317366, -0.654861, 3.69558;\n",
      "        -0.727631, 0.312466, 0.610671, -3.46243;\n",
      "        0.0108156, 0.895346, -0.44524, 3.25463;\n",
      "        0, 0, 0, 1\n",
      "      ]],\n",
      "      sampler = LowDiscrepancySampler[\n",
      "        sampleCount = 64,\n",
      "        dimension = 4\n",
      "      ],\n",
      "      film = LDRFilm[\n",
      "        size = [683, 512],\n",
      "        fileFormat = 0,\n",
      "        pixelFormat = rgb,\n",
      "        gamma = -1,\n",
      "        cropOffset = [0, 0],\n",
      "        cropSize = [683, 512],\n",
      "        banner = 0,\n",
      "        method = gamma,\n",
      "        exposure = 0,\n",
      "        reinhardKey = 0.18,\n",
      "        reinhardBurn = 0,\n",
      "        filter = GaussianFilter[stddev=0.500000, radius=2.000000]\n",
      "      ],\n",
      "      medium = ref<Medium>[null],\n",
      "      shutterOpen = 0,\n",
      "      shutterOpenTime = 0\n",
      "    ]\n",
      "  },\n",
      "  ssIntegrators = {\n",
      "  },\n",
      "  objects = {\n",
      "    SmoothDiffuse[\n",
      "      id = \"__diffmat\",\n",
      "      reflectance = [0.18, 0.18, 0.18]\n",
      "    ],\n",
      "    Checkerboard[\n",
      "        color1 = [0.2, 0.2, 0.2],\n",
      "        color0 = [0.4, 0.4, 0.4]\n",
      "    ],\n",
      "    SmoothDiffuse[\n",
      "      id = \"__planemat\",\n",
      "      reflectance = Checkerboard[\n",
      "          color1 = [0.2, 0.2, 0.2],\n",
      "          color0 = [0.4, 0.4, 0.4]\n",
      "      ]\n",
      "    ]\n",
      "  }\n",
      "]\n"
     ]
    }
   ],
   "source": [
    "# Load the material preview scene from an XML file\n",
    "mat_scene = SceneHandler.loadScene(fileResolver.resolve(\"./MitsubaScenes/matpreview.xml\"))\n",
    "mat_scene.setDestinationFile('./MitsubaScenes/mat_ball')  # Set the name of the render output file\n",
    "# Display a textual summary of the scene's contents\n",
    "print(mat_scene)"
   ]
  },
  {
   "cell_type": "code",
   "execution_count": 16,
   "metadata": {},
   "outputs": [],
   "source": [
    "# Create a render job and insert it into the queue\n",
    "job = RenderJob('myRenderJob', mat_scene, queue)\n",
    "job.start()\n",
    "# Wait for all jobs to finish and release resources\n",
    "queue.waitLeft(0)\n",
    "queue.join()\n"
   ]
  },
  {
   "cell_type": "code",
   "execution_count": null,
   "metadata": {},
   "outputs": [],
   "source": [
    "# Perform the animation run\n",
    "mat_sensor = mat_scene.getSensor()\n",
    "mat_sensor.setShutterOpen(0)\n",
    "mat_sensor.setShutterOpenTime(1)\n",
    "stepSize = 5\n",
    "for i in range(0,360 / stepSize):\n",
    "    rotationCur = Transform.rotate(Vector(0, 0, 1), i*stepSize)\n",
    "    rotationNext = Transform.rotate(Vector(0, 0, 1), (i+1)*stepSize)\n",
    "    trafoCur = Transform.lookAt(rotationCur * Point(0,-6,4),\n",
    "        Point(0, 0, .5), rotationCur * Vector(0, 1, 0))\n",
    "    trafoNext = Transform.lookAt(rotationNext * Point(0,-6,4),\n",
    "        Point(0, 0, .5), rotationNext * Vector(0, 1, 0))\n",
    "    atrafo = AnimatedTransform()\n",
    "    atrafo.appendTransform(0, trafoCur)\n",
    "    atrafo.appendTransform(1, trafoNext)\n",
    "    atrafo.sortAndSimplify()\n",
    "    mat_sensor.setWorldTransform(atrafo)\n",
    "    mat_scene.setDestinationFile('./MitsubaScenes/frame_%03i' % i)\n",
    "    job = RenderJob('job_%i' % i, mat_scene, queue)\n",
    "    job.start()\n",
    "    queue.waitLeft(0)"
   ]
  },
  {
   "cell_type": "code",
   "execution_count": null,
   "metadata": {},
   "outputs": [],
   "source": [
    "# Release resources\n",
    "queue.join()\n"
   ]
  },
  {
   "cell_type": "markdown",
   "metadata": {},
   "source": [
    "# Creating a Scene\n",
    "The first example from the Mitsuba manual on scene construction shows how to build a sensor with a film.\n",
    "\n",
    "First a generic plugin manager is created and then a plugin instance of specific type is assigned, in this case a perspective camera with HD film."
   ]
  },
  {
   "cell_type": "code",
   "execution_count": 17,
   "metadata": {},
   "outputs": [
    {
     "data": {
      "text/plain": [
       "PerspectiveCamera[\n",
       "  xfov = 45,\n",
       "  nearClip = 0.01,\n",
       "  farClip = 10000,\n",
       "  worldTransform = ref<AnimatedTransform>[ref=1, ptr=Matrix4x4[\n",
       "    1, 0, 0, 0;\n",
       "    0, 1, 0, 0;\n",
       "    0, 0, 1, -10;\n",
       "    0, 0, 0, 1\n",
       "  ]],\n",
       "  sampler = IndependentSampler[\n",
       "    sampleCount = 4\n",
       "  ],\n",
       "  film = LDRFilm[\n",
       "    size = [1920, 1080],\n",
       "    fileFormat = 0,\n",
       "    pixelFormat = rgb,\n",
       "    gamma = -1,\n",
       "    cropOffset = [0, 0],\n",
       "    cropSize = [1920, 1080],\n",
       "    banner = 1,\n",
       "    method = gamma,\n",
       "    exposure = 0,\n",
       "    reinhardKey = 0.18,\n",
       "    reinhardBurn = 0,\n",
       "    filter = GaussianFilter[stddev=0.500000, radius=2.000000]\n",
       "  ],\n",
       "  medium = ref<Medium>[null],\n",
       "  shutterOpen = 0,\n",
       "  shutterOpenTime = 0\n",
       "]"
      ]
     },
     "execution_count": 17,
     "metadata": {},
     "output_type": "execute_result"
    }
   ],
   "source": [
    "from mitsuba.render import Scene\n",
    "pmgr = PluginManager.getInstance()  # Get generic plugin manager instance\n",
    "# Encodes parameters on how to instantiate the 'perspective' plugin\n",
    "sensorProps = Properties('perspective')\n",
    "sensorProps['toWorld'] = Transform.lookAt(\n",
    "    Point(0, 0, -10), # Camera origin\n",
    "    Point(0, 0, 0), # Camera target\n",
    "    Vector(0, 1, 0) # 'up' vector\n",
    "    )\n",
    "sensorProps['fov'] = 45.0\n",
    "# Encodes parameters on how to instantiate the 'ldrfilm' plugin\n",
    "filmProps = Properties('ldrfilm')\n",
    "filmProps['width'] = 1920\n",
    "filmProps['height'] = 1080\n",
    "# Load and instantiate the plugins\n",
    "sensor = pmgr.createObject(sensorProps)\n",
    "film = pmgr.createObject(filmProps)\n",
    "# First configure the film and then add it to the sensor\n",
    "film.configure()\n",
    "sensor.addChild('film', film)\n",
    "# Now, the sensor can be configured\n",
    "sensor.configure()\n",
    "# Print the sensor\n",
    "sensor"
   ]
  },
  {
   "cell_type": "markdown",
   "metadata": {},
   "source": [
    "## Creating a Scene using Dictionaries\n",
    "The following cell shows how to do the same sensor/film creation using dictionaries instead. This sensor/film has the same properties as that created in the previous cell."
   ]
  },
  {
   "cell_type": "code",
   "execution_count": 18,
   "metadata": {},
   "outputs": [],
   "source": [
    "pmgr = PluginManager.getInstance()\n",
    "sensor = pmgr.create({\n",
    "    'type' : 'perspective',\n",
    "    'toWorld' : Transform.lookAt(\n",
    "        Point(0, 0, -10),\n",
    "        Point(0, 0, 0),\n",
    "        Vector(0, 1, 0)\n",
    "    ),\n",
    "    'film' : {\n",
    "        'type' : 'ldrfilm',\n",
    "        'width' : 1920,\n",
    "        'height' : 1080\n",
    "    }\n",
    "})\n",
    "# Now, the sensor can be configured\n",
    "sensor.configure()"
   ]
  },
  {
   "cell_type": "code",
   "execution_count": 19,
   "metadata": {},
   "outputs": [
    {
     "data": {
      "text/plain": [
       "PerspectiveCamera[\n",
       "  xfov = 41.323,\n",
       "  nearClip = 0.01,\n",
       "  farClip = 10000,\n",
       "  worldTransform = ref<AnimatedTransform>[ref=1, ptr=Matrix4x4[\n",
       "    1, 0, 0, 0;\n",
       "    0, 1, 0, 0;\n",
       "    0, 0, 1, -10;\n",
       "    0, 0, 0, 1\n",
       "  ]],\n",
       "  sampler = IndependentSampler[\n",
       "    sampleCount = 4\n",
       "  ],\n",
       "  film = LDRFilm[\n",
       "    size = [1920, 1080],\n",
       "    fileFormat = 0,\n",
       "    pixelFormat = rgb,\n",
       "    gamma = -1,\n",
       "    cropOffset = [0, 0],\n",
       "    cropSize = [1920, 1080],\n",
       "    banner = 1,\n",
       "    method = gamma,\n",
       "    exposure = 0,\n",
       "    reinhardKey = 0.18,\n",
       "    reinhardBurn = 0,\n",
       "    filter = GaussianFilter[stddev=0.500000, radius=2.000000]\n",
       "  ],\n",
       "  medium = ref<Medium>[null],\n",
       "  shutterOpen = 0,\n",
       "  shutterOpenTime = 0\n",
       "]"
      ]
     },
     "execution_count": 19,
     "metadata": {},
     "output_type": "execute_result"
    }
   ],
   "source": [
    "# Print out the sensor plugin instance\n",
    "# Note how there are considerably more properties that has been given default values\n",
    "sensor"
   ]
  },
  {
   "cell_type": "markdown",
   "metadata": {},
   "source": [
    "## Full Scene Creation\n",
    "The previous examples only provided snippets of a scene. The following is a full scene creation example from the Mitsuba manual."
   ]
  },
  {
   "cell_type": "code",
   "execution_count": 20,
   "metadata": {
    "collapsed": true
   },
   "outputs": [],
   "source": [
    "full_scene = Scene()\n",
    "# Create a sensor, film & sample generator\n",
    "full_scene.addChild(pmgr.create({\n",
    "    'type' : 'perspective',\n",
    "    'toWorld' : Transform.lookAt(\n",
    "        Point(0, 0, -10),\n",
    "        Point(0, 0, 0),\n",
    "        Vector(0, 1, 0)\n",
    "    ),\n",
    "    'film' : {\n",
    "        'type' : 'ldrfilm',\n",
    "                'width' : 1920,\n",
    "                'height' : 1080\n",
    "    },\n",
    "    'sampler' : {\n",
    "        'type' : 'ldsampler',\n",
    "        'sampleCount' : 2\n",
    "    }\n",
    "}))\n",
    "# Set the integrator\n",
    "full_scene.addChild(pmgr.create({\n",
    "    'type' : 'path'\n",
    "}))\n",
    "# Add a light source\n",
    "full_scene.addChild(pmgr.create({\n",
    "    'type' : 'point',\n",
    "    'position' : Point(5, 0, -10),\n",
    "    'intensity' : Spectrum(100)\n",
    "}))\n",
    "# Add a shape\n",
    "full_scene.addChild(pmgr.create({\n",
    "    'type' : 'sphere',\n",
    "    'center' : Point(0, 0, 0),\n",
    "    'radius' : 1.0,\n",
    "    'bsdf' : {\n",
    "        'type' : 'diffuse',\n",
    "        'reflectance' : Spectrum(0.4)\n",
    "    }\n",
    "}))\n",
    "full_scene.setDestinationFile('ball')  # Set the name of the render output file\n",
    "# By default, the output file will be a .png\n",
    "full_scene.configure()"
   ]
  },
  {
   "cell_type": "code",
   "execution_count": 21,
   "metadata": {},
   "outputs": [
    {
     "name": "stdout",
     "output_type": "stream",
     "text": [
      "------------------------------------------------------------\n",
      " * Loaded plugins :\n",
      "    -  plugins\\checkerboard.dll [Checkerboard texture]\n",
      "    -  plugins\\diffuse.dll [Smooth diffuse BRDF]\n",
      "    -  plugins\\envmap.dll [Environment map]\n",
      "    -  plugins\\field.dll [Field extraction integrator]\n",
      "    -  plugins\\gaussian.dll [Gaussian reconstruction filter]\n",
      "    -  plugins\\halton.dll [Halton QMC sampler]\n",
      "    -  plugins\\hdrfilm.dll [High dynamic range film]\n",
      "    -  plugins\\independent.dll [Independent sampler]\n",
      "    -  plugins\\lanczos.dll [Lanczos Sinc filter]\n",
      "    -  plugins\\ldrfilm.dll [Low dynamic range film]\n",
      "    -  plugins\\ldsampler.dll [Low discrepancy sampler]\n",
      "    -  plugins\\multichannel.dll [Multi-channel integrator]\n",
      "    -  plugins\\path.dll [MI path tracer]\n",
      "    -  plugins\\perspective.dll [Perspective camera]\n",
      "    -  plugins\\plastic.dll [Smooth plastic BRDF]\n",
      "    -  plugins\\point.dll [Point emitter]\n",
      "    -  plugins\\rectangle.dll [Rectangle intersection primitive]\n",
      "    -  plugins\\serialized.dll [Serialized mesh loader]\n",
      "    -  plugins\\sky.dll [Skylight emitter]\n",
      "    -  plugins\\sphere.dll [Sphere intersection primitive]\n",
      "    -  plugins\\sunsky.dll [Sun & sky emitter]\n",
      "\n",
      "  * General :\n",
      "    -  Normal rays traced : 94.495 M\n",
      "    -  Shadow rays traced : 42.069 M\n",
      "\n",
      "  * Path tracer :\n",
      "    -  Average path length : 1.28 (65.94 M / 51.69 M)\n",
      "\n",
      "  * Texture system :\n",
      "    -  Cumulative MIP map memory allocations : 3.001 MiB\n",
      "    -  Filtered texture lookups : 17.12 % (19.37 M of 113.14 M)\n",
      "    -  Lookups with clamped anisotropy : 0.00 % (0.00 of 19.37 M)\n",
      "------------------------------------------------------------\n"
     ]
    }
   ],
   "source": [
    "# Render the full scene just created using the existing job queus\n",
    "job = RenderJob('myRenderJob', full_scene, queue)\n",
    "job.start()\n",
    "# Wait for all jobs to finish and release resources\n",
    "queue.waitLeft(0)\n",
    "queue.join()\n",
    "# Print some statistics about the rendering process\n",
    "print(Statistics.getInstance().getStats())"
   ]
  },
  {
   "cell_type": "code",
   "execution_count": 22,
   "metadata": {},
   "outputs": [
    {
     "data": {
      "text/plain": [
       "<matplotlib.image.AxesImage at 0x1f4817b8>"
      ]
     },
     "execution_count": 22,
     "metadata": {},
     "output_type": "execute_result"
    },
    {
     "data": {
      "application/pdf": "[encoded data removed]",
      "text/plain": [
       "<matplotlib.figure.Figure at 0xe2b8c18>"
      ]
     },
     "metadata": {},
     "output_type": "display_data"
    }
   ],
   "source": [
    "# Show the result\n",
    "ball_img = mpimg.imread('ball.png')\n",
    "plt.figure(figsize=(10, 5.625))\n",
    "plt.imshow(ball_img)"
   ]
  },
  {
   "cell_type": "code",
   "execution_count": 25,
   "metadata": {},
   "outputs": [
    {
     "name": "stdout",
     "output_type": "stream",
     "text": [
      "Completed Run at  2017-03-22 14:13:16.257000\n"
     ]
    }
   ],
   "source": [
    "import datetime\n",
    "now = datetime.datetime.now()\n",
    "print 'Completed Run at ', str(now)\n",
    "# After executing this cell, save the notebook before running the \n",
    "# publish cells below\n",
    "# To run the complete notebook, select this cell\n",
    "# and then choose Cell->Run All Above from the menu"
   ]
  },
  {
   "cell_type": "code",
   "execution_count": 24,
   "metadata": {},
   "outputs": [
    {
     "data": {
      "application/javascript": [
       "var kernel = IPython.notebook.kernel;\n",
       "var thename = window.document.getElementById(\"notebook_name\").innerHTML;\n",
       "var command = \"theNotebook = \" + \"'\"+thename+\"'\";\n",
       "kernel.execute(command);"
      ],
      "text/plain": [
       "<IPython.core.display.Javascript object>"
      ]
     },
     "metadata": {},
     "output_type": "display_data"
    }
   ],
   "source": [
    "%%javascript\n",
    "var kernel = IPython.notebook.kernel;\n",
    "var thename = window.document.getElementById(\"notebook_name\").innerHTML;\n",
    "var command = \"theNotebook = \" + \"'\"+thename+\"'\";\n",
    "kernel.execute(command);"
   ]
  },
  {
   "cell_type": "code",
   "execution_count": 27,
   "metadata": {},
   "outputs": [
    {
     "name": "stderr",
     "output_type": "stream",
     "text": [
      "[NbConvertApp] Converting notebook 01a-Mitsuba-Introduction.ipynb to latex\n",
      "[NbConvertApp] Support files will be in 01a-Mitsuba-Introduction_files\\\n",
      "[NbConvertApp] Making directory 01a-Mitsuba-Introduction_files\n",
      "[NbConvertApp] Making directory 01a-Mitsuba-Introduction_files\n",
      "[NbConvertApp] Making directory 01a-Mitsuba-Introduction_files\n",
      "[NbConvertApp] Making directory 01a-Mitsuba-Introduction_files\n",
      "[NbConvertApp] Making directory 01a-Mitsuba-Introduction_files\n",
      "[NbConvertApp] Writing 77133 bytes to 01a-Mitsuba-Introduction.tex\n"
     ]
    },
    {
     "ename": "NameError",
     "evalue": "name 'casename' is not defined",
     "output_type": "error",
     "traceback": [
      "\u001b[1;31m---------------------------------------------------------------------------\u001b[0m",
      "\u001b[1;31mNameError\u001b[0m                                 Traceback (most recent call last)",
      "\u001b[1;32m<ipython-input-27-3e7beeb15f5b>\u001b[0m in \u001b[0;36m<module>\u001b[1;34m()\u001b[0m\n\u001b[0;32m     30\u001b[0m     \u001b[1;31m# Move the compiled pdf to the results folder\u001b[0m\u001b[1;33m\u001b[0m\u001b[1;33m\u001b[0m\u001b[0m\n\u001b[0;32m     31\u001b[0m     \u001b[1;32mimport\u001b[0m \u001b[0mos\u001b[0m\u001b[1;33m\u001b[0m\u001b[0m\n\u001b[1;32m---> 32\u001b[1;33m     \u001b[0mpublication\u001b[0m \u001b[1;33m=\u001b[0m \u001b[0mresult_folder\u001b[0m \u001b[1;33m+\u001b[0m \u001b[0mos\u001b[0m\u001b[1;33m.\u001b[0m\u001b[0msep\u001b[0m \u001b[1;33m+\u001b[0m \u001b[0mcasename\u001b[0m \u001b[1;33m+\u001b[0m \u001b[1;34m'.pdf'\u001b[0m\u001b[1;33m\u001b[0m\u001b[0m\n\u001b[0m\u001b[0;32m     33\u001b[0m     \u001b[1;32mif\u001b[0m \u001b[0mos\u001b[0m\u001b[1;33m.\u001b[0m\u001b[0mpath\u001b[0m\u001b[1;33m.\u001b[0m\u001b[0mexists\u001b[0m\u001b[1;33m(\u001b[0m\u001b[0mpublication\u001b[0m\u001b[1;33m)\u001b[0m\u001b[1;33m:\u001b[0m\u001b[1;33m\u001b[0m\u001b[0m\n\u001b[0;32m     34\u001b[0m         \u001b[0mos\u001b[0m\u001b[1;33m.\u001b[0m\u001b[0mremove\u001b[0m\u001b[1;33m(\u001b[0m\u001b[0mpublication\u001b[0m\u001b[1;33m)\u001b[0m\u001b[1;33m\u001b[0m\u001b[0m\n",
      "\u001b[1;31mNameError\u001b[0m: name 'casename' is not defined"
     ]
    }
   ],
   "source": [
    "result_folder = './MitsubaScenes'\n",
    "publish = True\n",
    "# Run this cell to publish, but save the notebook beforehand\n",
    "# The contents of this cell strictly for publishing the notebook.\n",
    "if publish:\n",
    "    notebook_name = theNotebook + '.ipynb'\n",
    "    # Run nbconvert to create a tex file as well as pdf graphic files\n",
    "    !jupyter nbconvert --to latex $notebook_name\n",
    "    # Do touchups    \n",
    "    def touchup_build_tex(tex_file, touchups):\n",
    "        # Read the LaTeX file\n",
    "        f = open(tex_file,'r')\n",
    "        filedata = f.read()\n",
    "        f.close()\n",
    "        # Perform touchups\n",
    "        for src, target in touchups.iteritems():\n",
    "                filedata = filedata.replace(src, target)\n",
    "        # Write file again\n",
    "        f = open(tex_file,'w')\n",
    "        f.write(filedata)\n",
    "        f.close()\n",
    "        # Build PDF using LaTeX\n",
    "        !pdflatex $tex_file > pdflatex.out\n",
    "        \n",
    "    touchups = {'[11pt]{article}': '[11pt, a4paper, landscape]{scrartcl}',\n",
    "                'title{' + theNotebook + '}': \n",
    "                'title{' + casetitle + '}' + \n",
    "                '\\subtitle{' + subtitle + '}'}\n",
    "    touchup_build_tex(theNotebook + '.tex', touchups)\n",
    "    # Move the compiled pdf to the results folder\n",
    "    import os\n",
    "    publication = result_folder + os.sep + casename + '.pdf'\n",
    "    if os.path.exists(publication):\n",
    "        os.remove(publication)\n",
    "    os.rename(theNotebook + '.pdf', publication)"
   ]
  },
  {
   "cell_type": "code",
   "execution_count": null,
   "metadata": {
    "collapsed": true
   },
   "outputs": [],
   "source": []
  }
 ],
 "metadata": {
  "anaconda-cloud": {},
  "kernelspec": {
   "display_name": "Python [mordevpy27]",
   "language": "python",
   "name": "Python [mordevpy27]"
  },
  "language_info": {
   "codemirror_mode": {
    "name": "ipython",
    "version": 2
   },
   "file_extension": ".py",
   "mimetype": "text/x-python",
   "name": "python",
   "nbconvert_exporter": "python",
   "pygments_lexer": "ipython2",
   "version": "2.7.14"
  }
 },
 "nbformat": 4,
 "nbformat_minor": 1
}
