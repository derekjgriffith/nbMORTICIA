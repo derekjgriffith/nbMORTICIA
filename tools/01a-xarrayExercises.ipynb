{
 "cells": [
  {
   "cell_type": "markdown",
   "metadata": {},
   "source": [
    "## Use of the Python xarray Package"
   ]
  },
  {
   "cell_type": "markdown",
   "metadata": {},
   "source": [
    "The `xarray` package provides for handling of N-dimensional datasets as numpy arrays, but with each axis dimension labelled for mnemonic access and enhanced broadcasting. For more information see the xarray documentation at https://xarray.pydata.org/en/stable/\n",
    "\n",
    "The package `astropy` offers a similar data type, but `xarray` is preferred in `MORTICIA` for a number of reasons, including the strong relationship and interaction with `pandas`. For processing of large arrays that do not fit into memory, `xarray` supports the use of the `dask` package for parallel computation.\n",
    "\n",
    "However, note that `astropy` is used for earth coordinate transformations and celestial body calculations in `MORTICIA`."
   ]
  },
  {
   "cell_type": "code",
   "execution_count": 1,
   "metadata": {
    "collapsed": true
   },
   "outputs": [],
   "source": [
    "import numpy as np\n",
    "import pandas as pd\n",
    "import xarray as xray\n",
    "xD = xray.DataArray\n",
    "import matplotlib.pyplot as plt\n",
    "import scipy.interpolate\n",
    "from pint import UnitRegistry\n",
    "ureg = UnitRegistry()\n",
    "Q_ = ureg.Quantity\n",
    "def U_(units):\n",
    "    return Q_(1.0, units)\n",
    "%matplotlib inline\n",
    "from morticia.tools.xd import *\n",
    "%matplotlib inline\n",
    "%load_ext autoreload\n",
    "%aimport morticia.tools.xd\n",
    "%autoreload 1"
   ]
  },
  {
   "cell_type": "code",
   "execution_count": 2,
   "metadata": {
    "collapsed": true
   },
   "outputs": [],
   "source": [
    "# Build a spectral transmission curve with an xray.DataArray object\n",
    "# The first paramter is the transmission data, followed by a list of tuples providing the coordinate axes\n",
    "# In this case there is only the wavelength axis, for which the abbreviation 'wvl' is used\n",
    "# Attributes for the axis are provided in a dictionary, according to NetCDF conventions and CF conventions\n",
    "# where appropriate\n",
    "spec_trans = xray.DataArray([ 0.0, 0.1, 0.3, 0.5, 0.7, 1.0, 1.0, 0.8, 0.0],                      \n",
    "                   [('wvl', [550., 600, 650, 700, 750, 800, 850, 950, 1000], {'units': 'nm', 'long_name': 'Wavelength'})], \n",
    "                   name='trn',\n",
    "                   attrs={'units': '', 'long_name': 'Transmission'})\n",
    "\n",
    "# It is also possible to create an \"identity\" DataArray in which the coordinates are just indices\n",
    "spatial_frequencies = xray.DataArray(np.linspace(0.0, 1000.0, 11), name='spf', attrs={'units': 'cy/mm'})"
   ]
  },
  {
   "cell_type": "code",
   "execution_count": 35,
   "metadata": {},
   "outputs": [
    {
     "data": {
      "text/plain": [
       "'nm'"
      ]
     },
     "execution_count": 35,
     "metadata": {},
     "output_type": "execute_result"
    }
   ],
   "source": [
    "spec_trans.wvl.units"
   ]
  },
  {
   "cell_type": "code",
   "execution_count": 36,
   "metadata": {},
   "outputs": [
    {
     "data": {
      "text/plain": [
       "'Wavelength'"
      ]
     },
     "execution_count": 36,
     "metadata": {},
     "output_type": "execute_result"
    }
   ],
   "source": [
    "# Attributes can be accessed using .long_name syntax for reading, but not for writing\n",
    "spec_trans['wvl'].long_name"
   ]
  },
  {
   "cell_type": "code",
   "execution_count": 4,
   "metadata": {},
   "outputs": [
    {
     "data": {
      "image/png": "[encoded data removed]",
      "text/plain": [
       "<matplotlib.figure.Figure at 0x9a32668>"
      ]
     },
     "metadata": {},
     "output_type": "display_data"
    }
   ],
   "source": [
    "# Coordinate axis names are used to plot the data\n",
    "spec_trans.plot()\n",
    "plt.grid()"
   ]
  },
  {
   "cell_type": "code",
   "execution_count": 37,
   "metadata": {},
   "outputs": [
    {
     "data": {
      "text/plain": [
       "<xarray.DataArray 'wvl' (wvl: 9)>\n",
       "array([  550.,   600.,   650.,   700.,   750.,   800.,   850.,   950.,  1000.])\n",
       "Coordinates:\n",
       "  * wvl      (wvl) float64 550.0 600.0 650.0 700.0 750.0 800.0 850.0 950.0 1e+03\n",
       "Attributes:\n",
       "    units:      nm\n",
       "    long_name:  Wavelength"
      ]
     },
     "execution_count": 37,
     "metadata": {},
     "output_type": "execute_result"
    }
   ],
   "source": [
    "# Get values of a coordinate axis by name\n",
    "spec_trans.coords['wvl']"
   ]
  },
  {
   "cell_type": "code",
   "execution_count": 38,
   "metadata": {},
   "outputs": [
    {
     "data": {
      "text/plain": [
       "('wvl',)"
      ]
     },
     "execution_count": 38,
     "metadata": {},
     "output_type": "execute_result"
    }
   ],
   "source": [
    "# Determin the coordinate axes (dimensions) of the spectral transmission (wavelength only)\n",
    "spec_trans.dims"
   ]
  },
  {
   "cell_type": "code",
   "execution_count": 39,
   "metadata": {},
   "outputs": [
    {
     "name": "stdout",
     "output_type": "stream",
     "text": [
      "Transmission  or ... \n",
      "Transmission\n"
     ]
    }
   ],
   "source": [
    "# For reading attributes, there are two available routes\n",
    "print spec_trans.attrs['long_name'], ' or ... '\n",
    "print spec_trans.long_name\n"
   ]
  },
  {
   "cell_type": "code",
   "execution_count": 40,
   "metadata": {
    "collapsed": true
   },
   "outputs": [],
   "source": [
    "# Create a new wavelength grid\n",
    "wvl = xray.DataArray(np.linspace(500., 1050, 51), name='wvl', attrs={'units': 'nm'})"
   ]
  },
  {
   "cell_type": "code",
   "execution_count": 41,
   "metadata": {},
   "outputs": [
    {
     "data": {
      "text/plain": [
       "<xarray.DataArray 'wvl' (dim_0: 51)>\n",
       "array([  500.,   511.,   522.,   533.,   544.,   555.,   566.,   577.,   588.,\n",
       "         599.,   610.,   621.,   632.,   643.,   654.,   665.,   676.,   687.,\n",
       "         698.,   709.,   720.,   731.,   742.,   753.,   764.,   775.,   786.,\n",
       "         797.,   808.,   819.,   830.,   841.,   852.,   863.,   874.,   885.,\n",
       "         896.,   907.,   918.,   929.,   940.,   951.,   962.,   973.,   984.,\n",
       "         995.,  1006.,  1017.,  1028.,  1039.,  1050.])\n",
       "Dimensions without coordinates: dim_0\n",
       "Attributes:\n",
       "    units:    nm"
      ]
     },
     "execution_count": 41,
     "metadata": {},
     "output_type": "execute_result"
    }
   ],
   "source": [
    "wvl\n"
   ]
  },
  {
   "cell_type": "code",
   "execution_count": 42,
   "metadata": {
    "collapsed": true
   },
   "outputs": [],
   "source": [
    "# Here we have a transmission DataArray for 2 lens systems, labelled A and B\n",
    "trans = xray.DataArray([[ 0.0, 0.1, 0.3, 0.5, 0.7, 1.0, 1.0, 0.8, 0.0],\n",
    "                             [ 0.0, 0.2, 0.5, 0.7, 0.72, 0.7, 0.7, 0.6, 0.5]],                      \n",
    "                   [('idn', ['A', 'B']),\n",
    "                    ('wvl', [550., 600, 650, 700, 750, 800, 850, 950, 1000], {'units': 'nm'})], \n",
    "                   name='trn',\n",
    "                   attrs={'units': '', 'extrap_val': 0.0})"
   ]
  },
  {
   "cell_type": "code",
   "execution_count": 43,
   "metadata": {},
   "outputs": [
    {
     "data": {
      "text/plain": [
       "<xarray.DataArray 'wvl' (wvl: 9)>\n",
       "array([  550.,   600.,   650.,   700.,   750.,   800.,   850.,   950.,  1000.])\n",
       "Coordinates:\n",
       "  * wvl      (wvl) float64 550.0 600.0 650.0 700.0 750.0 800.0 850.0 950.0 1e+03\n",
       "Attributes:\n",
       "    units:    nm"
      ]
     },
     "execution_count": 43,
     "metadata": {},
     "output_type": "execute_result"
    }
   ],
   "source": [
    "trans.wvl"
   ]
  },
  {
   "cell_type": "code",
   "execution_count": 11,
   "metadata": {},
   "outputs": [
    {
     "data": {
      "text/plain": [
       "array([ 4.4 ,  4.37])"
      ]
     },
     "execution_count": 11,
     "metadata": {},
     "output_type": "execute_result"
    }
   ],
   "source": [
    "# Trapzoidal integration of an xray DataArray along a named axis\n",
    "# However, this returns a regular numpy array integrated along the named axis\n",
    "np.trapz(trans, axis=trans.get_axis_num('wvl'))"
   ]
  },
  {
   "cell_type": "code",
   "execution_count": null,
   "metadata": {
    "collapsed": true
   },
   "outputs": [],
   "source": []
  },
  {
   "cell_type": "code",
   "execution_count": 20,
   "metadata": {},
   "outputs": [
    {
     "data": {
      "text/plain": [
       "<xarray.DataArray 'trn' (idn: 2, wvl: 9)>\n",
       "array([[ 0.  ,  0.1 ,  0.3 ,  0.5 ,  0.7 ,  1.  ,  1.  ,  0.8 ,  0.  ],\n",
       "       [ 0.  ,  0.2 ,  0.5 ,  0.7 ,  0.72,  0.7 ,  0.7 ,  0.6 ,  0.5 ]])\n",
       "Coordinates:\n",
       "  * idn      (idn) |S1 'A' 'B'\n",
       "  * wvl      (wvl) float64 550.0 600.0 650.0 700.0 750.0 800.0 850.0 950.0 1e+03\n",
       "Attributes:\n",
       "    units:       \n",
       "    extrap_val:  0.0"
      ]
     },
     "execution_count": 20,
     "metadata": {},
     "output_type": "execute_result"
    }
   ],
   "source": [
    "trans"
   ]
  },
  {
   "cell_type": "code",
   "execution_count": 44,
   "metadata": {},
   "outputs": [
    {
     "data": {
      "text/plain": [
       "array([ 265.,  251.])"
      ]
     },
     "execution_count": 44,
     "metadata": {},
     "output_type": "execute_result"
    }
   ],
   "source": [
    "# Latter integration result is wrong because we failed to take into account the actual coordinates\n",
    "# in the wavelength axis, so here we do the integration again, using the wavelength values\n",
    "# as a further input\n",
    "# Read the following statement as \"Perform trapezoidal integration of the DataArray 'trans' along the axis named 'wvl'\"\n",
    "np.trapz(trans, trans['wvl'], axis=trans.get_axis_num('wvl'))"
   ]
  },
  {
   "cell_type": "code",
   "execution_count": 45,
   "metadata": {},
   "outputs": [
    {
     "data": {
      "text/plain": [
       "[<matplotlib.lines.Line2D at 0xe264dd8>,\n",
       " <matplotlib.lines.Line2D at 0xe264f28>]"
      ]
     },
     "execution_count": 45,
     "metadata": {},
     "output_type": "execute_result"
    },
    {
     "data": {
      "image/png": "[encoded data removed]",
      "text/plain": [
       "<matplotlib.figure.Figure at 0xc29c898>"
      ]
     },
     "metadata": {},
     "output_type": "display_data"
    }
   ],
   "source": [
    "plt.plot(trans['wvl'], trans.loc['A'], trans['wvl'], trans.loc['B'])"
   ]
  },
  {
   "cell_type": "code",
   "execution_count": 46,
   "metadata": {},
   "outputs": [
    {
     "data": {
      "text/plain": [
       "<xarray.DataArray 'trn' (wvl: 9)>\n",
       "array([ 0. ,  0.1,  0.3,  0.5,  0.7,  1. ,  1. ,  0.8,  0. ])\n",
       "Coordinates:\n",
       "    idn      |S1 'A'\n",
       "  * wvl      (wvl) float64 550.0 600.0 650.0 700.0 750.0 800.0 850.0 950.0 1e+03\n",
       "Attributes:\n",
       "    units:       \n",
       "    extrap_val:  0.0"
      ]
     },
     "execution_count": 46,
     "metadata": {},
     "output_type": "execute_result"
    }
   ],
   "source": [
    "# Index into the data using loc\n",
    "trans.loc['A']"
   ]
  },
  {
   "cell_type": "code",
   "execution_count": 47,
   "metadata": {},
   "outputs": [
    {
     "data": {
      "text/plain": [
       "'nm'"
      ]
     },
     "execution_count": 47,
     "metadata": {},
     "output_type": "execute_result"
    }
   ],
   "source": [
    "# Attributes in the attrs dictionary turn up as top-level attributes\n",
    "trans.wvl.units"
   ]
  },
  {
   "cell_type": "code",
   "execution_count": 48,
   "metadata": {
    "collapsed": true
   },
   "outputs": [],
   "source": [
    "# Replacement of axis data\n",
    "spec_trans['wvl'] = np.array([1.,2,3,4,5,6,7,8,9])"
   ]
  },
  {
   "cell_type": "code",
   "execution_count": 49,
   "metadata": {},
   "outputs": [
    {
     "data": {
      "text/plain": [
       "<xarray.DataArray 'trn' (wvl: 9)>\n",
       "array([ 0. ,  0.1,  0.3,  0.5,  0.7,  1. ,  1. ,  0.8,  0. ])\n",
       "Coordinates:\n",
       "  * wvl      (wvl) float64 1.0 2.0 3.0 4.0 5.0 6.0 7.0 8.0 9.0\n",
       "Attributes:\n",
       "    units:      \n",
       "    long_name:  Transmission"
      ]
     },
     "execution_count": 49,
     "metadata": {},
     "output_type": "execute_result"
    }
   ],
   "source": [
    "spec_trans"
   ]
  },
  {
   "cell_type": "code",
   "execution_count": 51,
   "metadata": {
    "collapsed": true
   },
   "outputs": [],
   "source": [
    "xd_check_convert_units(spec_trans, 'wvl', 'nm')"
   ]
  },
  {
   "cell_type": "code",
   "execution_count": 49,
   "metadata": {
    "collapsed": true
   },
   "outputs": [],
   "source": []
  },
  {
   "cell_type": "code",
   "execution_count": 48,
   "metadata": {},
   "outputs": [
    {
     "name": "stdout",
     "output_type": "stream",
     "text": [
      "The autoreload extension is already loaded. To reload it, use:\n",
      "  %reload_ext autoreload\n"
     ]
    }
   ],
   "source": [
    "from morticia.sensor import optics\n",
    "import xarray\n",
    "# This notebook is used for development/testing of the Optics module, so auto reload the Optics module if it changes\n",
    "%load_ext autoreload\n",
    "%aimport morticia.sensor.optics\n",
    "%autoreload 1"
   ]
  },
  {
   "cell_type": "code",
   "execution_count": 1,
   "metadata": {
    "collapsed": true
   },
   "outputs": [],
   "source": []
  },
  {
   "cell_type": "code",
   "execution_count": 3,
   "metadata": {
    "collapsed": true
   },
   "outputs": [],
   "source": [
    "# Here, we show the product of two transmission functions defined on different wavelength grids\n",
    "spec_transA = xray.DataArray([ 0.0, 0.1, 0.3, 0.5, 0.7, 1.0, 1.0, 0.8, 0.0],                      \n",
    "                   [('wvl', [550., 600, 650, 700, 750, 800, 850, 950, 1000], {'units': 'nm', 'long_name': 'Wavelength'})], \n",
    "                   name='trn',\n",
    "                   attrs={'units': '1', 'extrap_val': 0.0})\n",
    "spec_transB = xray.DataArray([ 0.0, 0.5, 0.3, 0.25, 0.4, 0.45, 0.6, 0.7],                      \n",
    "                   [('wvl', [551., 600, 660, 715, 755, 845, 851, 956], {'units': 'nm', 'long_name': 'Wavelength'})], \n",
    "                   name='trn',\n",
    "                   attrs={'units': '1', 'extrap_val': 0.0})"
   ]
  },
  {
   "cell_type": "code",
   "execution_count": 4,
   "metadata": {},
   "outputs": [
    {
     "data": {
      "text/plain": [
       "[<xarray.DataArray 'trn' (wvl: 16)>\n",
       " array([ 0.   ,  0.002,  0.1  ,  0.3  ,  0.34 ,  0.5  ,  0.56 ,  0.7  ,  0.73 ,\n",
       "         1.   ,  1.   ,  1.   ,  0.998,  0.8  ,  0.704,  0.   ])\n",
       " Coordinates:\n",
       "   * wvl      (wvl) float64 550.0 551.0 600.0 650.0 660.0 700.0 715.0 750.0 ...\n",
       " Attributes:\n",
       "     units:       1\n",
       "     extrap_val:  0.0, <xarray.DataArray 'trn' (wvl: 16)>\n",
       " array([ 0.      ,  0.      ,  0.5     ,  0.333333,  0.3     ,  0.263636,\n",
       "         0.25    ,  0.38125 ,  0.4     ,  0.425   ,  0.45    ,  0.575   ,\n",
       "         0.6     ,  0.694286,  0.7     ,  0.      ])\n",
       " Coordinates:\n",
       "   * wvl      (wvl) float64 550.0 551.0 600.0 650.0 660.0 700.0 715.0 750.0 ...\n",
       " Attributes:\n",
       "     units:       1\n",
       "     extrap_val:  0.0]"
      ]
     },
     "execution_count": 4,
     "metadata": {},
     "output_type": "execute_result"
    }
   ],
   "source": [
    "# Look at what the xray.DataArray objects look like with harmonised wavelength grids \n",
    "xd_harmonise_interp((spec_transA, spec_transB))"
   ]
  },
  {
   "cell_type": "code",
   "execution_count": 5,
   "metadata": {},
   "outputs": [
    {
     "data": {
      "image/png": "[encoded data removed]",
      "text/plain": [
       "<matplotlib.figure.Figure at 0x7f53668>"
      ]
     },
     "metadata": {},
     "output_type": "display_data"
    }
   ],
   "source": [
    "# Plot the A transmission curve\n",
    "spec_transA.plot()\n",
    "plt.grid()"
   ]
  },
  {
   "cell_type": "code",
   "execution_count": 6,
   "metadata": {},
   "outputs": [
    {
     "data": {
      "image/png": "[encoded data removed]",
      "text/plain": [
       "<matplotlib.figure.Figure at 0xbff2e48>"
      ]
     },
     "metadata": {},
     "output_type": "display_data"
    }
   ],
   "source": [
    "# Plot the B transmission curve\n",
    "spec_transB.plot()\n",
    "plt.grid()"
   ]
  },
  {
   "cell_type": "code",
   "execution_count": 7,
   "metadata": {
    "collapsed": true
   },
   "outputs": [],
   "source": [
    "# Get the axis-harmonised product\n",
    "spec_transC = xd_harmonised_product([spec_transA, spec_transB])"
   ]
  },
  {
   "cell_type": "code",
   "execution_count": 8,
   "metadata": {},
   "outputs": [
    {
     "data": {
      "image/png": "[encoded data removed]",
      "text/plain": [
       "<matplotlib.figure.Figure at 0xc5cab00>"
      ]
     },
     "metadata": {},
     "output_type": "display_data"
    }
   ],
   "source": [
    "# Plot the product of the two transmission curves\n",
    "spec_transC.plot()\n",
    "plt.grid()"
   ]
  },
  {
   "cell_type": "code",
   "execution_count": 9,
   "metadata": {},
   "outputs": [
    {
     "data": {
      "text/plain": [
       "'nm'"
      ]
     },
     "execution_count": 9,
     "metadata": {},
     "output_type": "execute_result"
    }
   ],
   "source": [
    "spec_transC.wvl.units"
   ]
  },
  {
   "cell_type": "code",
   "execution_count": 36,
   "metadata": {},
   "outputs": [],
   "source": [
    "spec_trans_nan = xray.DataArray(np.ones(9)*np.nan,                      \n",
    "                   [('wvl', [550., 600, 650, 700, 750, 800, 850, 950, 1000], {'units': 'nm', 'long_name': 'Wavelength'})], \n",
    "                   name='trn',\n",
    "                   attrs={'units': '1', 'extrap_val': 0.0})"
   ]
  },
  {
   "cell_type": "code",
   "execution_count": 38,
   "metadata": {},
   "outputs": [
    {
     "data": {
      "text/plain": [
       "<xarray.DataArray 'trn' (wvl: 9)>\n",
       "array([ nan,  nan,  nan,  nan,  nan,  nan,  nan,  nan,  nan])\n",
       "Coordinates:\n",
       "  * wvl      (wvl) float64 550.0 600.0 650.0 700.0 750.0 800.0 850.0 950.0 1e+03\n",
       "Attributes:\n",
       "    units:       1\n",
       "    extrap_val:  0.0"
      ]
     },
     "execution_count": 38,
     "metadata": {},
     "output_type": "execute_result"
    }
   ],
   "source": [
    "spec_trans_nan"
   ]
  },
  {
   "cell_type": "code",
   "execution_count": 39,
   "metadata": {},
   "outputs": [],
   "source": [
    "f3 = BasisFunction(spec_trans_nan)"
   ]
  },
  {
   "cell_type": "code",
   "execution_count": 41,
   "metadata": {},
   "outputs": [
    {
     "name": "stdout",
     "output_type": "stream",
     "text": [
      "<xarray.DataArray 'trn' (wvl: 9)>\n",
      "array([ nan,  nan,  nan,  nan,  nan,  nan,  nan,  nan,  nan])\n",
      "Coordinates:\n",
      "  * wvl      (wvl) float64 550.0 600.0 650.0 700.0 750.0 800.0 850.0 950.0 1e+03\n",
      "Attributes:\n",
      "    units:       1\n",
      "    extrap_val:  0.0\n"
     ]
    }
   ],
   "source": [
    "print f3"
   ]
  },
  {
   "cell_type": "code",
   "execution_count": 15,
   "metadata": {
    "collapsed": true
   },
   "outputs": [],
   "source": [
    "def add(a,b):\n",
    "    return a + b"
   ]
  },
  {
   "cell_type": "code",
   "execution_count": 17,
   "metadata": {},
   "outputs": [
    {
     "data": {
      "text/plain": [
       "3"
      ]
     },
     "execution_count": 17,
     "metadata": {},
     "output_type": "execute_result"
    }
   ],
   "source": [
    "add(1,2, **x)"
   ]
  },
  {
   "cell_type": "code",
   "execution_count": 18,
   "metadata": {},
   "outputs": [
    {
     "data": {
      "text/plain": [
       "<xarray.DataArray 'trn' (wvl: 9)>\n",
       "array([ 0. ,  0.1,  0.3,  0.5,  0.7,  1. ,  1. ,  0.8,  0. ])\n",
       "Coordinates:\n",
       "  * wvl      (wvl) float64 550.0 600.0 650.0 700.0 750.0 800.0 850.0 950.0 1e+03\n",
       "Attributes:\n",
       "    units:      \n",
       "    long_name:  Transmission"
      ]
     },
     "execution_count": 18,
     "metadata": {},
     "output_type": "execute_result"
    }
   ],
   "source": [
    "spec_trans"
   ]
  },
  {
   "cell_type": "code",
   "execution_count": 28,
   "metadata": {},
   "outputs": [],
   "source": [
    "f1 = BasisFunction(spec_transA, evalBuildParms={'bounds_error': False, 'fill_value': np.nan})\n",
    "f2 = BasisFunction(spec_transB, evalBuildParms={'bounds_error': False, 'fill_value': np.nan})"
   ]
  },
  {
   "cell_type": "code",
   "execution_count": 29,
   "metadata": {},
   "outputs": [
    {
     "name": "stdout",
     "output_type": "stream",
     "text": [
      "<xarray.DataArray 'trn' (wvl: 9)>\n",
      "array([ 0. ,  0.1,  0.3,  0.5,  0.7,  1. ,  1. ,  0.8,  0. ])\n",
      "Coordinates:\n",
      "  * wvl      (wvl) float64 550.0 600.0 650.0 700.0 750.0 800.0 850.0 950.0 1e+03\n",
      "Attributes:\n",
      "    units:       1\n",
      "    extrap_val:  0.0 <xarray.DataArray 'trn' (wvl: 8)>\n",
      "array([ 0.  ,  0.5 ,  0.3 ,  0.25,  0.4 ,  0.45,  0.6 ,  0.7 ])\n",
      "Coordinates:\n",
      "  * wvl      (wvl) float64 551.0 600.0 660.0 715.0 755.0 845.0 851.0 956.0\n",
      "Attributes:\n",
      "    units:       1\n",
      "    extrap_val:  0.0\n"
     ]
    }
   ],
   "source": [
    "print f1, f2"
   ]
  },
  {
   "cell_type": "code",
   "execution_count": 30,
   "metadata": {},
   "outputs": [
    {
     "data": {
      "text/plain": [
       "<xarray.DataArray 'trn' (wvl: 8)>\n",
       "array([ 0.  ,  0.5 ,  0.3 ,  0.25,  0.4 ,  0.45,  0.6 ,  0.7 ])\n",
       "Coordinates:\n",
       "  * wvl      (wvl) float64 551.0 600.0 660.0 715.0 755.0 845.0 851.0 956.0\n",
       "Attributes:\n",
       "    units:       1\n",
       "    extrap_val:  0.0"
      ]
     },
     "execution_count": 30,
     "metadata": {},
     "output_type": "execute_result"
    }
   ],
   "source": [
    "f2.samples"
   ]
  },
  {
   "cell_type": "code",
   "execution_count": 22,
   "metadata": {},
   "outputs": [
    {
     "data": {
      "text/plain": [
       "<xarray.DataArray 'trn' (wvl: 9)>\n",
       "array([ 0. ,  0.1,  0.3,  0.5,  0.7,  1. ,  1. ,  0.8,  0. ])\n",
       "Coordinates:\n",
       "  * wvl      (wvl) float64 550.0 600.0 650.0 700.0 750.0 800.0 850.0 950.0 1e+03\n",
       "Attributes:\n",
       "    units:       1\n",
       "    extrap_val:  0.0"
      ]
     },
     "execution_count": 22,
     "metadata": {},
     "output_type": "execute_result"
    }
   ],
   "source": [
    "f1.samples"
   ]
  },
  {
   "cell_type": "code",
   "execution_count": 24,
   "metadata": {},
   "outputs": [
    {
     "ename": "TypeError",
     "evalue": "'BasisFunction' object has no attribute '__getitem__'",
     "output_type": "error",
     "traceback": [
      "\u001b[1;31m---------------------------------------------------------------------------\u001b[0m",
      "\u001b[1;31mTypeError\u001b[0m                                 Traceback (most recent call last)",
      "\u001b[1;32m<ipython-input-24-5984861f96d1>\u001b[0m in \u001b[0;36m<module>\u001b[1;34m()\u001b[0m\n\u001b[1;32m----> 1\u001b[1;33m \u001b[0mfb\u001b[0m \u001b[1;33m=\u001b[0m \u001b[0mFunctionalBasis\u001b[0m\u001b[1;33m(\u001b[0m\u001b[1;33m[\u001b[0m\u001b[0mf1\u001b[0m\u001b[1;33m,\u001b[0m \u001b[0mf2\u001b[0m\u001b[1;33m]\u001b[0m\u001b[1;33m)\u001b[0m\u001b[1;33m\u001b[0m\u001b[0m\n\u001b[0m",
      "\u001b[1;32mD:\\Projects\\GitHub\\MORTICIA\\morticia\\tools\\xd.pyc\u001b[0m in \u001b[0;36m__init__\u001b[1;34m(self, basisfunction_list)\u001b[0m\n\u001b[0;32m    329\u001b[0m                 raise ValueError('All basis functions for a functional basis must have the same domain coordinate '\n\u001b[0;32m    330\u001b[0m                                  'axes.')\n\u001b[1;32m--> 331\u001b[1;33m         \u001b[0mself\u001b[0m\u001b[1;33m.\u001b[0m\u001b[0mbasisfunction_list\u001b[0m \u001b[1;33m=\u001b[0m \u001b[0mxd_harmonise_interp\u001b[0m\u001b[1;33m(\u001b[0m\u001b[0mbasisfunction_list\u001b[0m\u001b[1;33m)\u001b[0m\u001b[1;33m\u001b[0m\u001b[0m\n\u001b[0m\u001b[0;32m    332\u001b[0m \u001b[1;33m\u001b[0m\u001b[0m\n\u001b[0;32m    333\u001b[0m \u001b[1;33m\u001b[0m\u001b[0m\n",
      "\u001b[1;32mD:\\Projects\\GitHub\\MORTICIA\\morticia\\tools\\xd.pyc\u001b[0m in \u001b[0;36mxd_harmonise_interp\u001b[1;34m(xd_list)\u001b[0m\n\u001b[0;32m     82\u001b[0m             \u001b[1;31m# accumulate dictionary for all dimensions in the entire collection of DataArrays\u001b[0m\u001b[1;33m\u001b[0m\u001b[1;33m\u001b[0m\u001b[0m\n\u001b[0;32m     83\u001b[0m             \u001b[1;32mif\u001b[0m \u001b[1;32mnot\u001b[0m \u001b[0maxis\u001b[0m \u001b[1;32min\u001b[0m \u001b[0mindex_vals\u001b[0m\u001b[1;33m:\u001b[0m\u001b[1;33m\u001b[0m\u001b[0m\n\u001b[1;32m---> 84\u001b[1;33m                 \u001b[0mindex_vals\u001b[0m\u001b[1;33m[\u001b[0m\u001b[0maxis\u001b[0m\u001b[1;33m]\u001b[0m \u001b[1;33m=\u001b[0m \u001b[0mxd_arr\u001b[0m\u001b[1;33m[\u001b[0m\u001b[0maxis\u001b[0m\u001b[1;33m]\u001b[0m\u001b[1;33m\u001b[0m\u001b[0m\n\u001b[0m\u001b[0;32m     85\u001b[0m             \u001b[1;32melse\u001b[0m\u001b[1;33m:\u001b[0m\u001b[1;33m\u001b[0m\u001b[0m\n\u001b[0;32m     86\u001b[0m                 \u001b[0mindex_vals\u001b[0m\u001b[1;33m[\u001b[0m\u001b[0maxis\u001b[0m\u001b[1;33m]\u001b[0m \u001b[1;33m=\u001b[0m \u001b[0mnp\u001b[0m\u001b[1;33m.\u001b[0m\u001b[0mhstack\u001b[0m\u001b[1;33m(\u001b[0m\u001b[1;33m(\u001b[0m\u001b[0mindex_vals\u001b[0m\u001b[1;33m[\u001b[0m\u001b[0maxis\u001b[0m\u001b[1;33m]\u001b[0m\u001b[1;33m,\u001b[0m \u001b[0mxd_arr\u001b[0m\u001b[1;33m[\u001b[0m\u001b[0maxis\u001b[0m\u001b[1;33m]\u001b[0m\u001b[1;33m)\u001b[0m\u001b[1;33m)\u001b[0m\u001b[1;33m\u001b[0m\u001b[0m\n",
      "\u001b[1;31mTypeError\u001b[0m: 'BasisFunction' object has no attribute '__getitem__'"
     ]
    }
   ],
   "source": [
    "fb = FunctionalBasis([f1, f2])"
   ]
  },
  {
   "cell_type": "code",
   "execution_count": 143,
   "metadata": {},
   "outputs": [
    {
     "data": {
      "text/plain": [
       "['__class__',\n",
       " '__delattr__',\n",
       " '__dict__',\n",
       " '__doc__',\n",
       " '__format__',\n",
       " '__getattribute__',\n",
       " '__hash__',\n",
       " '__init__',\n",
       " '__module__',\n",
       " '__new__',\n",
       " '__reduce__',\n",
       " '__reduce_ex__',\n",
       " '__repr__',\n",
       " '__setattr__',\n",
       " '__sizeof__',\n",
       " '__str__',\n",
       " '__subclasshook__',\n",
       " '__weakref__']"
      ]
     },
     "execution_count": 143,
     "metadata": {},
     "output_type": "execute_result"
    }
   ],
   "source": [
    "dir(FunctionalBasis)"
   ]
  },
  {
   "cell_type": "code",
   "execution_count": 155,
   "metadata": {},
   "outputs": [
    {
     "data": {
      "text/plain": [
       "array([  550.,   600.,   650.,   700.,   750.,   800.,   850.,   950.,\n",
       "        1000.])"
      ]
     },
     "execution_count": 155,
     "metadata": {},
     "output_type": "execute_result"
    }
   ],
   "source": [
    "spec_transA[spec_transA.dims[0]].data\n"
   ]
  },
  {
   "cell_type": "code",
   "execution_count": 1,
   "metadata": {
    "collapsed": true
   },
   "outputs": [],
   "source": [
    "x = 'default'"
   ]
  },
  {
   "cell_type": "code",
   "execution_count": 3,
   "metadata": {},
   "outputs": [
    {
     "data": {
      "text/plain": [
       "False"
      ]
     },
     "execution_count": 3,
     "metadata": {},
     "output_type": "execute_result"
    }
   ],
   "source": [
    "x == 'default'"
   ]
  },
  {
   "cell_type": "code",
   "execution_count": 27,
   "metadata": {},
   "outputs": [
    {
     "ename": "AttributeError",
     "evalue": "'module' object has no attribute 'nans'",
     "output_type": "error",
     "traceback": [
      "\u001b[1;31m---------------------------------------------------------------------------\u001b[0m",
      "\u001b[1;31mAttributeError\u001b[0m                            Traceback (most recent call last)",
      "\u001b[1;32m<ipython-input-27-1834fbf9b295>\u001b[0m in \u001b[0;36m<module>\u001b[1;34m()\u001b[0m\n\u001b[1;32m----> 1\u001b[1;33m \u001b[0mnp\u001b[0m\u001b[1;33m.\u001b[0m\u001b[0mnans\u001b[0m\u001b[1;33m(\u001b[0m\u001b[1;33m(\u001b[0m\u001b[1;36m2\u001b[0m\u001b[1;33m,\u001b[0m\u001b[1;36m3\u001b[0m\u001b[1;33m)\u001b[0m\u001b[1;33m)\u001b[0m\u001b[1;33m\u001b[0m\u001b[0m\n\u001b[0m",
      "\u001b[1;31mAttributeError\u001b[0m: 'module' object has no attribute 'nans'"
     ]
    }
   ],
   "source": [
    "np.nans((2,3))"
   ]
  },
  {
   "cell_type": "code",
   "execution_count": 25,
   "metadata": {},
   "outputs": [
    {
     "data": {
      "text/plain": [
       "nan"
      ]
     },
     "execution_count": 25,
     "metadata": {},
     "output_type": "execute_result"
    }
   ],
   "source": [
    "np.all(np.array([]) == np.nan)"
   ]
  },
  {
   "cell_type": "code",
   "execution_count": 42,
   "metadata": {},
   "outputs": [
    {
     "name": "stdout",
     "output_type": "stream",
     "text": [
      "<xarray.DataArray 'trn' (wvl: 9)>\n",
      "array([ nan,  nan,  nan,  nan,  nan,  nan,  nan,  nan,  nan])\n",
      "Coordinates:\n",
      "  * wvl      (wvl) float64 550.0 600.0 650.0 700.0 750.0 800.0 850.0 950.0 1e+03\n",
      "Attributes:\n",
      "    units:       1\n",
      "    extrap_val:  0.0\n"
     ]
    }
   ],
   "source": [
    "print f3"
   ]
  },
  {
   "cell_type": "code",
   "execution_count": 47,
   "metadata": {},
   "outputs": [],
   "source": [
    "f3 = BasisFunction(spec_trans_nan)"
   ]
  },
  {
   "cell_type": "code",
   "execution_count": 48,
   "metadata": {},
   "outputs": [
    {
     "ename": "TypeError",
     "evalue": "'BasisFunction' object is not callable",
     "output_type": "error",
     "traceback": [
      "\u001b[1;31m---------------------------------------------------------------------------\u001b[0m",
      "\u001b[1;31mTypeError\u001b[0m                                 Traceback (most recent call last)",
      "\u001b[1;32m<ipython-input-48-32afe812dd2b>\u001b[0m in \u001b[0;36m<module>\u001b[1;34m()\u001b[0m\n\u001b[1;32m----> 1\u001b[1;33m \u001b[0mf3\u001b[0m\u001b[1;33m(\u001b[0m\u001b[1;33m)\u001b[0m\u001b[1;33m\u001b[0m\u001b[0m\n\u001b[0m",
      "\u001b[1;31mTypeError\u001b[0m: 'BasisFunction' object is not callable"
     ]
    }
   ],
   "source": [
    "f3()"
   ]
  },
  {
   "cell_type": "code",
   "execution_count": null,
   "metadata": {
    "collapsed": true
   },
   "outputs": [],
   "source": []
  }
 ],
 "metadata": {
  "anaconda-cloud": {},
  "kernelspec": {
   "display_name": "Python [mordevpy27]",
   "language": "python",
   "name": "Python [mordevpy27]"
  },
  "language_info": {
   "codemirror_mode": {
    "name": "ipython",
    "version": 2
   },
   "file_extension": ".py",
   "mimetype": "text/x-python",
   "name": "python",
   "nbconvert_exporter": "python",
   "pygments_lexer": "ipython2",
   "version": "2.7.14"
  }
 },
 "nbformat": 4,
 "nbformat_minor": 1
}
