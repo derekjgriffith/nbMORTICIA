{
 "cells": [
  {
   "cell_type": "markdown",
   "metadata": {},
   "source": [
    "## Use of the Python xray Package"
   ]
  },
  {
   "cell_type": "markdown",
   "metadata": {},
   "source": [
    "The xray package provides for handling of N-dimensional datasets as numpy arrays, but with each axis dimension labelled for mnemonic access and enhanced broadcasting. For more information see the xray project on Github at https://github.com/xray/xray"
   ]
  },
  {
   "cell_type": "code",
   "execution_count": 9,
   "metadata": {
    "collapsed": false
   },
   "outputs": [
    {
     "name": "stdout",
     "output_type": "stream",
     "text": [
      "The autoreload extension is already loaded. To reload it, use:\n",
      "  %reload_ext autoreload\n"
     ]
    }
   ],
   "source": [
    "import numpy as np\n",
    "import pandas as pd\n",
    "import xray\n",
    "xD = xray.DataArray\n",
    "import matplotlib.pyplot as plt\n",
    "import scipy.interpolate\n",
    "from pint import UnitRegistry\n",
    "ureg = UnitRegistry()\n",
    "Q_ = ureg.Quantity\n",
    "def U_(units):\n",
    "    return Q_(1.0, units)\n",
    "%matplotlib inline\n",
    "from morticia.tools.xd import *\n",
    "%matplotlib inline\n",
    "%load_ext autoreload\n",
    "%aimport morticia.tools.xd\n",
    "%autoreload 1"
   ]
  },
  {
   "cell_type": "code",
   "execution_count": 19,
   "metadata": {
    "collapsed": false
   },
   "outputs": [],
   "source": [
    "# Build a spectral transmission curve with an xray.DataArray object\n",
    "# The first paramter is the transmission data, followed by a list of tuples providing the coordinate axes\n",
    "# In this case there is only the wavelength axis, for which the abbreviation 'wvl' is used\n",
    "# Attributes for the axis are provided in a dictionary, according to NetCDF conventions and CF conventions\n",
    "# where appropriate\n",
    "spec_trans = xray.DataArray([ 0.0, 0.1, 0.3, 0.5, 0.7, 1.0, 1.0, 0.8, 0.0],                      \n",
    "                   [('wvl', [550., 600, 650, 700, 750, 800, 850, 950, 1000], {'units': 'nm', 'long_name': 'Wavelength'})], \n",
    "                   name='trn',\n",
    "                   attrs={'units': '', 'long_name': 'Transmission'})\n",
    "\n",
    "# It is also possible to create an \"identity\" DataArray in which the coordinates are just indices\n",
    "spatial_frequencies = xray.DataArray(np.linspace(0.0, 1000.0, 11), name='spf', attrs={'units': 'cy/mm'})"
   ]
  },
  {
   "cell_type": "code",
   "execution_count": 20,
   "metadata": {
    "collapsed": false
   },
   "outputs": [
    {
     "data": {
      "text/plain": [
       "'Wavelength'"
      ]
     },
     "execution_count": 20,
     "metadata": {},
     "output_type": "execute_result"
    }
   ],
   "source": [
    "# Attributes can be accessed using .long_name syntax for reading, but not for writing\n",
    "spec_trans['wvl'].long_name"
   ]
  },
  {
   "cell_type": "code",
   "execution_count": 21,
   "metadata": {
    "collapsed": false
   },
   "outputs": [
    {
     "data": {
      "image/png": "[encoded data removed]",
      "text/plain": [
       "<matplotlib.figure.Figure at 0x1b03e7f0>"
      ]
     },
     "metadata": {},
     "output_type": "display_data"
    }
   ],
   "source": [
    "# Coordinate axis names are used to plot the data\n",
    "spec_trans.plot()\n",
    "plt.grid()"
   ]
  },
  {
   "cell_type": "code",
   "execution_count": 22,
   "metadata": {
    "collapsed": false
   },
   "outputs": [
    {
     "data": {
      "text/plain": [
       "<xray.DataArray 'wvl' (wvl: 9)>\n",
       "array([  550.,   600.,   650.,   700.,   750.,   800.,   850.,   950.,\n",
       "        1000.])\n",
       "Coordinates:\n",
       "  * wvl      (wvl) float64 550.0 600.0 650.0 700.0 750.0 800.0 850.0 950.0 1e+03\n",
       "Attributes:\n",
       "    units: nm\n",
       "    long_name: Wavelength"
      ]
     },
     "execution_count": 22,
     "metadata": {},
     "output_type": "execute_result"
    }
   ],
   "source": [
    "# Get values of a coordinate axis by name\n",
    "spec_trans.coords['wvl']"
   ]
  },
  {
   "cell_type": "code",
   "execution_count": 23,
   "metadata": {
    "collapsed": false
   },
   "outputs": [
    {
     "data": {
      "text/plain": [
       "('wvl',)"
      ]
     },
     "execution_count": 23,
     "metadata": {},
     "output_type": "execute_result"
    }
   ],
   "source": [
    "# Determin the coordinate axes (dimensions) of the spectral transmission (wavelength only)\n",
    "spec_trans.dims"
   ]
  },
  {
   "cell_type": "code",
   "execution_count": 28,
   "metadata": {
    "collapsed": false
   },
   "outputs": [
    {
     "name": "stdout",
     "output_type": "stream",
     "text": [
      "Transmission  or ... \n",
      "Transmission\n"
     ]
    }
   ],
   "source": [
    "# For reading attributes, there are two available routes\n",
    "print spec_trans.attrs['long_name'], ' or ... '\n",
    "print spec_trans.long_name\n"
   ]
  },
  {
   "cell_type": "code",
   "execution_count": 29,
   "metadata": {
    "collapsed": false
   },
   "outputs": [],
   "source": [
    "# Create a new wavelength grid\n",
    "wvl = xray.DataArray(np.linspace(500., 1050, 51), name='wvl', attrs={'units': 'nm'})"
   ]
  },
  {
   "cell_type": "code",
   "execution_count": 30,
   "metadata": {
    "collapsed": false
   },
   "outputs": [
    {
     "data": {
      "text/plain": [
       "<xray.DataArray 'wvl' (dim_0: 51)>\n",
       "array([  500.,   511.,   522.,   533.,   544.,   555.,   566.,   577.,\n",
       "         588.,   599.,   610.,   621.,   632.,   643.,   654.,   665.,\n",
       "         676.,   687.,   698.,   709.,   720.,   731.,   742.,   753.,\n",
       "         764.,   775.,   786.,   797.,   808.,   819.,   830.,   841.,\n",
       "         852.,   863.,   874.,   885.,   896.,   907.,   918.,   929.,\n",
       "         940.,   951.,   962.,   973.,   984.,   995.,  1006.,  1017.,\n",
       "        1028.,  1039.,  1050.])\n",
       "Coordinates:\n",
       "  * dim_0    (dim_0) int64 0 1 2 3 4 5 6 7 8 9 10 11 12 13 14 15 16 17 18 19 ...\n",
       "Attributes:\n",
       "    units: nm"
      ]
     },
     "execution_count": 30,
     "metadata": {},
     "output_type": "execute_result"
    }
   ],
   "source": [
    "wvl\n"
   ]
  },
  {
   "cell_type": "code",
   "execution_count": 31,
   "metadata": {
    "collapsed": false
   },
   "outputs": [],
   "source": [
    "# Here we have a transmission DataArray for 2 lens systems, labelled A and B\n",
    "trans = xray.DataArray([[ 0.0, 0.1, 0.3, 0.5, 0.7, 1.0, 1.0, 0.8, 0.0],\n",
    "                             [ 0.0, 0.2, 0.5, 0.7, 0.72, 0.7, 0.7, 0.6, 0.5]],                      \n",
    "                   [('idn', ['A', 'B']),\n",
    "                    ('wvl', [550., 600, 650, 700, 750, 800, 850, 950, 1000], {'units': 'nm'})], \n",
    "                   name='trn',\n",
    "                   attrs={'units': '', 'extrap_val': 0.0})"
   ]
  },
  {
   "cell_type": "code",
   "execution_count": 32,
   "metadata": {
    "collapsed": false
   },
   "outputs": [
    {
     "data": {
      "text/plain": [
       "array([ 4.4 ,  4.37])"
      ]
     },
     "execution_count": 32,
     "metadata": {},
     "output_type": "execute_result"
    }
   ],
   "source": [
    "# Trapzoidal integration of an xray DataArray along a named axis\n",
    "# However, this returns a regular numpy array integrated along the named axis\n",
    "np.trapz(trans, axis=trans.get_axis_num('wvl'))"
   ]
  },
  {
   "cell_type": "code",
   "execution_count": 33,
   "metadata": {
    "collapsed": false
   },
   "outputs": [
    {
     "data": {
      "text/plain": [
       "array([ 265.,  251.])"
      ]
     },
     "execution_count": 33,
     "metadata": {},
     "output_type": "execute_result"
    }
   ],
   "source": [
    "# Latter integration result is wrong because we failed to take into account the actual coordinates\n",
    "# in the wavelength axis, so here we do the integration again, using the wavelength values\n",
    "# as a further input\n",
    "# Read the following statement as \"Perform trapezoidal integration of the DataArray 'trans' along the axis named 'wvl'\"\n",
    "np.trapz(trans, trans['wvl'], axis=trans.get_axis_num('wvl'))"
   ]
  },
  {
   "cell_type": "code",
   "execution_count": null,
   "metadata": {
    "collapsed": false
   },
   "outputs": [],
   "source": [
    "plt.plot(trans['wvl'], trans.loc['A'], trans['wvl'], trans.loc['B'])"
   ]
  },
  {
   "cell_type": "code",
   "execution_count": null,
   "metadata": {
    "collapsed": false
   },
   "outputs": [],
   "source": [
    "# Index into the data using loc\n",
    "trans.loc['A']"
   ]
  },
  {
   "cell_type": "code",
   "execution_count": null,
   "metadata": {
    "collapsed": false
   },
   "outputs": [],
   "source": [
    "# Attributes in the attrs dictionary turn up as top-level attributes\n",
    "trans.wvl_units"
   ]
  },
  {
   "cell_type": "code",
   "execution_count": null,
   "metadata": {
    "collapsed": false
   },
   "outputs": [],
   "source": [
    "spec_trans['wvl'] = np.array([1.,2,3,4,5,6,7,8,9])"
   ]
  },
  {
   "cell_type": "code",
   "execution_count": null,
   "metadata": {
    "collapsed": false
   },
   "outputs": [],
   "source": [
    "spec_trans"
   ]
  },
  {
   "cell_type": "code",
   "execution_count": null,
   "metadata": {
    "collapsed": false
   },
   "outputs": [],
   "source": [
    "xD_check_convert_units(spec_trans, 'wvl', 'nm')"
   ]
  },
  {
   "cell_type": "code",
   "execution_count": 49,
   "metadata": {
    "collapsed": false
   },
   "outputs": [],
   "source": []
  },
  {
   "cell_type": "code",
   "execution_count": 48,
   "metadata": {
    "collapsed": false
   },
   "outputs": [
    {
     "name": "stdout",
     "output_type": "stream",
     "text": [
      "The autoreload extension is already loaded. To reload it, use:\n",
      "  %reload_ext autoreload\n"
     ]
    }
   ],
   "source": [
    "from morticia.sensor import optics\n",
    "import xray\n",
    "# This notebook is used for development/testing of the Optics module, so auto reload the Optics module if it changes\n",
    "%load_ext autoreload\n",
    "%aimport morticia.sensor.optics\n",
    "%autoreload 1"
   ]
  },
  {
   "cell_type": "code",
   "execution_count": 1,
   "metadata": {
    "collapsed": false
   },
   "outputs": [],
   "source": []
  },
  {
   "cell_type": "code",
   "execution_count": 226,
   "metadata": {
    "collapsed": false
   },
   "outputs": [],
   "source": [
    "# Here, we show the product of two transmission functions defined on different wavelength grids\n",
    "spec_transA = xray.DataArray([ 0.0, 0.1, 0.3, 0.5, 0.7, 1.0, 1.0, 0.8, 0.0],                      \n",
    "                   [('wvl', [550., 600, 650, 700, 750, 800, 850, 950, 1000])], \n",
    "                   name='trn',\n",
    "                   attrs={'trn_units': '1', 'wvl_units': 'nm', 'extrap_val': 0.0})\n",
    "spec_transB = xray.DataArray([ 0.0, 0.5, 0.3, 0.25, 0.4, 0.45, 0.6, 0.7],                      \n",
    "                   [('wvl', [551., 600, 660, 715, 755, 845, 851, 956])], \n",
    "                   name='trn',\n",
    "                   attrs={'trn_units': '', 'wvl_units': 'nm', 'extrap_val': 0.0})"
   ]
  },
  {
   "cell_type": "code",
   "execution_count": 227,
   "metadata": {
    "collapsed": false
   },
   "outputs": [
    {
     "data": {
      "text/plain": [
       "[<xray.DataArray 'trn' (wvl: 16)>\n",
       " array([ 0.   ,  0.002,  0.1  ,  0.3  ,  0.34 ,  0.5  ,  0.56 ,  0.7  ,\n",
       "         0.73 ,  1.   ,  1.   ,  1.   ,  0.998,  0.8  ,  0.704,  0.   ])\n",
       " Coordinates:\n",
       "   * wvl      (wvl) float64 550.0 551.0 600.0 650.0 660.0 700.0 715.0 750.0 ...\n",
       " Attributes:\n",
       "     extrap_val: 0.0\n",
       "     trn_units: 1\n",
       "     wvl_units: nm, <xray.DataArray 'trn' (wvl: 16)>\n",
       " array([ 0.        ,  0.        ,  0.5       ,  0.33333333,  0.3       ,\n",
       "         0.26363636,  0.25      ,  0.38125   ,  0.4       ,  0.425     ,\n",
       "         0.45      ,  0.575     ,  0.6       ,  0.69428571,  0.7       ,  0.        ])\n",
       " Coordinates:\n",
       "   * wvl      (wvl) float64 550.0 551.0 600.0 650.0 660.0 700.0 715.0 750.0 ...\n",
       " Attributes:\n",
       "     extrap_val: 0.0\n",
       "     trn_units: \n",
       "     wvl_units: nm]"
      ]
     },
     "execution_count": 227,
     "metadata": {},
     "output_type": "execute_result"
    }
   ],
   "source": [
    "# Look at what the xray.DataArray objects look like with harmonised wavelength grids \n",
    "xd_harmonise_interp((spec_transA, spec_transB))"
   ]
  },
  {
   "cell_type": "code",
   "execution_count": 228,
   "metadata": {
    "collapsed": false
   },
   "outputs": [
    {
     "data": {
      "image/png": "[encoded data removed]",
      "text/plain": [
       "<matplotlib.figure.Figure at 0x22ce4828>"
      ]
     },
     "metadata": {},
     "output_type": "display_data"
    }
   ],
   "source": [
    "# Plot the A transmission curve\n",
    "spec_transA.plot()\n",
    "plt.grid()"
   ]
  },
  {
   "cell_type": "code",
   "execution_count": 229,
   "metadata": {
    "collapsed": false
   },
   "outputs": [
    {
     "data": {
      "image/png": "[encoded data removed]",
      "text/plain": [
       "<matplotlib.figure.Figure at 0x23e40e10>"
      ]
     },
     "metadata": {},
     "output_type": "display_data"
    }
   ],
   "source": [
    "# Plot the B transmission curve\n",
    "spec_transB.plot()\n",
    "plt.grid()"
   ]
  },
  {
   "cell_type": "code",
   "execution_count": 230,
   "metadata": {
    "collapsed": false
   },
   "outputs": [],
   "source": [
    "# Get the axis-harmonised product\n",
    "spec_transC = xd_harmonised_product([spec_transA, spec_transB])"
   ]
  },
  {
   "cell_type": "code",
   "execution_count": 232,
   "metadata": {
    "collapsed": false
   },
   "outputs": [
    {
     "data": {
      "image/png": "[encoded data removed]",
      "text/plain": [
       "<matplotlib.figure.Figure at 0x23d6d860>"
      ]
     },
     "metadata": {},
     "output_type": "display_data"
    }
   ],
   "source": [
    "# Plot the product of the two transmission curves\n",
    "spec_transC.plot()\n",
    "plt.grid()"
   ]
  },
  {
   "cell_type": "code",
   "execution_count": null,
   "metadata": {
    "collapsed": true
   },
   "outputs": [],
   "source": []
  }
 ],
 "metadata": {
  "kernelspec": {
   "display_name": "Python 2",
   "language": "python",
   "name": "python2"
  },
  "language_info": {
   "codemirror_mode": {
    "name": "ipython",
    "version": 2
   },
   "file_extension": ".py",
   "mimetype": "text/x-python",
   "name": "python",
   "nbconvert_exporter": "python",
   "pygments_lexer": "ipython2",
   "version": "2.7.11"
  }
 },
 "nbformat": 4,
 "nbformat_minor": 0
}
