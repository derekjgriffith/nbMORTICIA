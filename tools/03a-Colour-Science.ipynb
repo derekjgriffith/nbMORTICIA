{
 "cells": [
  {
   "cell_type": "code",
   "execution_count": 7,
   "metadata": {},
   "outputs": [
    {
     "name": "stdout",
     "output_type": "stream",
     "text": [
      "['CMFS', 'LMS_CMFS', 'RGB_CMFS', 'STANDARD_OBSERVERS_CMFS', 'ILLUMINANTS', 'D_ILLUMINANTS_S_SPDS', 'HUNTERLAB_ILLUMINANTS', 'ILLUMINANTS_RELATIVE_SPDS', 'LIGHT_SOURCES', 'LIGHT_SOURCES_RELATIVE_SPDS', 'LEFS', 'PHOTOPIC_LEFS', 'SCOTOPIC_LEFS']\n"
     ]
    }
   ],
   "source": [
    "import colour\n",
    "import colour.colorimetry as colorimetry\n",
    "import colour.colorimetry.dataset as dataset\n",
    "\n",
    "print(dataset.__all__)"
   ]
  },
  {
   "cell_type": "code",
   "execution_count": 12,
   "metadata": {},
   "outputs": [
    {
     "ename": "TypeError",
     "evalue": "'module' object is not callable",
     "output_type": "error",
     "traceback": [
      "\u001b[1;31m---------------------------------------------------------------------------\u001b[0m",
      "\u001b[1;31mTypeError\u001b[0m                                 Traceback (most recent call last)",
      "\u001b[1;32m<ipython-input-12-52e007dbf7a3>\u001b[0m in \u001b[0;36m<module>\u001b[1;34m()\u001b[0m\n\u001b[1;32m----> 1\u001b[1;33m \u001b[0mdataset\u001b[0m\u001b[1;33m(\u001b[0m\u001b[1;34m'CIE 1931 2 Degree Standard Observer'\u001b[0m\u001b[1;33m)\u001b[0m\u001b[1;33m\u001b[0m\u001b[0m\n\u001b[0m",
      "\u001b[1;31mTypeError\u001b[0m: 'module' object is not callable"
     ]
    }
   ],
   "source": [
    "colorimetry.XYZ_ColourMatchingFunctions('')"
   ]
  },
  {
   "cell_type": "code",
   "execution_count": 14,
   "metadata": {},
   "outputs": [
    {
     "name": "stdout",
     "output_type": "stream",
     "text": [
      "SpectralPowerDistribution([[  3.40000000e+02,   4.80000000e-02],\n",
      "                           [  3.85000000e+02,   5.10000000e-02],\n",
      "                           [  3.90000000e+02,   5.50000000e-02],\n",
      "                           [  3.95000000e+02,   6.00000000e-02],\n",
      "                           [  4.00000000e+02,   6.50000000e-02],\n",
      "                           [  4.05000000e+02,   6.80000000e-02],\n",
      "                           [  4.10000000e+02,   6.80000000e-02],\n",
      "                           [  4.15000000e+02,   6.70000000e-02],\n",
      "                           [  4.20000000e+02,   6.40000000e-02],\n",
      "                           [  4.25000000e+02,   6.20000000e-02],\n",
      "                           [  4.30000000e+02,   5.90000000e-02],\n",
      "                           [  4.35000000e+02,   5.70000000e-02],\n",
      "                           [  4.40000000e+02,   5.50000000e-02],\n",
      "                           [  4.45000000e+02,   5.40000000e-02],\n",
      "                           [  4.50000000e+02,   5.30000000e-02],\n",
      "                           [  4.55000000e+02,   5.30000000e-02],\n",
      "                           [  4.60000000e+02,   5.20000000e-02],\n",
      "                           [  4.65000000e+02,   5.20000000e-02],\n",
      "                           [  4.70000000e+02,   5.20000000e-02],\n",
      "                           [  4.75000000e+02,   5.30000000e-02],\n",
      "                           [  4.80000000e+02,   5.40000000e-02],\n",
      "                           [  4.85000000e+02,   5.50000000e-02],\n",
      "                           [  4.90000000e+02,   5.70000000e-02],\n",
      "                           [  4.95000000e+02,   5.90000000e-02],\n",
      "                           [  5.00000000e+02,   6.10000000e-02],\n",
      "                           [  5.05000000e+02,   6.20000000e-02],\n",
      "                           [  5.10000000e+02,   6.50000000e-02],\n",
      "                           [  5.15000000e+02,   6.70000000e-02],\n",
      "                           [  5.20000000e+02,   7.00000000e-02],\n",
      "                           [  5.25000000e+02,   7.20000000e-02],\n",
      "                           [  5.30000000e+02,   7.40000000e-02],\n",
      "                           [  5.35000000e+02,   7.50000000e-02],\n",
      "                           [  5.40000000e+02,   7.60000000e-02],\n",
      "                           [  5.45000000e+02,   7.80000000e-02],\n",
      "                           [  5.50000000e+02,   7.90000000e-02],\n",
      "                           [  5.55000000e+02,   8.20000000e-02],\n",
      "                           [  5.60000000e+02,   8.70000000e-02],\n",
      "                           [  5.65000000e+02,   9.20000000e-02],\n",
      "                           [  5.70000000e+02,   1.00000000e-01],\n",
      "                           [  5.75000000e+02,   1.07000000e-01],\n",
      "                           [  5.80000000e+02,   1.15000000e-01],\n",
      "                           [  5.85000000e+02,   1.22000000e-01],\n",
      "                           [  5.90000000e+02,   1.29000000e-01],\n",
      "                           [  5.95000000e+02,   1.34000000e-01],\n",
      "                           [  6.00000000e+02,   1.38000000e-01],\n",
      "                           [  6.05000000e+02,   1.42000000e-01],\n",
      "                           [  6.10000000e+02,   1.46000000e-01],\n",
      "                           [  6.15000000e+02,   1.50000000e-01],\n",
      "                           [  6.20000000e+02,   1.54000000e-01],\n",
      "                           [  6.25000000e+02,   1.58000000e-01],\n",
      "                           [  6.30000000e+02,   1.63000000e-01],\n",
      "                           [  6.35000000e+02,   1.67000000e-01],\n",
      "                           [  6.40000000e+02,   1.73000000e-01],\n",
      "                           [  6.45000000e+02,   1.80000000e-01],\n",
      "                           [  6.50000000e+02,   1.88000000e-01],\n",
      "                           [  6.55000000e+02,   1.96000000e-01],\n",
      "                           [  6.60000000e+02,   2.04000000e-01],\n",
      "                           [  6.65000000e+02,   2.13000000e-01],\n",
      "                           [  6.70000000e+02,   2.22000000e-01],\n",
      "                           [  6.75000000e+02,   2.31000000e-01],\n",
      "                           [  6.80000000e+02,   2.42000000e-01],\n",
      "                           [  6.85000000e+02,   2.51000000e-01],\n",
      "                           [  6.90000000e+02,   2.61000000e-01],\n",
      "                           [  6.95000000e+02,   2.71000000e-01],\n",
      "                           [  7.00000000e+02,   2.82000000e-01],\n",
      "                           [  7.05000000e+02,   2.94000000e-01],\n",
      "                           [  7.10000000e+02,   3.05000000e-01],\n",
      "                           [  7.15000000e+02,   3.18000000e-01],\n",
      "                           [  7.20000000e+02,   3.34000000e-01],\n",
      "                           [  7.25000000e+02,   3.54000000e-01],\n",
      "                           [  7.30000000e+02,   3.72000000e-01],\n",
      "                           [  7.35000000e+02,   3.92000000e-01],\n",
      "                           [  7.40000000e+02,   4.09000000e-01],\n",
      "                           [  7.45000000e+02,   4.20000000e-01],\n",
      "                           [  7.50000000e+02,   4.36000000e-01],\n",
      "                           [  7.55000000e+02,   4.50000000e-01],\n",
      "                           [  7.60000000e+02,   4.62000000e-01],\n",
      "                           [  7.65000000e+02,   4.65000000e-01],\n",
      "                           [  7.70000000e+02,   4.48000000e-01],\n",
      "                           [  7.75000000e+02,   4.32000000e-01],\n",
      "                           [  8.00000000e+02,   4.21000000e-01]],\n",
      "                          interpolator=CubicSplineInterpolator,\n",
      "                          interpolator_args={},\n",
      "                          extrapolator=Extrapolator,\n",
      "                          extrapolator_args={u'right': None, u'method': u'Constant', u'left': None})\n"
     ]
    }
   ],
   "source": [
    "# Defining a sample spectral power distribution data.\n",
    "sample_spd_data = {\n",
    "    340: 0.048,\n",
    "    385: 0.051,\n",
    "    390: 0.055,\n",
    "    395: 0.060,\n",
    "    400: 0.065,\n",
    "    405: 0.068,\n",
    "    410: 0.068,\n",
    "    415: 0.067,\n",
    "    420: 0.064,\n",
    "    425: 0.062,\n",
    "    430: 0.059,\n",
    "    435: 0.057,\n",
    "    440: 0.055,\n",
    "    445: 0.054,\n",
    "    450: 0.053,\n",
    "    455: 0.053,\n",
    "    460: 0.052,\n",
    "    465: 0.052,\n",
    "    470: 0.052,\n",
    "    475: 0.053,\n",
    "    480: 0.054,\n",
    "    485: 0.055,\n",
    "    490: 0.057,\n",
    "    495: 0.059,\n",
    "    500: 0.061,\n",
    "    505: 0.062,\n",
    "    510: 0.065,\n",
    "    515: 0.067,\n",
    "    520: 0.070,\n",
    "    525: 0.072,\n",
    "    530: 0.074,\n",
    "    535: 0.075,\n",
    "    540: 0.076,\n",
    "    545: 0.078,\n",
    "    550: 0.079,\n",
    "    555: 0.082,\n",
    "    560: 0.087,\n",
    "    565: 0.092,\n",
    "    570: 0.100,\n",
    "    575: 0.107,\n",
    "    580: 0.115,\n",
    "    585: 0.122,\n",
    "    590: 0.129,\n",
    "    595: 0.134,\n",
    "    600: 0.138,\n",
    "    605: 0.142,\n",
    "    610: 0.146,\n",
    "    615: 0.150,\n",
    "    620: 0.154,\n",
    "    625: 0.158,\n",
    "    630: 0.163,\n",
    "    635: 0.167,\n",
    "    640: 0.173,\n",
    "    645: 0.180,\n",
    "    650: 0.188,\n",
    "    655: 0.196,\n",
    "    660: 0.204,\n",
    "    665: 0.213,\n",
    "    670: 0.222,\n",
    "    675: 0.231,\n",
    "    680: 0.242,\n",
    "    685: 0.251,\n",
    "    690: 0.261,\n",
    "    695: 0.271,\n",
    "    700: 0.282,\n",
    "    705: 0.294,\n",
    "    710: 0.305,\n",
    "    715: 0.318,\n",
    "    720: 0.334,\n",
    "    725: 0.354,\n",
    "    730: 0.372,\n",
    "    735: 0.392,\n",
    "    740: 0.409,\n",
    "    745: 0.420,\n",
    "    750: 0.436,\n",
    "    755: 0.450,\n",
    "    760: 0.462,\n",
    "    765: 0.465,\n",
    "    770: 0.448,\n",
    "    775: 0.432,\n",
    "    800: 0.421}\n",
    "\n",
    "spd = colour.SpectralPowerDistribution(sample_spd_data, name='Sample')\n",
    "print(repr(spd))"
   ]
  },
  {
   "cell_type": "code",
   "execution_count": 33,
   "metadata": {},
   "outputs": [
    {
     "name": "stdout",
     "output_type": "stream",
     "text": [
      "\"Constant Spectral Power Distribution\"\n",
      "(250.0, 350.0, 0.000999999999976)\n",
      "1.0\n",
      "\n",
      "\"Zeros Filled Spectral Power Distribution\"\n",
      "(360.0, 780.0, 1.0)\n",
      "0.0\n",
      "\n",
      "\"Ones Filled Spectral Power Distribution\"\n",
      "(360.0, 780.0, 1.0)\n",
      "1.0\n"
     ]
    },
    {
     "name": "stderr",
     "output_type": "stream",
     "text": [
      "C:\\Anaconda\\envs\\mordevpy27\\lib\\site-packages\\colour\\utilities\\verbose.py:141: ColourWarning: \"1.0 Constant\" spectral power distribution is not uniform, using minimum interval!\n",
      "  warn(*args, **kwargs)\n"
     ]
    }
   ],
   "source": [
    "# Defining a constant spectral power distribution.\n",
    "constant_spd = colour.constant_spd(1.0, shape=colorimetry.SpectralShape(250.0, 350.0, 0.001))\n",
    "print('\"Constant Spectral Power Distribution\"')\n",
    "print(constant_spd.shape)\n",
    "print(constant_spd[400])\n",
    "\n",
    "# Defining a zeros filled spectral power distribution.\n",
    "print('\\n\"Zeros Filled Spectral Power Distribution\"')\n",
    "zeros_spd = colour.zeros_spd()\n",
    "print(zeros_spd.shape)\n",
    "print(zeros_spd[400])\n",
    "\n",
    "# Defining a ones filled spectral power distribution.\n",
    "print('\\n\"Ones Filled Spectral Power Distribution\"')\n",
    "ones_spd = colour.ones_spd()\n",
    "print(ones_spd.shape)\n",
    "print(ones_spd[400])"
   ]
  },
  {
   "cell_type": "code",
   "execution_count": 15,
   "metadata": {
    "collapsed": true
   },
   "outputs": [],
   "source": [
    "cmfs = colour.STANDARD_OBSERVERS_CMFS['CIE 1931 2 Degree Standard Observer']"
   ]
  },
  {
   "cell_type": "code",
   "execution_count": 28,
   "metadata": {},
   "outputs": [
    {
     "data": {
      "text/plain": [
       "array([[  1.29900000e-04,   3.91700000e-06,   6.06100000e-04],\n",
       "       [  1.43100000e-02,   3.96000000e-04,   6.78500100e-02],\n",
       "       [  4.90000000e-03,   3.23000000e-01,   2.72000000e-01],\n",
       "       [  1.06220000e+00,   6.31000000e-01,   8.00000000e-04]])"
      ]
     },
     "execution_count": 28,
     "metadata": {},
     "output_type": "execute_result"
    }
   ],
   "source": [
    "cmfs[300.0, 400, 500, 600]"
   ]
  },
  {
   "cell_type": "code",
   "execution_count": null,
   "metadata": {
    "collapsed": true
   },
   "outputs": [],
   "source": []
  }
 ],
 "metadata": {
  "anaconda-cloud": {},
  "kernelspec": {
   "display_name": "Python [mordevpy27]",
   "language": "python",
   "name": "Python [mordevpy27]"
  },
  "language_info": {
   "codemirror_mode": {
    "name": "ipython",
    "version": 2
   },
   "file_extension": ".py",
   "mimetype": "text/x-python",
   "name": "python",
   "nbconvert_exporter": "python",
   "pygments_lexer": "ipython2",
   "version": "2.7.14"
  }
 },
 "nbformat": 4,
 "nbformat_minor": 2
}
