{
 "cells": [
  {
   "cell_type": "code",
   "execution_count": 1,
   "metadata": {
    "collapsed": false
   },
   "outputs": [],
   "source": [
    "# Perform the standard numpy and units imports\n",
    "import numpy as np\n",
    "import matplotlib.pyplot as plt\n",
    "import matplotlib.pyplot as plt\n",
    "%matplotlib inline\n",
    "# Set plot default figure size\n",
    "plt.rcParams['figure.figsize'] = (10.0, 8.0)\n",
    "from pint import UnitRegistry\n",
    "ureg = UnitRegistry()\n",
    "Q_ = ureg.Quantity\n",
    "import xarray as xr\n",
    "import morticia.sensor.electro as electro\n",
    "import morticia.sensor.optics as optics\n",
    "from morticia.tools.xd import *\n",
    "# This notebook is also used for development/testing of the electro module, so auto reload the electro module if it changes\n",
    "%load_ext autoreload\n",
    "%aimport morticia.sensor.electro\n",
    "%aimport morticia.sensor.optics\n",
    "%aimport morticia.tools.xd\n",
    "%autoreload 1"
   ]
  },
  {
   "cell_type": "code",
   "execution_count": 6,
   "metadata": {
    "collapsed": false
   },
   "outputs": [],
   "source": [
    "# Build the Lens\n",
    "# Set up the spectral transmission function for a optics.Lens object\n",
    "spec_trans = xr.DataArray([ 0.0, 0.4, 0.75, 0.93, 0.925, 0.91, 0.89, 0.4, 0.0],                      \n",
    "                   [('wvl', [550., 600, 650, 700, 750, 800, 850, 950, 1000], {'units': 'nm'})], \n",
    "                   name='trn',\n",
    "                   attrs={'units': '', 'extrap_val': 0.0})\n",
    "spec_wfe = xr.DataArray([0.02, 0.01], [('wvl', [550.0, 1000.0], {'units': 'nm'})], \n",
    "                          name='wfe', \n",
    "                          attrs={'units': '', 'extrap_val': 0.0})\n",
    "# Create a lens with above transmission and WFE\n",
    "# Must provide focal length (efl), focal ratio (fno), transmission (trn), wavefront error (wfe) and central\n",
    "# obscuration (obs)\n",
    "mylens = optics.Lens(efl=[500, 'mm'], fno=8.0, trn=spec_trans, wfe=spec_wfe, obs=0.5)"
   ]
  },
  {
   "cell_type": "code",
   "execution_count": 7,
   "metadata": {
    "collapsed": true
   },
   "outputs": [],
   "source": [
    "# Create a CCD Focal Plane Array model for the Kodak KAI11002 sensor\n",
    "# First read the spectral quantum efficiency data\n",
    "KodakKA11002_SQE = np.genfromtxt('./data/fpa/KodakKAI11002_SQE.csv', delimiter=',', skip_header=1)\n",
    "# Convert to a DataArray\n",
    "KodakKA11002_SQE = xr.DataArray(KodakKA11002_SQE[:,1], [('wvl', KodakKA11002_SQE[:,0], {'units': 'um'})], \n",
    "                                  name='sqe', attrs={'units':''})\n",
    "# Instantiate the FocalPlaneArray object\n",
    "KodakKA11002Mono = electro.FocalPlaneArray(pitch=[9.0, 9.0, 'um'], aperture=[9.0, 'um'], \n",
    "                                           pixels=[4008, 2672], wellcapacity=[60000.0, 'e'], \n",
    "                                           readnoise=[32.0, 'e'], darkcurrent=[3846.0, 'e/s'], \n",
    "                                           dsnu=[3.0, '%'], prnu=[2.0, '%'],\n",
    "                                           sqe=KodakKA11002_SQE, darkcurrent_delta_t=[7.0, 'delta_degC'], \n",
    "                                           t_ref=[40.0, 'degC'],\n",
    "                                           temperature=[25.0, 'degC'])"
   ]
  },
  {
   "cell_type": "code",
   "execution_count": 8,
   "metadata": {
    "collapsed": false
   },
   "outputs": [
    {
     "name": "stderr",
     "output_type": "stream",
     "text": [
      "D:\\Projects\\GitHub\\MORTICIA\\morticia\\sensor\\electro.py:309: UserWarning: Estimating Camera digital gain from bit depth and FPA well capacity\n",
      "  warnings.warn('Estimating Camera digital gain from bit depth and FPA well capacity')\n"
     ]
    }
   ],
   "source": [
    "# Create a Camera based on above CCD (Remember a Camera here does not include a lens i.e. Camera body only)\n",
    "Atik11000Mono = electro.Camera(fpa=KodakKA11002Mono, ad_bit_depth=[16, 'bit'])"
   ]
  },
  {
   "cell_type": "code",
   "execution_count": 9,
   "metadata": {
    "collapsed": false
   },
   "outputs": [],
   "source": [
    "# Create and Imager based on Lens and Camera defined above\n",
    "AtikMonoImager = electro.Imager(lens=mylens, camera=Atik11000Mono)"
   ]
  },
  {
   "cell_type": "code",
   "execution_count": 10,
   "metadata": {
    "collapsed": false
   },
   "outputs": [
    {
     "data": {
      "image/png": "[encoded data removed]",
      "text/plain": [
       "<matplotlib.figure.Figure at 0xe1cb080>"
      ]
     },
     "metadata": {},
     "output_type": "display_data"
    }
   ],
   "source": [
    "# Plot the through-frequency MTF at first wavelength, first focus position and first image orientation\n",
    "plt.plot(AtikMonoImager.mtf['spfa'], AtikMonoImager.mtf[:,0,0,0])\n",
    "plt.grid()"
   ]
  },
  {
   "cell_type": "code",
   "execution_count": 11,
   "metadata": {
    "collapsed": false
   },
   "outputs": [
    {
     "data": {
      "text/plain": [
       "<xarray.DataArray 'wvl' (wvl: 18)>\n",
       "array([  550.        ,   564.95468278,   580.74534161,   597.44408946,\n",
       "         615.13157895,   633.89830508,   653.84615385,   675.09025271,\n",
       "         697.76119403,   722.00772201,   748.        ,   775.93360996,\n",
       "         806.03448276,   838.56502242,   873.8317757 ,   912.19512195,\n",
       "         954.08163265,  1000.        ])\n",
       "Coordinates:\n",
       "  * wvl      (wvl) float64 550.0 565.0 580.7 597.4 615.1 633.9 653.8 675.1 ...\n",
       "Attributes:\n",
       "    long_name: Wavelength\n",
       "    units: nm"
      ]
     },
     "execution_count": 11,
     "metadata": {},
     "output_type": "execute_result"
    }
   ],
   "source": [
    "AtikMonoImager.mtf['wvl']"
   ]
  },
  {
   "cell_type": "code",
   "execution_count": 12,
   "metadata": {
    "collapsed": false
   },
   "outputs": [],
   "source": [
    "# How about the color Atik camera combined with the same lens\n",
    "# Build an SQE DataArray for the colour version of the KAI11002\n",
    "# Read SQE data for the red, green and blue channels of the sensor\n",
    "Red = np.genfromtxt('./data/fpa/KodakKAI11002_SQE_Red.csv', delimiter=',')\n",
    "xdRed = xr.DataArray(Red[:,1], [('wvl', Red[:,0], {'units': 'nm'})], name='sqe', attrs={'units': ''})\n",
    "Grn = np.genfromtxt('./data/fpa/KodakKAI11002_SQE_Green.csv', delimiter=',')\n",
    "xdGrn = xr.DataArray(Grn[:,1], [('wvl', Grn[:,0], {'units': 'nm'})], name='sqe', attrs={'units': ''})\n",
    "Blu = np.genfromtxt('./data/fpa/KodakKAI11002_SQE_Blue.csv', delimiter=',')\n",
    "xdBlu = xr.DataArray(Blu[:,1], [('wvl', Blu[:,0], {'units': 'nm'})], name='sqe', attrs={'units': ''})\n",
    "# Compile the three colour SQE response curves into a channels xr.DataArray\n",
    "xdRed, xdGrn, xdBlu = xd_harmonise_interp((xdRed, xdGrn, xdBlu))  # First harmonise the wavelength axes\n",
    "KodakKA11002ColorSQE = xr.DataArray([xdBlu, xdGrn, xdRed],[('chn', [0, 1, 2], {'labels': ['Blue', 'Green', 'Red']}), \n",
    "                                        ('wvl', xdRed['wvl'], {'units': 'nm'})],\n",
    "                                        name='sqe', attrs={'units': ''})\n",
    "# Can save this for later either by pickling or (for greater file longevity) writing to netCDF file\n"
   ]
  },
  {
   "cell_type": "code",
   "execution_count": 13,
   "metadata": {
    "collapsed": true
   },
   "outputs": [],
   "source": [
    "# Now create a camera based on the KodakKAI11002 color chip\n",
    "# Use the Atik 11000 Colour camera as an example - it has 16-bit digitisation\n",
    "KodakKA11002Color = electro.FocalPlaneArray(pitch=[9.0, 9.0, 'um'], aperture=[9.0, 'um'], \n",
    "                              pixels=[4008, 2672], wellcapacity=[60000.0, 'e'], \n",
    "                              readnoise=[32.0, 'e'], darkcurrent=[3846.0, 'e/s'], dsnu=[3.0, '%'], prnu=[2.0, '%'],\n",
    "                              sqe=KodakKA11002ColorSQE, darkcurrent_delta_t=[7.0, 'delta_degC'], t_ref=[40.0, 'degC'],\n",
    "                              temperature=[-30.0, 'degC'])  # Set operating temperature to -30 deg C\n",
    "Atik11000Color = electro.Camera(fpa=KodakKA11002Color, ad_bit_depth=[16, 'bit'])\n"
   ]
  },
  {
   "cell_type": "code",
   "execution_count": 14,
   "metadata": {
    "collapsed": true
   },
   "outputs": [],
   "source": [
    "AtikColorImager = electro.Imager(lens=mylens, camera=Atik11000Color)"
   ]
  },
  {
   "cell_type": "code",
   "execution_count": 15,
   "metadata": {
    "collapsed": false
   },
   "outputs": [
    {
     "data": {
      "text/plain": [
       "<xarray.DataArray 'chn' (chn: 3)>\n",
       "array([0, 1, 2])\n",
       "Coordinates:\n",
       "  * chn      (chn) int32 0 1 2\n",
       "Attributes:\n",
       "    labels: ['Blue', 'Green', 'Red']"
      ]
     },
     "execution_count": 15,
     "metadata": {},
     "output_type": "execute_result"
    }
   ],
   "source": [
    "AtikColorImager.camera.fpa.sqe['chn']"
   ]
  },
  {
   "cell_type": "code",
   "execution_count": null,
   "metadata": {
    "collapsed": true
   },
   "outputs": [],
   "source": []
  }
 ],
 "metadata": {
  "anaconda-cloud": {},
  "kernelspec": {
   "display_name": "Python [mordevpy27]",
   "language": "python",
   "name": "Python [mordevpy27]"
  },
  "language_info": {
   "codemirror_mode": {
    "name": "ipython",
    "version": 2
   },
   "file_extension": ".py",
   "mimetype": "text/x-python",
   "name": "python",
   "nbconvert_exporter": "python",
   "pygments_lexer": "ipython2",
   "version": "2.7.12"
  }
 },
 "nbformat": 4,
 "nbformat_minor": 0
}
