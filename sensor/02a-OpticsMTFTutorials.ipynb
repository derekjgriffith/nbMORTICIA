{
 "cells": [
  {
   "cell_type": "markdown",
   "metadata": {},
   "source": [
    "# Optics Tutorials"
   ]
  },
  {
   "cell_type": "markdown",
   "metadata": {},
   "source": [
    "The following tutorials show the usage of various lens-related functions in the optics.py module, which implements a range of functions related to optical systems and the human eye. Many of these functions are used in MORTICIA."
   ]
  },
  {
   "cell_type": "code",
   "execution_count": 1,
   "metadata": {
    "collapsed": false
   },
   "outputs": [],
   "source": [
    "# Perform the standard numpy and units imports\n",
    "import numpy as np\n",
    "import matplotlib.pyplot as plt\n",
    "from pint import UnitRegistry\n",
    "ureg = UnitRegistry()\n",
    "Q_ = ureg.Quantity\n",
    "import matplotlib.pyplot as plt\n",
    "%matplotlib inline\n",
    "\n",
    "import sys\n",
    "#sys.path.append('../sensor')  # Remove this call if the optics module is already installed elsewhere \n",
    "import optics\n",
    "# This notebook is used for development/testing of the Optics module, so auto reload the Optics module if it changes\n",
    "%load_ext autoreload\n",
    "%aimport optics\n",
    "%autoreload 1\n",
    "\n",
    "# If you are pacticipating in development of this notebook, please start the notebook with the --script option"
   ]
  },
  {
   "cell_type": "code",
   "execution_count": null,
   "metadata": {
    "collapsed": false
   },
   "outputs": [],
   "source": [
    "SpatialFrequencies = Q_(np.arange(0.0, 2200.0, 50.0), '1/millimeter') # cycles per millimeter\n",
    "Wavelengths = Q_([0.001, 0.0005], 'millimeter') # Wavelengths expressed in mm as well to get valid MTF calculation\n",
    "FocalRatios = Q_(1.0, '')\n",
    "MTF = optics.mtf(spf=SpatialFrequencies, wvl=Wavelengths, fno=FocalRatios)"
   ]
  },
  {
   "cell_type": "code",
   "execution_count": null,
   "metadata": {
    "collapsed": false
   },
   "outputs": [],
   "source": [
    "plt.figure(figsize=(10,8))\n",
    "plt.rc('text', usetex=True)  # Use TeX to render the labels in the plot\n",
    "plt.rc('font', family='serif', size=15)  # Default to a serif font \n",
    "plt.plot(SpatialFrequencies, MTF)\n",
    "plt.xlabel('Spatial Frequency $[{:~L}]$'.format(SpatialFrequencies.units))\n",
    "plt.ylabel('MTF')\n",
    "plt.title('Modulation Transfer Function')\n",
    "plt.legend(['$\\lambda$=' + str(wvl) for wvl in Wavelengths])\n",
    "plt.grid()"
   ]
  },
  {
   "cell_type": "code",
   "execution_count": null,
   "metadata": {
    "collapsed": false
   },
   "outputs": [],
   "source": [
    "SpatialFrequencies = Q_(np.arange(0.0, 1010.0, 10.0), '1/millimeter') # cycles per millimeter\n",
    "Wavelengths = Q_(0.001, 'millimeter') # Wavelengths expressed in mm as well to get valid MTF calculation\n",
    "FocalRatios = [1.0, 2.0]\n",
    "Obscuration = 0.4  # Aperture is circular with a centred circular obscuration of 40% of the diameter\n",
    "MTF = optics.mtf(spf=SpatialFrequencies, wvl=Wavelengths, fno=FocalRatios)\n",
    "MTF = optics.mtf_obs(spf=SpatialFrequencies, wvl=Wavelengths, fno=FocalRatios, obs=Obscuration)"
   ]
  },
  {
   "cell_type": "code",
   "execution_count": null,
   "metadata": {
    "collapsed": false
   },
   "outputs": [],
   "source": [
    "plt.figure(figsize=(10,8))\n",
    "plt.rc('text', usetex=True)  # Use TeX to render the labels in the plot\n",
    "plt.rc('font', family='serif', size=15)  # Default to a serif font\n",
    "plt.plot(SpatialFrequencies, MTF)\n",
    "plt.xlabel('Spatial Frequency $[{:~L}]$'.format(SpatialFrequencies.units))\n",
    "plt.ylabel('MTF')\n",
    "plt.title('Modulation Transfer Function, Obscuration Ratio ' + str(Obscuration*100) + ' \\%')\n",
    "plt.legend(['F/' + str(fno) for fno in FocalRatios])\n",
    "plt.grid()"
   ]
  },
  {
   "cell_type": "code",
   "execution_count": null,
   "metadata": {
    "collapsed": false
   },
   "outputs": [],
   "source": [
    "# Illustrate the effect of wavefront distortion on the MTF\n",
    "SpatialFrequencies = Q_(np.arange(0.0, 1010.0, 10.0), '1/millimeter') # cycles per millimeter\n",
    "Wavelengths = Q_(0.001, 'millimeter') # Wavelengths expressed in mm as well to get valid MTF calculation\n",
    "FocalRatios = [1.0, 2.0]\n",
    "RMSWavefrontError = 0.18\n",
    "# Calculate the Aberration Transfer Function (ATF)\n",
    "theATF = optics.atf(SpatialFrequencies, Wavelengths, FocalRatios, RMSWavefrontError)"
   ]
  },
  {
   "cell_type": "code",
   "execution_count": null,
   "metadata": {
    "collapsed": false
   },
   "outputs": [],
   "source": [
    "plt.figure(figsize=(10,8))\n",
    "plt.rc('text', usetex=True)  # Use TeX to render the labels in the plot\n",
    "plt.rc('font', family='serif', size=15)  # Default to a serif font\n",
    "plt.plot(SpatialFrequencies, theATF)\n",
    "plt.xlabel('Spatial Frequency $[{:~L}]$'.format(SpatialFrequencies.units))\n",
    "plt.ylabel('ATF')\n",
    "plt.title('Aberration Transfer Function')\n",
    "plt.legend(['F/' + str(fno) for fno in FocalRatios])\n",
    "plt.grid()"
   ]
  },
  {
   "cell_type": "code",
   "execution_count": null,
   "metadata": {
    "collapsed": false
   },
   "outputs": [],
   "source": [
    "# Now include aberration transfer function in an MTF calculation\n",
    "SpatialFrequencies = Q_(np.arange(0.0, 400.0, 1.0), '1/millimeter') # cycles per millimeter\n",
    "Wavelengths = Q_([0.001, 0.0012, 0.0013], 'millimeter') # Wavelengths expressed in mm as well to get valid MTF calculation\n",
    "WavelengthWeights = np.array([0.4, 0.8, 1.5])\n",
    "FocalRatios = [2.8, 4.0]\n",
    "RMSWavefrontError = [0.05, 0.09, 0.12]\n",
    "ObscurationRatio = 0.0\n",
    "PolyMTFwithObscurationAndWFE = optics.pmtf_obs_wfe(SpatialFrequencies, Wavelengths, \n",
    "                                                   FocalRatios, RMSWavefrontError,\n",
    "                                                   WavelengthWeights, ObscurationRatio)\n",
    "\n"
   ]
  },
  {
   "cell_type": "code",
   "execution_count": null,
   "metadata": {
    "collapsed": false
   },
   "outputs": [],
   "source": [
    "plt.figure(figsize=(10,8))\n",
    "plt.rc('text', usetex=True)  # Use TeX to render the labels in the plot\n",
    "plt.rc('font', family='serif', size=15)  # Default to a serif font\n",
    "plt.plot(SpatialFrequencies, PolyMTFwithObscurationAndWFE)\n",
    "plt.xlabel('Spatial Frequency $[{:~L}]$'.format(SpatialFrequencies.units))\n",
    "plt.ylabel('Polychromatic MTF with Abberration Effect')\n",
    "plt.title('Polychromatic Modulation Transfer Function')\n",
    "plt.legend(['F/' + str(fno) for fno in FocalRatios])\n",
    "plt.grid()"
   ]
  },
  {
   "cell_type": "code",
   "execution_count": null,
   "metadata": {
    "collapsed": false
   },
   "outputs": [],
   "source": [
    "# Illustrate calculation of polychromatic MTF\n",
    "Wavelengths = Q_(np.array([350.0, 450.0, 550.0, 650.0])/1e6, 'millimeter')  # mm\n",
    "WavelengthWeights = np.array([0.3, 0.5, 0.8, 0.2])  # Must be same number of weights as wavelengths\n",
    "SpatialFrequencies = Q_(np.arange(0,2500,5), '1/millimeter')  # cycles/mm\n",
    "FocalRatios = np.array([1.4,2.0,2.8])\n",
    "PolyMTF = optics.pmtf(SpatialFrequencies, Wavelengths, FocalRatios, WavelengthWeights)\n"
   ]
  },
  {
   "cell_type": "code",
   "execution_count": null,
   "metadata": {
    "collapsed": false
   },
   "outputs": [],
   "source": [
    "plt.figure(figsize=(10,8))\n",
    "plt.rc('text', usetex=True)  # Use TeX to render the labels in the plot\n",
    "plt.rc('font', family='serif', size=15)  # Default to a serif font\n",
    "plt.plot(SpatialFrequencies, PolyMTF)\n",
    "plt.xlabel('Spatial Frequency $[{:~L}]$'.format(SpatialFrequencies.units))\n",
    "plt.ylabel('Polychromatic MTF')\n",
    "plt.title('Polychromatic Modulation Transfer Function')\n",
    "plt.legend(['F/' + str(fno) for fno in FocalRatios])\n",
    "plt.grid()"
   ]
  },
  {
   "cell_type": "code",
   "execution_count": 12,
   "metadata": {
    "collapsed": false
   },
   "outputs": [
    {
     "ename": "ValueError",
     "evalue": "Attempted relative import in non-package",
     "output_type": "error",
     "traceback": [
      "\u001b[1;31m---------------------------------------------------------------------------\u001b[0m",
      "\u001b[1;31mValueError\u001b[0m                                Traceback (most recent call last)",
      "\u001b[1;32m<ipython-input-12-9e342ecbbd7b>\u001b[0m in \u001b[0;36m<module>\u001b[1;34m()\u001b[0m\n\u001b[1;32m----> 1\u001b[1;33m \u001b[1;32mfrom\u001b[0m \u001b[1;33m.\u001b[0m\u001b[1;33m.\u001b[0m\u001b[0mmorticia\u001b[0m\u001b[1;33m.\u001b[0m\u001b[0mmoglo\u001b[0m \u001b[1;32mimport\u001b[0m \u001b[1;33m*\u001b[0m\u001b[1;33m\u001b[0m\u001b[0m\n\u001b[0m",
      "\u001b[1;31mValueError\u001b[0m: Attempted relative import in non-package"
     ]
    }
   ],
   "source": [
    "from ..morticia.moglo import *"
   ]
  },
  {
   "cell_type": "code",
   "execution_count": 10,
   "metadata": {
    "collapsed": false
   },
   "outputs": [],
   "source": [
    "import os\n"
   ]
  },
  {
   "cell_type": "code",
   "execution_count": 11,
   "metadata": {
    "collapsed": false
   },
   "outputs": [
    {
     "data": {
      "text/plain": [
       "'D:\\\\Projects\\\\Github\\\\MORTICIA\\\\morticia\\\\sensor'"
      ]
     },
     "execution_count": 11,
     "metadata": {},
     "output_type": "execute_result"
    }
   ],
   "source": [
    "os.path.abspath(os.curdir)"
   ]
  },
  {
   "cell_type": "code",
   "execution_count": null,
   "metadata": {
    "collapsed": true
   },
   "outputs": [],
   "source": []
  }
 ],
 "metadata": {
  "kernelspec": {
   "display_name": "Python 2",
   "language": "python",
   "name": "python2"
  },
  "language_info": {
   "codemirror_mode": {
    "name": "ipython",
    "version": 2
   },
   "file_extension": ".py",
   "mimetype": "text/x-python",
   "name": "python",
   "nbconvert_exporter": "python",
   "pygments_lexer": "ipython2",
   "version": "2.7.11"
  }
 },
 "nbformat": 4,
 "nbformat_minor": 0
}
