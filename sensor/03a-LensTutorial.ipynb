{
 "cells": [
  {
   "cell_type": "markdown",
   "metadata": {},
   "source": [
    "## Lens Tutorial"
   ]
  },
  {
   "cell_type": "markdown",
   "metadata": {},
   "source": [
    "This tutorial illustrates the construction of optics.Lens objects in the MORTICIA sensor package."
   ]
  },
  {
   "cell_type": "code",
   "execution_count": 1,
   "metadata": {
    "collapsed": true
   },
   "outputs": [],
   "source": [
    "import numpy as np\n",
    "import pandas as pd\n",
    "import xray\n",
    "xD = xray.DataArray  # Abbreviation for creating xray.DataArray objects\n",
    "import matplotlib.pyplot as plt\n",
    "import scipy.interpolate\n",
    "from pint import UnitRegistry\n",
    "ureg = UnitRegistry()\n",
    "Q_ = ureg.Quantity\n",
    "def U_(units):\n",
    "    # Utility function for pint Quantity of 1.0 with given units\n",
    "    return Q_(1.0, units)\n",
    "%matplotlib inline\n",
    "\n",
    "import optics\n",
    "%load_ext autoreload\n",
    "%aimport optics\n",
    "%autoreload 1"
   ]
  },
  {
   "cell_type": "code",
   "execution_count": 2,
   "metadata": {
    "collapsed": false
   },
   "outputs": [
    {
     "data": {
      "text/plain": [
       "<xray.DataArray 'Transmission' (Wavelength: 3)>\n",
       "array([ 0.8,  0.9,  0.8])\n",
       "Coordinates:\n",
       "  * Wavelength  (Wavelength) float64 500.0 600.0 900.0\n",
       "Attributes:\n",
       "    units_Wavelength: 1.0 nanometer\n",
       "    units_Transmission: 1.0 dimensionless"
      ]
     },
     "execution_count": 2,
     "metadata": {},
     "output_type": "execute_result"
    }
   ],
   "source": [
    "# Create the lens transmission function - the fraction of light transmitted to the focal plane as a function\n",
    "# of wavelength\n",
    "# Transmission functions are assumed to be zero outside the defined range of the xray DataArray\n",
    "spec_trans = xD([0.8, 0.9, 0.8], [('Wavelength', [500.0, 600.0, 900.0])], name='Transmission', \n",
    "                attrs={'units_Transmission': U_(''), 'units_Wavelength': U_('nm')})\n",
    "spec_trans"
   ]
  },
  {
   "cell_type": "code",
   "execution_count": 3,
   "metadata": {
    "collapsed": false
   },
   "outputs": [
    {
     "data": {
      "image/png": "[encoded data removed]",
      "text/plain": [
       "<matplotlib.figure.Figure at 0x4202588>"
      ]
     },
     "metadata": {},
     "output_type": "display_data"
    }
   ],
   "source": [
    "spec_trans.plot()\n",
    "plt.ylim([0,1])\n",
    "plt.grid()"
   ]
  },
  {
   "cell_type": "code",
   "execution_count": 4,
   "metadata": {
    "collapsed": true
   },
   "outputs": [],
   "source": [
    "# Build a lens with this spectral transmission function, EFL of 30 mm and focal ratio of 2\n",
    "myLens = optics.Lens(efl=[30, 'mm'], fno=2.0, trn=spec_trans)"
   ]
  },
  {
   "cell_type": "code",
   "execution_count": null,
   "metadata": {
    "collapsed": true
   },
   "outputs": [],
   "source": []
  }
 ],
 "metadata": {
  "kernelspec": {
   "display_name": "Python 2",
   "language": "python",
   "name": "python2"
  },
  "language_info": {
   "codemirror_mode": {
    "name": "ipython",
    "version": 2
   },
   "file_extension": ".py",
   "mimetype": "text/x-python",
   "name": "python",
   "nbconvert_exporter": "python",
   "pygments_lexer": "ipython2",
   "version": "2.7.11"
  }
 },
 "nbformat": 4,
 "nbformat_minor": 0
}
