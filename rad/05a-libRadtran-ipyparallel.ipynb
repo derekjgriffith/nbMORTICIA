{
 "cells": [
  {
   "cell_type": "markdown",
   "metadata": {},
   "source": [
    "# Using libRadtran in Parallel on a Cluster"
   ]
  },
  {
   "cell_type": "markdown",
   "metadata": {},
   "source": [
    "This notebook shows how to run a batch of [`libRadtran/uvspec`](http://www.libradtran.org) cases in parallel on a cluster computer using [`ipyparallel`](https://ipyparallel.readthedocs.org/en/latest/). \n",
    "The `pyparallel` package provides a flexible, yet reasonably simple way of harnessing mutiple compute cores from the `IPython/Jupyter` notebook environment or in other Python launch modes.\n",
    "\n",
    "The general `ipyparallel` compute model is that a Hub Controller process is started on a machine that has (preferably secure) network access to both the compute nodes and the user client node. Mutiple worker processes referred to as Engines are then started (on one or more machines) that register with the Hub Controller. The user client process then also contacts the Hub Controller in order to distribute work to the engines.\n",
    "\n",
    "The main setup required is that of pointing both the client process and the engine processes to the hub controller as well as dealing with any security issues with network access between the machines on which the processes are running. The most simple situation that requires almost no setup is that of running all (hub/controller, client and all worker engines) processes on the same machine. Otherwise it will be necessary to copy JSON configuration files created by the hub/controller to the machines hosting the clients and engines. Detailed information is provided in the [`ipyparallel`](https://ipyparallel.readthedocs.org/en/latest/) documentation.\n",
    "\n",
    "Note that whenever the hub/controller is started (using the `ipcontroller` or `ipcluster` command) it generates *new* JSON configuration files that must be made available to the clients and engines.\n",
    "\n",
    "The setup that follows shows a situation involving two machines, a Windows machine that runs the client IPython/Jupyter user interface and a networked Linux host with mutiple compute cores running a single hub controller process and multiple engines up to the number of compute cores available (64 in this case).\n",
    "\n",
    "Secure sockets (SSH) access from the Windows environment to the host cluster is provided by the [`paramiko`](https://github.com/paramiko/paramiko) Python package. Be warned that installation of `paramiko` on Windows can present some challenges."
   ]
  },
  {
   "cell_type": "code",
   "execution_count": 1,
   "metadata": {
    "collapsed": false
   },
   "outputs": [],
   "source": [
    "import morticia.rad.librad as librad\n",
    "# Use auto reload of librad for development purposes\n",
    "%load_ext autoreload\n",
    "%autoreload 1\n",
    "%aimport morticia.rad.librad\n",
    "import numpy as np\n",
    "import matplotlib as mpl\n",
    "import matplotlib.pyplot as plt\n",
    "from ipyparallel import Client  # This is the client class for contacting the hub/controller\n",
    "# use latex for font rendering\n",
    "mpl.rcParams['text.usetex'] = True  # Use TeX to format labels (takes a bit longer)\n",
    "%matplotlib inline"
   ]
  },
  {
   "cell_type": "code",
   "execution_count": null,
   "metadata": {
    "collapsed": true
   },
   "outputs": [],
   "source": [
    "# Load a libRadtran example case\n",
    "# Be default, any include files are expanded, creating a single set of option keywords\n",
    "libRadCase=librad.Case(filename='./examples/UVSPEC_AEROSOL.INP')"
   ]
  },
  {
   "cell_type": "code",
   "execution_count": null,
   "metadata": {
    "collapsed": true
   },
   "outputs": [],
   "source": [
    "libRadCase.readout()"
   ]
  },
  {
   "cell_type": "code",
   "execution_count": null,
   "metadata": {
    "collapsed": true
   },
   "outputs": [],
   "source": [
    "# Create 10 copies of the case\n",
    "import copy\n",
    "libRadBatch = [copy.deepcopy(libRadCase) for icopy in range(10)]\n",
    "# Rename each element in the batch, just by appending a digit\n",
    "# This is to prevent the engines from fighting over input and output files\n",
    "# Also change the solar zenith angle on each run, so that they are different\n",
    "solar_zenith_angle = np.linspace(0.0, 80.0, 10)\n",
    "for icase, libRadCase in enumerate(libRadBatch):\n",
    "    libRadCase.name = libRadCase.name + '_' + str(icase)\n",
    "    libRadCase.alter_option(['sza', str(solar_zenith_angle[icase])])\n",
    "    "
   ]
  },
  {
   "cell_type": "code",
   "execution_count": null,
   "metadata": {
    "collapsed": true
   },
   "outputs": [],
   "source": [
    "# Create the ipyparallel client and contact the hub/controller using the profile called icebow and SSH\n",
    "# to the machine at the IP address 146.64.246.95\n",
    "# This will cause ipyparall to look in ~/.ipython/profile_icebow/security for a file named ipcontroller_client.json.\n",
    "# This file is generated by the hub/controller process when started using the ipcluster or ipcontroller command and\n",
    "# it may need to be copied from the host running the hub/controller to the machine running the client.\n",
    "#\n",
    "paraclient = Client(profile='icebow', sshserver='dgriffith@146.64.246.95', password='dgIceBow')"
   ]
  },
  {
   "cell_type": "code",
   "execution_count": null,
   "metadata": {
    "collapsed": false
   },
   "outputs": [],
   "source": [
    "# We will use dill instead of the standard pickle so that we can send instance methods to engines\n",
    "paraclient[:].use_dill()"
   ]
  },
  {
   "cell_type": "code",
   "execution_count": null,
   "metadata": {
    "collapsed": true
   },
   "outputs": [],
   "source": [
    "# Obtain a \"load-balanced\" view of the engine cluster\n",
    "paraview = paraclient.load_balanced_view()\n",
    "# Set the view to blocking mode, which means that we wait for all engines to complete the task before\n",
    "# control is returned to the client\n",
    "paraview.block = True\n"
   ]
  },
  {
   "cell_type": "code",
   "execution_count": null,
   "metadata": {
    "collapsed": false
   },
   "outputs": [],
   "source": [
    "# Can attampt to run the case on the local machine, but libRadtran may not be installed, in which case a warning\n",
    "# is issued and the case does not run\n",
    "libRadCase.run()"
   ]
  },
  {
   "cell_type": "code",
   "execution_count": null,
   "metadata": {
    "collapsed": false
   },
   "outputs": [],
   "source": [
    "# Now try to run the batch on the cluster\n",
    "libRadBatch = paraview.map(librad.Case.run, libRadBatch)"
   ]
  },
  {
   "cell_type": "code",
   "execution_count": null,
   "metadata": {
    "collapsed": false
   },
   "outputs": [],
   "source": [
    "edir = np.vstack([libRadBatch[i].edir for i in range(len(libRadBatch))]) \n",
    "\n",
    "edir.shape"
   ]
  },
  {
   "cell_type": "code",
   "execution_count": null,
   "metadata": {
    "collapsed": false
   },
   "outputs": [],
   "source": [
    "# Plot direct irradiance for all 10 cases\n",
    "plt.plot(libRadBatch[0].wvl, edir.T)\n",
    "plt.grid()\n"
   ]
  },
  {
   "cell_type": "code",
   "execution_count": null,
   "metadata": {
    "collapsed": true
   },
   "outputs": [],
   "source": [
    "a = [[1,2,3],[4,5,6],[7,8,9]]"
   ]
  },
  {
   "cell_type": "code",
   "execution_count": null,
   "metadata": {
    "collapsed": false
   },
   "outputs": [],
   "source": [
    "a"
   ]
  },
  {
   "cell_type": "code",
   "execution_count": null,
   "metadata": {
    "collapsed": false
   },
   "outputs": [],
   "source": [
    "flattened  = [val for sublist in a for val in sublist]"
   ]
  },
  {
   "cell_type": "code",
   "execution_count": null,
   "metadata": {
    "collapsed": false
   },
   "outputs": [],
   "source": [
    " = map(lambda x:x**2, flattened)"
   ]
  },
  {
   "cell_type": "code",
   "execution_count": null,
   "metadata": {
    "collapsed": true
   },
   "outputs": [],
   "source": [
    "class tit:\n",
    "    def __init__(self, val):\n",
    "        self.a = val\n",
    "        \n",
    "    def sqr(self):\n",
    "        self.a *= self.a\n",
    "        return self"
   ]
  },
  {
   "cell_type": "code",
   "execution_count": null,
   "metadata": {
    "collapsed": true
   },
   "outputs": [],
   "source": [
    "x = tit(10)\n"
   ]
  },
  {
   "cell_type": "code",
   "execution_count": null,
   "metadata": {
    "collapsed": false
   },
   "outputs": [],
   "source": [
    "x.a"
   ]
  },
  {
   "cell_type": "code",
   "execution_count": null,
   "metadata": {
    "collapsed": true
   },
   "outputs": [],
   "source": [
    "import copy\n",
    "myl = [[copy.deepcopy(x) for i in range(8)] for j in range(10)]"
   ]
  },
  {
   "cell_type": "code",
   "execution_count": null,
   "metadata": {
    "collapsed": false
   },
   "outputs": [],
   "source": [
    "myl[0][0].a = 4\n",
    "myl[0][1].a = 9"
   ]
  },
  {
   "cell_type": "code",
   "execution_count": null,
   "metadata": {
    "collapsed": false
   },
   "outputs": [],
   "source": [
    "myl[1][1].a"
   ]
  },
  {
   "cell_type": "code",
   "execution_count": null,
   "metadata": {
    "collapsed": true
   },
   "outputs": [],
   "source": [
    "from itertools import chain\n",
    "mylf = list(chain(*myl))"
   ]
  },
  {
   "cell_type": "code",
   "execution_count": null,
   "metadata": {
    "collapsed": false
   },
   "outputs": [],
   "source": [
    "mylf[0].a"
   ]
  },
  {
   "cell_type": "code",
   "execution_count": null,
   "metadata": {
    "collapsed": false
   },
   "outputs": [],
   "source": [
    "mylf = map(tit.sqr, mylf)"
   ]
  },
  {
   "cell_type": "code",
   "execution_count": null,
   "metadata": {
    "collapsed": false
   },
   "outputs": [],
   "source": [
    "len(mylf)"
   ]
  },
  {
   "cell_type": "code",
   "execution_count": null,
   "metadata": {
    "collapsed": false
   },
   "outputs": [],
   "source": [
    "49**2"
   ]
  },
  {
   "cell_type": "code",
   "execution_count": null,
   "metadata": {
    "collapsed": false
   },
   "outputs": [],
   "source": [
    "a = tit(3.141)"
   ]
  },
  {
   "cell_type": "code",
   "execution_count": null,
   "metadata": {
    "collapsed": true
   },
   "outputs": [],
   "source": [
    "l = [a, a, 3, 4]"
   ]
  },
  {
   "cell_type": "code",
   "execution_count": null,
   "metadata": {
    "collapsed": true
   },
   "outputs": [],
   "source": [
    "b = l[0]"
   ]
  },
  {
   "cell_type": "code",
   "execution_count": null,
   "metadata": {
    "collapsed": false
   },
   "outputs": [],
   "source": [
    "b"
   ]
  },
  {
   "cell_type": "code",
   "execution_count": null,
   "metadata": {
    "collapsed": false
   },
   "outputs": [],
   "source": [
    "b.a = 10"
   ]
  },
  {
   "cell_type": "code",
   "execution_count": null,
   "metadata": {
    "collapsed": false
   },
   "outputs": [],
   "source": [
    "a.a"
   ]
  },
  {
   "cell_type": "code",
   "execution_count": null,
   "metadata": {
    "collapsed": false
   },
   "outputs": [],
   "source": [
    "mylback = [[mylf[j*8 + i] for i in range(8)] for j in range(10)]"
   ]
  },
  {
   "cell_type": "code",
   "execution_count": null,
   "metadata": {
    "collapsed": false
   },
   "outputs": [],
   "source": [
    "len(mylback)"
   ]
  },
  {
   "cell_type": "code",
   "execution_count": null,
   "metadata": {
    "collapsed": false
   },
   "outputs": [],
   "source": [
    "myl[4][5].a"
   ]
  },
  {
   "cell_type": "code",
   "execution_count": null,
   "metadata": {
    "collapsed": true
   },
   "outputs": [],
   "source": [
    "mylback[4][5].a = 45.5555"
   ]
  },
  {
   "cell_type": "code",
   "execution_count": null,
   "metadata": {
    "collapsed": false
   },
   "outputs": [],
   "source": [
    "import numpy as np\n",
    "a = np.array([])"
   ]
  },
  {
   "cell_type": "code",
   "execution_count": null,
   "metadata": {
    "collapsed": false
   },
   "outputs": [],
   "source": [
    "a"
   ]
  },
  {
   "cell_type": "code",
   "execution_count": 16,
   "metadata": {
    "collapsed": false
   },
   "outputs": [],
   "source": [
    "mc = librad.Case(filename='./examples/UVSPEC_MC_BPDF.INP')"
   ]
  },
  {
   "cell_type": "code",
   "execution_count": 17,
   "metadata": {
    "collapsed": false
   },
   "outputs": [
    {
     "data": {
      "text/plain": [
       "atmosphere_file ../examples/UVSPEC_MC_ATM.DAT\n",
       "source solar ../data/solar_flux/atlas_plus_modtran\n",
       "mol_modify O3 300. DU\n",
       "day_of_year 170\n",
       "sza 58\n",
       "phi0 180.0\n",
       "rte_solver montecarlo\n",
       "mc_photons 1000\n",
       "mc_polarisation \n",
       "wavelength 550.0\n",
       "umu -0.5\n",
       "phi 10\n",
       "bpdf_tsang_u10 5\n",
       "mc_surface_reflectalways \n",
       "quiet "
      ]
     },
     "execution_count": 17,
     "metadata": {},
     "output_type": "execute_result"
    }
   ],
   "source": [
    "mc.alter_option(['mc_photons', '1000'])\n",
    "mc"
   ]
  },
  {
   "cell_type": "code",
   "execution_count": 18,
   "metadata": {
    "collapsed": false
   },
   "outputs": [],
   "source": [
    "mc.readout()"
   ]
  },
  {
   "cell_type": "code",
   "execution_count": null,
   "metadata": {
    "collapsed": false
   },
   "outputs": [],
   "source": [
    "mc.n_wvl"
   ]
  },
  {
   "cell_type": "code",
   "execution_count": null,
   "metadata": {
    "collapsed": false
   },
   "outputs": [],
   "source": [
    "# Now try to run the case on the cluster\n",
    "mcout = paraview.apply_sync(librad.Case.run, mc)"
   ]
  },
  {
   "cell_type": "code",
   "execution_count": null,
   "metadata": {
    "collapsed": false
   },
   "outputs": [],
   "source": [
    "mcout.n_wvl"
   ]
  },
  {
   "cell_type": "code",
   "execution_count": null,
   "metadata": {
    "collapsed": false
   },
   "outputs": [],
   "source": [
    "libRadCase.fluxline"
   ]
  },
  {
   "cell_type": "code",
   "execution_count": null,
   "metadata": {
    "collapsed": false
   },
   "outputs": [],
   "source": [
    "libRadCase.n_levels_out"
   ]
  },
  {
   "cell_type": "code",
   "execution_count": null,
   "metadata": {
    "collapsed": false
   },
   "outputs": [],
   "source": [
    "libRadCase.n_wvl"
   ]
  },
  {
   "cell_type": "code",
   "execution_count": null,
   "metadata": {
    "collapsed": false
   },
   "outputs": [],
   "source": [
    "libRadCase.edir.shape"
   ]
  },
  {
   "cell_type": "code",
   "execution_count": null,
   "metadata": {
    "collapsed": false
   },
   "outputs": [],
   "source": [
    "libRadCase.fluxdata.shape"
   ]
  },
  {
   "cell_type": "code",
   "execution_count": null,
   "metadata": {
    "collapsed": false
   },
   "outputs": [],
   "source": [
    "libRadCase.fluxdata"
   ]
  },
  {
   "cell_type": "code",
   "execution_count": null,
   "metadata": {
    "collapsed": false
   },
   "outputs": [],
   "source": [
    "libRadCase.fluxline"
   ]
  },
  {
   "cell_type": "code",
   "execution_count": null,
   "metadata": {
    "collapsed": false
   },
   "outputs": [],
   "source": [
    "'wvl' in libRadCase.fluxline"
   ]
  },
  {
   "cell_type": "code",
   "execution_count": null,
   "metadata": {
    "collapsed": true
   },
   "outputs": [],
   "source": [
    "import numpy as np"
   ]
  },
  {
   "cell_type": "code",
   "execution_count": null,
   "metadata": {
    "collapsed": false
   },
   "outputs": [],
   "source": [
    "np.array([]).size"
   ]
  },
  {
   "cell_type": "code",
   "execution_count": 19,
   "metadata": {
    "collapsed": false
   },
   "outputs": [
    {
     "data": {
      "text/plain": [
       "<xray.DataArray 'uavgdir' (wvl: 1, zout: 1)>\n",
       "array([[ 112.6884]])\n",
       "Coordinates:\n",
       "  * wvl      (wvl) float64 550.0\n",
       "  * zout     (zout) float64 0.0\n",
       "Attributes:\n",
       "    units: mW/m^2/nm/sr\n",
       "    long_name: Direct Solar Mean Intensity"
      ]
     },
     "execution_count": 19,
     "metadata": {},
     "output_type": "execute_result"
    }
   ],
   "source": [
    "mc.xd_uavgdir"
   ]
  },
  {
   "cell_type": "code",
   "execution_count": null,
   "metadata": {
    "collapsed": true
   },
   "outputs": [],
   "source": [
    "mc.xd"
   ]
  }
 ],
 "metadata": {
  "kernelspec": {
   "display_name": "Python 2",
   "language": "python",
   "name": "python2"
  },
  "language_info": {
   "codemirror_mode": {
    "name": "ipython",
    "version": 2
   },
   "file_extension": ".py",
   "mimetype": "text/x-python",
   "name": "python",
   "nbconvert_exporter": "python",
   "pygments_lexer": "ipython2",
   "version": "2.7.11"
  }
 },
 "nbformat": 4,
 "nbformat_minor": 0
}
