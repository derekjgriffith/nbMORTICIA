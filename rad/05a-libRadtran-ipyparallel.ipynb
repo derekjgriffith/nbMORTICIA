{
 "cells": [
  {
   "cell_type": "markdown",
   "metadata": {},
   "source": [
    "# Using libRadtran in Parallel on a Cluster"
   ]
  },
  {
   "cell_type": "markdown",
   "metadata": {},
   "source": [
    "This notebook shows how to run a batch of [`libRadtran/uvspec`](http://www.libradtran.org) cases in parallel on a cluster computer using [`ipyparallel`](https://ipyparallel.readthedocs.org/en/latest/). \n",
    "The `pyparallel` package provides a flexible, yet reasonably simple way of harnessing mutiple compute cores from the `IPython/Jupyter` notebook environment or in other Python launch modes.\n",
    "\n",
    "The general `ipyparallel` compute model is that a Hub Controller process is started on a machine that has (preferably secure) network access to both the compute nodes and the user client node. Mutiple worker processes referred to as Engines are then started (on one or more machines) that register with the Hub Controller. The user client process then also contacts the Hub Controller in order to distribute work to the engines.\n",
    "\n",
    "The main setup required is that of pointing both the client process and the engine processes to the hub controller as well as dealing with any security issues with network access between the machines on which the processes are running. The most simple situation that requires almost no setup is that of running all (hub/controller, client and all worker engines) processes on the same machine. Otherwise it will be necessary to copy JSON configuration files created by the hub/controller to the machines hosting the clients and engines. Detailed information is provided in the [`ipyparallel`](https://ipyparallel.readthedocs.org/en/latest/) documentation.\n",
    "\n",
    "Note that whenever the hub/controller is started (using the `ipcontroller` or `ipcluster` command) it generates *new* JSON configuration files that must be made available to the clients and engines.\n",
    "\n",
    "The setup that follows shows a situation involving two machines, a Windows machine that runs the client IPython/Jupyter user interface and a networked Linux host with mutiple compute cores running a single hub controller process and multiple engines up to the number of compute cores available (64 in this case).\n",
    "\n",
    "Secure sockets (SSH) access from the Windows environment to the host cluster is provided by the [`paramiko`](https://github.com/paramiko/paramiko) Python package. Be warned that installation of `paramiko` on Windows can present some challenges."
   ]
  },
  {
   "cell_type": "code",
   "execution_count": null,
   "metadata": {
    "collapsed": true
   },
   "outputs": [],
   "source": []
  }
 ],
 "metadata": {
  "kernelspec": {
   "display_name": "Python 2",
   "language": "python",
   "name": "python2"
  },
  "language_info": {
   "codemirror_mode": {
    "name": "ipython",
    "version": 2
   },
   "file_extension": ".py",
   "mimetype": "text/x-python",
   "name": "python",
   "nbconvert_exporter": "python",
   "pygments_lexer": "ipython2",
   "version": "2.7.11"
  }
 },
 "nbformat": 4,
 "nbformat_minor": 0
}
