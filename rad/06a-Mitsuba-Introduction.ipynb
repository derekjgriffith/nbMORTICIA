{
 "cells": [
  {
   "cell_type": "markdown",
   "metadata": {},
   "source": [
    "# Python API for Mitsuba\n",
    "The [Mitsuba](http://www.mitsuba-renderer.org/) rendering system exposes many of the C++ API calls to Python access. This notebook includes the examples from the Mitsuba documentation as well as some additional examples for composing and rendering a scene from Python.\n",
    "\n",
    "Documentation for the [Mitsuba Python bindings](http://www.mitsuba-renderer.org/api/group__libpython.html) is available at the Mitsuba website.\n",
    "\n",
    "Note that this notebook runs on the assumption that there is a local installation of Mitsuba and that it is compiled in the normal RGB (SPECTRUM_SAMPLES = 3) mode. Full integration with *MORTICIA* requires that Mitsuba be compiled with 4 or more spectral channels in order to put Mitusba into the absolute radiometric mode. \"Field\" integrators are not available when Mitsuba is compiled with SPECTRUM_SAMPLES > 3. The field integrators are illustrated in this notebook, including distance, normals, UV-mapping coordinates are more. These integrators can be accessed using the Mitsuba \"multichannel\" integrator facility.\n",
    "\n",
    "The recommended approach is that the local copy of Mitsuba be compiled with SPECTRUM_SAMPLES = 3 for the use of field integrators and that additional compute platforms be available with Mitsuba compiled having SPECTRUM_SAMPLES > 3."
   ]
  },
  {
   "cell_type": "code",
   "execution_count": 88,
   "metadata": {
    "collapsed": false
   },
   "outputs": [
    {
     "name": "stdout",
     "output_type": "stream",
     "text": [
      "The autoreload extension is already loaded. To reload it, use:\n",
      "  %reload_ext autoreload\n"
     ]
    }
   ],
   "source": [
    "import os, sys\n",
    "import matplotlib.pyplot as plt\n",
    "import matplotlib.image as mpimg\n",
    "import numpy as np\n",
    "import morticia.rad.radute as radute\n",
    "%matplotlib inline\n",
    "# Now import the mitsuba Python extension\n",
    "# The following applies only to Windows\n",
    "# Configure the search path for the Python extension module\n",
    "sys.path.append('D:/Projects/MORTICIA/Render/Mitsuba 0.5.0/python/2.7')\n",
    "# Ensure that Python will be able to find the Mitsuba core libraries\n",
    "os.environ['PATH'] = 'D:/Projects/MORTICIA/Render/Mitsuba 0.5.0' + os.pathsep + os.environ['PATH']\n",
    "# On other platforms, measures may also be required to ensure that Python can find the Mitsuba package\n",
    "import mitsuba\n",
    "# Use auto reload of librad for development purposes\n",
    "%load_ext autoreload\n",
    "%autoreload 1\n",
    "%aimport morticia.rad.radute\n",
    "%matplotlib inline"
   ]
  },
  {
   "cell_type": "markdown",
   "metadata": {},
   "source": [
    "## Accessing Core Funcions"
   ]
  },
  {
   "cell_type": "code",
   "execution_count": 3,
   "metadata": {
    "collapsed": false
   },
   "outputs": [
    {
     "name": "stdout",
     "output_type": "stream",
     "text": [
      "[0.801784, 0.534522, -0.267261]\n"
     ]
    }
   ],
   "source": [
    "# A simple 3-vector transformation operation\n",
    "from mitsuba.core import *\n",
    "# Create a normalized direction vector\n",
    "myVector = normalize(Vector(1.0, 2.0, 3.0))\n",
    "# 90 deg. rotation around the Y axis\n",
    "trafo = Transform.rotate(Vector(0, 1, 0), 90)\n",
    "# Apply the rotation and display the result\n",
    "print(trafo * myVector)"
   ]
  },
  {
   "cell_type": "markdown",
   "metadata": {},
   "source": [
    "## Loading a Scene\n",
    "Scenes are loaded using the file resolver to find he .xml scene file and then the [SceneHandler](http://www.mitsuba-renderer.org/api/classmitsuba_1_1_scene_handler.html) to load the scene.\n",
    "\n",
    "Here, the scene cubi.xml contains a CUBI object used in thermal signatorics."
   ]
  },
  {
   "cell_type": "code",
   "execution_count": 4,
   "metadata": {
    "collapsed": true
   },
   "outputs": [],
   "source": [
    "from mitsuba.core import *\n",
    "from mitsuba.render import SceneHandler\n",
    "# Get a reference to the thread's file resolver\n",
    "fileResolver = Thread.getThread().getFileResolver()\n",
    "# Register any searchs path needed to load scene resources (optional)\n",
    "fileResolver.appendPath('./examples/Mitsuba/')\n",
    "# Optional: supply parameters that can be accessed\n",
    "# by the scene (e.g. as $myParameter)\n",
    "paramMap = StringMap()\n",
    "paramMap['myParameter'] = 'value'"
   ]
  },
  {
   "cell_type": "code",
   "execution_count": 125,
   "metadata": {
    "collapsed": false
   },
   "outputs": [
    {
     "name": "stdout",
     "output_type": "stream",
     "text": [
      "Scene[\n",
      "  sensor = ref<PerspectiveCameraImpl>[ref=2, ptr=PerspectiveCamera[\n",
      "    xfov = 40,\n",
      "    nearClip = 0.01,\n",
      "    farClip = 10000,\n",
      "    worldTransform = ref<AnimatedTransform>[ref=1, ptr=Matrix4x4[\n",
      "      -0.707107, -0.235706, -0.666665, 2.12711;\n",
      "      -0.707107, 0.235706, 0.666665, -2.12711;\n",
      "      0, 0.942807, -0.333339, 1.06356;\n",
      "      0, 0, 0, 1\n",
      "    ]],\n",
      "    sampler = IndependentSampler[\n",
      "      sampleCount = 1\n",
      "    ],\n",
      "    film = HDRFilm[\n",
      "      size = [1024, 768],\n",
      "      fileFormat = 1,\n",
      "      pixelFormat = rgb, luminance, rgb, \n",
      "      channelNames = \"normal.R\", \"normal.G\", \"normal.B\", \"distance.Y\", \"uv.R\", \"uv.G\", \"uv.B\", \n",
      "      componentFormat = float32,\n",
      "      cropOffset = [0, 0],\n",
      "      cropSize = [1024, 768],\n",
      "      banner = 1,\n",
      "      filter = GaussianFilter[stddev=0.500000, radius=2.000000]\n",
      "    ],\n",
      "    medium = ref<Medium>[null],\n",
      "    shutterOpen = 0,\n",
      "    shutterOpenTime = 0\n",
      "  ]],\n",
      "  sampler = ref<IndependentSampler>[ref=2, ptr=IndependentSampler[\n",
      "    sampleCount = 1\n",
      "  ]],\n",
      "  integrator = ref<MultiChannelIntegrator>[ref=1, ptr=MultiChannelIntegrator[\n",
      "    integrators = {\n",
      "      FieldIntegrator[],\n",
      "      FieldIntegrator[],\n",
      "      FieldIntegrator[],\n",
      "    }\n",
      "  ]],\n",
      "  kdtree = ref<ShapeKDTree>[ref=1, ptr=ShapeKDTree[unknown]],\n",
      "  environmentEmitter = ref<EnvironmentMap>[ref=2, ptr=EnvironmentMap[\n",
      "    filename = \"\",\n",
      "    samplingWeight = 1,\n",
      "    bsphere = BSphere[center = [0, 0, 0], radius = 0],\n",
      "    worldTransform = ref<AnimatedTransform>[ref=2, ptr=Matrix4x4[\n",
      "      1, 0, 0, 0;\n",
      "      0, -4.37114e-008, -1, 0;\n",
      "      0, 1, -4.37114e-008, 0;\n",
      "      0, 0, 0, 1\n",
      "    ]],\n",
      "    mipmap = TMIPMap[\n",
      "       pixelFormat = rgb,\n",
      "       size = 1.0 MiB,\n",
      "       levels = 10,\n",
      "       cached = no,\n",
      "       filterType = ewa,\n",
      "       bc = [repeat, clamp],\n",
      "       minimum = [0, 0, 0],\n",
      "       maximum = [4591.88, 3524.41, 2460.93],\n",
      "       average = [0.0837834, 0.0815985, 0.082528]\n",
      "    ],\n",
      "    medium = ref<Medium>[null]\n",
      "  ]],\n",
      "  shapes = {\n",
      "    Rectangle[\n",
      "      objectToWorld = Matrix4x4[\n",
      "        0.25, 0, 0, 0;\n",
      "        0, -1.09278e-008, -0.25, 0;\n",
      "        0, 0.25, -1.09278e-008, 0.25;\n",
      "        0, 0, 0, 1\n",
      "      ],\n",
      "      bsdf = ref<SmoothDiffuse>[ref=15, ptr=SmoothDiffuse[\n",
      "        id = \"diffuseWhite\",\n",
      "        reflectance = [1, 1, 1]\n",
      "      ]],\n",
      "      emitter = ref<Emitter>[null],\n",
      "      sensor = ref<Sensor>[null],\n",
      "      subsurface = ref<Subsurface>[null]\n",
      "    ],\n",
      "    Rectangle[\n",
      "      objectToWorld = Matrix4x4[\n",
      "        0.25, 0, 0, 0;\n",
      "        0, 0.25, 0, -0.25;\n",
      "        0, 0, 0.25, 0;\n",
      "        0, 0, 0, 1\n",
      "      ],\n",
      "      bsdf = ref<SmoothDiffuse>[ref=15, ptr=SmoothDiffuse[\n",
      "        id = \"diffuseWhite\",\n",
      "        reflectance = [1, 1, 1]\n",
      "      ]],\n",
      "      emitter = ref<Emitter>[null],\n",
      "      sensor = ref<Sensor>[null],\n",
      "      subsurface = ref<Subsurface>[null]\n",
      "    ],\n",
      "    Rectangle[\n",
      "      objectToWorld = Matrix4x4[\n",
      "        0.25, 0, 0, 0;\n",
      "        0, 0.25, 0, 0.25;\n",
      "        0, 0, 0.25, 0.5;\n",
      "        0, 0, 0, 1\n",
      "      ],\n",
      "      bsdf = ref<SmoothDiffuse>[ref=15, ptr=SmoothDiffuse[\n",
      "        id = \"diffuseWhite\",\n",
      "        reflectance = [1, 1, 1]\n",
      "      ]],\n",
      "      emitter = ref<Emitter>[null],\n",
      "      sensor = ref<Sensor>[null],\n",
      "      subsurface = ref<Subsurface>[null]\n",
      "    ],\n",
      "    Rectangle[\n",
      "      objectToWorld = Matrix4x4[\n",
      "        0.25, 0, 0, 0;\n",
      "        0, -1.09278e-008, -0.25, -0.5;\n",
      "        0, 0.25, -1.09278e-008, -0.25;\n",
      "        0, 0, 0, 1\n",
      "      ],\n",
      "      bsdf = ref<SmoothDiffuse>[ref=15, ptr=SmoothDiffuse[\n",
      "        id = \"diffuseWhite\",\n",
      "        reflectance = [1, 1, 1]\n",
      "      ]],\n",
      "      emitter = ref<Emitter>[null],\n",
      "      sensor = ref<Sensor>[null],\n",
      "      subsurface = ref<Subsurface>[null]\n",
      "    ],\n",
      "    Rectangle[\n",
      "      objectToWorld = Matrix4x4[\n",
      "        -1.09278e-008, 0, -0.25, -0.25;\n",
      "        0, 0.25, 0, -0.25;\n",
      "        0.25, 0, -1.09278e-008, -0.25;\n",
      "        0, 0, 0, 1\n",
      "      ],\n",
      "      bsdf = ref<SmoothDiffuse>[ref=15, ptr=SmoothDiffuse[\n",
      "        id = \"diffuseWhite\",\n",
      "        reflectance = [1, 1, 1]\n",
      "      ]],\n",
      "      emitter = ref<Emitter>[null],\n",
      "      sensor = ref<Sensor>[null],\n",
      "      subsurface = ref<Subsurface>[null]\n",
      "    ],\n",
      "    Rectangle[\n",
      "      objectToWorld = Matrix4x4[\n",
      "        0.25, 0, 0, 0;\n",
      "        0, -0.25, 2.18557e-008, -0.25;\n",
      "        0, -2.18557e-008, -0.25, -0.5;\n",
      "        0, 0, 0, 1\n",
      "      ],\n",
      "      bsdf = ref<SmoothDiffuse>[ref=15, ptr=SmoothDiffuse[\n",
      "        id = \"diffuseWhite\",\n",
      "        reflectance = [1, 1, 1]\n",
      "      ]],\n",
      "      emitter = ref<Emitter>[null],\n",
      "      sensor = ref<Sensor>[null],\n",
      "      subsurface = ref<Subsurface>[null]\n",
      "    ],\n",
      "    Rectangle[\n",
      "      objectToWorld = Matrix4x4[\n",
      "        0.25, 0, 0, 0;\n",
      "        0, -0.25, 2.18557e-008, 0.25;\n",
      "        0, -2.18557e-008, -0.25, -0.5;\n",
      "        0, 0, 0, 1\n",
      "      ],\n",
      "      bsdf = ref<SmoothDiffuse>[ref=15, ptr=SmoothDiffuse[\n",
      "        id = \"diffuseWhite\",\n",
      "        reflectance = [1, 1, 1]\n",
      "      ]],\n",
      "      emitter = ref<Emitter>[null],\n",
      "      sensor = ref<Sensor>[null],\n",
      "      subsurface = ref<Subsurface>[null]\n",
      "    ],\n",
      "    Rectangle[\n",
      "      objectToWorld = Matrix4x4[\n",
      "        -1.09278e-008, 0, -0.25, -0.25;\n",
      "        0, 0.25, 0, 0.25;\n",
      "        0.25, 0, -1.09278e-008, -0.25;\n",
      "        0, 0, 0, 1\n",
      "      ],\n",
      "      bsdf = ref<SmoothDiffuse>[ref=15, ptr=SmoothDiffuse[\n",
      "        id = \"diffuseWhite\",\n",
      "        reflectance = [1, 1, 1]\n",
      "      ]],\n",
      "      emitter = ref<Emitter>[null],\n",
      "      sensor = ref<Sensor>[null],\n",
      "      subsurface = ref<Subsurface>[null]\n",
      "    ],\n",
      "    Rectangle[\n",
      "      objectToWorld = Matrix4x4[\n",
      "        -1.09278e-008, 0, -0.25, -0.25;\n",
      "        0, 0.25, 0, 0.25;\n",
      "        0.25, 0, -1.09278e-008, 0.25;\n",
      "        0, 0, 0, 1\n",
      "      ],\n",
      "      bsdf = ref<SmoothDiffuse>[ref=15, ptr=SmoothDiffuse[\n",
      "        id = \"diffuseWhite\",\n",
      "        reflectance = [1, 1, 1]\n",
      "      ]],\n",
      "      emitter = ref<Emitter>[null],\n",
      "      sensor = ref<Sensor>[null],\n",
      "      subsurface = ref<Subsurface>[null]\n",
      "    ],\n",
      "    Rectangle[\n",
      "      objectToWorld = Matrix4x4[\n",
      "        0.25, 0, 0, 0;\n",
      "        0, -1.09278e-008, 0.25, 0.5;\n",
      "        0, -0.25, -1.09278e-008, 0.25;\n",
      "        0, 0, 0, 1\n",
      "      ],\n",
      "      bsdf = ref<SmoothDiffuse>[ref=15, ptr=SmoothDiffuse[\n",
      "        id = \"diffuseWhite\",\n",
      "        reflectance = [1, 1, 1]\n",
      "      ]],\n",
      "      emitter = ref<Emitter>[null],\n",
      "      sensor = ref<Sensor>[null],\n",
      "      subsurface = ref<Subsurface>[null]\n",
      "    ],\n",
      "    Rectangle[\n",
      "      objectToWorld = Matrix4x4[\n",
      "        0.25, 0, 0, 0;\n",
      "        0, -1.09278e-008, 0.25, 0.5;\n",
      "        0, -0.25, -1.09278e-008, -0.25;\n",
      "        0, 0, 0, 1\n",
      "      ],\n",
      "      bsdf = ref<SmoothDiffuse>[ref=15, ptr=SmoothDiffuse[\n",
      "        id = \"diffuseWhite\",\n",
      "        reflectance = [1, 1, 1]\n",
      "      ]],\n",
      "      emitter = ref<Emitter>[null],\n",
      "      sensor = ref<Sensor>[null],\n",
      "      subsurface = ref<Subsurface>[null]\n",
      "    ],\n",
      "    Rectangle[\n",
      "      objectToWorld = Matrix4x4[\n",
      "        -1.09278e-008, 0, 0.25, 0.25;\n",
      "        0, 0.25, 0, 0.25;\n",
      "        -0.25, 0, -1.09278e-008, -0.25;\n",
      "        0, 0, 0, 1\n",
      "      ],\n",
      "      bsdf = ref<SmoothDiffuse>[ref=15, ptr=SmoothDiffuse[\n",
      "        id = \"diffuseWhite\",\n",
      "        reflectance = [1, 1, 1]\n",
      "      ]],\n",
      "      emitter = ref<Emitter>[null],\n",
      "      sensor = ref<Sensor>[null],\n",
      "      subsurface = ref<Subsurface>[null]\n",
      "    ],\n",
      "    Rectangle[\n",
      "      objectToWorld = Matrix4x4[\n",
      "        -1.09278e-008, 0, 0.25, 0.25;\n",
      "        0, 0.25, 0, 0.25;\n",
      "        -0.25, 0, -1.09278e-008, 0.25;\n",
      "        0, 0, 0, 1\n",
      "      ],\n",
      "      bsdf = ref<SmoothDiffuse>[ref=15, ptr=SmoothDiffuse[\n",
      "        id = \"diffuseWhite\",\n",
      "        reflectance = [1, 1, 1]\n",
      "      ]],\n",
      "      emitter = ref<Emitter>[null],\n",
      "      sensor = ref<Sensor>[null],\n",
      "      subsurface = ref<Subsurface>[null]\n",
      "    ],\n",
      "    Rectangle[\n",
      "      objectToWorld = Matrix4x4[\n",
      "        -1.09278e-008, 0, 0.25, 0.25;\n",
      "        0, 0.25, 0, -0.25;\n",
      "        -0.25, 0, -1.09278e-008, -0.25;\n",
      "        0, 0, 0, 1\n",
      "      ],\n",
      "      bsdf = ref<SmoothDiffuse>[ref=15, ptr=SmoothDiffuse[\n",
      "        id = \"diffuseWhite\",\n",
      "        reflectance = [1, 1, 1]\n",
      "      ]],\n",
      "      emitter = ref<Emitter>[null],\n",
      "      sensor = ref<Sensor>[null],\n",
      "      subsurface = ref<Subsurface>[null]\n",
      "    ]\n",
      "  },\n",
      "  emitters = {\n",
      "    EnvironmentMap[\n",
      "      filename = \"\",\n",
      "      samplingWeight = 1,\n",
      "      bsphere = BSphere[center = [0, 0, 0], radius = 0],\n",
      "      worldTransform = ref<AnimatedTransform>[ref=2, ptr=Matrix4x4[\n",
      "        1, 0, 0, 0;\n",
      "        0, -4.37114e-008, -1, 0;\n",
      "        0, 1, -4.37114e-008, 0;\n",
      "        0, 0, 0, 1\n",
      "      ]],\n",
      "      mipmap = TMIPMap[\n",
      "         pixelFormat = rgb,\n",
      "         size = 1.0 MiB,\n",
      "         levels = 10,\n",
      "         cached = no,\n",
      "         filterType = ewa,\n",
      "         bc = [repeat, clamp],\n",
      "         minimum = [0, 0, 0],\n",
      "         maximum = [4591.88, 3524.41, 2460.93],\n",
      "         average = [0.0837834, 0.0815985, 0.082528]\n",
      "      ],\n",
      "      medium = ref<Medium>[null]\n",
      "    ]\n",
      "  },\n",
      "  media = {\n",
      "  },\n",
      "  sensors = {\n",
      "    PerspectiveCamera[\n",
      "      xfov = 40,\n",
      "      nearClip = 0.01,\n",
      "      farClip = 10000,\n",
      "      worldTransform = ref<AnimatedTransform>[ref=1, ptr=Matrix4x4[\n",
      "        -0.707107, -0.235706, -0.666665, 2.12711;\n",
      "        -0.707107, 0.235706, 0.666665, -2.12711;\n",
      "        0, 0.942807, -0.333339, 1.06356;\n",
      "        0, 0, 0, 1\n",
      "      ]],\n",
      "      sampler = IndependentSampler[\n",
      "        sampleCount = 1\n",
      "      ],\n",
      "      film = HDRFilm[\n",
      "        size = [1024, 768],\n",
      "        fileFormat = 1,\n",
      "        pixelFormat = rgb, luminance, rgb, \n",
      "        channelNames = \"normal.R\", \"normal.G\", \"normal.B\", \"distance.Y\", \"uv.R\", \"uv.G\", \"uv.B\", \n",
      "        componentFormat = float32,\n",
      "        cropOffset = [0, 0],\n",
      "        cropSize = [1024, 768],\n",
      "        banner = 1,\n",
      "        filter = GaussianFilter[stddev=0.500000, radius=2.000000]\n",
      "      ],\n",
      "      medium = ref<Medium>[null],\n",
      "      shutterOpen = 0,\n",
      "      shutterOpenTime = 0\n",
      "    ]\n",
      "  },\n",
      "  ssIntegrators = {\n",
      "  },\n",
      "  objects = {\n",
      "    SmoothDiffuse[\n",
      "      id = \"diffuseWhite\",\n",
      "      reflectance = [1, 1, 1]\n",
      "    ],\n",
      "    SmoothDiffuse[\n",
      "      id = \"diffuseRed\",\n",
      "      reflectance = [1, 0, 0]\n",
      "    ]\n",
      "  }\n",
      "]\n"
     ]
    }
   ],
   "source": [
    "# Load the scene from an XML file\n",
    "scene = SceneHandler.loadScene(fileResolver.resolve(\"./examples/Mitsuba/cubi.xml\"), paramMap)\n",
    "scene.setDestinationFile('cubiEXR')  # Set the name of the render output file\n",
    "# Display a textual summary of the scene's contents\n",
    "print(scene)"
   ]
  },
  {
   "cell_type": "markdown",
   "metadata": {},
   "source": [
    "## Rendering a Scene\n",
    "First the scheduler and workers are set up and then the render job is submitted to a job queue. The queue should be set up only once per host."
   ]
  },
  {
   "cell_type": "code",
   "execution_count": 6,
   "metadata": {
    "collapsed": false
   },
   "outputs": [],
   "source": [
    "# Run this only once per session\n",
    "from mitsuba.render import RenderQueue, RenderJob\n",
    "import multiprocessing\n",
    "scheduler = Scheduler.getInstance()\n",
    "# Start up the scheduling system with one worker per local core\n",
    "for i in range(0, multiprocessing.cpu_count()):\n",
    "    scheduler.registerWorker(LocalWorker(i, 'wrk%i' % i))\n",
    "scheduler.start()\n",
    "# Create a queue for tracking render jobs\n",
    "queue = RenderQueue()"
   ]
  },
  {
   "cell_type": "code",
   "execution_count": 119,
   "metadata": {
    "collapsed": false
   },
   "outputs": [
    {
     "name": "stdout",
     "output_type": "stream",
     "text": [
      "------------------------------------------------------------\n",
      " * Loaded plugins :\n",
      "    -  plugins\\diffuse.dll [Smooth diffuse BRDF]\n",
      "    -  plugins\\envmap.dll [Environment map]\n",
      "    -  plugins\\field.dll [Field extraction integrator]\n",
      "    -  plugins\\gaussian.dll [Gaussian reconstruction filter]\n",
      "    -  plugins\\halton.dll [Halton QMC sampler]\n",
      "    -  plugins\\hdrfilm.dll [High dynamic range film]\n",
      "    -  plugins\\independent.dll [Independent sampler]\n",
      "    -  plugins\\lanczos.dll [Lanczos Sinc filter]\n",
      "    -  plugins\\ldrfilm.dll [Low dynamic range film]\n",
      "    -  plugins\\mfilm.dll [MATLAB / Mathematica / NumPy film]\n",
      "    -  plugins\\multichannel.dll [Multi-channel integrator]\n",
      "    -  plugins\\path.dll [MI path tracer]\n",
      "    -  plugins\\perspective.dll [Perspective camera]\n",
      "    -  plugins\\rectangle.dll [Rectangle intersection primitive]\n",
      "    -  plugins\\sky.dll [Skylight emitter]\n",
      "    -  plugins\\sphere.dll [Sphere intersection primitive]\n",
      "    -  plugins\\sunsky.dll [Sun & sky emitter]\n",
      "\n",
      "  * General :\n",
      "    -  Normal rays traced : 2.409 G\n",
      "    -  Shadow rays traced : 175.735 M\n",
      "\n",
      "  * Path tracer :\n",
      "    -  Average path length : 1.03 (633.96 M / 616.97 M)\n",
      "\n",
      "  * Texture system :\n",
      "    -  Cumulative MIP map memory allocations : 35.012 MiB\n",
      "    -  Filtered texture lookups : 48.16 % (458.22 M of 951.43 M)\n",
      "    -  Lookups with clamped anisotropy : 0.00 % (0.00 of 458.22 M)\n",
      "------------------------------------------------------------\n"
     ]
    }
   ],
   "source": [
    "# Create a render job and insert it into the queue\n",
    "job = RenderJob('myRenderJob', scene, queue)\n",
    "job.start()\n",
    "# Wait for all jobs to finish and release resources\n",
    "queue.waitLeft(0)\n",
    "queue.join()\n",
    "# Print some statistics about the rendering process\n",
    "print(Statistics.getInstance().getStats())"
   ]
  },
  {
   "cell_type": "code",
   "execution_count": 120,
   "metadata": {
    "collapsed": false
   },
   "outputs": [
    {
     "name": "stdout",
     "output_type": "stream",
     "text": [
      "['normal', 'normal.G', 'uv.R', 'uv', 'distance.Y', 'normal.B', 'uv.B', 'uv.G', 'normal.R']\n"
     ]
    }
   ],
   "source": [
    "# Read the data resulting from the Mitsuba run\n",
    "channel_names, im_dict, header = radute.readOpenEXR('cubiEXR.exr')\n",
    "# Print keys of what came back in the image dictionary\n",
    "print im_dict.keys()"
   ]
  },
  {
   "cell_type": "code",
   "execution_count": 121,
   "metadata": {
    "collapsed": false
   },
   "outputs": [
    {
     "data": {
      "text/plain": [
       "<matplotlib.image.AxesImage at 0x31736ac8>"
      ]
     },
     "execution_count": 121,
     "metadata": {},
     "output_type": "execute_result"
    },
    {
     "data": {
      "image/png": "[encoded data removed]",
      "text/plain": [
       "<matplotlib.figure.Figure at 0x3144e278>"
      ]
     },
     "metadata": {},
     "output_type": "display_data"
    }
   ],
   "source": [
    "# Plot the distance data\n",
    "plt.figure(figsize=(10.24, 7.68))\n",
    "plt.imshow(im_dict['distance.Y'])"
   ]
  },
  {
   "cell_type": "code",
   "execution_count": 122,
   "metadata": {
    "collapsed": false
   },
   "outputs": [
    {
     "data": {
      "text/plain": [
       "<matplotlib.image.AxesImage at 0x316eff98>"
      ]
     },
     "execution_count": 122,
     "metadata": {},
     "output_type": "execute_result"
    },
    {
     "data": {
      "image/png": "[encoded data removed]",
      "text/plain": [
       "<matplotlib.figure.Figure at 0x31508f98>"
      ]
     },
     "metadata": {},
     "output_type": "display_data"
    }
   ],
   "source": [
    "# Plot the UV data (u, v coordinates on each pixel hit)\n",
    "plt.figure(figsize=(10.24, 7.68))\n",
    "plt.imshow(im_dict['uv'])"
   ]
  },
  {
   "cell_type": "code",
   "execution_count": 123,
   "metadata": {
    "collapsed": false
   },
   "outputs": [
    {
     "data": {
      "text/plain": [
       "<matplotlib.image.AxesImage at 0x31c3a198>"
      ]
     },
     "execution_count": 123,
     "metadata": {},
     "output_type": "execute_result"
    },
    {
     "data": {
      "image/png": "[encoded data removed]",
      "text/plain": [
       "<matplotlib.figure.Figure at 0x317194a8>"
      ]
     },
     "metadata": {},
     "output_type": "display_data"
    }
   ],
   "source": [
    "# Plot the UV data (u, v coordinates on each pixel hit)\n",
    "plt.figure(figsize=(10.24, 7.68))\n",
    "plt.imshow(im_dict['normal'])"
   ]
  },
  {
   "cell_type": "code",
   "execution_count": 124,
   "metadata": {
    "collapsed": false
   },
   "outputs": [
    {
     "ename": "IOError",
     "evalue": "[Errno 2] No such file or directory: 'cubiPNG.png'",
     "output_type": "error",
     "traceback": [
      "\u001b[1;31m---------------------------------------------------------------------------\u001b[0m",
      "\u001b[1;31mIOError\u001b[0m                                   Traceback (most recent call last)",
      "\u001b[1;32m<ipython-input-124-11706796504c>\u001b[0m in \u001b[0;36m<module>\u001b[1;34m()\u001b[0m\n\u001b[0;32m      1\u001b[0m \u001b[1;31m# Take a look at the CUBI\u001b[0m\u001b[1;33m\u001b[0m\u001b[1;33m\u001b[0m\u001b[0m\n\u001b[1;32m----> 2\u001b[1;33m \u001b[0mcubi_img\u001b[0m \u001b[1;33m=\u001b[0m \u001b[0mmpimg\u001b[0m\u001b[1;33m.\u001b[0m\u001b[0mimread\u001b[0m\u001b[1;33m(\u001b[0m\u001b[1;34m'cubiPNG.png'\u001b[0m\u001b[1;33m)\u001b[0m\u001b[1;33m\u001b[0m\u001b[0m\n\u001b[0m\u001b[0;32m      3\u001b[0m \u001b[0mplt\u001b[0m\u001b[1;33m.\u001b[0m\u001b[0mfigure\u001b[0m\u001b[1;33m(\u001b[0m\u001b[0mfigsize\u001b[0m\u001b[1;33m=\u001b[0m\u001b[1;33m(\u001b[0m\u001b[1;36m10.24\u001b[0m\u001b[1;33m,\u001b[0m \u001b[1;36m7.68\u001b[0m\u001b[1;33m)\u001b[0m\u001b[1;33m)\u001b[0m\u001b[1;33m\u001b[0m\u001b[0m\n\u001b[0;32m      4\u001b[0m \u001b[0mplt\u001b[0m\u001b[1;33m.\u001b[0m\u001b[0mimshow\u001b[0m\u001b[1;33m(\u001b[0m\u001b[0mcubi_img\u001b[0m\u001b[1;33m)\u001b[0m\u001b[1;33m\u001b[0m\u001b[0m\n",
      "\u001b[1;32mC:\\Anaconda\\envs\\mordevpy27\\lib\\site-packages\\matplotlib\\image.pyc\u001b[0m in \u001b[0;36mimread\u001b[1;34m(fname, format)\u001b[0m\n\u001b[0;32m   1321\u001b[0m             \u001b[1;32mreturn\u001b[0m \u001b[0mhandler\u001b[0m\u001b[1;33m(\u001b[0m\u001b[0mfd\u001b[0m\u001b[1;33m)\u001b[0m\u001b[1;33m\u001b[0m\u001b[0m\n\u001b[0;32m   1322\u001b[0m         \u001b[1;32melse\u001b[0m\u001b[1;33m:\u001b[0m\u001b[1;33m\u001b[0m\u001b[0m\n\u001b[1;32m-> 1323\u001b[1;33m             \u001b[1;32mwith\u001b[0m \u001b[0mopen\u001b[0m\u001b[1;33m(\u001b[0m\u001b[0mfname\u001b[0m\u001b[1;33m,\u001b[0m \u001b[1;34m'rb'\u001b[0m\u001b[1;33m)\u001b[0m \u001b[1;32mas\u001b[0m \u001b[0mfd\u001b[0m\u001b[1;33m:\u001b[0m\u001b[1;33m\u001b[0m\u001b[0m\n\u001b[0m\u001b[0;32m   1324\u001b[0m                 \u001b[1;32mreturn\u001b[0m \u001b[0mhandler\u001b[0m\u001b[1;33m(\u001b[0m\u001b[0mfd\u001b[0m\u001b[1;33m)\u001b[0m\u001b[1;33m\u001b[0m\u001b[0m\n\u001b[0;32m   1325\u001b[0m     \u001b[1;32melse\u001b[0m\u001b[1;33m:\u001b[0m\u001b[1;33m\u001b[0m\u001b[0m\n",
      "\u001b[1;31mIOError\u001b[0m: [Errno 2] No such file or directory: 'cubiPNG.png'"
     ]
    }
   ],
   "source": [
    "# Take a look at the CUBI\n",
    "cubi_img = mpimg.imread('cubiPNG.png')\n",
    "plt.figure(figsize=(10.24, 7.68))\n",
    "plt.imshow(cubi_img)"
   ]
  },
  {
   "cell_type": "code",
   "execution_count": 5,
   "metadata": {
    "collapsed": false
   },
   "outputs": [
    {
     "name": "stdout",
     "output_type": "stream",
     "text": [
      "Scene[\n",
      "  sensor = ref<PerspectiveCameraImpl>[ref=2, ptr=PerspectiveCamera[\n",
      "    xfov = 37.8664,\n",
      "    nearClip = 0.01,\n",
      "    farClip = 10000,\n",
      "    worldTransform = ref<AnimatedTransform>[ref=1, ptr=Matrix4x4[\n",
      "      -0.685884, -0.317366, -0.654861, 3.69558;\n",
      "      -0.727631, 0.312466, 0.610671, -3.46243;\n",
      "      0.0108156, 0.895346, -0.44524, 3.25463;\n",
      "      0, 0, 0, 1\n",
      "    ]],\n",
      "    sampler = LowDiscrepancySampler[\n",
      "      sampleCount = 64,\n",
      "      dimension = 4\n",
      "    ],\n",
      "    film = HDRFilm[\n",
      "      size = [683, 512],\n",
      "      fileFormat = 1,\n",
      "      pixelFormat = rgb, \n",
      "      channelNames = \"R\", \"G\", \"B\", \n",
      "      componentFormat = float16,\n",
      "      cropOffset = [0, 0],\n",
      "      cropSize = [683, 512],\n",
      "      banner = 0,\n",
      "      filter = GaussianFilter[stddev=0.500000, radius=2.000000]\n",
      "    ],\n",
      "    medium = ref<Medium>[null],\n",
      "    shutterOpen = 0,\n",
      "    shutterOpenTime = 0\n",
      "  ]],\n",
      "  sampler = ref<LowDiscrepancySampler>[ref=2, ptr=LowDiscrepancySampler[\n",
      "    sampleCount = 64,\n",
      "    dimension = 4\n",
      "  ]],\n",
      "  integrator = ref<MIPathTracer>[ref=1, ptr=MIPathTracer[\n",
      "    maxDepth = -1,\n",
      "    rrDepth = 5,\n",
      "    strictNormals = 0\n",
      "  ]],\n",
      "  kdtree = ref<ShapeKDTree>[ref=1, ptr=ShapeKDTree[unknown]],\n",
      "  environmentEmitter = ref<EnvironmentMap>[ref=2, ptr=EnvironmentMap[\n",
      "    filename = \"./examples/Mitsuba/envmap.exr\",\n",
      "    samplingWeight = 1,\n",
      "    bsphere = BSphere[center = [0, 0, 0], radius = 0],\n",
      "    worldTransform = ref<AnimatedTransform>[ref=1, ptr=Matrix4x4[\n",
      "      0.224951, -1e-006, 0.97437, 0;\n",
      "      0.97437, 0, -0.224951, 0;\n",
      "      8.74228e-014, 1, 1e-006, 8.87;\n",
      "      0, 0, 0, 1\n",
      "    ]],\n",
      "    mipmap = TMIPMap[\n",
      "       pixelFormat = rgb,\n",
      "       size = 1.0 MiB,\n",
      "       levels = 10,\n",
      "       cached = no,\n",
      "       filterType = ewa,\n",
      "       bc = [repeat, clamp],\n",
      "       minimum = [8.19564e-005, 0.000175357, 4.86374e-005],\n",
      "       maximum = [19.2813, 10.7656, 8.82031],\n",
      "       average = [0.39696, 0.316207, 0.278359]\n",
      "    ],\n",
      "    medium = ref<Medium>[null]\n",
      "  ]],\n",
      "  shapes = {\n",
      "    SerializedMesh[\n",
      "      name = \"matpreview@2\",\n",
      "      triangleCount = 57152,\n",
      "      vertexCount = 29439,\n",
      "      faceNormals = false,\n",
      "      hasNormals = true,\n",
      "      hasTexcoords = true,\n",
      "      hasTangents = false,\n",
      "      hasColors = false,\n",
      "      surfaceArea = -1,\n",
      "      aabb = AABB3[min=[-1.05939, -1.08033, 0.01403], max=[1.08033, 1.05939, 1.91551]],\n",
      "      bsdf = ref<SmoothPlastic>[ref=1, ptr=SmoothPlastic[\n",
      "        id = \"unnamed\",\n",
      "        specularReflectance = [1, 1, 1],\n",
      "        diffuseReflectance = [0.00913406, 0.0595112, 0.107023],\n",
      "        specularSamplingWeight = 0.950366,\n",
      "        diffuseSamplingWeight = 0.0496341,\n",
      "        nonlinear = 0,\n",
      "        eta = 1.89947,\n",
      "        fdrInt = 0.763693,\n",
      "        fdrExt = 0.147406\n",
      "      ]],\n",
      "      subsurface = ref<Subsurface>[null],\n",
      "      emitter = ref<Emitter>[null]\n",
      "    ],\n",
      "    SerializedMesh[\n",
      "      name = \"Interior-mesh_0\",\n",
      "      triangleCount = 3936,\n",
      "      vertexCount = 2078,\n",
      "      faceNormals = false,\n",
      "      hasNormals = true,\n",
      "      hasTexcoords = true,\n",
      "      hasTangents = false,\n",
      "      hasColors = false,\n",
      "      surfaceArea = -1,\n",
      "      aabb = AABB3[min=[-0.927272, -0.927272, -0.0058961], max=[0.927272, 0.927272, 1.71208]],\n",
      "      bsdf = ref<SmoothDiffuse>[ref=2, ptr=SmoothDiffuse[\n",
      "        id = \"__diffmat\",\n",
      "        reflectance = [0.18, 0.18, 0.18]\n",
      "      ]],\n",
      "      subsurface = ref<Subsurface>[null],\n",
      "      emitter = ref<Emitter>[null]\n",
      "    ],\n",
      "    SerializedMesh[\n",
      "      name = \"Plane-mesh_0\",\n",
      "      triangleCount = 512,\n",
      "      vertexCount = 289,\n",
      "      faceNormals = false,\n",
      "      hasNormals = true,\n",
      "      hasTexcoords = true,\n",
      "      hasTangents = false,\n",
      "      hasColors = false,\n",
      "      surfaceArea = -1,\n",
      "      aabb = AABB3[min=[-7.19786, -5.46007, -0.0120714], max=[5.14732, 7.94973, 6.84708]],\n",
      "      bsdf = ref<SmoothDiffuse>[ref=2, ptr=SmoothDiffuse[\n",
      "        id = \"__planemat\",\n",
      "        reflectance = Checkerboard[\n",
      "            color1 = [0.2, 0.2, 0.2],\n",
      "            color0 = [0.4, 0.4, 0.4]\n",
      "        ]\n",
      "      ]],\n",
      "      subsurface = ref<Subsurface>[null],\n",
      "      emitter = ref<Emitter>[null]\n",
      "    ]\n",
      "  },\n",
      "  emitters = {\n",
      "    EnvironmentMap[\n",
      "      filename = \"./examples/Mitsuba/envmap.exr\",\n",
      "      samplingWeight = 1,\n",
      "      bsphere = BSphere[center = [0, 0, 0], radius = 0],\n",
      "      worldTransform = ref<AnimatedTransform>[ref=1, ptr=Matrix4x4[\n",
      "        0.224951, -1e-006, 0.97437, 0;\n",
      "        0.97437, 0, -0.224951, 0;\n",
      "        8.74228e-014, 1, 1e-006, 8.87;\n",
      "        0, 0, 0, 1\n",
      "      ]],\n",
      "      mipmap = TMIPMap[\n",
      "         pixelFormat = rgb,\n",
      "         size = 1.0 MiB,\n",
      "         levels = 10,\n",
      "         cached = no,\n",
      "         filterType = ewa,\n",
      "         bc = [repeat, clamp],\n",
      "         minimum = [8.19564e-005, 0.000175357, 4.86374e-005],\n",
      "         maximum = [19.2813, 10.7656, 8.82031],\n",
      "         average = [0.39696, 0.316207, 0.278359]\n",
      "      ],\n",
      "      medium = ref<Medium>[null]\n",
      "    ]\n",
      "  },\n",
      "  media = {\n",
      "  },\n",
      "  sensors = {\n",
      "    PerspectiveCamera[\n",
      "      xfov = 37.8664,\n",
      "      nearClip = 0.01,\n",
      "      farClip = 10000,\n",
      "      worldTransform = ref<AnimatedTransform>[ref=1, ptr=Matrix4x4[\n",
      "        -0.685884, -0.317366, -0.654861, 3.69558;\n",
      "        -0.727631, 0.312466, 0.610671, -3.46243;\n",
      "        0.0108156, 0.895346, -0.44524, 3.25463;\n",
      "        0, 0, 0, 1\n",
      "      ]],\n",
      "      sampler = LowDiscrepancySampler[\n",
      "        sampleCount = 64,\n",
      "        dimension = 4\n",
      "      ],\n",
      "      film = HDRFilm[\n",
      "        size = [683, 512],\n",
      "        fileFormat = 1,\n",
      "        pixelFormat = rgb, \n",
      "        channelNames = \"R\", \"G\", \"B\", \n",
      "        componentFormat = float16,\n",
      "        cropOffset = [0, 0],\n",
      "        cropSize = [683, 512],\n",
      "        banner = 0,\n",
      "        filter = GaussianFilter[stddev=0.500000, radius=2.000000]\n",
      "      ],\n",
      "      medium = ref<Medium>[null],\n",
      "      shutterOpen = 0,\n",
      "      shutterOpenTime = 0\n",
      "    ]\n",
      "  },\n",
      "  ssIntegrators = {\n",
      "  },\n",
      "  objects = {\n",
      "    SmoothDiffuse[\n",
      "      id = \"__diffmat\",\n",
      "      reflectance = [0.18, 0.18, 0.18]\n",
      "    ],\n",
      "    Checkerboard[\n",
      "        color1 = [0.2, 0.2, 0.2],\n",
      "        color0 = [0.4, 0.4, 0.4]\n",
      "    ],\n",
      "    SmoothDiffuse[\n",
      "      id = \"__planemat\",\n",
      "      reflectance = Checkerboard[\n",
      "          color1 = [0.2, 0.2, 0.2],\n",
      "          color0 = [0.4, 0.4, 0.4]\n",
      "      ]\n",
      "    ]\n",
      "  }\n",
      "]\n"
     ]
    }
   ],
   "source": [
    "# Load the material preview scene from an XML file\n",
    "mat_scene = SceneHandler.loadScene(fileResolver.resolve(\"./examples/Mitsuba/matpreview.xml\"))\n",
    "mat_scene.setDestinationFile('mat_ball')  # Set the name of the render output file\n",
    "# Display a textual summary of the scene's contents\n",
    "print(mat_scene)"
   ]
  },
  {
   "cell_type": "code",
   "execution_count": 8,
   "metadata": {
    "collapsed": false
   },
   "outputs": [],
   "source": [
    "# Create a render job and insert it into the queue\n",
    "job = RenderJob('myRenderJob', mat_scene, queue)\n",
    "job.start()\n",
    "# Wait for all jobs to finish and release resources\n",
    "queue.waitLeft(0)\n",
    "queue.join()\n"
   ]
  },
  {
   "cell_type": "code",
   "execution_count": 17,
   "metadata": {
    "collapsed": false
   },
   "outputs": [],
   "source": [
    "# Perform the animation run\n",
    "mat_sensor = mat_scene.getSensor()\n",
    "mat_sensor.setShutterOpen(0)\n",
    "mat_sensor.setShutterOpenTime(1)\n",
    "stepSize = 5\n",
    "for i in range(0,360 / stepSize):\n",
    "    rotationCur = Transform.rotate(Vector(0, 0, 1), i*stepSize)\n",
    "    rotationNext = Transform.rotate(Vector(0, 0, 1), (i+1)*stepSize)\n",
    "    trafoCur = Transform.lookAt(rotationCur * Point(0,-6,4),\n",
    "        Point(0, 0, .5), rotationCur * Vector(0, 1, 0))\n",
    "    trafoNext = Transform.lookAt(rotationNext * Point(0,-6,4),\n",
    "        Point(0, 0, .5), rotationNext * Vector(0, 1, 0))\n",
    "    atrafo = AnimatedTransform()\n",
    "    atrafo.appendTransform(0, trafoCur)\n",
    "    atrafo.appendTransform(1, trafoNext)\n",
    "    atrafo.sortAndSimplify()\n",
    "    mat_sensor.setWorldTransform(atrafo)\n",
    "    mat_scene.setDestinationFile('frame_%03i.png' % i)\n",
    "    job = RenderJob('job_%i' % i, mat_scene, queue)\n",
    "    job.start()\n",
    "    queue.waitLeft(0)"
   ]
  },
  {
   "cell_type": "code",
   "execution_count": 10,
   "metadata": {
    "collapsed": false
   },
   "outputs": [],
   "source": [
    "# Release resources\n",
    "queue.join()\n"
   ]
  },
  {
   "cell_type": "markdown",
   "metadata": {},
   "source": [
    "# Creating a Scene\n",
    "The first example from the Mitsuba manual on scene construction shows how to build a sensor with a film.\n",
    "\n",
    "First a generic plugin manager is created and then a plugin instance of specific type is assigned, in this case a perspective camera with HD film."
   ]
  },
  {
   "cell_type": "code",
   "execution_count": 6,
   "metadata": {
    "collapsed": false
   },
   "outputs": [
    {
     "data": {
      "text/plain": [
       "PerspectiveCamera[\n",
       "  xfov = 45,\n",
       "  nearClip = 0.01,\n",
       "  farClip = 10000,\n",
       "  worldTransform = ref<AnimatedTransform>[ref=1, ptr=Matrix4x4[\n",
       "    1, 0, 0, 0;\n",
       "    0, 1, 0, 0;\n",
       "    0, 0, 1, -10;\n",
       "    0, 0, 0, 1\n",
       "  ]],\n",
       "  sampler = IndependentSampler[\n",
       "    sampleCount = 4\n",
       "  ],\n",
       "  film = LDRFilm[\n",
       "    size = [1920, 1080],\n",
       "    fileFormat = 0,\n",
       "    pixelFormat = rgb,\n",
       "    gamma = -1,\n",
       "    cropOffset = [0, 0],\n",
       "    cropSize = [1920, 1080],\n",
       "    banner = 1,\n",
       "    method = gamma,\n",
       "    exposure = 0,\n",
       "    reinhardKey = 0.18,\n",
       "    reinhardBurn = 0,\n",
       "    filter = GaussianFilter[stddev=0.500000, radius=2.000000]\n",
       "  ],\n",
       "  medium = ref<Medium>[null],\n",
       "  shutterOpen = 0,\n",
       "  shutterOpenTime = 0\n",
       "]"
      ]
     },
     "execution_count": 6,
     "metadata": {},
     "output_type": "execute_result"
    }
   ],
   "source": [
    "from mitsuba.render import Scene\n",
    "pmgr = PluginManager.getInstance()  # Get generic plugin manager instance\n",
    "# Encodes parameters on how to instantiate the 'perspective' plugin\n",
    "sensorProps = Properties('perspective')\n",
    "sensorProps['toWorld'] = Transform.lookAt(\n",
    "    Point(0, 0, -10), # Camera origin\n",
    "    Point(0, 0, 0), # Camera target\n",
    "    Vector(0, 1, 0) # 'up' vector\n",
    "    )\n",
    "sensorProps['fov'] = 45.0\n",
    "# Encodes parameters on how to instantiate the 'ldrfilm' plugin\n",
    "filmProps = Properties('ldrfilm')\n",
    "filmProps['width'] = 1920\n",
    "filmProps['height'] = 1080\n",
    "# Load and instantiate the plugins\n",
    "sensor = pmgr.createObject(sensorProps)\n",
    "film = pmgr.createObject(filmProps)\n",
    "# First configure the film and then add it to the sensor\n",
    "film.configure()\n",
    "sensor.addChild('film', film)\n",
    "# Now, the sensor can be configured\n",
    "sensor.configure()\n",
    "# Print the sensor\n",
    "sensor"
   ]
  },
  {
   "cell_type": "markdown",
   "metadata": {},
   "source": [
    "## Creating a Scene using Dictionaries\n",
    "The following cell shows how to do the same sensor/film creation using dictionaries instead. This sensor/film has the same properties as that created in the previous cell."
   ]
  },
  {
   "cell_type": "code",
   "execution_count": 7,
   "metadata": {
    "collapsed": false
   },
   "outputs": [],
   "source": [
    "pmgr = PluginManager.getInstance()\n",
    "sensor = pmgr.create({\n",
    "    'type' : 'perspective',\n",
    "    'toWorld' : Transform.lookAt(\n",
    "        Point(0, 0, -10),\n",
    "        Point(0, 0, 0),\n",
    "        Vector(0, 1, 0)\n",
    "    ),\n",
    "    'film' : {\n",
    "        'type' : 'ldrfilm',\n",
    "        'width' : 1920,\n",
    "        'height' : 1080\n",
    "    }\n",
    "})\n",
    "# Now, the sensor can be configured\n",
    "sensor.configure()"
   ]
  },
  {
   "cell_type": "code",
   "execution_count": 8,
   "metadata": {
    "collapsed": false
   },
   "outputs": [
    {
     "data": {
      "text/plain": [
       "PerspectiveCamera[\n",
       "  xfov = 41.323,\n",
       "  nearClip = 0.01,\n",
       "  farClip = 10000,\n",
       "  worldTransform = ref<AnimatedTransform>[ref=1, ptr=Matrix4x4[\n",
       "    1, 0, 0, 0;\n",
       "    0, 1, 0, 0;\n",
       "    0, 0, 1, -10;\n",
       "    0, 0, 0, 1\n",
       "  ]],\n",
       "  sampler = IndependentSampler[\n",
       "    sampleCount = 4\n",
       "  ],\n",
       "  film = LDRFilm[\n",
       "    size = [1920, 1080],\n",
       "    fileFormat = 0,\n",
       "    pixelFormat = rgb,\n",
       "    gamma = -1,\n",
       "    cropOffset = [0, 0],\n",
       "    cropSize = [1920, 1080],\n",
       "    banner = 1,\n",
       "    method = gamma,\n",
       "    exposure = 0,\n",
       "    reinhardKey = 0.18,\n",
       "    reinhardBurn = 0,\n",
       "    filter = GaussianFilter[stddev=0.500000, radius=2.000000]\n",
       "  ],\n",
       "  medium = ref<Medium>[null],\n",
       "  shutterOpen = 0,\n",
       "  shutterOpenTime = 0\n",
       "]"
      ]
     },
     "execution_count": 8,
     "metadata": {},
     "output_type": "execute_result"
    }
   ],
   "source": [
    "# Print out the sensor plugin instance\n",
    "# Note how there are considerably more properties that has been given default values\n",
    "sensor"
   ]
  },
  {
   "cell_type": "markdown",
   "metadata": {},
   "source": [
    "## Full Scene Creation\n",
    "The previous examples only provided snippets of a scene. The following is a full scene creation example from the Mitsuba manual."
   ]
  },
  {
   "cell_type": "code",
   "execution_count": 19,
   "metadata": {
    "collapsed": true
   },
   "outputs": [],
   "source": [
    "full_scene = Scene()\n",
    "# Create a sensor, film & sample generator\n",
    "full_scene.addChild(pmgr.create({\n",
    "    'type' : 'perspective',\n",
    "    'toWorld' : Transform.lookAt(\n",
    "        Point(0, 0, -10),\n",
    "        Point(0, 0, 0),\n",
    "        Vector(0, 1, 0)\n",
    "    ),\n",
    "    'film' : {\n",
    "        'type' : 'ldrfilm',\n",
    "                'width' : 1920,\n",
    "                'height' : 1080\n",
    "    },\n",
    "    'sampler' : {\n",
    "        'type' : 'ldsampler',\n",
    "        'sampleCount' : 2\n",
    "    }\n",
    "}))\n",
    "# Set the integrator\n",
    "full_scene.addChild(pmgr.create({\n",
    "    'type' : 'path'\n",
    "}))\n",
    "# Add a light source\n",
    "full_scene.addChild(pmgr.create({\n",
    "    'type' : 'point',\n",
    "    'position' : Point(5, 0, -10),\n",
    "    'intensity' : Spectrum(100)\n",
    "}))\n",
    "# Add a shape\n",
    "full_scene.addChild(pmgr.create({\n",
    "    'type' : 'sphere',\n",
    "    'center' : Point(0, 0, 0),\n",
    "    'radius' : 1.0,\n",
    "    'bsdf' : {\n",
    "        'type' : 'diffuse',\n",
    "        'reflectance' : Spectrum(0.4)\n",
    "    }\n",
    "}))\n",
    "full_scene.setDestinationFile('ball')  # Set the name of the render output file\n",
    "# By default, the output file will be a .png\n",
    "full_scene.configure()"
   ]
  },
  {
   "cell_type": "code",
   "execution_count": 20,
   "metadata": {
    "collapsed": false
   },
   "outputs": [
    {
     "name": "stdout",
     "output_type": "stream",
     "text": [
      "------------------------------------------------------------\n",
      " * Loaded plugins :\n",
      "    -  plugins\\diffuse.dll [Smooth diffuse BRDF]\n",
      "    -  plugins\\direct.dll [Direct illumination integrator]\n",
      "    -  plugins\\envmap.dll [Environment map]\n",
      "    -  plugins\\gaussian.dll [Gaussian reconstruction filter]\n",
      "    -  plugins\\halton.dll [Halton QMC sampler]\n",
      "    -  plugins\\hdrfilm.dll [High dynamic range film]\n",
      "    -  plugins\\independent.dll [Independent sampler]\n",
      "    -  plugins\\lanczos.dll [Lanczos Sinc filter]\n",
      "    -  plugins\\ldrfilm.dll [Low dynamic range film]\n",
      "    -  plugins\\ldsampler.dll [Low discrepancy sampler]\n",
      "    -  plugins\\path.dll [MI path tracer]\n",
      "    -  plugins\\perspective.dll [Perspective camera]\n",
      "    -  plugins\\point.dll [Point emitter]\n",
      "    -  plugins\\rectangle.dll [Rectangle intersection primitive]\n",
      "    -  plugins\\sky.dll [Skylight emitter]\n",
      "    -  plugins\\sphere.dll [Sphere intersection primitive]\n",
      "    -  plugins\\sunsky.dll [Sun & sky emitter]\n",
      "\n",
      "  * General :\n",
      "    -  Normal rays traced : 267.325 M\n",
      "    -  Shadow rays traced : 53.557 M\n",
      "\n",
      "  * Path tracer :\n",
      "    -  Average path length : 1.02 (209.21 M / 205.47 M)\n",
      "\n",
      "  * Texture system :\n",
      "    -  Cumulative MIP map memory allocations : 1 MiB\n",
      "    -  Filtered texture lookups : 50.54 % (152.74 M of 302.23 M)\n",
      "    -  Lookups with clamped anisotropy : 0.00 % (0.00 of 152.74 M)\n",
      "------------------------------------------------------------\n"
     ]
    }
   ],
   "source": [
    "# Render the full scene just created using the existing job queus\n",
    "job = RenderJob('myRenderJob', full_scene, queue)\n",
    "job.start()\n",
    "# Wait for all jobs to finish and release resources\n",
    "queue.waitLeft(0)\n",
    "queue.join()\n",
    "# Print some statistics about the rendering process\n",
    "print(Statistics.getInstance().getStats())"
   ]
  },
  {
   "cell_type": "code",
   "execution_count": 21,
   "metadata": {
    "collapsed": false
   },
   "outputs": [
    {
     "data": {
      "text/plain": [
       "<matplotlib.image.AxesImage at 0xe2e3d68>"
      ]
     },
     "execution_count": 21,
     "metadata": {},
     "output_type": "execute_result"
    },
    {
     "data": {
      "image/png": "[encoded data removed]",
      "text/plain": [
       "<matplotlib.figure.Figure at 0xdd1a400>"
      ]
     },
     "metadata": {},
     "output_type": "display_data"
    }
   ],
   "source": [
    "# Show the result\n",
    "ball_img = mpimg.imread('ball.png')\n",
    "plt.figure(figsize=(10, 5.625))\n",
    "plt.imshow(ball_img)"
   ]
  }
 ],
 "metadata": {
  "anaconda-cloud": {},
  "kernelspec": {
   "display_name": "Python [mordevpy27]",
   "language": "python",
   "name": "Python [mordevpy27]"
  },
  "language_info": {
   "codemirror_mode": {
    "name": "ipython",
    "version": 2
   },
   "file_extension": ".py",
   "mimetype": "text/x-python",
   "name": "python",
   "nbconvert_exporter": "python",
   "pygments_lexer": "ipython2",
   "version": "2.7.12"
  }
 },
 "nbformat": 4,
 "nbformat_minor": 0
}
