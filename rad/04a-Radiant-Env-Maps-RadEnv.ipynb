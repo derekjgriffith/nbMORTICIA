{
 "cells": [
  {
   "cell_type": "markdown",
   "metadata": {},
   "source": [
    "# Radiant Environment Maps"
   ]
  },
  {
   "cell_type": "markdown",
   "metadata": {},
   "source": [
    "Radiant Environment Maps (REMs, also called \"light-probes\" or \"skydomes\" in different contexts) define the amount of light (radiance) travelling in all directions at a point in the Earth atmosphere. REMs can be computed using libRadtran with the radiance options ('umu' and 'phi') that allow specification of the directions in which one would like to compute the radiance. Most of the solvers in libRadtran can compute radiances, including all the variants of DISORT. One the basic capabilities in MORTICIA is to compute REMs and then to compute (\"render\") the appearance of targets in a specific radiant environment. This notebook illustrates the computation of REMs using libRadtran.\n",
    "\n",
    "libRadtran has a number of k-distribution (also called \"correlated-k\") atmospheric absorption parametrizations. These models allow for more rapid computation of radiances and irradiances, but with limited spectral resolution. One such model for the shortwave spectrum is that by Kato et. al. For the thermal spectrum, there is the Fu parametrization. Read the libRadtran manual for more details. Here, we will use the Kato model to compute the sky/ground appearance as provided by a REM.\n",
    "\n",
    "The MORTICIA class used for REM computation is morticia.rad.librad.RadEnv."
   ]
  },
  {
   "cell_type": "code",
   "execution_count": 1,
   "metadata": {
    "collapsed": false
   },
   "outputs": [],
   "source": [
    "import morticia.rad.librad as librad\n",
    "# Use auto reload of librad for development purposes\n",
    "%load_ext autoreload\n",
    "%autoreload 1\n",
    "%aimport morticia.rad.librad\n",
    "import numpy as np\n",
    "import matplotlib as mpl\n",
    "import matplotlib.pyplot as plt\n",
    "from ipyparallel import Client  # This is the client class for contacting the hub/controller\n",
    "\n",
    "%matplotlib inline"
   ]
  },
  {
   "cell_type": "code",
   "execution_count": 420,
   "metadata": {
    "collapsed": false
   },
   "outputs": [],
   "source": [
    "# Load a libRadtran example case\n",
    "# Be default, any include files are expanded, creating a single set of option keywords\n",
    "libRadCaseA=librad.Case(filename='./examples/UVSPEC_AEROSOL_1WVL.INP')\n",
    "libRadCaseA.alter_option(['albedo', '0.5'])\n",
    "libRadCaseA.alter_option(['phi0', '0.0'])\n",
    "libRadCaseA.alter_option(['wavelength', '500.0'])\n",
    "libRadCaseA.alter_option(['zout', 'boa','0.5', '5.0', 'toa'])\n",
    "#libRadCaseA.alter_option(['number_of_streams', '32'])\n",
    "#libRadCaseA.alter_option(['pseudospherical', ''])\n",
    "libRadCaseA.alter_option(['zout_interpolate'])\n",
    "libRadCaseB=librad.Case(filename='./examples/UVSPEC_AEROSOL_1WVL.INP')\n",
    "libRadCaseB.alter_option(['albedo', '0.5'])\n",
    "libRadCaseB.alter_option(['phi0', '45.0'])\n"
   ]
  },
  {
   "cell_type": "code",
   "execution_count": 421,
   "metadata": {
    "collapsed": false
   },
   "outputs": [],
   "source": [
    "# Build a radiant environment map case\n",
    "libRadEnvh = librad.RadEnv(base_case=libRadCaseA, n_pol=256, n_azi=128, hemi=True, n_sza=20)\n",
    "libRadEnvf = librad.RadEnv(base_case=libRadCaseB, n_pol=256, n_azi=256, hemi=False)"
   ]
  },
  {
   "cell_type": "code",
   "execution_count": 220,
   "metadata": {
    "collapsed": false
   },
   "outputs": [],
   "source": [
    "# Create a client and connect to the profile defined when the ipyparallel controller hub was started\n",
    "# The file was created on the cluster host (called icebow) in the file\n",
    "# \\\\146.64.246.95\\dgriffith\\.ipython\\profile_default\\security\\ipcontroller-client.json\n",
    "# This file must be copied (*every* time the ipcontroller is restarted) to the localhost e.g. to\n",
    "# C:\\Users\\DGriffith\\.ipython\\profile_icebow\\security\\ipcontroller-client.json\n",
    "paraclient = Client(profile='icebow', sshserver='dgriffith@146.64.246.95', password='dgIceBow')"
   ]
  },
  {
   "cell_type": "code",
   "execution_count": 61,
   "metadata": {
    "collapsed": false
   },
   "outputs": [
    {
     "data": {
      "text/plain": [
       "<AsyncResult: use_dill>"
      ]
     },
     "execution_count": 61,
     "metadata": {},
     "output_type": "execute_result"
    }
   ],
   "source": [
    "paraclient[:].use_dill()"
   ]
  },
  {
   "cell_type": "code",
   "execution_count": 62,
   "metadata": {
    "collapsed": true
   },
   "outputs": [],
   "source": [
    "# Obtain a \"load-balanced\" view of the engine cluster\n",
    "paraview = paraclient.load_balanced_view()\n",
    "# Set the view to blocking mode, which means that we wait for all engines to complete the task before\n",
    "# control is returned to the client\n",
    "paraview.block = True"
   ]
  },
  {
   "cell_type": "code",
   "execution_count": 422,
   "metadata": {
    "collapsed": false
   },
   "outputs": [
    {
     "name": "stdout",
     "output_type": "stream",
     "text": [
      "Wall time: 3.58 s\n"
     ]
    }
   ],
   "source": [
    "%time libRadEnvh.run_ipyparallel(ipyparallel_view=paraview)\n",
    "#%time libRadEnvf.run_ipyparallel(ipyparallel_view=paraview)"
   ]
  },
  {
   "cell_type": "code",
   "execution_count": 2,
   "metadata": {
    "collapsed": true
   },
   "outputs": [],
   "source": [
    "import dill"
   ]
  },
  {
   "cell_type": "code",
   "execution_count": 445,
   "metadata": {
    "collapsed": false
   },
   "outputs": [],
   "source": [
    "dill.dump(libRadEnvh, open( \"libRadEnvh.dill\", \"wb\" ) )\n",
    "#dill.dump(libRadEnvf, open( \"libRadEnvf.dill\", \"wb\" ) )"
   ]
  },
  {
   "cell_type": "code",
   "execution_count": 3,
   "metadata": {
    "collapsed": false
   },
   "outputs": [],
   "source": [
    "with open(\"libRadEnvh.dill\", 'rb') as in_strm:\n",
    "     libRadEnvh = dill.load(in_strm)"
   ]
  },
  {
   "cell_type": "code",
   "execution_count": 4,
   "metadata": {
    "collapsed": false
   },
   "outputs": [
    {
     "name": "stdout",
     "output_type": "stream",
     "text": [
      "Wall time: 601 ms\n"
     ]
    },
    {
     "ename": "NameError",
     "evalue": "name 'libRadEnvf' is not defined",
     "output_type": "error",
     "traceback": [
      "\u001b[1;31m---------------------------------------------------------------------------\u001b[0m",
      "\u001b[1;31mNameError\u001b[0m                                 Traceback (most recent call last)",
      "\u001b[1;32m<ipython-input-4-80a56375b209>\u001b[0m in \u001b[0;36m<module>\u001b[1;34m()\u001b[0m\n\u001b[0;32m      1\u001b[0m \u001b[0mN\u001b[0m \u001b[1;33m=\u001b[0m \u001b[1;36m4\u001b[0m\u001b[1;33m\u001b[0m\u001b[0m\n\u001b[0;32m      2\u001b[0m \u001b[0mget_ipython\u001b[0m\u001b[1;33m(\u001b[0m\u001b[1;33m)\u001b[0m\u001b[1;33m.\u001b[0m\u001b[0mmagic\u001b[0m\u001b[1;33m(\u001b[0m\u001b[1;34mu\"time shh = libRadEnvh.sph_harm_fit(degree=N, method='trapz')\"\u001b[0m\u001b[1;33m)\u001b[0m\u001b[1;33m\u001b[0m\u001b[0m\n\u001b[1;32m----> 3\u001b[1;33m \u001b[0mget_ipython\u001b[0m\u001b[1;33m(\u001b[0m\u001b[1;33m)\u001b[0m\u001b[1;33m.\u001b[0m\u001b[0mmagic\u001b[0m\u001b[1;33m(\u001b[0m\u001b[1;34mu\"time shf = libRadEnvf.sph_harm_fit(degree=N, method='trapz')\"\u001b[0m\u001b[1;33m)\u001b[0m\u001b[1;33m\u001b[0m\u001b[0m\n\u001b[0m",
      "\u001b[1;32mC:\\Anaconda\\envs\\mordevpy27\\lib\\site-packages\\IPython\\core\\interactiveshell.pyc\u001b[0m in \u001b[0;36mmagic\u001b[1;34m(self, arg_s)\u001b[0m\n\u001b[0;32m   2334\u001b[0m         \u001b[0mmagic_name\u001b[0m\u001b[1;33m,\u001b[0m \u001b[0m_\u001b[0m\u001b[1;33m,\u001b[0m \u001b[0mmagic_arg_s\u001b[0m \u001b[1;33m=\u001b[0m \u001b[0marg_s\u001b[0m\u001b[1;33m.\u001b[0m\u001b[0mpartition\u001b[0m\u001b[1;33m(\u001b[0m\u001b[1;34m' '\u001b[0m\u001b[1;33m)\u001b[0m\u001b[1;33m\u001b[0m\u001b[0m\n\u001b[0;32m   2335\u001b[0m         \u001b[0mmagic_name\u001b[0m \u001b[1;33m=\u001b[0m \u001b[0mmagic_name\u001b[0m\u001b[1;33m.\u001b[0m\u001b[0mlstrip\u001b[0m\u001b[1;33m(\u001b[0m\u001b[0mprefilter\u001b[0m\u001b[1;33m.\u001b[0m\u001b[0mESC_MAGIC\u001b[0m\u001b[1;33m)\u001b[0m\u001b[1;33m\u001b[0m\u001b[0m\n\u001b[1;32m-> 2336\u001b[1;33m         \u001b[1;32mreturn\u001b[0m \u001b[0mself\u001b[0m\u001b[1;33m.\u001b[0m\u001b[0mrun_line_magic\u001b[0m\u001b[1;33m(\u001b[0m\u001b[0mmagic_name\u001b[0m\u001b[1;33m,\u001b[0m \u001b[0mmagic_arg_s\u001b[0m\u001b[1;33m)\u001b[0m\u001b[1;33m\u001b[0m\u001b[0m\n\u001b[0m\u001b[0;32m   2337\u001b[0m \u001b[1;33m\u001b[0m\u001b[0m\n\u001b[0;32m   2338\u001b[0m     \u001b[1;31m#-------------------------------------------------------------------------\u001b[0m\u001b[1;33m\u001b[0m\u001b[1;33m\u001b[0m\u001b[0m\n",
      "\u001b[1;32mC:\\Anaconda\\envs\\mordevpy27\\lib\\site-packages\\IPython\\core\\interactiveshell.pyc\u001b[0m in \u001b[0;36mrun_line_magic\u001b[1;34m(self, magic_name, line)\u001b[0m\n\u001b[0;32m   2255\u001b[0m                 \u001b[0mkwargs\u001b[0m\u001b[1;33m[\u001b[0m\u001b[1;34m'local_ns'\u001b[0m\u001b[1;33m]\u001b[0m \u001b[1;33m=\u001b[0m \u001b[0msys\u001b[0m\u001b[1;33m.\u001b[0m\u001b[0m_getframe\u001b[0m\u001b[1;33m(\u001b[0m\u001b[0mstack_depth\u001b[0m\u001b[1;33m)\u001b[0m\u001b[1;33m.\u001b[0m\u001b[0mf_locals\u001b[0m\u001b[1;33m\u001b[0m\u001b[0m\n\u001b[0;32m   2256\u001b[0m             \u001b[1;32mwith\u001b[0m \u001b[0mself\u001b[0m\u001b[1;33m.\u001b[0m\u001b[0mbuiltin_trap\u001b[0m\u001b[1;33m:\u001b[0m\u001b[1;33m\u001b[0m\u001b[0m\n\u001b[1;32m-> 2257\u001b[1;33m                 \u001b[0mresult\u001b[0m \u001b[1;33m=\u001b[0m \u001b[0mfn\u001b[0m\u001b[1;33m(\u001b[0m\u001b[1;33m*\u001b[0m\u001b[0margs\u001b[0m\u001b[1;33m,\u001b[0m\u001b[1;33m**\u001b[0m\u001b[0mkwargs\u001b[0m\u001b[1;33m)\u001b[0m\u001b[1;33m\u001b[0m\u001b[0m\n\u001b[0m\u001b[0;32m   2258\u001b[0m             \u001b[1;32mreturn\u001b[0m \u001b[0mresult\u001b[0m\u001b[1;33m\u001b[0m\u001b[0m\n\u001b[0;32m   2259\u001b[0m \u001b[1;33m\u001b[0m\u001b[0m\n",
      "\u001b[1;32m<decorator-gen-61>\u001b[0m in \u001b[0;36mtime\u001b[1;34m(self, line, cell, local_ns)\u001b[0m\n",
      "\u001b[1;32mC:\\Anaconda\\envs\\mordevpy27\\lib\\site-packages\\IPython\\core\\magic.pyc\u001b[0m in \u001b[0;36m<lambda>\u001b[1;34m(f, *a, **k)\u001b[0m\n\u001b[0;32m    191\u001b[0m     \u001b[1;31m# but it's overkill for just that one bit of state.\u001b[0m\u001b[1;33m\u001b[0m\u001b[1;33m\u001b[0m\u001b[0m\n\u001b[0;32m    192\u001b[0m     \u001b[1;32mdef\u001b[0m \u001b[0mmagic_deco\u001b[0m\u001b[1;33m(\u001b[0m\u001b[0marg\u001b[0m\u001b[1;33m)\u001b[0m\u001b[1;33m:\u001b[0m\u001b[1;33m\u001b[0m\u001b[0m\n\u001b[1;32m--> 193\u001b[1;33m         \u001b[0mcall\u001b[0m \u001b[1;33m=\u001b[0m \u001b[1;32mlambda\u001b[0m \u001b[0mf\u001b[0m\u001b[1;33m,\u001b[0m \u001b[1;33m*\u001b[0m\u001b[0ma\u001b[0m\u001b[1;33m,\u001b[0m \u001b[1;33m**\u001b[0m\u001b[0mk\u001b[0m\u001b[1;33m:\u001b[0m \u001b[0mf\u001b[0m\u001b[1;33m(\u001b[0m\u001b[1;33m*\u001b[0m\u001b[0ma\u001b[0m\u001b[1;33m,\u001b[0m \u001b[1;33m**\u001b[0m\u001b[0mk\u001b[0m\u001b[1;33m)\u001b[0m\u001b[1;33m\u001b[0m\u001b[0m\n\u001b[0m\u001b[0;32m    194\u001b[0m \u001b[1;33m\u001b[0m\u001b[0m\n\u001b[0;32m    195\u001b[0m         \u001b[1;32mif\u001b[0m \u001b[0mcallable\u001b[0m\u001b[1;33m(\u001b[0m\u001b[0marg\u001b[0m\u001b[1;33m)\u001b[0m\u001b[1;33m:\u001b[0m\u001b[1;33m\u001b[0m\u001b[0m\n",
      "\u001b[1;32mC:\\Anaconda\\envs\\mordevpy27\\lib\\site-packages\\IPython\\core\\magics\\execution.pyc\u001b[0m in \u001b[0;36mtime\u001b[1;34m(self, line, cell, local_ns)\u001b[0m\n\u001b[0;32m   1165\u001b[0m         \u001b[1;32melse\u001b[0m\u001b[1;33m:\u001b[0m\u001b[1;33m\u001b[0m\u001b[0m\n\u001b[0;32m   1166\u001b[0m             \u001b[0mst\u001b[0m \u001b[1;33m=\u001b[0m \u001b[0mclock2\u001b[0m\u001b[1;33m(\u001b[0m\u001b[1;33m)\u001b[0m\u001b[1;33m\u001b[0m\u001b[0m\n\u001b[1;32m-> 1167\u001b[1;33m             \u001b[1;32mexec\u001b[0m\u001b[1;33m(\u001b[0m\u001b[0mcode\u001b[0m\u001b[1;33m,\u001b[0m \u001b[0mglob\u001b[0m\u001b[1;33m,\u001b[0m \u001b[0mlocal_ns\u001b[0m\u001b[1;33m)\u001b[0m\u001b[1;33m\u001b[0m\u001b[0m\n\u001b[0m\u001b[0;32m   1168\u001b[0m             \u001b[0mend\u001b[0m \u001b[1;33m=\u001b[0m \u001b[0mclock2\u001b[0m\u001b[1;33m(\u001b[0m\u001b[1;33m)\u001b[0m\u001b[1;33m\u001b[0m\u001b[0m\n\u001b[0;32m   1169\u001b[0m             \u001b[0mout\u001b[0m \u001b[1;33m=\u001b[0m \u001b[0mNone\u001b[0m\u001b[1;33m\u001b[0m\u001b[0m\n",
      "\u001b[1;32m<timed exec>\u001b[0m in \u001b[0;36m<module>\u001b[1;34m()\u001b[0m\n",
      "\u001b[1;31mNameError\u001b[0m: name 'libRadEnvf' is not defined"
     ]
    }
   ],
   "source": [
    "N = 4\n",
    "%time shh = libRadEnvh.sph_harm_fit(degree=N, method='trapz')\n",
    "%time shf = libRadEnvf.sph_harm_fit(degree=N, method='trapz')"
   ]
  },
  {
   "cell_type": "code",
   "execution_count": null,
   "metadata": {
    "collapsed": false
   },
   "outputs": [],
   "source": [
    "for n in range(N+1):\n",
    "    for m in range(n+1):\n",
    "        print 'n = ', n, '  m = ', m, ' :  ', shh[n][m].mean().data, '   ', shf[n][m].mean().data"
   ]
  },
  {
   "cell_type": "code",
   "execution_count": null,
   "metadata": {
    "collapsed": false
   },
   "outputs": [],
   "source": [
    "c = librad.Case(filename='./examples/UVSPEC_CLOUDCOVER_REDISTRIBUTION.INP')\n",
    "c.alter_option(['cloudcover', 'wc', '0.0'])\n",
    "cenv = librad.RadEnv(base_case=c, n_pol=256, n_azi=128, hemi=True, n_sza=48)"
   ]
  },
  {
   "cell_type": "code",
   "execution_count": 9,
   "metadata": {
    "collapsed": false
   },
   "outputs": [
    {
     "data": {
      "text/plain": [
       "[0, 1, 2, 3]"
      ]
     },
     "execution_count": 9,
     "metadata": {},
     "output_type": "execute_result"
    }
   ],
   "source": [
    "range(libRadEnvh.n_levels_out)"
   ]
  },
  {
   "cell_type": "code",
   "execution_count": null,
   "metadata": {
    "collapsed": false
   },
   "outputs": [],
   "source": [
    "cenv.trans_base_case"
   ]
  },
  {
   "cell_type": "code",
   "execution_count": null,
   "metadata": {
    "collapsed": false
   },
   "outputs": [],
   "source": [
    "plt.plot(cenv.trans_vza_up.data)"
   ]
  },
  {
   "cell_type": "code",
   "execution_count": null,
   "metadata": {
    "collapsed": false
   },
   "outputs": [],
   "source": [
    "cenv.trans_vza_up"
   ]
  },
  {
   "cell_type": "code",
   "execution_count": null,
   "metadata": {
    "collapsed": false
   },
   "outputs": [],
   "source": [
    "cenv.trans_cases[1].outfile"
   ]
  },
  {
   "cell_type": "code",
   "execution_count": 342,
   "metadata": {
    "collapsed": false
   },
   "outputs": [],
   "source": [
    "libRadEnvh.compute_path_transmittance()\n",
    "libRadEnvh.compute_path_radiance()"
   ]
  },
  {
   "cell_type": "code",
   "execution_count": 175,
   "metadata": {
    "collapsed": false,
    "scrolled": false
   },
   "outputs": [
    {
     "data": {
      "text/plain": [
       "(83.9, 84.8)"
      ]
     },
     "execution_count": 175,
     "metadata": {},
     "output_type": "execute_result"
    },
    {
     "data": {
      "image/png": "[encoded data removed]",
      "text/plain": [
       "<matplotlib.figure.Figure at 0x3b632f60>"
      ]
     },
     "metadata": {},
     "output_type": "display_data"
    }
   ],
   "source": [
    "plt.figure(figsize=(15, 12))\n",
    "plt.plot(np.rad2deg(libRadEnvh.xd_opt_depth['pza'].data), libRadEnvh.xd_opt_depth[:,:,1].data)\n",
    "plt.grid()\n",
    "plt.ylim([0.0,3.5])\n",
    "plt.xlim([83.9, 84.8])"
   ]
  },
  {
   "cell_type": "code",
   "execution_count": 9,
   "metadata": {
    "collapsed": false
   },
   "outputs": [
    {
     "data": {
      "text/plain": [
       "(0.0, 10.0)"
      ]
     },
     "execution_count": 9,
     "metadata": {},
     "output_type": "execute_result"
    },
    {
     "data": {
      "image/png": "[encoded data removed]",
      "text/plain": [
       "<matplotlib.figure.Figure at 0x1c516c88>"
      ]
     },
     "metadata": {},
     "output_type": "display_data"
    }
   ],
   "source": [
    "plt.figure(figsize=(15, 12))\n",
    "plt.plot(libRadEnvh.xd_opt_depth['pza'].data, libRadEnvh.xd_opt_depth[:,0,3].data)\n",
    "plt.grid()\n",
    "plt.ylim([0.0,10.0])"
   ]
  },
  {
   "cell_type": "code",
   "execution_count": 52,
   "metadata": {
    "collapsed": false
   },
   "outputs": [
    {
     "data": {
      "text/plain": [
       "[<matplotlib.lines.Line2D at 0x247a7128>]"
      ]
     },
     "execution_count": 52,
     "metadata": {},
     "output_type": "execute_result"
    },
    {
     "data": {
      "image/png": "[encoded data removed]",
      "text/plain": [
       "<matplotlib.figure.Figure at 0x2371cb70>"
      ]
     },
     "metadata": {},
     "output_type": "display_data"
    }
   ],
   "source": [
    "plt.plot(np.rad2deg(libRadEnvh.xd_opt_depth['pza'].data))"
   ]
  },
  {
   "cell_type": "code",
   "execution_count": 375,
   "metadata": {
    "collapsed": false
   },
   "outputs": [
    {
     "data": {
      "text/plain": [
       "<matplotlib.image.AxesImage at 0x701de6d8>"
      ]
     },
     "execution_count": 375,
     "metadata": {},
     "output_type": "execute_result"
    },
    {
     "data": {
      "image/png": "[encoded data removed]",
      "text/plain": [
       "<matplotlib.figure.Figure at 0x6f60a080>"
      ]
     },
     "metadata": {},
     "output_type": "display_data"
    }
   ],
   "source": [
    "plt.figure(figsize=(10, 15))\n",
    "plt.imshow(libRadEnvh.xd_uu[:,:,0,3,0])\n"
   ]
  },
  {
   "cell_type": "code",
   "execution_count": 30,
   "metadata": {
    "collapsed": false
   },
   "outputs": [
    {
     "data": {
      "text/plain": [
       "('pza', 'paz', 'wvl', 'zout', 'stokes')"
      ]
     },
     "execution_count": 30,
     "metadata": {},
     "output_type": "execute_result"
    }
   ],
   "source": [
    "libRadEnvh.xd_uu.dims\n"
   ]
  },
  {
   "cell_type": "code",
   "execution_count": 13,
   "metadata": {
    "collapsed": false
   },
   "outputs": [
    {
     "data": {
      "text/plain": [
       "('pza', 'wvl', 'zout', 'paz', 'stokes')"
      ]
     },
     "execution_count": 13,
     "metadata": {},
     "output_type": "execute_result"
    }
   ],
   "source": [
    "libRadEnvh.xd_uu_times_tau.dims"
   ]
  },
  {
   "cell_type": "code",
   "execution_count": null,
   "metadata": {
    "collapsed": false
   },
   "outputs": [],
   "source": [
    "x1 = xray.DataArray([1.0,libRadEnvh.xd_edir.data[1,0,1]], [([0.0, 1.0])])"
   ]
  },
  {
   "cell_type": "code",
   "execution_count": null,
   "metadata": {
    "collapsed": true
   },
   "outputs": [],
   "source": [
    "x2 = xray.DataArray([5.0,6.0], [([0.0, np.inf])])"
   ]
  },
  {
   "cell_type": "code",
   "execution_count": null,
   "metadata": {
    "collapsed": false
   },
   "outputs": [],
   "source": [
    "x1+x2"
   ]
  },
  {
   "cell_type": "code",
   "execution_count": null,
   "metadata": {
    "collapsed": false
   },
   "outputs": [],
   "source": [
    "wierd = libRadEnvh.xd_edir.data[1,0,1]"
   ]
  },
  {
   "cell_type": "code",
   "execution_count": null,
   "metadata": {
    "collapsed": false
   },
   "outputs": [],
   "source": [
    "plt.plot([0.0, 1.0], [1.0, wierd])"
   ]
  },
  {
   "cell_type": "code",
   "execution_count": null,
   "metadata": {
    "collapsed": false
   },
   "outputs": [],
   "source": [
    "wierd"
   ]
  },
  {
   "cell_type": "code",
   "execution_count": null,
   "metadata": {
    "collapsed": false
   },
   "outputs": [],
   "source": [
    "wierd"
   ]
  },
  {
   "cell_type": "code",
   "execution_count": null,
   "metadata": {
    "collapsed": false
   },
   "outputs": [],
   "source": [
    "wierd"
   ]
  },
  {
   "cell_type": "code",
   "execution_count": null,
   "metadata": {
    "collapsed": false
   },
   "outputs": [],
   "source": [
    "libRadEnvh.xd_edir.plot()"
   ]
  },
  {
   "cell_type": "code",
   "execution_count": null,
   "metadata": {
    "collapsed": false
   },
   "outputs": [],
   "source": [
    "type(wierd)"
   ]
  },
  {
   "cell_type": "code",
   "execution_count": null,
   "metadata": {
    "collapsed": false
   },
   "outputs": [],
   "source": [
    "wierd"
   ]
  },
  {
   "cell_type": "code",
   "execution_count": null,
   "metadata": {
    "collapsed": false
   },
   "outputs": [],
   "source": [
    "print wierd"
   ]
  },
  {
   "cell_type": "code",
   "execution_count": null,
   "metadata": {
    "collapsed": false
   },
   "outputs": [],
   "source": [
    "repr(wierd)"
   ]
  },
  {
   "cell_type": "code",
   "execution_count": null,
   "metadata": {
    "collapsed": true
   },
   "outputs": [],
   "source": [
    "wierd1 = np.float64(repr(wierd))"
   ]
  },
  {
   "cell_type": "code",
   "execution_count": null,
   "metadata": {
    "collapsed": false
   },
   "outputs": [],
   "source": [
    "plt.plot([0.0, 1.0], [1.0, 0.999999999999])"
   ]
  },
  {
   "cell_type": "code",
   "execution_count": null,
   "metadata": {
    "collapsed": true
   },
   "outputs": [],
   "source": [
    "from scipy.interpolate import interp1d"
   ]
  },
  {
   "cell_type": "code",
   "execution_count": null,
   "metadata": {
    "collapsed": true
   },
   "outputs": [],
   "source": [
    "interpolator = interp1d([0.0, 1.0], [1.0, wierd1], )"
   ]
  },
  {
   "cell_type": "code",
   "execution_count": null,
   "metadata": {
    "collapsed": true
   },
   "outputs": [],
   "source": [
    "newrange = np.linspace(0.0,1.0,10)"
   ]
  },
  {
   "cell_type": "code",
   "execution_count": null,
   "metadata": {
    "collapsed": false
   },
   "outputs": [],
   "source": [
    "interpolator(newrange)"
   ]
  },
  {
   "cell_type": "code",
   "execution_count": null,
   "metadata": {
    "collapsed": false
   },
   "outputs": [],
   "source": [
    "libRadEnvh.xd_opt_depth[:,0,3].data"
   ]
  },
  {
   "cell_type": "code",
   "execution_count": null,
   "metadata": {
    "collapsed": false
   },
   "outputs": [],
   "source": [
    "len(libRadEnvh.xd_opt_depth[libRadEnvh.levels_out_type])"
   ]
  },
  {
   "cell_type": "code",
   "execution_count": null,
   "metadata": {
    "collapsed": false
   },
   "outputs": [],
   "source": [
    "range(10,0,-1)"
   ]
  },
  {
   "cell_type": "code",
   "execution_count": null,
   "metadata": {
    "collapsed": false
   },
   "outputs": [],
   "source": [
    "dict(space=0)"
   ]
  },
  {
   "cell_type": "code",
   "execution_count": null,
   "metadata": {
    "collapsed": false
   },
   "outputs": [],
   "source": [
    "-np.log(0.9)"
   ]
  },
  {
   "cell_type": "code",
   "execution_count": 269,
   "metadata": {
    "collapsed": false
   },
   "outputs": [
    {
     "data": {
      "text/plain": [
       "array([-0.        , -0.        , -0.        , -0.        , -0.        ,\n",
       "       -0.        , -0.        , -0.        , -0.        , -0.        ,\n",
       "       -0.        , -0.        , -0.        , -0.        , -0.        ,\n",
       "       -0.        , -0.        , -0.        , -0.        , -0.        ,\n",
       "       -0.        , -0.        , -0.        , -0.        , -0.        ,\n",
       "       -0.        , -0.        , -0.        , -0.        , -0.        ,\n",
       "       -0.        , -0.        , -0.        , -0.        , -0.        ,\n",
       "       -0.        , -0.        , -0.        , -0.        , -0.        ,\n",
       "       -0.        , -0.        , -0.        , -0.        , -0.        ,\n",
       "       -0.        , -0.        , -0.        , -0.        , -0.        ,\n",
       "       -0.        , -0.        , -0.        , -0.        , -0.        ,\n",
       "       -0.        , -0.        , -0.        , -0.        , -0.        ,\n",
       "       -0.        , -0.        , -0.        , -0.        , -0.        ,\n",
       "       -0.        , -0.        , -0.        , -0.        , -0.        ,\n",
       "       -0.        , -0.        , -0.        , -0.        , -0.        ,\n",
       "       -0.        , -0.        , -0.        , -0.        , -0.        ,\n",
       "       -0.        , -0.        , -0.        , -0.        , -0.        ,\n",
       "       -0.        , -0.        , -0.        , -0.        , -0.        ,\n",
       "       -0.        , -0.        , -0.        , -0.        , -0.        ,\n",
       "       -0.        , -0.        , -0.        , -0.        , -0.        ,\n",
       "       -0.        , -0.        , -0.        , -0.        , -0.        ,\n",
       "       -0.        , -0.        , -0.        , -0.        , -0.        ,\n",
       "       -0.        , -0.        , -0.        , -0.        , -0.        ,\n",
       "       -0.        , -0.        , -0.        , -0.        , -0.        ,\n",
       "       -0.        , -0.        , -0.        , -0.        , -0.        ,\n",
       "       -0.        , -0.        , -0.        , -0.        ,  0.37132283,\n",
       "        0.37131473,  0.3713131 ,  0.22636153,  0.21270099,  0.209959  ,\n",
       "        0.20878284,  0.18593422,  0.16112874,  0.15127351,  0.14598231,\n",
       "        0.13831671,  0.12549543,  0.11763718,  0.11232738,  0.1076872 ,\n",
       "        0.10055402,  0.09523108,  0.09110683,  0.08781731,  0.08337508,\n",
       "        0.07969447,  0.07660628,  0.07397813,  0.07113175,  0.0684815 ,\n",
       "        0.06614621,  0.06407289,  0.06206408,  0.06008538,  0.05828529,\n",
       "        0.05664067,  0.05511942,  0.05359963,  0.05218645,  0.05086905,\n",
       "        0.04963802,  0.0484588 ,  0.04733036,  0.04626293,  0.04525169,\n",
       "        0.04429231,  0.04338341,  0.04251404,  0.04168169,  0.04088404,\n",
       "        0.04012403,  0.03940899,  0.03871884,  0.0380523 ,  0.03740819,\n",
       "        0.03679396,  0.03622133,  0.03566482,  0.03512375,  0.0345975 ,\n",
       "        0.03408785,  0.03362431,  0.03317139,  0.03272871,  0.03229594,\n",
       "        0.03187275,  0.03147952,  0.03110989,  0.03074709,  0.03039091,\n",
       "        0.03004119,  0.02969774,  0.02938505,  0.02908959,  0.0287985 ,\n",
       "        0.0285117 ,  0.02822908,  0.02795056,  0.02768477,  0.02745098,\n",
       "        0.02721993,  0.02699158,  0.02676588,  0.02654278,  0.02632224,\n",
       "        0.02610551,  0.02592798,  0.02575204,  0.02557766,  0.02540483,\n",
       "        0.02523352,  0.02506371,  0.02489539,  0.02472854,  0.02458854,\n",
       "        0.02446574,  0.02434369,  0.02422241,  0.02410187,  0.02398207,\n",
       "        0.02386301,  0.02374468,  0.02362707,  0.02351017,  0.02339398,\n",
       "        0.0233319 ,  0.0232854 ,  0.02323901,  0.02319273,  0.02314655,\n",
       "        0.02310049,  0.02305453,  0.02300868,  0.02296294,  0.02291731,\n",
       "        0.02287178,  0.02282636,  0.02278104,  0.02273583,  0.02269073,\n",
       "        0.02264573,  0.02260083,  0.02255604,  0.02251135,  0.02246677,\n",
       "        0.02242229,  0.02237791,  0.02233363,  0.02228945,  0.02224538,\n",
       "        0.02220141])"
      ]
     },
     "execution_count": 269,
     "metadata": {},
     "output_type": "execute_result"
    }
   ],
   "source": [
    "libRadEnvh.xd_opt_depth[:,0,0].data"
   ]
  },
  {
   "cell_type": "code",
   "execution_count": 69,
   "metadata": {
    "collapsed": false
   },
   "outputs": [
    {
     "data": {
      "text/plain": [
       "<xray.DataArray (pza: 256, wvl: 1, zout: 4)>\n",
       "array([[[  2.22014851e-01,   2.05929887e-01,   1.54751644e-01,\n",
       "          -1.55431223e-15]],\n",
       "\n",
       "       [[  2.22050814e-01,   2.05020140e-01,   1.55098240e-01,\n",
       "           1.74113003e-08]],\n",
       "\n",
       "       [[  2.22120605e-01,   2.04195700e-01,   1.55451652e-01,\n",
       "           3.39981148e-08]],\n",
       "\n",
       "       ..., \n",
       "       [[ -0.00000000e+00,   2.22120605e-01,   2.04195700e-01,\n",
       "           1.55451652e-01]],\n",
       "\n",
       "       [[ -0.00000000e+00,   2.22050814e-01,   2.05020140e-01,\n",
       "           1.55098240e-01]],\n",
       "\n",
       "       [[ -0.00000000e+00,   2.22014851e-01,   2.05929887e-01,\n",
       "           1.54751644e-01]]])\n",
       "Coordinates:\n",
       "  * pza      (pza) float64 3.142 3.129 3.117 3.105 3.092 3.08 3.068 3.055 ...\n",
       "  * wvl      (wvl) float64 500.0\n",
       "  * zout     (zout) float64 0.0 1.0 5.0 inf"
      ]
     },
     "execution_count": 69,
     "metadata": {},
     "output_type": "execute_result"
    }
   ],
   "source": [
    "libRadEnvh.xd_opt_depth"
   ]
  },
  {
   "cell_type": "code",
   "execution_count": 15,
   "metadata": {
    "collapsed": false
   },
   "outputs": [
    {
     "data": {
      "text/plain": [
       "<xray.DataArray 'zout' (zout: 12)>\n",
       "array([  0.,   1.,   5.,  inf,   0.,   1.,   5.,  inf,   0.,   1.,   5.,\n",
       "        inf])\n",
       "Coordinates:\n",
       "  * zout     (zout) float64 0.0 1.0 5.0 inf 0.0 1.0 5.0 inf 0.0 1.0 5.0 inf\n",
       "Attributes:\n",
       "    units: km\n",
       "    long_name: Height Above Surface"
      ]
     },
     "execution_count": 15,
     "metadata": {},
     "output_type": "execute_result"
    }
   ],
   "source": [
    "libRadEnvh.path_radiance['zout']"
   ]
  },
  {
   "cell_type": "code",
   "execution_count": 435,
   "metadata": {
    "collapsed": false
   },
   "outputs": [
    {
     "data": {
      "text/plain": [
       "<function matplotlib.pyplot.colorbar>"
      ]
     },
     "execution_count": 435,
     "metadata": {},
     "output_type": "execute_result"
    },
    {
     "data": {
      "image/png": "[encoded data removed]",
      "text/plain": [
       "<matplotlib.figure.Figure at 0x7a0f8198>"
      ]
     },
     "metadata": {},
     "output_type": "display_data"
    }
   ],
   "source": [
    "plt.figure(figsize=(15, 15))\n",
    "plt.imshow(libRadEnvh.xd_path_radiance[:,:,0,3,0])\n",
    "plt.colorbar"
   ]
  },
  {
   "cell_type": "code",
   "execution_count": 283,
   "metadata": {
    "collapsed": false
   },
   "outputs": [
    {
     "data": {
      "text/plain": [
       "(0.0, 1.1)"
      ]
     },
     "execution_count": 283,
     "metadata": {},
     "output_type": "execute_result"
    },
    {
     "data": {
      "image/png": "[encoded data removed]",
      "text/plain": [
       "<matplotlib.figure.Figure at 0x55d22780>"
      ]
     },
     "metadata": {},
     "output_type": "display_data"
    }
   ],
   "source": [
    "plt.figure(figsize=(16,12))\n",
    "plt.plot(libRadEnvh.xd_trans[:,0,0])\n",
    "plt.ylim([0.0, 1.1])"
   ]
  },
  {
   "cell_type": "code",
   "execution_count": 46,
   "metadata": {
    "collapsed": false
   },
   "outputs": [
    {
     "data": {
      "text/plain": [
       "<xray.DataArray (pza: 10)>\n",
       "array([  0.        ,  25.84193276,  36.86989765,  45.572996  ,\n",
       "        53.13010235,  60.        ,  66.42182152,  72.54239688,\n",
       "        78.46304097,  84.26082952])\n",
       "Coordinates:\n",
       "  * pza      (pza) float64 0.0 0.451 0.6435 0.7954 0.9273 1.047 1.159 1.266 ..."
      ]
     },
     "execution_count": 46,
     "metadata": {},
     "output_type": "execute_result"
    }
   ],
   "source": [
    "np.rad2deg(libRadEnvh.xd_edir['pza'])"
   ]
  },
  {
   "cell_type": "code",
   "execution_count": 68,
   "metadata": {
    "collapsed": false
   },
   "outputs": [
    {
     "data": {
      "text/plain": [
       "256"
      ]
     },
     "execution_count": 68,
     "metadata": {},
     "output_type": "execute_result"
    }
   ],
   "source": [
    "len(libRadEnvh.xd_uu['pza'])"
   ]
  },
  {
   "cell_type": "code",
   "execution_count": 120,
   "metadata": {
    "collapsed": false
   },
   "outputs": [
    {
     "data": {
      "text/plain": [
       "array([-5., -8.])"
      ]
     },
     "execution_count": 120,
     "metadata": {},
     "output_type": "execute_result"
    }
   ],
   "source": [
    "np.minimum([-5, -3], [np.inf, -8])"
   ]
  },
  {
   "cell_type": "code",
   "execution_count": 298,
   "metadata": {
    "collapsed": false
   },
   "outputs": [
    {
     "data": {
      "text/plain": [
       "<xray.DataArray (pza: 256)>\n",
       "array([ 180.        ,  179.29411765,  178.58823529,  177.88235294,\n",
       "        177.17647059,  176.47058824,  175.76470588,  175.05882353,\n",
       "        174.35294118,  173.64705882,  172.94117647,  172.23529412,\n",
       "        171.52941176,  170.82352941,  170.11764706,  169.41176471,\n",
       "        168.70588235,  168.        ,  167.29411765,  166.58823529,\n",
       "        165.88235294,  165.17647059,  164.47058824,  163.76470588,\n",
       "        163.05882353,  162.35294118,  161.64705882,  160.94117647,\n",
       "        160.23529412,  159.52941176,  158.82352941,  158.11764706,\n",
       "        157.41176471,  156.70588235,  156.        ,  155.29411765,\n",
       "        154.58823529,  153.88235294,  153.17647059,  152.47058824,\n",
       "        151.76470588,  151.05882353,  150.35294118,  149.64705882,\n",
       "        148.94117647,  148.23529412,  147.52941176,  146.82352941,\n",
       "        146.11764706,  145.41176471,  144.70588235,  144.        ,\n",
       "        143.29411765,  142.58823529,  141.88235294,  141.17647059,\n",
       "        140.47058824,  139.76470588,  139.05882353,  138.35294118,\n",
       "        137.64705882,  136.94117647,  136.23529412,  135.52941176,\n",
       "        134.82352941,  134.11764706,  133.41176471,  132.70588235,\n",
       "        132.        ,  131.29411765,  130.58823529,  129.88235294,\n",
       "        129.17647059,  128.47058824,  127.76470588,  127.05882353,\n",
       "        126.35294118,  125.64705882,  124.94117647,  124.23529412,\n",
       "        123.52941176,  122.82352941,  122.11764706,  121.41176471,\n",
       "        120.70588235,  120.        ,  119.29411765,  118.58823529,\n",
       "        117.88235294,  117.17647059,  116.47058824,  115.76470588,\n",
       "        115.05882353,  114.35294118,  113.64705882,  112.94117647,\n",
       "        112.23529412,  111.52941176,  110.82352941,  110.11764706,\n",
       "        109.41176471,  108.70588235,  108.        ,  107.29411765,\n",
       "        106.58823529,  105.88235294,  105.17647059,  104.47058824,\n",
       "        103.76470588,  103.05882353,  102.35294118,  101.64705882,\n",
       "        100.94117647,  100.23529412,   99.52941176,   98.82352941,\n",
       "         98.11764706,   97.41176471,   96.70588235,   96.        ,\n",
       "         95.29411765,   94.58823529,   93.88235294,   93.17647059,\n",
       "         92.47058824,   91.76470588,   91.05882353,   90.35294118,\n",
       "         89.64705882,   88.94117647,   88.23529412,   87.52941176,\n",
       "         86.82352941,   86.11764706,   85.41176471,   84.70588235,\n",
       "         84.        ,   83.29411765,   82.58823529,   81.88235294,\n",
       "         81.17647059,   80.47058824,   79.76470588,   79.05882353,\n",
       "         78.35294118,   77.64705882,   76.94117647,   76.23529412,\n",
       "         75.52941176,   74.82352941,   74.11764706,   73.41176471,\n",
       "         72.70588235,   72.        ,   71.29411765,   70.58823529,\n",
       "         69.88235294,   69.17647059,   68.47058824,   67.76470588,\n",
       "         67.05882353,   66.35294118,   65.64705882,   64.94117647,\n",
       "         64.23529412,   63.52941176,   62.82352941,   62.11764706,\n",
       "         61.41176471,   60.70588235,   60.        ,   59.29411765,\n",
       "         58.58823529,   57.88235294,   57.17647059,   56.47058824,\n",
       "         55.76470588,   55.05882353,   54.35294118,   53.64705882,\n",
       "         52.94117647,   52.23529412,   51.52941176,   50.82352941,\n",
       "         50.11764706,   49.41176471,   48.70588235,   48.        ,\n",
       "         47.29411765,   46.58823529,   45.88235294,   45.17647059,\n",
       "         44.47058824,   43.76470588,   43.05882353,   42.35294118,\n",
       "         41.64705882,   40.94117647,   40.23529412,   39.52941176,\n",
       "         38.82352941,   38.11764706,   37.41176471,   36.70588235,\n",
       "         36.        ,   35.29411765,   34.58823529,   33.88235294,\n",
       "         33.17647059,   32.47058824,   31.76470588,   31.05882353,\n",
       "         30.35294118,   29.64705882,   28.94117647,   28.23529412,\n",
       "         27.52941176,   26.82352941,   26.11764706,   25.41176471,\n",
       "         24.70588235,   24.        ,   23.29411765,   22.58823529,\n",
       "         21.88235294,   21.17647059,   20.47058824,   19.76470588,\n",
       "         19.05882353,   18.35294118,   17.64705882,   16.94117647,\n",
       "         16.23529412,   15.52941176,   14.82352941,   14.11764706,\n",
       "         13.41176471,   12.70588235,   12.        ,   11.29411765,\n",
       "         10.58823529,    9.88235294,    9.17647059,    8.47058824,\n",
       "          7.76470588,    7.05882353,    6.35294118,    5.64705882,\n",
       "          4.94117647,    4.23529412,    3.52941176,    2.82352941,\n",
       "          2.11764706,    1.41176471,    0.70588235,    0.        ])\n",
       "Coordinates:\n",
       "  * pza      (pza) float64 3.142 3.129 3.117 3.105 3.092 3.08 3.068 3.055 ..."
      ]
     },
     "execution_count": 298,
     "metadata": {},
     "output_type": "execute_result"
    }
   ],
   "source": [
    "np.rad2deg(libRadEnvh.xd_uu['pza'])"
   ]
  },
  {
   "cell_type": "code",
   "execution_count": 297,
   "metadata": {
    "collapsed": false
   },
   "outputs": [
    {
     "data": {
      "text/plain": [
       "<xray.DataArray (pza: 21)>\n",
       "array([  0.        ,  18.19487234,  25.84193276,  31.78833062,\n",
       "        36.86989765,  41.40962211,  45.572996  ,  49.45839813,\n",
       "        53.13010235,  56.63298703,  60.        ,  63.25631605,\n",
       "        66.42182152,  69.51268489,  72.54239688,  75.52248781,\n",
       "        78.46304097,  81.37307344,  84.26082952,  87.13401602,  89.29411765])\n",
       "Coordinates:\n",
       "  * pza      (pza) float64 0.0 0.3176 0.451 0.5548 0.6435 0.7227 0.7954 ..."
      ]
     },
     "execution_count": 297,
     "metadata": {},
     "output_type": "execute_result"
    }
   ],
   "source": [
    "np.rad2deg(libRadEnvh.xd_edir['pza'])"
   ]
  },
  {
   "cell_type": "code",
   "execution_count": 293,
   "metadata": {
    "collapsed": false
   },
   "outputs": [
    {
     "data": {
      "text/plain": [
       "array([  5.58390700e-01,   5.41554500e-01,   5.23447300e-01,\n",
       "         5.03931800e-01,   4.82853100e-01,   4.60038300e-01,\n",
       "         4.35295000e-01,   4.08412200e-01,   3.79164500e-01,\n",
       "         3.47321400e-01,   3.12706300e-01,   2.75037900e-01,\n",
       "         2.34402500e-01,   1.90994800e-01,   1.45571900e-01,\n",
       "         9.98519800e-02,   5.71865700e-02,   2.31569000e-02,\n",
       "         4.22010600e-03,   5.85628500e-05,   1.87852100e-10])"
      ]
     },
     "execution_count": 293,
     "metadata": {},
     "output_type": "execute_result"
    }
   ],
   "source": [
    "libRadEnvh.xd_edir[:,0,0].data"
   ]
  },
  {
   "cell_type": "code",
   "execution_count": 299,
   "metadata": {
    "collapsed": false
   },
   "outputs": [
    {
     "data": {
      "text/plain": [
       "89.29411765"
      ]
     },
     "execution_count": 299,
     "metadata": {},
     "output_type": "execute_result"
    }
   ],
   "source": [
    "90-0.70588235"
   ]
  },
  {
   "cell_type": "code",
   "execution_count": 408,
   "metadata": {
    "collapsed": false
   },
   "outputs": [
    {
     "name": "stdout",
     "output_type": "stream",
     "text": [
      "<xray.DataArray 'specrad' ()>\n",
      "array(0.9814461227975587)\n",
      "Coordinates:\n",
      "    stokes   int64 0\n",
      "    zout     float64 inf\n",
      "    wvl      float64 500.0\n",
      "<xray.DataArray 'specrad' ()>\n",
      "array(0.2916997310191807)\n",
      "Coordinates:\n",
      "    stokes   int64 0\n",
      "    zout     float64 inf\n",
      "    wvl      float64 500.0\n"
     ]
    }
   ],
   "source": [
    "level = 3\n",
    "print (libRadEnvh.xd_path_radiance[:,:,0,level,0] / libRadEnvh.xd_uu[:,:,0,level,0]).max()\n",
    "print (libRadEnvh.xd_path_radiance[:,:,0,level,0] / libRadEnvh.xd_uu[:,:,0,level,0]).mean()"
   ]
  },
  {
   "cell_type": "code",
   "execution_count": 443,
   "metadata": {
    "collapsed": false
   },
   "outputs": [
    {
     "data": {
      "text/plain": [
       "1.0"
      ]
     },
     "execution_count": 443,
     "metadata": {},
     "output_type": "execute_result"
    }
   ],
   "source": [
    "libRadEnvh.xd_trans.data.max()"
   ]
  },
  {
   "cell_type": "code",
   "execution_count": null,
   "metadata": {
    "collapsed": true
   },
   "outputs": [],
   "source": []
  }
 ],
 "metadata": {
  "kernelspec": {
   "display_name": "Python 2",
   "language": "python",
   "name": "python2"
  },
  "language_info": {
   "codemirror_mode": {
    "name": "ipython",
    "version": 2
   },
   "file_extension": ".py",
   "mimetype": "text/x-python",
   "name": "python",
   "nbconvert_exporter": "python",
   "pygments_lexer": "ipython2",
   "version": "2.7.11"
  }
 },
 "nbformat": 4,
 "nbformat_minor": 0
}
