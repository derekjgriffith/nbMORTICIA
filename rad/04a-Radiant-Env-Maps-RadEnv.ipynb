{
 "cells": [
  {
   "cell_type": "markdown",
   "metadata": {},
   "source": [
    "# Radiant Environment Maps"
   ]
  },
  {
   "cell_type": "markdown",
   "metadata": {},
   "source": [
    "Radiant Environment Maps (REMs, also called \"light-probes\" or \"skydomes\" in different contexts) define the amount of light (radiance) travelling in all directions at a point in the Earth atmosphere. REMs can be computed using libRadtran with the radiance options ('umu' and 'phi') that allow specification of the directions in which one would like to compute the radiance. Most of the solvers in libRadtran can compute radiances, including all the variants of DISORT. One the basic capabilities in MORTICIA is to compute REMs and then to compute (\"render\") the appearance of targets in a specific radiant environment. This notebook illustrates the computation of REMs using libRadtran.\n",
    "\n",
    "libRadtran has a number of k-distribution (also called \"correlated-k\") atmospheric absorption parametrizations. These models allow for more rapid computation of radiances and irradiances, but with limited spectral resolution. One such model for the shortwave spectrum is that by Kato et. al. For the thermal spectrum, there is the Fu parametrization. Read the libRadtran manual for more details. Here, we will use the Kato model to compute the sky/ground appearance as provided by a REM.\n",
    "\n",
    "The MORTICIA class used for REM computation is morticia.rad.librad.RadEnv."
   ]
  },
  {
   "cell_type": "code",
   "execution_count": 1,
   "metadata": {
    "collapsed": false
   },
   "outputs": [],
   "source": [
    "import morticia.rad.librad as librad\n",
    "# Use auto reload of librad for development purposes\n",
    "%load_ext autoreload\n",
    "%autoreload 1\n",
    "%aimport morticia.rad.librad\n",
    "import numpy as np\n",
    "import matplotlib as mpl\n",
    "import matplotlib.pyplot as plt\n",
    "from ipyparallel import Client  # This is the client class for contacting the hub/controller\n",
    "\n",
    "%matplotlib inline"
   ]
  },
  {
   "cell_type": "code",
   "execution_count": 2,
   "metadata": {
    "collapsed": false
   },
   "outputs": [
    {
     "name": "stdout",
     "output_type": "stream",
     "text": [
      "atmosphere_file ../data/atmmod/afglus.dat\n",
      "source solar ../data/solar_flux/atlas_plus_modtran\n",
      "mol_modify O3 300. DU\n",
      "day_of_year 170\n",
      "albedo 0.2\n",
      "sza 32.0\n",
      "rte_solver disort\n",
      "number_of_streams 6\n",
      "wavelength 299.0 341.0\n",
      "slit_function_file ../examples/TRI_SLIT.DAT\n",
      "spline 300 340 1\n",
      "quiet \n",
      "aerosol_vulcan 1\n",
      "aerosol_haze 6\n",
      "aerosol_season 1\n",
      "aerosol_visibility 20.0\n",
      "aerosol_angstrom 1.1 0.2\n",
      "aerosol_modify ssa scale 0.85\n",
      "aerosol_modify gg set 0.70\n",
      "aerosol_file tau ../examples/AERO_TAU.DAT\n"
     ]
    }
   ],
   "source": [
    "        >>> libRadCase = librad.Case(filename='./examples/UVSPEC_AEROSOL.INP')  # Read uvspec input and expand includes\n",
    "        >>> print libRadCase   # This prints the uvspec input file"
   ]
  },
  {
   "cell_type": "code",
   "execution_count": null,
   "metadata": {
    "collapsed": false
   },
   "outputs": [],
   "source": [
    "# Load a libRadtran example case\n",
    "# Be default, any include files are expanded, creating a single set of option keywords\n",
    "libRadCaseA=librad.Case(filename='./examples/UVSPEC_AEROSOL_1WVL.INP')\n",
    "libRadCaseA.alter_option(['albedo', '0.5'])\n",
    "libRadCaseA.alter_option(['phi0', '0.0'])\n",
    "libRadCaseB=librad.Case(filename='./examples/UVSPEC_AEROSOL_1WVL.INP')\n",
    "libRadCaseB.alter_option(['albedo', '0.5'])\n",
    "libRadCaseB.alter_option(['phi0', '0.0'])"
   ]
  },
  {
   "cell_type": "code",
   "execution_count": null,
   "metadata": {
    "collapsed": false
   },
   "outputs": [],
   "source": [
    "# Build a radiant environment map case\n",
    "libRadEnvh = librad.RadEnv(base_case=libRadCaseA, n_pol=256, n_azi=128, hemi=True)\n",
    "libRadEnvf = librad.RadEnv(base_case=libRadCaseB, n_pol=256, n_azi=256, hemi=False)"
   ]
  },
  {
   "cell_type": "code",
   "execution_count": null,
   "metadata": {
    "collapsed": true
   },
   "outputs": [],
   "source": [
    "paraclient = Client(profile='icebow', sshserver='dgriffith@146.64.246.95', password='dgIceBow')"
   ]
  },
  {
   "cell_type": "code",
   "execution_count": null,
   "metadata": {
    "collapsed": false
   },
   "outputs": [],
   "source": [
    "paraclient[:].use_dill()"
   ]
  },
  {
   "cell_type": "code",
   "execution_count": null,
   "metadata": {
    "collapsed": true
   },
   "outputs": [],
   "source": [
    "# Obtain a \"load-balanced\" view of the engine cluster\n",
    "paraview = paraclient.load_balanced_view()\n",
    "# Set the view to blocking mode, which means that we wait for all engines to complete the task before\n",
    "# control is returned to the client\n",
    "paraview.block = True"
   ]
  },
  {
   "cell_type": "code",
   "execution_count": null,
   "metadata": {
    "collapsed": false
   },
   "outputs": [],
   "source": [
    "%time libRadEnvh.run_ipyparallel(ipyparallel_view=paraview)\n",
    "%time libRadEnvf.run_ipyparallel(ipyparallel_view=paraview)"
   ]
  },
  {
   "cell_type": "code",
   "execution_count": null,
   "metadata": {
    "collapsed": true
   },
   "outputs": [],
   "source": [
    "import dill"
   ]
  },
  {
   "cell_type": "code",
   "execution_count": null,
   "metadata": {
    "collapsed": false
   },
   "outputs": [],
   "source": [
    "dill.dump(libRadEnvh, open( \"libRadEnvh.dill\", \"wb\" ) )\n",
    "dill.dump(libRadEnvf, open( \"libRadEnvf.dill\", \"wb\" ) )"
   ]
  },
  {
   "cell_type": "code",
   "execution_count": null,
   "metadata": {
    "collapsed": false
   },
   "outputs": [],
   "source": [
    "with open(\"libRadEnv.dill\", 'rb') as in_strm:\n",
    "     libRadEnv = dill.load(in_strm)"
   ]
  },
  {
   "cell_type": "code",
   "execution_count": null,
   "metadata": {
    "collapsed": false
   },
   "outputs": [],
   "source": [
    "print libRadEnvf.hemi, libRadEnvh.hemi"
   ]
  },
  {
   "cell_type": "code",
   "execution_count": null,
   "metadata": {
    "collapsed": false
   },
   "outputs": [],
   "source": [
    "%time shh = libRadEnvh.sph_harm_fit(degree=4, method='sum')\n",
    "%time shf = libRadEnvf.sph_harm_fit(degree=4, method='sum')"
   ]
  },
  {
   "cell_type": "code",
   "execution_count": null,
   "metadata": {
    "collapsed": false
   },
   "outputs": [],
   "source": [
    "#from scipy.special import factorial\n",
    "#Knm = np.sqrt((2*n+1.0)/(np.pi*4)*factorial(n-m)/factorial(n+m))\n",
    "n, m = 2, 0\n",
    "print shf[n][m].values.squeeze()\n",
    "print shh[n][m].values.squeeze()\n",
    "print (shf[n][m].values.squeeze()/shh[n][m].values.squeeze()).mean()\n",
    "#print 1.0/Knm"
   ]
  },
  {
   "cell_type": "code",
   "execution_count": null,
   "metadata": {
    "collapsed": false
   },
   "outputs": [],
   "source": [
    "sh[2][2].data.squeeze()"
   ]
  },
  {
   "cell_type": "code",
   "execution_count": null,
   "metadata": {
    "collapsed": true
   },
   "outputs": [],
   "source": [
    "from itertools import chain"
   ]
  },
  {
   "cell_type": "code",
   "execution_count": null,
   "metadata": {
    "collapsed": true
   },
   "outputs": [],
   "source": [
    "cc = list(chain(*libRadEnv.cases))"
   ]
  },
  {
   "cell_type": "code",
   "execution_count": null,
   "metadata": {
    "collapsed": false
   },
   "outputs": [],
   "source": [
    "cc[3].alter_option(['sza','0.555'])"
   ]
  },
  {
   "cell_type": "code",
   "execution_count": null,
   "metadata": {
    "collapsed": false
   },
   "outputs": [],
   "source": [
    "cc[3]"
   ]
  },
  {
   "cell_type": "code",
   "execution_count": null,
   "metadata": {
    "collapsed": false
   },
   "outputs": [],
   "source": [
    "libRadEnv.cases[1][1]"
   ]
  },
  {
   "cell_type": "code",
   "execution_count": null,
   "metadata": {
    "collapsed": false
   },
   "outputs": [],
   "source": [
    "np.append([1,2], [3,4])"
   ]
  },
  {
   "cell_type": "code",
   "execution_count": null,
   "metadata": {
    "collapsed": false
   },
   "outputs": [],
   "source": [
    "xd_uu = xray.concat([xray.concat([case_uu.xd_uu for case_uu in libRadEnv.cases[jj]], dim='phi') \n",
    "                     for jj in range(len(libRadEnv.cases))], dim='umu')"
   ]
  },
  {
   "cell_type": "code",
   "execution_count": null,
   "metadata": {
    "collapsed": false
   },
   "outputs": [],
   "source": [
    "len(libRadEnv.cases)"
   ]
  },
  {
   "cell_type": "code",
   "execution_count": null,
   "metadata": {
    "collapsed": false
   },
   "outputs": [],
   "source": [
    "plt.figure(figsize=(10,10))\n",
    "plt.imshow(libRadEnvf.xd_uu[:,:,1,0,0])"
   ]
  },
  {
   "cell_type": "code",
   "execution_count": null,
   "metadata": {
    "collapsed": false
   },
   "outputs": [],
   "source": [
    "libRadEnvh.xd_uu.max()"
   ]
  },
  {
   "cell_type": "code",
   "execution_count": null,
   "metadata": {
    "collapsed": false
   },
   "outputs": [],
   "source": [
    "libRadEnv.cases[0][0].name"
   ]
  },
  {
   "cell_type": "code",
   "execution_count": null,
   "metadata": {
    "collapsed": false
   },
   "outputs": [],
   "source": [
    "libRadCase.name"
   ]
  },
  {
   "cell_type": "code",
   "execution_count": null,
   "metadata": {
    "collapsed": false
   },
   "outputs": [],
   "source": [
    "plt.plot((libRadEnvf.paz.data))"
   ]
  },
  {
   "cell_type": "code",
   "execution_count": null,
   "metadata": {
    "collapsed": false
   },
   "outputs": [],
   "source": [
    "(libRadEnvh.xd_uu/libRadEnvh.xd_uu).data.squeeze()"
   ]
  },
  {
   "cell_type": "code",
   "execution_count": null,
   "metadata": {
    "collapsed": true
   },
   "outputs": [],
   "source": [
    "from scipy.special import sph_harm"
   ]
  },
  {
   "cell_type": "code",
   "execution_count": null,
   "metadata": {
    "collapsed": false
   },
   "outputs": [],
   "source": [
    "sph_harm(2,2,np.pi/2,np.pi/4)"
   ]
  },
  {
   "cell_type": "code",
   "execution_count": null,
   "metadata": {
    "collapsed": false
   },
   "outputs": [],
   "source": [
    "import xray\n",
    "self = libRadEnvf\n",
    "azi_angles = self.paz.data  # Propagation zenith angles in radians\n",
    "pol_angles = self.pza.data   # Propagation polar (zenith) angles in radians\n",
    "azi_ang_delta = azi_angles[1] - azi_angles[0]\n",
    "pol_ang_delta = np.abs(pol_angles[1] - pol_angles[0])\n",
    "# print azi_ang_delta, pol_ang_delta\n",
    "# Angles to be meshgridded - is this really necessary\n",
    "# TODO : Check if meshgridding is really necessary\n",
    "azi_angles, pol_angles = np.meshgrid(azi_angles, pol_angles)\n",
    "sin_pol_angles = xray.DataArray(np.sin(pol_angles), [self.pza, self.paz])"
   ]
  },
  {
   "cell_type": "code",
   "execution_count": null,
   "metadata": {
    "collapsed": false
   },
   "outputs": [],
   "source": [
    "plt.imshow(sin_pol_angles)"
   ]
  },
  {
   "cell_type": "code",
   "execution_count": null,
   "metadata": {
    "collapsed": true
   },
   "outputs": [],
   "source": [
    "from scipy.special import lpmv"
   ]
  },
  {
   "cell_type": "code",
   "execution_count": null,
   "metadata": {
    "collapsed": false
   },
   "outputs": [],
   "source": [
    "lpmv(0,0,np.array([1,2,3]))"
   ]
  },
  {
   "cell_type": "code",
   "execution_count": null,
   "metadata": {
    "collapsed": false
   },
   "outputs": [],
   "source": [
    "import numpy as np\n",
    "import scipy.special\n",
    "import matplotlib.pyplot as plt\n",
    "\n",
    "# create a figure window\n",
    "fig = plt.figure(1, figsize=(9,8))\n",
    "\n",
    "\n",
    "# Legendre polynomials\n",
    "x = np.linspace(-1, 1, 256)\n",
    "lp0 = np.polyval(scipy.special.legendre(0),x)\n",
    "lp1 = np.polyval(scipy.special.legendre(1),x)\n",
    "lp2 = np.polyval(scipy.special.legendre(2),x)\n",
    "lp3 = np.polyval(scipy.special.legendre(3),x)\n",
    "ax5 = fig.add_subplot(325)\n",
    "ax5.plot(x,lp0, x,lp1, x,lp2, x,lp3)\n",
    "ax5.axhline(color=\"grey\", ls=\"--\", zorder=-1)\n",
    "ax5.axvline(color=\"grey\", ls=\"--\", zorder=-1)\n",
    "ax5.set_ylim(-1,1.1)\n",
    "ax5.text(0.5, 0.9,'Legendre', ha='center', va='top',\n",
    "     transform = ax5.transAxes)\n"
   ]
  },
  {
   "cell_type": "code",
   "execution_count": null,
   "metadata": {
    "collapsed": false
   },
   "outputs": [],
   "source": [
    "x = libRadEnvf.xd_uu[:,:128,0,0,0] - libRadEnvh.xd_uu[:,:,0,0,0]"
   ]
  },
  {
   "cell_type": "code",
   "execution_count": null,
   "metadata": {
    "collapsed": false
   },
   "outputs": [],
   "source": [
    "x.dims"
   ]
  },
  {
   "cell_type": "code",
   "execution_count": null,
   "metadata": {
    "collapsed": false
   },
   "outputs": [],
   "source": [
    "libRadEnvh.xd_uu['pza'] - libRadEnvf.xd_uu['pza']"
   ]
  },
  {
   "cell_type": "code",
   "execution_count": null,
   "metadata": {
    "collapsed": false
   },
   "outputs": [],
   "source": [
    "libRadEnvh.xd_uu.values.shape"
   ]
  },
  {
   "cell_type": "code",
   "execution_count": null,
   "metadata": {
    "collapsed": false
   },
   "outputs": [],
   "source": [
    "libRadEnvf.paz"
   ]
  },
  {
   "cell_type": "code",
   "execution_count": null,
   "metadata": {
    "collapsed": false
   },
   "outputs": [],
   "source": [
    "(libRadEnvf.xd_uu['paz'].values - libRadEnvf.paz.values).max()"
   ]
  },
  {
   "cell_type": "code",
   "execution_count": null,
   "metadata": {
    "collapsed": false
   },
   "outputs": [],
   "source": [
    "libRadEnvf.xd_uu.isel(paz=slice(-1,-1))"
   ]
  },
  {
   "cell_type": "code",
   "execution_count": 43,
   "metadata": {
    "collapsed": false
   },
   "outputs": [],
   "source": [
    "c = librad.Case(filename='./examples/UVSPEC_CLOUDCOVER_REDISTRIBUTION.INP')\n",
    "cenv = librad.RadEnv(base_case=c, n_pol=256, n_azi=128, hemi=True, n_sza=48)"
   ]
  },
  {
   "cell_type": "code",
   "execution_count": 44,
   "metadata": {
    "collapsed": false
   },
   "outputs": [
    {
     "data": {
      "text/plain": [
       "atmosphere_file ../examples/ATMOSPHERE_IPA.DAT\n",
       "mol_modify O3 300. DU\n",
       "albedo 0.2\n",
       "sza 30.0\n",
       "rte_solver twostr\n",
       "pseudospherical \n",
       "mol_abs_param Kato\n",
       "wavelength_index 1 32\n",
       "wc_file 1D ../examples/WC50_A_R.DAT\n",
       "cloudcover wc 0.4\n",
       "interpret_as_level wc\n",
       "quiet "
      ]
     },
     "execution_count": 44,
     "metadata": {},
     "output_type": "execute_result"
    }
   ],
   "source": [
    "c"
   ]
  },
  {
   "cell_type": "code",
   "execution_count": 45,
   "metadata": {
    "collapsed": false
   },
   "outputs": [
    {
     "data": {
      "text/plain": [
       "atmosphere_file ../examples/ATMOSPHERE_IPA.DAT\n",
       "mol_modify O3 300. DU\n",
       "albedo 0.2\n",
       "sza 30.0\n",
       "rte_solver twostr\n",
       "pseudospherical \n",
       "mol_abs_param Kato\n",
       "wavelength_index 1 32\n",
       "interpret_as_level wc\n",
       "quiet \n",
       "output_quantity reflectivity"
      ]
     },
     "execution_count": 45,
     "metadata": {},
     "output_type": "execute_result"
    }
   ],
   "source": [
    "cenv.trans_base_case"
   ]
  },
  {
   "cell_type": "code",
   "execution_count": 20,
   "metadata": {
    "collapsed": false
   },
   "outputs": [
    {
     "data": {
      "text/plain": [
       "[<matplotlib.lines.Line2D at 0x1c324ba8>]"
      ]
     },
     "execution_count": 20,
     "metadata": {},
     "output_type": "execute_result"
    },
    {
     "data": {
      "image/png": "[encoded data removed]",
      "text/plain": [
       "<matplotlib.figure.Figure at 0x1baeb860>"
      ]
     },
     "metadata": {},
     "output_type": "display_data"
    }
   ],
   "source": [
    "plt.plot(cenv.trans_vza_up.data)"
   ]
  },
  {
   "cell_type": "code",
   "execution_count": 46,
   "metadata": {
    "collapsed": false
   },
   "outputs": [
    {
     "data": {
      "text/plain": [
       "<xray.DataArray 'vza' (vza: 48)>\n",
       "array([  0.        ,  11.71585239,  16.59784214,  20.36413481,\n",
       "        23.55646431,  26.38432975,  28.95502437,  31.33220671,\n",
       "        33.55730976,  35.6590877 ,  37.65846201,  39.57121946,\n",
       "        41.40962211,  43.1834218 ,  44.90052796,  46.56746344,\n",
       "        48.1896851 ,  49.77181527,  51.31781255,  52.83110034,\n",
       "        54.31466529,  55.77113367,  57.2028317 ,  58.61183354,\n",
       "        60.        ,  61.36901016,  62.72038726,  64.05552023,\n",
       "        65.37568165,  66.68204293,  67.97568716,  69.25762005,\n",
       "        70.52877937,  71.79004314,  73.0422367 ,  74.28613895,\n",
       "        75.52248781,  76.75198509,  77.97530082,  79.19307713,\n",
       "        80.40593177,  81.61446135,  82.81924422,  84.0208432 ,\n",
       "        85.21980815,  86.4166783 ,  87.61198454,  88.80625156])\n",
       "Coordinates:\n",
       "  * vza      (vza) float64 0.0 11.72 16.6 20.36 23.56 26.38 28.96 31.33 ...\n",
       "Attributes:\n",
       "    units: deg\n",
       "    long_name: View Zenith Angle"
      ]
     },
     "execution_count": 46,
     "metadata": {},
     "output_type": "execute_result"
    }
   ],
   "source": [
    "cenv.trans_vza_up"
   ]
  },
  {
   "cell_type": "code",
   "execution_count": 47,
   "metadata": {
    "collapsed": false
   },
   "outputs": [
    {
     "data": {
      "text/plain": [
       "'D:\\\\Projects\\\\GitHub\\\\nbMORTICIA\\\\rad\\\\examples\\\\UVSPEC_CLOUDCOVER_REDISTRIBUTION_x_0001.OUT'"
      ]
     },
     "execution_count": 47,
     "metadata": {},
     "output_type": "execute_result"
    }
   ],
   "source": [
    "cenv.trans_cases[1].outfile"
   ]
  },
  {
   "cell_type": "code",
   "execution_count": null,
   "metadata": {
    "collapsed": true
   },
   "outputs": [],
   "source": []
  }
 ],
 "metadata": {
  "kernelspec": {
   "display_name": "Python 2",
   "language": "python",
   "name": "python2"
  },
  "language_info": {
   "codemirror_mode": {
    "name": "ipython",
    "version": 2
   },
   "file_extension": ".py",
   "mimetype": "text/x-python",
   "name": "python",
   "nbconvert_exporter": "python",
   "pygments_lexer": "ipython2",
   "version": "2.7.11"
  }
 },
 "nbformat": 4,
 "nbformat_minor": 0
}
