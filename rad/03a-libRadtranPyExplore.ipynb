{
 "metadata": {
  "name": "",
  "signature": "sha256:61ffcefe2a63d68f65954acbfc98f3cadaa07a23194c7f482237c3ed929ffb1e"
 },
 "nbformat": 3,
 "nbformat_minor": 0,
 "worksheets": [
  {
   "cells": [
    {
     "cell_type": "code",
     "collapsed": false,
     "input": [
      "import writeLex  # this seems to load all available libradtran option definitions"
     ],
     "language": "python",
     "metadata": {},
     "outputs": [],
     "prompt_number": 1
    },
    {
     "cell_type": "code",
     "collapsed": false,
     "input": [
      "Options = writeLex.loadOptions()  # The files *_options.py define all the options"
     ],
     "language": "python",
     "metadata": {},
     "outputs": [],
     "prompt_number": 2
    },
    {
     "cell_type": "code",
     "collapsed": false,
     "input": [
      "Options # Options is a dictionary of available options"
     ],
     "language": "python",
     "metadata": {},
     "outputs": [
      {
       "metadata": {},
       "output_type": "pyout",
       "prompt_number": 3,
       "text": [
        "{'ECHAM_sza': <option_definition.option instance at 0x00000000045DB508>,\n",
        " 'ECMWF_ic_file': <option_definition.option instance at 0x00000000045DB9C8>,\n",
        " 'ECMWF_levels_only': <option_definition.option instance at 0x00000000045DBB08>,\n",
        " 'ECMWF_ozone_climatology': <option_definition.option instance at 0x00000000045DB648>,\n",
        " 'ECMWF_wc_file': <option_definition.option instance at 0x00000000045DB808>,\n",
        " 'ECMWF_wind_file': <option_definition.option instance at 0x00000000045DBC48>,\n",
        " 'aerosol_angstrom': <option_definition.option instance at 0x000000000456C588>,\n",
        " 'aerosol_default': <option_definition.option instance at 0x0000000004566F08>,\n",
        " 'aerosol_file': <option_definition.option instance at 0x000000000456C188>,\n",
        " 'aerosol_haze': <option_definition.option instance at 0x000000000456CF88>,\n",
        " 'aerosol_king_byrne': <option_definition.option instance at 0x000000000456C908>,\n",
        " 'aerosol_modify': <option_definition.option instance at 0x000000000456CC88>,\n",
        " 'aerosol_profile_modtran': <option_definition.option instance at 0x000000000456C348>,\n",
        " 'aerosol_season': <option_definition.option instance at 0x00000000045CF448>,\n",
        " 'aerosol_set_tau_at_wvl': <option_definition.option instance at 0x00000000045CF1C8>,\n",
        " 'aerosol_species_file': <option_definition.option instance at 0x00000000045CF6C8>,\n",
        " 'aerosol_species_library': <option_definition.option instance at 0x00000000045CF808>,\n",
        " 'aerosol_visibility': <option_definition.option instance at 0x00000000045CFA48>,\n",
        " 'aerosol_vulcan': <option_definition.option instance at 0x00000000045CFC08>,\n",
        " 'albedo': <option_definition.option instance at 0x0000000004600888>,\n",
        " 'albedo_file': <option_definition.option instance at 0x0000000004600AC8>,\n",
        " 'albedo_library': <option_definition.option instance at 0x00000000045CFEC8>,\n",
        " 'albedo_map': <option_definition.option instance at 0x00000000045D4288>,\n",
        " 'altitude': <option_definition.option instance at 0x0000000004600488>,\n",
        " 'altitude_map': <option_definition.option instance at 0x00000000045D4548>,\n",
        " 'atm_z_grid': <option_definition.option instance at 0x00000000045F9EC8>,\n",
        " 'atmos_region': <option_definition.option instance at 0x00000000045F9348>,\n",
        " 'atmosphere_file': <option_definition.option instance at 0x0000000004690288>,\n",
        " 'bpdf_tsang_u10': <option_definition.option instance at 0x00000000046900C8>,\n",
        " 'brdf_ambrals': <option_definition.option instance at 0x0000000004605D88>,\n",
        " 'brdf_ambrals_file': <option_definition.option instance at 0x000000000460A1C8>,\n",
        " 'brdf_ambrals_hotspot': <option_definition.option instance at 0x0000000004605EC8>,\n",
        " 'brdf_cam': <option_definition.option instance at 0x0000000004600E48>,\n",
        " 'brdf_cam_solar_wind': <option_definition.option instance at 0x0000000004605048>,\n",
        " 'brdf_hapke': <option_definition.option instance at 0x0000000004605348>,\n",
        " 'brdf_hapke_file': <option_definition.option instance at 0x0000000004605548>,\n",
        " 'brdf_rossli': <option_definition.option instance at 0x0000000004605808>,\n",
        " 'brdf_rossli_file': <option_definition.option instance at 0x0000000004605AC8>,\n",
        " 'brdf_rossli_hotspot': <option_definition.option instance at 0x0000000004605688>,\n",
        " 'brdf_rpv': <option_definition.option instance at 0x000000000460AA88>,\n",
        " 'brdf_rpv_file': <option_definition.option instance at 0x000000000460A7C8>,\n",
        " 'brdf_rpv_library': <option_definition.option instance at 0x000000000460AC48>,\n",
        " 'brdf_rpv_type': <option_definition.option instance at 0x000000000460AF88>,\n",
        " 'ck_fu_h2o_continuum': <option_definition.option instance at 0x0000000004695D88>,\n",
        " 'ck_lowtran_absorption': <option_definition.option instance at 0x0000000004695C08>,\n",
        " 'cloud_fraction_file': <option_definition.option instance at 0x00000000045667C8>,\n",
        " 'cloud_fraction_map': <option_definition.option instance at 0x00000000045D4088>,\n",
        " 'cloud_overlap': <option_definition.option instance at 0x0000000004566988>,\n",
        " 'cloudcover': <option_definition.option instance at 0x0000000004566C48>,\n",
        " 'cox_and_munk_pcl_map': <option_definition.option instance at 0x00000000045D4988>,\n",
        " 'cox_and_munk_sal_map': <option_definition.option instance at 0x00000000045D4C08>,\n",
        " 'cox_and_munk_u10_map': <option_definition.option instance at 0x00000000045D4788>,\n",
        " 'crs_file': <option_definition.option instance at 0x0000000004695308>,\n",
        " 'crs_model': <option_definition.option instance at 0x0000000004695048>,\n",
        " 'data_files_path': <option_definition.option instance at 0x00000000046A8C48>,\n",
        " 'day_of_year': <option_definition.option instance at 0x00000000046BC908>,\n",
        " 'deltam': <option_definition.option instance at 0x000000000469FFC8>,\n",
        " 'disort_intcor': <option_definition.option instance at 0x000000000469F048>,\n",
        " 'disort_spherical_albedo': <option_definition.option instance at 0x000000000469ADC8>,\n",
        " 'earth_radius': <option_definition.option instance at 0x00000000046BC788>,\n",
        " 'emissivity_map': <option_definition.option instance at 0x00000000045D4E88>,\n",
        " 'filter_function_file': <option_definition.option instance at 0x00000000046B13C8>,\n",
        " 'fluorescence': <option_definition.option instance at 0x000000000460A3C8>,\n",
        " 'fluorescence_file': <option_definition.option instance at 0x000000000460A5C8>,\n",
        " 'heating_rate': <option_definition.option instance at 0x00000000046AD748>,\n",
        " 'ic_file': <option_definition.option instance at 0x00000000045604C8>,\n",
        " 'ic_fu': <option_definition.option instance at 0x0000000004566588>,\n",
        " 'ic_habit': <option_definition.option instance at 0x0000000004560F08>,\n",
        " 'ic_habit_yang2013': <option_definition.option instance at 0x0000000004566208>,\n",
        " 'ic_modify': <option_definition.option instance at 0x0000000004560BC8>,\n",
        " 'ic_properties': <option_definition.option instance at 0x0000000004560808>,\n",
        " 'include': <option_definition.not_yet_lex2py_option instance at 0x00000000046A82C8>,\n",
        " 'interpret_as_level': <option_definition.option instance at 0x00000000045F9A48>,\n",
        " 'isotropic_source_toa': <option_definition.option instance at 0x000000000469F208>,\n",
        " 'latitude': <option_definition.option instance at 0x00000000046BCC48>,\n",
        " 'longitude': <option_definition.option instance at 0x00000000046BCEC8>,\n",
        " 'mc_aerosol_is': <option_definition.option instance at 0x00000000045E7588>,\n",
        " 'mc_albedo_spectral': <option_definition.option instance at 0x00000000045E7808>,\n",
        " 'mc_albedo_spectral_file': <option_definition.option instance at 0x000000000468C7C8>,\n",
        " 'mc_azimuth_old': <option_definition.option instance at 0x00000000045E7948>,\n",
        " 'mc_backward': <option_definition.option instance at 0x00000000045E2CC8>,\n",
        " 'mc_backward_output': <option_definition.option instance at 0x00000000046B1BC8>,\n",
        " 'mc_backward_sunshape_file': <option_definition.option instance at 0x00000000045E7C08>,\n",
        " 'mc_backward_writeback': <option_definition.option instance at 0x00000000045E7D48>,\n",
        " 'mc_basename': <option_definition.option instance at 0x00000000046B6188>,\n",
        " 'mc_bcond': <option_definition.option instance at 0x00000000046C2048>,\n",
        " 'mc_coherent_backscatter': <option_definition.option instance at 0x00000000045E7E88>,\n",
        " 'mc_escape': <option_definition.not_yet_lex2py_option instance at 0x00000000045E21C8>,\n",
        " 'mc_ipa': <option_definition.option instance at 0x00000000046A4488>,\n",
        " 'mc_jacobian': <option_definition.option instance at 0x00000000046B6788>,\n",
        " 'mc_lidar_file': <option_definition.option instance at 0x00000000045F4E08>,\n",
        " 'mc_maxscatters': <option_definition.option instance at 0x00000000045EC208>,\n",
        " 'mc_panorama': <option_definition.option instance at 0x000000000473DD48>,\n",
        " 'mc_panorama_view': <option_definition.option instance at 0x000000000473D888>,\n",
        " 'mc_photons': <option_definition.option instance at 0x00000000045EC788>,\n",
        " 'mc_photons_file': <option_definition.option instance at 0x00000000045EC988>,\n",
        " 'mc_polarisation': <option_definition.option instance at 0x00000000045ECB88>,\n",
        " 'mc_rad_alpha': <option_definition.option instance at 0x00000000045ECDC8>,\n",
        " 'mc_radial_pathlength_dt': <option_definition.option instance at 0x00000000045F0188>,\n",
        " 'mc_randomseed': <option_definition.option instance at 0x00000000045F0508>,\n",
        " 'mc_refraction': <option_definition.option instance at 0x00000000045F0688>,\n",
        " 'mc_ris': <option_definition.option instance at 0x00000000045F0848>,\n",
        " 'mc_satellite_view': <option_definition.option instance at 0x00000000046C2A48>,\n",
        " 'mc_sensorposition': <option_definition.option instance at 0x000000000473D308>,\n",
        " 'mc_spherical': <option_definition.option instance at 0x00000000046C2548>,\n",
        " 'mc_std': <option_definition.option instance at 0x00000000046B64C8>,\n",
        " 'mc_sun_angular_size': <option_definition.option instance at 0x00000000045F4A88>,\n",
        " 'mc_sun_position': <option_definition.option instance at 0x00000000046C2E08>,\n",
        " 'mc_surface_reflectalways': <option_definition.option instance at 0x00000000045E2FC8>,\n",
        " 'mc_tipa': <option_definition.option instance at 0x00000000046A4708>,\n",
        " 'mc_truncate': <option_definition.option instance at 0x00000000045E2948>,\n",
        " 'mc_vroom': <option_definition.option instance at 0x00000000045E2448>,\n",
        " 'mixing_ratio': <option_definition.option instance at 0x000000000469A808>,\n",
        " 'mol_abs_param': <option_definition.option instance at 0x00000000046956C8>,\n",
        " 'mol_file': <option_definition.option instance at 0x0000000004690988>,\n",
        " 'mol_modify': <option_definition.option instance at 0x000000000469A4C8>,\n",
        " 'mol_tau_file': <option_definition.option instance at 0x000000000469A108>,\n",
        " 'no_absorption': <option_definition.option instance at 0x00000000045F9548>,\n",
        " 'no_scattering': <option_definition.option instance at 0x00000000045F97C8>,\n",
        " 'number_of_streams': <option_definition.option instance at 0x000000000469F708>,\n",
        " 'output_file': <option_definition.option instance at 0x00000000046A8F88>,\n",
        " 'output_format': <option_definition.option instance at 0x00000000046AD148>,\n",
        " 'output_process': <option_definition.option instance at 0x00000000046A8DC8>,\n",
        " 'output_quantity': <option_definition.option instance at 0x00000000046AD488>,\n",
        " 'output_user': <option_definition.not_yet_lex2py_option instance at 0x00000000046AD2C8>,\n",
        " 'phi': <option_definition.option instance at 0x00000000046BC188>,\n",
        " 'phi0': <option_definition.option instance at 0x00000000046B6F08>,\n",
        " 'polradtran': <option_definition.option instance at 0x000000000469F8C8>,\n",
        " 'polradtran_max_delta_tau': <option_definition.option instance at 0x000000000469FB48>,\n",
        " 'polradtran_quad_type': <option_definition.option instance at 0x000000000469F9C8>,\n",
        " 'pressure': <option_definition.option instance at 0x0000000004690B48>,\n",
        " 'pressure_out': <option_definition.not_yet_lex2py_option instance at 0x00000000046B1608>,\n",
        " 'print_disort_info': <option_definition.option instance at 0x00000000046A8AC8>,\n",
        " 'profile_file': <option_definition.option instance at 0x000000000455B0C8>,\n",
        " 'profile_modify': <option_definition.option instance at 0x000000000455B608>,\n",
        " 'profile_properties': <option_definition.option instance at 0x000000000455B248>,\n",
        " 'pseudospherical': <option_definition.option instance at 0x000000000469AC08>,\n",
        " 'quiet': <option_definition.option instance at 0x00000000046A8408>,\n",
        " 'radiosonde': <option_definition.not_yet_lex2py_option instance at 0x0000000004690448>,\n",
        " 'radiosonde_levels_only': <option_definition.option instance at 0x00000000046905C8>,\n",
        " 'raman': <option_definition.option instance at 0x000000000469F508>,\n",
        " 'rayleigh_depol': <option_definition.option instance at 0x00000000046954C8>,\n",
        " 'refractive_index_file': <option_definition.option instance at 0x0000000004690D08>,\n",
        " 'reptran_file': <option_definition.option instance at 0x0000000004695888>,\n",
        " 'reverse_atmosphere': <option_definition.option instance at 0x0000000004600048>,\n",
        " 'rte_solver': <option_definition.option instance at 0x000000000469AA88>,\n",
        " 'satellite_geometry': <option_definition.option instance at 0x00000000045DBD88>,\n",
        " 'satellite_pixel': <option_definition.option instance at 0x00000000045DBF08>,\n",
        " 'sdisort': <option_definition.option instance at 0x000000000469FD08>,\n",
        " 'slit_function_file': <option_definition.option instance at 0x00000000046ADB08>,\n",
        " 'sos_nscat': <option_definition.option instance at 0x000000000469FE08>,\n",
        " 'source': <option_definition.option instance at 0x00000000045F4948>,\n",
        " 'spline': <option_definition.option instance at 0x00000000046ADF88>,\n",
        " 'spline_file': <option_definition.option instance at 0x00000000046B11C8>,\n",
        " 'sslidar': <option_definition.option instance at 0x00000000046A4C48>,\n",
        " 'sslidar_nranges': <option_definition.option instance at 0x00000000046A4E08>,\n",
        " 'sslidar_polarisation': <option_definition.option instance at 0x00000000046A4F48>,\n",
        " 'sur_temperature': <option_definition.option instance at 0x000000000468C188>,\n",
        " 'surface_temperature_map': <option_definition.option instance at 0x00000000045DB0C8>,\n",
        " 'surface_type_map': <option_definition.option instance at 0x00000000045DB2C8>,\n",
        " 'sza': <option_definition.option instance at 0x00000000046B6B88>,\n",
        " 'sza_file': <option_definition.option instance at 0x00000000046B6D88>,\n",
        " 'test_optical_properties': <option_definition.option instance at 0x00000000046A8908>,\n",
        " 'thermal_bands_file': <option_definition.option instance at 0x00000000045F4288>,\n",
        " 'thermal_bandwidth': <option_definition.option instance at 0x00000000045F45C8>,\n",
        " 'tipa': <option_definition.option instance at 0x00000000046A4908>,\n",
        " 'tzs_cloud_top_height': <option_definition.not_yet_lex2py_option instance at 0x00000000046A8108>,\n",
        " 'umu': <option_definition.option instance at 0x00000000046BC408>,\n",
        " 'verbose': <option_definition.option instance at 0x00000000046A85C8>,\n",
        " 'wavelength': <option_definition.option instance at 0x00000000045F0C08>,\n",
        " 'wavelength_grid_file': <option_definition.option instance at 0x00000000045F40C8>,\n",
        " 'wavelength_index': <option_definition.option instance at 0x00000000045F0EC8>,\n",
        " 'wc_file': <option_definition.option instance at 0x000000000455BA48>,\n",
        " 'wc_modify': <option_definition.option instance at 0x0000000004560108>,\n",
        " 'wc_properties': <option_definition.option instance at 0x000000000455BD48>,\n",
        " 'z_interpolate': <option_definition.not_yet_lex2py_option instance at 0x00000000045F9D08>,\n",
        " 'zout': <option_definition.not_yet_lex2py_option instance at 0x00000000046B17C8>,\n",
        " 'zout_interpolate': <option_definition.option instance at 0x00000000045F9B88>,\n",
        " 'zout_sea': <option_definition.not_yet_lex2py_option instance at 0x00000000046B1988>}"
       ]
      }
     ],
     "prompt_number": 3
    },
    {
     "cell_type": "code",
     "collapsed": false,
     "input": [
      "dir(Options['aerosol_vulcan'])"
     ],
     "language": "python",
     "metadata": {},
     "outputs": [
      {
       "metadata": {},
       "output_type": "pyout",
       "prompt_number": 4,
       "text": [
        "['__contains__',\n",
        " '__doc__',\n",
        " '__getitem__',\n",
        " '__init__',\n",
        " '__module__',\n",
        " '__setitem__',\n",
        " '_addBooleanToGuiInput',\n",
        " '_canEnable',\n",
        " '_canEnableContinousOption',\n",
        " '_extra_dependencies',\n",
        " '_isMandatoryMixedOption',\n",
        " '_mandatory',\n",
        " '_set_gui_input',\n",
        " 'canEnable',\n",
        " 'childs',\n",
        " 'continious_update',\n",
        " 'dependencies',\n",
        " 'dict',\n",
        " 'get',\n",
        " 'gui_inputs',\n",
        " 'help',\n",
        " 'isMandatory',\n",
        " 'name',\n",
        " 'non_parent_exceptions',\n",
        " 'non_parents',\n",
        " 'non_unique',\n",
        " 'parents',\n",
        " 'plot',\n",
        " 'showInGui',\n",
        " 'tokens']"
       ]
      }
     ],
     "prompt_number": 4
    },
    {
     "cell_type": "code",
     "collapsed": false,
     "input": [
      "dir(Options['sza'].childs)\n",
      "\n"
     ],
     "language": "python",
     "metadata": {},
     "outputs": [
      {
       "metadata": {},
       "output_type": "pyout",
       "prompt_number": 7,
       "text": [
        "['__add__',\n",
        " '__class__',\n",
        " '__contains__',\n",
        " '__delattr__',\n",
        " '__delitem__',\n",
        " '__delslice__',\n",
        " '__doc__',\n",
        " '__eq__',\n",
        " '__format__',\n",
        " '__ge__',\n",
        " '__getattribute__',\n",
        " '__getitem__',\n",
        " '__getslice__',\n",
        " '__gt__',\n",
        " '__hash__',\n",
        " '__iadd__',\n",
        " '__imul__',\n",
        " '__init__',\n",
        " '__iter__',\n",
        " '__le__',\n",
        " '__len__',\n",
        " '__lt__',\n",
        " '__mul__',\n",
        " '__ne__',\n",
        " '__new__',\n",
        " '__reduce__',\n",
        " '__reduce_ex__',\n",
        " '__repr__',\n",
        " '__reversed__',\n",
        " '__rmul__',\n",
        " '__setattr__',\n",
        " '__setitem__',\n",
        " '__setslice__',\n",
        " '__sizeof__',\n",
        " '__str__',\n",
        " '__subclasshook__',\n",
        " 'append',\n",
        " 'count',\n",
        " 'extend',\n",
        " 'index',\n",
        " 'insert',\n",
        " 'pop',\n",
        " 'remove',\n",
        " 'reverse',\n",
        " 'sort']"
       ]
      }
     ],
     "prompt_number": 7
    },
    {
     "cell_type": "code",
     "collapsed": false,
     "input": [
      "Options['sza']['documentation']"
     ],
     "language": "python",
     "metadata": {},
     "outputs": [
      {
       "metadata": {},
       "output_type": "pyout",
       "prompt_number": 13,
       "text": [
        "'\\n\\tThe solar zenith angle (degrees). \\n\\t\\\\fcode{\\n\\tsza value\\n\\t}\\n\\tThe default solar zenith angle is 0.\\n\\t\\t'"
       ]
      }
     ],
     "prompt_number": 13
    },
    {
     "cell_type": "code",
     "collapsed": false,
     "input": [
      "Options['sza'].tokens[0]  # Tokens are the parameters that can appear after the option keyword"
     ],
     "language": "python",
     "metadata": {},
     "outputs": [
      {
       "metadata": {},
       "output_type": "pyout",
       "prompt_number": 19,
       "text": [
        "<option_definition.addToken instance at 0x000000000488CA08>"
       ]
      }
     ],
     "prompt_number": 19
    },
    {
     "cell_type": "code",
     "collapsed": false,
     "input": [
      "Options['sza'].tokens[0].datatype"
     ],
     "language": "python",
     "metadata": {},
     "outputs": [
      {
       "metadata": {},
       "output_type": "pyout",
       "prompt_number": 20,
       "text": [
        "float"
       ]
      }
     ],
     "prompt_number": 20
    },
    {
     "cell_type": "code",
     "collapsed": false,
     "input": [
      "Options['sza'].tokens[0].get(1)"
     ],
     "language": "python",
     "metadata": {},
     "outputs": [],
     "prompt_number": 30
    },
    {
     "cell_type": "code",
     "collapsed": false,
     "input": [
      "writeLex.loadOptionsHelper()"
     ],
     "language": "python",
     "metadata": {},
     "outputs": [
      {
       "metadata": {},
       "output_type": "pyout",
       "prompt_number": 10,
       "text": [
        "[<spectral_options.setup_spectral_group instance at 0x00000000044225C8>,\n",
        " <general_atmosphere_options.setup_general_atm_group instance at 0x0000000004426D08>,\n",
        " <molecular_options.setup_molecular_group instance at 0x000000000426F088>,\n",
        " <aerosol_options.setup_aerosol_group instance at 0x00000000043B0E48>,\n",
        " <profile_options.setup_cloud_group instance at 0x00000000043C9CC8>,\n",
        " <cloud_options.setup_cloud_group instance at 0x00000000043C9248>,\n",
        " <surface_options.setup_surface_group instance at 0x00000000043381C8>,\n",
        " <solver_options.setup_solver_group instance at 0x00000000044343C8>,\n",
        " <mc_options.setup_mc_group instance at 0x00000000043DCEC8>,\n",
        " <geometry_options.setup_geometry_group instance at 0x0000000004451048>,\n",
        " <output_options.setup_output_group instance at 0x000000000443D908>,\n",
        " <special_options.setup_special_group instance at 0x00000000043CEC88>]"
       ]
      }
     ],
     "prompt_number": 10
    },
    {
     "cell_type": "code",
     "collapsed": false,
     "input": [
      "options['sza'].childs"
     ],
     "language": "python",
     "metadata": {},
     "outputs": [
      {
       "metadata": {},
       "output_type": "pyout",
       "prompt_number": 12,
       "text": [
        "[]"
       ]
      }
     ],
     "prompt_number": 12
    },
    {
     "cell_type": "code",
     "collapsed": false,
     "input": [
      "data, line_nos = ReadFile('UVSPEC_AEROSOL.INP')"
     ],
     "language": "python",
     "metadata": {},
     "outputs": [],
     "prompt_number": 23
    },
    {
     "cell_type": "code",
     "collapsed": false,
     "input": [
      "# Need another class which has the method AddValue\n",
      "for line, pos in zip(data, line_nos):\n",
      "    name = line[0]\n",
      "    try:\n",
      "        obj = Options[name]\n",
      "        obj.AddValue(line[1:] if line[1:] else [])\n",
      "    except KeyError:\n",
      "        error = \"Unknown option %s in file '%s' line %i.\" % \\\n",
      "            (repr(name), pos[0], pos[1])\n"
     ],
     "language": "python",
     "metadata": {},
     "outputs": [
      {
       "ename": "AttributeError",
       "evalue": "option instance has no attribute 'AddValue'",
       "output_type": "pyerr",
       "traceback": [
        "\u001b[1;31m---------------------------------------------------------------------------\u001b[0m\n\u001b[1;31mAttributeError\u001b[0m                            Traceback (most recent call last)",
        "\u001b[1;32m<ipython-input-17-ef2ebaef423a>\u001b[0m in \u001b[0;36m<module>\u001b[1;34m()\u001b[0m\n\u001b[0;32m      4\u001b[0m     \u001b[1;32mtry\u001b[0m\u001b[1;33m:\u001b[0m\u001b[1;33m\u001b[0m\u001b[0m\n\u001b[0;32m      5\u001b[0m         \u001b[0mobj\u001b[0m \u001b[1;33m=\u001b[0m \u001b[0mOptions\u001b[0m\u001b[1;33m[\u001b[0m\u001b[0mname\u001b[0m\u001b[1;33m]\u001b[0m\u001b[1;33m\u001b[0m\u001b[0m\n\u001b[1;32m----> 6\u001b[1;33m         \u001b[0mobj\u001b[0m\u001b[1;33m.\u001b[0m\u001b[0mAddValue\u001b[0m\u001b[1;33m(\u001b[0m\u001b[0mline\u001b[0m\u001b[1;33m[\u001b[0m\u001b[1;36m1\u001b[0m\u001b[1;33m:\u001b[0m\u001b[1;33m]\u001b[0m \u001b[1;32mif\u001b[0m \u001b[0mline\u001b[0m\u001b[1;33m[\u001b[0m\u001b[1;36m1\u001b[0m\u001b[1;33m:\u001b[0m\u001b[1;33m]\u001b[0m \u001b[1;32melse\u001b[0m \u001b[1;33m[\u001b[0m\u001b[1;33m]\u001b[0m\u001b[1;33m)\u001b[0m\u001b[1;33m\u001b[0m\u001b[0m\n\u001b[0m\u001b[0;32m      7\u001b[0m     \u001b[1;32mexcept\u001b[0m \u001b[0mKeyError\u001b[0m\u001b[1;33m:\u001b[0m\u001b[1;33m\u001b[0m\u001b[0m\n\u001b[0;32m      8\u001b[0m         \u001b[0merror\u001b[0m \u001b[1;33m=\u001b[0m \u001b[1;34m\"Unknown option %s in file '%s' line %i.\"\u001b[0m \u001b[1;33m%\u001b[0m             \u001b[1;33m(\u001b[0m\u001b[0mrepr\u001b[0m\u001b[1;33m(\u001b[0m\u001b[0mname\u001b[0m\u001b[1;33m)\u001b[0m\u001b[1;33m,\u001b[0m \u001b[0mpos\u001b[0m\u001b[1;33m[\u001b[0m\u001b[1;36m0\u001b[0m\u001b[1;33m]\u001b[0m\u001b[1;33m,\u001b[0m \u001b[0mpos\u001b[0m\u001b[1;33m[\u001b[0m\u001b[1;36m1\u001b[0m\u001b[1;33m]\u001b[0m\u001b[1;33m)\u001b[0m\u001b[1;33m\u001b[0m\u001b[0m\n",
        "\u001b[1;31mAttributeError\u001b[0m: option instance has no attribute 'AddValue'"
       ]
      }
     ],
     "prompt_number": 17
    },
    {
     "cell_type": "code",
     "collapsed": false,
     "input": [
      "data"
     ],
     "language": "python",
     "metadata": {},
     "outputs": [
      {
       "metadata": {},
       "output_type": "pyout",
       "prompt_number": 24,
       "text": [
        "[['aerosol_vulcan', '1'],\n",
        " ['aerosol_haze', '6'],\n",
        " ['aerosol_season', '1'],\n",
        " ['aerosol_visibility', '20.0'],\n",
        " ['aerosol_angstrom', '1.1', '0.2'],\n",
        " ['aerosol_modify', 'ssa', 'scale', '0.85'],\n",
        " ['aerosol_modify', 'gg', 'set', '0.70'],\n",
        " ['aerosol_file', 'tau', '../examples/AERO_TAU.DAT'],\n",
        " ['atmosphere_file', '../data/atmmod/afglus.dat'],\n",
        " ['source', 'solar', '../data/solar_flux/atlas_plus_modtran'],\n",
        " ['mol_modify', 'O3', '300.', 'DU'],\n",
        " ['day_of_year', '170'],\n",
        " ['albedo', '0.2'],\n",
        " ['sza', '32.0'],\n",
        " ['rte_solver', 'disort'],\n",
        " ['number_of_streams', '6'],\n",
        " ['wavelength', '299.0', '341.0'],\n",
        " ['slit_function_file', '../examples/TRI_SLIT.DAT'],\n",
        " ['spline', '300', '340', '1'],\n",
        " ['quiet']]"
       ]
      }
     ],
     "prompt_number": 24
    },
    {
     "cell_type": "code",
     "collapsed": false,
     "input": [
      "line_nos"
     ],
     "language": "python",
     "metadata": {},
     "outputs": [
      {
       "metadata": {},
       "output_type": "pyout",
       "prompt_number": 25,
       "text": [
        "[('UVSPEC_AEROSOL.INP', 3),\n",
        " ('UVSPEC_AEROSOL.INP', 4),\n",
        " ('UVSPEC_AEROSOL.INP', 5),\n",
        " ('UVSPEC_AEROSOL.INP', 6),\n",
        " ('UVSPEC_AEROSOL.INP', 7),\n",
        " ('UVSPEC_AEROSOL.INP', 10),\n",
        " ('UVSPEC_AEROSOL.INP', 12),\n",
        " ('UVSPEC_AEROSOL.INP', 13),\n",
        " ('../examples/UVSPEC_CLEAR.INP', 2),\n",
        " ('../examples/UVSPEC_CLEAR.INP', 4),\n",
        " ('../examples/UVSPEC_CLEAR.INP', 5),\n",
        " ('../examples/UVSPEC_CLEAR.INP', 6),\n",
        " ('../examples/UVSPEC_CLEAR.INP', 7),\n",
        " ('../examples/UVSPEC_CLEAR.INP', 8),\n",
        " ('../examples/UVSPEC_CLEAR.INP', 9),\n",
        " ('../examples/UVSPEC_CLEAR.INP', 10),\n",
        " ('../examples/UVSPEC_CLEAR.INP', 11),\n",
        " ('../examples/UVSPEC_CLEAR.INP', 12),\n",
        " ('../examples/UVSPEC_CLEAR.INP', 14),\n",
        " ('../examples/UVSPEC_CLEAR.INP', 16)]"
       ]
      }
     ],
     "prompt_number": 25
    },
    {
     "cell_type": "code",
     "collapsed": false,
     "input": [
      "basestring"
     ],
     "language": "python",
     "metadata": {},
     "outputs": [
      {
       "metadata": {},
       "output_type": "pyout",
       "prompt_number": 24,
       "text": [
        "basestring"
       ]
      }
     ],
     "prompt_number": 24
    },
    {
     "cell_type": "code",
     "collapsed": false,
     "input": [
      "import widgets # Again had to edit out "
     ],
     "language": "python",
     "metadata": {},
     "outputs": [],
     "prompt_number": 22
    },
    {
     "cell_type": "code",
     "collapsed": false,
     "input": [],
     "language": "python",
     "metadata": {},
     "outputs": []
    }
   ],
   "metadata": {}
  }
 ]
}