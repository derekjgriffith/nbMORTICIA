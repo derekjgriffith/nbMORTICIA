{
 "cells": [
  {
   "cell_type": "markdown",
   "metadata": {
    "nbpresent": {
     "id": "46486f44-6696-46b4-acb7-9a35e41206a5"
    }
   },
   "source": [
    "# Using libRadtran in Parallel on a Cluster"
   ]
  },
  {
   "cell_type": "markdown",
   "metadata": {
    "nbpresent": {
     "id": "941b0d31-f801-438d-8fdb-a4975fa31fef"
    }
   },
   "source": [
    "This notebook shows how to run a batch of [`libRadtran/uvspec`](http://www.libradtran.org) cases in parallel on a cluster computer using [`dask.distributed`](http://distributed.readthedocs.io/en/latest/limitations.html). \n",
    "The `dask.distributed` package provides a flexible, yet reasonably simple way of harnessing mutiple compute cores from the `IPython/Jupyter` notebook environment or in other Python launch modes.\n",
    "\n",
    "It is somewhat easier to set up and use the `dask.distributed` cluster client than the `ipyparallel` client. However, `dask.distributed` provides even less security and must only be run on local trusted networks. \n",
    "\n",
    "This particular example computes the direct horizontal ultraviolet B (UVB, 300 nm to 340 nm) irradiance at Bottom-Of-Atmosphere (BOA) as a function of the solar zenith angle (SZA).\n",
    "\n"
   ]
  },
  {
   "cell_type": "code",
   "execution_count": 1,
   "metadata": {
    "nbpresent": {
     "id": "1bb935f4-c73d-4ea5-b13d-3ff9e71bde53"
    }
   },
   "outputs": [],
   "source": [
    "import morticia.rad.librad as librad\n",
    "# Use auto reload of librad for development purposes\n",
    "%load_ext autoreload\n",
    "%autoreload 1\n",
    "%aimport morticia.rad.librad\n",
    "import numpy as np\n",
    "import matplotlib as mpl\n",
    "import matplotlib.pyplot as plt\n",
    "from dask.distributed import Client # For contacting the dask scheduler\n",
    "# use latex for font rendering\n",
    "mpl.rcParams['text.usetex'] = True  # Use TeX to format labels (takes a bit longer)\n",
    "%matplotlib inline"
   ]
  },
  {
   "cell_type": "code",
   "execution_count": 41,
   "metadata": {
    "collapsed": true,
    "nbpresent": {
     "id": "3c7ddd7a-f76d-4acd-9787-51fbdede1914"
    }
   },
   "outputs": [],
   "source": [
    "# Load a libRadtran example case\n",
    "# Be default, any include files are expanded, creating a single set of option keywords\n",
    "libRadCase=librad.Case(filename='./examples/UVSPEC_AEROSOL.INP')\n",
    "libRadCase.purge = True"
   ]
  },
  {
   "cell_type": "code",
   "execution_count": 42,
   "metadata": {
    "nbpresent": {
     "id": "d83ddbd5-c0e4-40ed-96a5-74aeb236ef16"
    }
   },
   "outputs": [
    {
     "data": {
      "text/plain": [
       "atmosphere_file ../data/atmmod/afglus.dat\n",
       "source solar ../data/solar_flux/atlas_plus_modtran\n",
       "mol_modify O3 300. DU\n",
       "day_of_year 170\n",
       "albedo 0.2\n",
       "sza 32.0\n",
       "rte_solver disort\n",
       "number_of_streams 6\n",
       "wavelength 299.0 341.0\n",
       "slit_function_file ../examples/TRI_SLIT.DAT\n",
       "spline 300 340 1\n",
       "quiet \n",
       "aerosol_vulcan 1\n",
       "aerosol_haze 6\n",
       "aerosol_season 1\n",
       "aerosol_visibility 20.0\n",
       "aerosol_angstrom 1.1 0.2\n",
       "aerosol_modify ssa scale 0.85\n",
       "aerosol_modify gg set 0.70\n",
       "aerosol_file tau ../examples/AERO_TAU.DAT"
      ]
     },
     "execution_count": 42,
     "metadata": {},
     "output_type": "execute_result"
    }
   ],
   "source": [
    "# Show the input of the basecase\n",
    "libRadCase"
   ]
  },
  {
   "cell_type": "code",
   "execution_count": 43,
   "metadata": {
    "collapsed": true,
    "nbpresent": {
     "id": "5d935d53-07ed-490d-a622-c37852ca8fcc"
    }
   },
   "outputs": [],
   "source": [
    "# Create 10 copies of the case in a list, with different solar zenith angles\n",
    "import copy\n",
    "libRadBatch = [copy.deepcopy(libRadCase) for icopy in range(9)]\n",
    "# Rename each element in the batch, just by appending a digit\n",
    "# This is to prevent the engines from fighting over input and output files\n",
    "# Also change the solar zenith angle on each run, so that they are different\n",
    "solar_zenith_angle = np.linspace(0.0, 80.0, 9)\n",
    "for icase, libRadCase in enumerate(libRadBatch):\n",
    "    libRadCase.name = libRadCase.name + '_' + str(icase)\n",
    "    libRadCase.alter_option(['sza', str(solar_zenith_angle[icase])])"
   ]
  },
  {
   "cell_type": "code",
   "execution_count": 44,
   "metadata": {
    "nbpresent": {
     "id": "81b70887-41ea-4bd1-a025-2ed129e9207d"
    }
   },
   "outputs": [
    {
     "name": "stdout",
     "output_type": "stream",
     "text": [
      "atmosphere_file ../data/atmmod/afglus.dat\n",
      "source solar ../data/solar_flux/atlas_plus_modtran\n",
      "mol_modify O3 300. DU\n",
      "day_of_year 170\n",
      "albedo 0.2\n",
      "sza 0.0\n",
      "rte_solver disort\n",
      "number_of_streams 6\n",
      "wavelength 299.0 341.0\n",
      "slit_function_file ../examples/TRI_SLIT.DAT\n",
      "spline 300 340 1\n",
      "quiet \n",
      "aerosol_vulcan 1\n",
      "aerosol_haze 6\n",
      "aerosol_season 1\n",
      "aerosol_visibility 20.0\n",
      "aerosol_angstrom 1.1 0.2\n",
      "aerosol_modify ssa scale 0.85\n",
      "aerosol_modify gg set 0.70\n",
      "aerosol_file tau ../examples/AERO_TAU.DAT\n",
      "\n",
      "atmosphere_file ../data/atmmod/afglus.dat\n",
      "source solar ../data/solar_flux/atlas_plus_modtran\n",
      "mol_modify O3 300. DU\n",
      "day_of_year 170\n",
      "albedo 0.2\n",
      "sza 10.0\n",
      "rte_solver disort\n",
      "number_of_streams 6\n",
      "wavelength 299.0 341.0\n",
      "slit_function_file ../examples/TRI_SLIT.DAT\n",
      "spline 300 340 1\n",
      "quiet \n",
      "aerosol_vulcan 1\n",
      "aerosol_haze 6\n",
      "aerosol_season 1\n",
      "aerosol_visibility 20.0\n",
      "aerosol_angstrom 1.1 0.2\n",
      "aerosol_modify ssa scale 0.85\n",
      "aerosol_modify gg set 0.70\n",
      "aerosol_file tau ../examples/AERO_TAU.DAT\n"
     ]
    }
   ],
   "source": [
    "# Show the first and second cases in the list\n",
    "print(libRadBatch[0])\n",
    "print\n",
    "print(libRadBatch[1])"
   ]
  },
  {
   "cell_type": "code",
   "execution_count": 45,
   "metadata": {
    "collapsed": true,
    "nbpresent": {
     "id": "baa9d9e4-34fc-4e62-b9c9-98c9616c6b91"
    }
   },
   "outputs": [],
   "source": [
    "# Create a compute client calling the dask Client method with IP \n",
    "# and port of scheduler\n",
    "paraclient = Client('146.64.246.94:8786')"
   ]
  },
  {
   "cell_type": "code",
   "execution_count": 46,
   "metadata": {
    "collapsed": true,
    "nbpresent": {
     "id": "cc2f3da2-5e00-414f-8ad6-b8bc20e52fb2"
    }
   },
   "outputs": [],
   "source": [
    "# Now try to run the batch on the cluster\n",
    "futureRadBatch = paraclient.map(librad.Case.run, libRadBatch)"
   ]
  },
  {
   "cell_type": "code",
   "execution_count": 47,
   "metadata": {
    "collapsed": true,
    "nbpresent": {
     "id": "d254f6ba-976c-4b4e-b066-8bd2464f8d2a"
    }
   },
   "outputs": [],
   "source": [
    "# Gather results. This will wait for completion of all tasks.\n",
    "libRadBatch = paraclient.gather(futureRadBatch)"
   ]
  },
  {
   "cell_type": "code",
   "execution_count": 48,
   "metadata": {
    "nbpresent": {
     "id": "fa96ede6-83f0-4305-88c0-e9dd8b0a6f4f"
    }
   },
   "outputs": [
    {
     "data": {
      "text/plain": [
       "(41L, 9L)"
      ]
     },
     "execution_count": 48,
     "metadata": {},
     "output_type": "execute_result"
    }
   ],
   "source": [
    "# Obtain the direct solar spectral irradiance\n",
    "# Compile all results into a numpy array\n",
    "edir = np.hstack([libRadBatch[i].edir for i in range(len(libRadBatch))]) \n",
    "edir.shape"
   ]
  },
  {
   "cell_type": "code",
   "execution_count": 49,
   "metadata": {
    "nbpresent": {
     "id": "35c3e3c2-0e7d-4520-8731-29213d9a4ab1"
    }
   },
   "outputs": [
    {
     "data": {
      "image/png": "[encoded data removed]",
      "text/plain": [
       "<matplotlib.figure.Figure at 0x1119b710>"
      ]
     },
     "metadata": {},
     "output_type": "display_data"
    }
   ],
   "source": [
    "# Plot direct irradiance for all 10 cases\n",
    "plt.figure(figsize=(8,6))\n",
    "plt.plot(libRadBatch[0].wvl, edir)\n",
    "plt.title('Direct Horizontal Irradiance as a function of Solar Zenith Angle')\n",
    "plt.xlabel('Wavelenth [nm]')\n",
    "plt.ylabel('Direct Horizontal Irradiance [$' + \n",
    "           '/'.join(libRadBatch[0].rad_units)+ '$]')\n",
    "the_legends = ['Solar Zenith Angle : ' + \n",
    "               str(leg) + '$^\\circ$' for leg in \n",
    "               solar_zenith_angle]\n",
    "plt.legend(the_legends)\n",
    "plt.grid()"
   ]
  },
  {
   "cell_type": "code",
   "execution_count": 54,
   "metadata": {
    "nbpresent": {
     "id": "69053a30-6d84-4a8f-a35e-9d542521aaf8"
    }
   },
   "outputs": [
    {
     "data": {
      "image/png": "[encoded data removed]",
      "text/plain": [
       "<matplotlib.figure.Figure at 0x10950898>"
      ]
     },
     "metadata": {},
     "output_type": "display_data"
    }
   ],
   "source": [
    "# Repeat plot, but on log scale\n",
    "# Plot direct irradiance for all 10 cases\n",
    "plt.figure(figsize=(8,6))\n",
    "plt.semilogy(libRadBatch[0].wvl, edir)\n",
    "plt.title('Direct Horizontal Irradiance as a function of Solar Zenith Angle')\n",
    "plt.xlabel('Wavelenth [nm]')\n",
    "plt.ylabel('Direct Horizontal Irradiance [$' + \n",
    "           '/'.join(libRadBatch[0].rad_units)+ '$]')\n",
    "the_legends = ['Solar Zenith Angle : ' + str(leg) + \n",
    "               '$^\\circ$' for leg in solar_zenith_angle]\n",
    "plt.legend(the_legends)\n",
    "plt.grid()"
   ]
  },
  {
   "cell_type": "code",
   "execution_count": 55,
   "metadata": {
    "nbpresent": {
     "id": "b5d8aaa5-89cb-4578-a36a-a782a915b324"
    }
   },
   "outputs": [
    {
     "name": "stdout",
     "output_type": "stream",
     "text": [
      "Completed Run at  2018-03-15 12:06:51.111000\n"
     ]
    }
   ],
   "source": [
    "import datetime\n",
    "now = datetime.datetime.now()\n",
    "print 'Completed Run at ', str(now)\n",
    "# After executing this cell, save the notebook before running the\n",
    "# publish cells below\n",
    "# To run the complete notebook, select this cell\n",
    "# and then choose Cell->Run All Above from the menu"
   ]
  },
  {
   "cell_type": "code",
   "execution_count": 56,
   "metadata": {
    "nbpresent": {
     "id": "b1bb51c9-0c81-4551-97e0-39ca0ca51686"
    }
   },
   "outputs": [
    {
     "data": {
      "application/javascript": [
       "var kernel = IPython.notebook.kernel;\n",
       "var thename = window.document.getElementById(\"notebook_name\").innerHTML;\n",
       "var command = \"theNotebook = \" + \"'\" + thename + \"'\";\n",
       "kernel.execute(command);"
      ],
      "text/plain": [
       "<IPython.core.display.Javascript object>"
      ]
     },
     "metadata": {},
     "output_type": "display_data"
    }
   ],
   "source": [
    "%%javascript\n",
    "var kernel = IPython.notebook.kernel;\n",
    "var thename = window.document.getElementById(\"notebook_name\").innerHTML;\n",
    "var command = \"theNotebook = \" + \"'\" + thename + \"'\";\n",
    "kernel.execute(command);"
   ]
  },
  {
   "cell_type": "code",
   "execution_count": 57,
   "metadata": {
    "nbpresent": {
     "id": "551075e4-7e2e-43fc-97b0-a38e545a701a"
    }
   },
   "outputs": [
    {
     "name": "stderr",
     "output_type": "stream",
     "text": [
      "[NbConvertApp] Converting notebook 05b-libRadtran-dask-distributed.ipynb to latex\n",
      "[NbConvertApp] Support files will be in 05b-libRadtran-dask-distributed_files\\\n",
      "[NbConvertApp] Making directory 05b-libRadtran-dask-distributed_files\n",
      "[NbConvertApp] Making directory 05b-libRadtran-dask-distributed_files\n",
      "[NbConvertApp] Writing 34563 bytes to 05b-libRadtran-dask-distributed.tex\n"
     ]
    }
   ],
   "source": [
    "publish = True\n",
    "casename = 'Dask.Distributed.Example'\n",
    "casetitle = 'Computation of Direct Horizontal Ultraviolet Irradiance'\n",
    "subtitle = 'Variation with Solar Zenith Angle'\n",
    "result_folder = 'd:/Projects/MORTICIA/Docs/ReportFY201718/Appendices'\n",
    "# Run this cell to publish, but save the notebook beforehand\n",
    "# The contents of this cell strictly for publishing the notebook.\n",
    "if publish:\n",
    "    notebook_name = theNotebook + '.ipynb'\n",
    "    # Run nbconvert to create a tex file as well as pdf graphic files\n",
    "    !jupyter nbconvert --to latex $notebook_name\n",
    "    # Do touchups\n",
    "    def touchup_build_tex(tex_file, touchups):\n",
    "        # Read the LaTeX file\n",
    "        f = open(tex_file,'r')\n",
    "        filedata = f.read()\n",
    "        f.close()\n",
    "        # Perform touchups\n",
    "        for src, target in touchups.iteritems():\n",
    "            filedata = filedata.replace(src, target)\n",
    "        # Write file again\n",
    "        f = open(tex_file,'w')\n",
    "        f.write(filedata)\n",
    "        f.close()\n",
    "        # Build PDF using LaTeX\n",
    "        !pdflatex $tex_file > pdflatex.out\n",
    "        \n",
    "    touchups = {'[11pt]{article}': '[11pt, a4paper, landscape]{scrartcl}',\n",
    "            'title{' + theNotebook + '}':\n",
    "            'title{' + casetitle + '}' +\n",
    "            '\\subtitle{' + subtitle + '}'}\n",
    "    touchup_build_tex(theNotebook + '.tex', touchups)\n",
    "    # Move the compiled pdf to the results folder\n",
    "    import os\n",
    "    publication = result_folder + os.sep + casename + '.pdf'\n",
    "    if os.path.exists(publication):\n",
    "        os.remove(publication)\n",
    "    os.rename(theNotebook + '.pdf', publication)"
   ]
  },
  {
   "cell_type": "code",
   "execution_count": null,
   "metadata": {
    "collapsed": true,
    "nbpresent": {
     "id": "0d1e4034-7bac-43e8-b4a1-32a008d7bcfd"
    }
   },
   "outputs": [],
   "source": []
  }
 ],
 "metadata": {
  "anaconda-cloud": {},
  "kernelspec": {
   "display_name": "Python [mordevpy27]",
   "language": "python",
   "name": "Python [mordevpy27]"
  },
  "language_info": {
   "codemirror_mode": {
    "name": "ipython",
    "version": 2
   },
   "file_extension": ".py",
   "mimetype": "text/x-python",
   "name": "python",
   "nbconvert_exporter": "python",
   "pygments_lexer": "ipython2",
   "version": "2.7.14"
  },
  "nbpresent": {
   "slides": {
    "3edd5562-a4dc-48f0-be50-fe2612e64977": {
     "id": "3edd5562-a4dc-48f0-be50-fe2612e64977",
     "prev": "d877bf21-7bde-465c-aa72-5476cdd04c35",
     "regions": {
      "b5cf805d-8e6d-4c6d-9d85-f0177885e293": {
       "attrs": {
        "height": 0.8,
        "width": 0.8,
        "x": 0.1,
        "y": 0.1
       },
       "content": {
        "cell": "cc2f3da2-5e00-414f-8ad6-b8bc20e52fb2",
        "part": "whole"
       },
       "id": "b5cf805d-8e6d-4c6d-9d85-f0177885e293"
      }
     }
    },
    "3edda8b0-bee2-4065-bae6-97a233f7afb9": {
     "id": "3edda8b0-bee2-4065-bae6-97a233f7afb9",
     "prev": "924608ce-e709-4213-a283-c1b1bbb13b32",
     "regions": {
      "931c7ac9-8903-4f10-82d2-f8103665ea01": {
       "attrs": {
        "height": 0.8,
        "width": 0.8,
        "x": 0.1,
        "y": 0.1
       },
       "content": {
        "cell": "551075e4-7e2e-43fc-97b0-a38e545a701a",
        "part": "whole"
       },
       "id": "931c7ac9-8903-4f10-82d2-f8103665ea01"
      }
     }
    },
    "4e22198f-1162-434e-95ac-cb36d2cf839e": {
     "id": "4e22198f-1162-434e-95ac-cb36d2cf839e",
     "prev": "d2a3d33a-fd8f-40f8-907e-4e1bb21c09d5",
     "regions": {
      "ec176237-a496-4d28-a605-9f72ef7d6a3c": {
       "attrs": {
        "height": 0.8,
        "width": 0.8,
        "x": 0.1,
        "y": 0.1
       },
       "content": {
        "cell": "81b70887-41ea-4bd1-a025-2ed129e9207d",
        "part": "whole"
       },
       "id": "ec176237-a496-4d28-a605-9f72ef7d6a3c"
      }
     }
    },
    "62d2faea-0962-4ada-b30d-babf181e3cb9": {
     "id": "62d2faea-0962-4ada-b30d-babf181e3cb9",
     "prev": "3edd5562-a4dc-48f0-be50-fe2612e64977",
     "regions": {
      "e4a77b29-5764-4149-996a-18e08a23b5f7": {
       "attrs": {
        "height": 0.8,
        "width": 0.8,
        "x": 0.1,
        "y": 0.1
       },
       "content": {
        "cell": "d254f6ba-976c-4b4e-b066-8bd2464f8d2a",
        "part": "whole"
       },
       "id": "e4a77b29-5764-4149-996a-18e08a23b5f7"
      }
     }
    },
    "67cb1612-2eb7-405a-9a0a-0407d7662b6d": {
     "id": "67cb1612-2eb7-405a-9a0a-0407d7662b6d",
     "prev": null,
     "regions": {
      "892372ee-1557-4943-b0b4-eb13931a93a9": {
       "attrs": {
        "height": 0.8,
        "width": 0.8,
        "x": 0.1,
        "y": 0.1
       },
       "content": {
        "cell": "941b0d31-f801-438d-8fdb-a4975fa31fef",
        "part": "whole"
       },
       "id": "892372ee-1557-4943-b0b4-eb13931a93a9"
      }
     }
    },
    "68e993a7-e69f-447a-b061-bc2b688adc76": {
     "id": "68e993a7-e69f-447a-b061-bc2b688adc76",
     "prev": "c1353167-0b68-4acd-a731-7bd1b41a7be1",
     "regions": {
      "d1c49137-530a-4a54-9ed5-16bb65a59b38": {
       "attrs": {
        "height": 0.8,
        "width": 0.8,
        "x": 0.1,
        "y": 0.1
       },
       "content": {
        "cell": "35c3e3c2-0e7d-4520-8731-29213d9a4ab1",
        "part": "whole"
       },
       "id": "d1c49137-530a-4a54-9ed5-16bb65a59b38"
      }
     }
    },
    "6fe92ccb-7be5-44b5-9879-83bedcf47597": {
     "id": "6fe92ccb-7be5-44b5-9879-83bedcf47597",
     "prev": "7cfb66ed-1775-44c9-b316-e92cd6b603e4",
     "regions": {
      "8230491e-473f-4fea-aeaa-7bae465ee8c6": {
       "attrs": {
        "height": 0.8,
        "width": 0.8,
        "x": 0.1,
        "y": 0.1
       },
       "content": {
        "cell": "3c7ddd7a-f76d-4acd-9787-51fbdede1914",
        "part": "whole"
       },
       "id": "8230491e-473f-4fea-aeaa-7bae465ee8c6"
      }
     }
    },
    "7cfb66ed-1775-44c9-b316-e92cd6b603e4": {
     "id": "7cfb66ed-1775-44c9-b316-e92cd6b603e4",
     "prev": "67cb1612-2eb7-405a-9a0a-0407d7662b6d",
     "regions": {
      "347e1e36-6ad9-4cb6-bccb-af77be26c5cc": {
       "attrs": {
        "height": 0.8,
        "width": 0.8,
        "x": 0.1,
        "y": 0.1
       },
       "content": {
        "cell": "1bb935f4-c73d-4ea5-b13d-3ff9e71bde53",
        "part": "whole"
       },
       "id": "347e1e36-6ad9-4cb6-bccb-af77be26c5cc"
      }
     }
    },
    "924608ce-e709-4213-a283-c1b1bbb13b32": {
     "id": "924608ce-e709-4213-a283-c1b1bbb13b32",
     "prev": "ed932a73-39d2-421a-90bc-5c0cc5ac1df3",
     "regions": {
      "0b26da93-5116-411a-ae0d-7005112ccb2f": {
       "attrs": {
        "height": 0.8,
        "width": 0.8,
        "x": 0.1,
        "y": 0.1
       },
       "content": {
        "cell": "b1bb51c9-0c81-4551-97e0-39ca0ca51686",
        "part": "whole"
       },
       "id": "0b26da93-5116-411a-ae0d-7005112ccb2f"
      }
     }
    },
    "c1353167-0b68-4acd-a731-7bd1b41a7be1": {
     "id": "c1353167-0b68-4acd-a731-7bd1b41a7be1",
     "prev": "62d2faea-0962-4ada-b30d-babf181e3cb9",
     "regions": {
      "9a883928-c61c-4fb5-9397-5acbfe3afa38": {
       "attrs": {
        "height": 0.8,
        "width": 0.8,
        "x": 0.1,
        "y": 0.1
       },
       "content": {
        "cell": "fa96ede6-83f0-4305-88c0-e9dd8b0a6f4f",
        "part": "whole"
       },
       "id": "9a883928-c61c-4fb5-9397-5acbfe3afa38"
      }
     }
    },
    "c90e6387-9a8c-4e6d-ab0f-4b4a012a6b31": {
     "id": "c90e6387-9a8c-4e6d-ab0f-4b4a012a6b31",
     "prev": "3edda8b0-bee2-4065-bae6-97a233f7afb9",
     "regions": {
      "7b132404-7d28-4786-96e3-5d5fe3078486": {
       "attrs": {
        "height": 0.8,
        "width": 0.8,
        "x": 0.1,
        "y": 0.1
       },
       "content": {
        "cell": "0d1e4034-7bac-43e8-b4a1-32a008d7bcfd",
        "part": "whole"
       },
       "id": "7b132404-7d28-4786-96e3-5d5fe3078486"
      }
     }
    },
    "d2a3d33a-fd8f-40f8-907e-4e1bb21c09d5": {
     "id": "d2a3d33a-fd8f-40f8-907e-4e1bb21c09d5",
     "prev": "eef69675-485d-482e-b7b4-079e1a0ec53e",
     "regions": {
      "0eeade24-6e5a-4574-ab37-b0cfc512c47d": {
       "attrs": {
        "height": 0.8,
        "width": 0.8,
        "x": 0.1,
        "y": 0.1
       },
       "content": {
        "cell": "5d935d53-07ed-490d-a622-c37852ca8fcc",
        "part": "whole"
       },
       "id": "0eeade24-6e5a-4574-ab37-b0cfc512c47d"
      }
     }
    },
    "d877bf21-7bde-465c-aa72-5476cdd04c35": {
     "id": "d877bf21-7bde-465c-aa72-5476cdd04c35",
     "prev": "4e22198f-1162-434e-95ac-cb36d2cf839e",
     "regions": {
      "a9174298-60f8-43c2-bad6-03c24fbcc5e7": {
       "attrs": {
        "height": 0.8,
        "width": 0.8,
        "x": 0.1,
        "y": 0.1
       },
       "content": {
        "cell": "baa9d9e4-34fc-4e62-b9c9-98c9616c6b91",
        "part": "whole"
       },
       "id": "a9174298-60f8-43c2-bad6-03c24fbcc5e7"
      }
     }
    },
    "ed932a73-39d2-421a-90bc-5c0cc5ac1df3": {
     "id": "ed932a73-39d2-421a-90bc-5c0cc5ac1df3",
     "prev": "faf505bc-86c3-4f47-8bfd-e1f8ab279773",
     "regions": {
      "078f5c3c-53ed-45b9-8412-d4f278cba9b4": {
       "attrs": {
        "height": 0.8,
        "width": 0.8,
        "x": 0.1,
        "y": 0.1
       },
       "content": {
        "cell": "b5d8aaa5-89cb-4578-a36a-a782a915b324",
        "part": "whole"
       },
       "id": "078f5c3c-53ed-45b9-8412-d4f278cba9b4"
      }
     }
    },
    "eef69675-485d-482e-b7b4-079e1a0ec53e": {
     "id": "eef69675-485d-482e-b7b4-079e1a0ec53e",
     "prev": "6fe92ccb-7be5-44b5-9879-83bedcf47597",
     "regions": {
      "b4bfd677-aead-4002-8dc8-086e00fa2c2a": {
       "attrs": {
        "height": 0.8,
        "width": 0.8,
        "x": 0.1,
        "y": 0.1
       },
       "content": {
        "cell": "d83ddbd5-c0e4-40ed-96a5-74aeb236ef16",
        "part": "whole"
       },
       "id": "b4bfd677-aead-4002-8dc8-086e00fa2c2a"
      }
     }
    },
    "faf505bc-86c3-4f47-8bfd-e1f8ab279773": {
     "id": "faf505bc-86c3-4f47-8bfd-e1f8ab279773",
     "prev": "68e993a7-e69f-447a-b061-bc2b688adc76",
     "regions": {
      "cc47ac49-f14c-4c94-bde7-12b1aa4e89c8": {
       "attrs": {
        "height": 0.8,
        "width": 0.8,
        "x": 0.1,
        "y": 0.1
       },
       "content": {
        "cell": "69053a30-6d84-4a8f-a35e-9d542521aaf8",
        "part": "whole"
       },
       "id": "cc47ac49-f14c-4c94-bde7-12b1aa4e89c8"
      }
     }
    }
   },
   "themes": {
    "default": "5516653f-9ae8-4737-95aa-4ce9ead1a262",
    "theme": {
     "5516653f-9ae8-4737-95aa-4ce9ead1a262": {
      "id": "5516653f-9ae8-4737-95aa-4ce9ead1a262",
      "palette": {
       "19cc588f-0593-49c9-9f4b-e4d7cc113b1c": {
        "id": "19cc588f-0593-49c9-9f4b-e4d7cc113b1c",
        "rgb": [
         252,
         252,
         252
        ]
       },
       "31af15d2-7e15-44c5-ab5e-e04b16a89eff": {
        "id": "31af15d2-7e15-44c5-ab5e-e04b16a89eff",
        "rgb": [
         68,
         68,
         68
        ]
       },
       "50f92c45-a630-455b-aec3-788680ec7410": {
        "id": "50f92c45-a630-455b-aec3-788680ec7410",
        "rgb": [
         155,
         177,
         192
        ]
       },
       "c5cc3653-2ee1-402a-aba2-7caae1da4f6c": {
        "id": "c5cc3653-2ee1-402a-aba2-7caae1da4f6c",
        "rgb": [
         43,
         126,
         184
        ]
       },
       "efa7f048-9acb-414c-8b04-a26811511a21": {
        "id": "efa7f048-9acb-414c-8b04-a26811511a21",
        "rgb": [
         25.118061674008803,
         73.60176211453744,
         107.4819383259912
        ]
       }
      },
      "rules": {
       "blockquote": {
        "color": "50f92c45-a630-455b-aec3-788680ec7410"
       },
       "code": {
        "font-family": "Anonymous Pro"
       },
       "h1": {
        "color": "c5cc3653-2ee1-402a-aba2-7caae1da4f6c",
        "font-family": "Lato",
        "font-size": 8
       },
       "h2": {
        "color": "c5cc3653-2ee1-402a-aba2-7caae1da4f6c",
        "font-family": "Lato",
        "font-size": 6
       },
       "h3": {
        "color": "50f92c45-a630-455b-aec3-788680ec7410",
        "font-family": "Lato",
        "font-size": 5.5
       },
       "h4": {
        "color": "c5cc3653-2ee1-402a-aba2-7caae1da4f6c",
        "font-family": "Lato",
        "font-size": 5
       },
       "h5": {
        "font-family": "Lato"
       },
       "h6": {
        "font-family": "Lato"
       },
       "h7": {
        "font-family": "Lato"
       },
       "pre": {
        "font-family": "Anonymous Pro",
        "font-size": 4
       }
      },
      "text-base": {
       "font-family": "Merriweather",
       "font-size": 4
      }
     }
    }
   }
  }
 },
 "nbformat": 4,
 "nbformat_minor": 1
}
