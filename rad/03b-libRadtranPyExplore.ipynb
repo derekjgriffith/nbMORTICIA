{
 "cells": [
  {
   "cell_type": "code",
   "execution_count": 1,
   "metadata": {
    "collapsed": false
   },
   "outputs": [],
   "source": [
    "import morticia.rad.writeLex as writeLex  # this seems to load all available libradtran option definitions"
   ]
  },
  {
   "cell_type": "code",
   "execution_count": null,
   "metadata": {
    "collapsed": true
   },
   "outputs": [],
   "source": [
    "writeLex."
   ]
  },
  {
   "cell_type": "code",
   "execution_count": 2,
   "metadata": {
    "collapsed": false
   },
   "outputs": [],
   "source": [
    "Options = writeLex.loadOptions()  # The files *_options.py define all the options"
   ]
  },
  {
   "cell_type": "code",
   "execution_count": 3,
   "metadata": {
    "collapsed": false
   },
   "outputs": [
    {
     "data": {
      "text/plain": [
       "{'ECHAM_sza': <morticia.rad.option_definition.option instance at 0x00000000029F2A88>,\n",
       " 'ECMWF_ic_file': <morticia.rad.option_definition.option instance at 0x00000000029F2F48>,\n",
       " 'ECMWF_levels_only': <morticia.rad.option_definition.option instance at 0x00000000029F80C8>,\n",
       " 'ECMWF_ozone_climatology': <morticia.rad.option_definition.option instance at 0x00000000029F2BC8>,\n",
       " 'ECMWF_wc_file': <morticia.rad.option_definition.option instance at 0x00000000029F2D88>,\n",
       " 'ECMWF_wind_file': <morticia.rad.option_definition.option instance at 0x00000000029F8208>,\n",
       " 'aerosol_angstrom': <morticia.rad.option_definition.option instance at 0x00000000029E26C8>,\n",
       " 'aerosol_default': <morticia.rad.option_definition.option instance at 0x00000000029E2108>,\n",
       " 'aerosol_file': <morticia.rad.option_definition.option instance at 0x00000000029E2348>,\n",
       " 'aerosol_haze': <morticia.rad.option_definition.option instance at 0x00000000029E70C8>,\n",
       " 'aerosol_king_byrne': <morticia.rad.option_definition.option instance at 0x00000000029E2A08>,\n",
       " 'aerosol_modify': <morticia.rad.option_definition.option instance at 0x00000000029E2D88>,\n",
       " 'aerosol_profile_modtran': <morticia.rad.option_definition.option instance at 0x00000000029E2508>,\n",
       " 'aerosol_refrac_index': <morticia.rad.option_definition.option instance at 0x00000000029EC188>,\n",
       " 'aerosol_season': <morticia.rad.option_definition.option instance at 0x00000000029E7548>,\n",
       " 'aerosol_set_tau_at_wvl': <morticia.rad.option_definition.option instance at 0x00000000029E72C8>,\n",
       " 'aerosol_sizedist_file': <morticia.rad.option_definition.option instance at 0x00000000029E7EC8>,\n",
       " 'aerosol_species_file': <morticia.rad.option_definition.option instance at 0x00000000029E77C8>,\n",
       " 'aerosol_species_library': <morticia.rad.option_definition.option instance at 0x00000000029E7908>,\n",
       " 'aerosol_visibility': <morticia.rad.option_definition.option instance at 0x00000000029E7B48>,\n",
       " 'aerosol_vulcan': <morticia.rad.option_definition.option instance at 0x00000000029E7D08>,\n",
       " 'albedo': <morticia.rad.option_definition.option instance at 0x00000000067F5E48>,\n",
       " 'albedo_file': <morticia.rad.option_definition.option instance at 0x00000000067F90C8>,\n",
       " 'albedo_library': <morticia.rad.option_definition.option instance at 0x00000000029EC488>,\n",
       " 'albedo_map': <morticia.rad.option_definition.option instance at 0x00000000029EC808>,\n",
       " 'altitude': <morticia.rad.option_definition.option instance at 0x00000000067F5A48>,\n",
       " 'altitude_map': <morticia.rad.option_definition.option instance at 0x00000000029ECAC8>,\n",
       " 'atm_z_grid': <morticia.rad.option_definition.option instance at 0x00000000067F54C8>,\n",
       " 'atmos_region': <morticia.rad.option_definition.option instance at 0x00000000067EF988>,\n",
       " 'atmosphere_file': <morticia.rad.option_definition.option instance at 0x0000000006808848>,\n",
       " 'bpdf_tsang_u10': <morticia.rad.option_definition.option instance at 0x0000000006808688>,\n",
       " 'brdf_ambrals': <morticia.rad.option_definition.option instance at 0x00000000067FE388>,\n",
       " 'brdf_ambrals_file': <morticia.rad.option_definition.option instance at 0x00000000067FE788>,\n",
       " 'brdf_ambrals_hotspot': <morticia.rad.option_definition.option instance at 0x00000000067FE4C8>,\n",
       " 'brdf_cam': <morticia.rad.option_definition.option instance at 0x00000000067F9448>,\n",
       " 'brdf_cam_solar_wind': <morticia.rad.option_definition.option instance at 0x00000000067F9608>,\n",
       " 'brdf_hapke': <morticia.rad.option_definition.option instance at 0x00000000067F9908>,\n",
       " 'brdf_hapke_file': <morticia.rad.option_definition.option instance at 0x00000000067F9B08>,\n",
       " 'brdf_rossli': <morticia.rad.option_definition.option instance at 0x00000000067F9DC8>,\n",
       " 'brdf_rossli_file': <morticia.rad.option_definition.option instance at 0x00000000067FE0C8>,\n",
       " 'brdf_rossli_hotspot': <morticia.rad.option_definition.option instance at 0x00000000067F9C48>,\n",
       " 'brdf_rpv': <morticia.rad.option_definition.option instance at 0x0000000006803088>,\n",
       " 'brdf_rpv_file': <morticia.rad.option_definition.option instance at 0x00000000067FED88>,\n",
       " 'brdf_rpv_library': <morticia.rad.option_definition.option instance at 0x0000000006803248>,\n",
       " 'brdf_rpv_type': <morticia.rad.option_definition.option instance at 0x0000000006803588>,\n",
       " 'ck_fu_h2o_continuum': <morticia.rad.option_definition.option instance at 0x0000000006811388>,\n",
       " 'ck_lowtran_absorption': <morticia.rad.option_definition.option instance at 0x0000000006811208>,\n",
       " 'cloud_fraction_file': <morticia.rad.option_definition.option instance at 0x00000000029DB988>,\n",
       " 'cloud_fraction_map': <morticia.rad.option_definition.option instance at 0x00000000029EC608>,\n",
       " 'cloud_overlap': <morticia.rad.option_definition.option instance at 0x00000000029DBB48>,\n",
       " 'cloudcover': <morticia.rad.option_definition.option instance at 0x00000000029DBE08>,\n",
       " 'cox_and_munk_pcl_map': <morticia.rad.option_definition.option instance at 0x00000000029ECF08>,\n",
       " 'cox_and_munk_sal_map': <morticia.rad.option_definition.option instance at 0x00000000029F21C8>,\n",
       " 'cox_and_munk_u10_map': <morticia.rad.option_definition.option instance at 0x00000000029ECD08>,\n",
       " 'crs_file': <morticia.rad.option_definition.option instance at 0x000000000680D8C8>,\n",
       " 'crs_model': <morticia.rad.option_definition.option instance at 0x000000000680D608>,\n",
       " 'data_files_path': <morticia.rad.option_definition.option instance at 0x0000000006885248>,\n",
       " 'day_of_year': <morticia.rad.option_definition.option instance at 0x0000000006894EC8>,\n",
       " 'deltam': <morticia.rad.option_definition.option instance at 0x000000000681B5C8>,\n",
       " 'disort_intcor': <morticia.rad.option_definition.option instance at 0x0000000006816608>,\n",
       " 'disort_spherical_albedo': <morticia.rad.option_definition.option instance at 0x00000000068163C8>,\n",
       " 'earth_radius': <morticia.rad.option_definition.option instance at 0x0000000006894D48>,\n",
       " 'emissivity_map': <morticia.rad.option_definition.option instance at 0x00000000029F2448>,\n",
       " 'filter_function_file': <morticia.rad.option_definition.option instance at 0x000000000688B988>,\n",
       " 'fluorescence': <morticia.rad.option_definition.option instance at 0x00000000067FE988>,\n",
       " 'fluorescence_file': <morticia.rad.option_definition.option instance at 0x00000000067FEB88>,\n",
       " 'heating_rate': <morticia.rad.option_definition.option instance at 0x0000000006885D08>,\n",
       " 'ic_file': <morticia.rad.option_definition.option instance at 0x00000000029D5D48>,\n",
       " 'ic_fu': <morticia.rad.option_definition.option instance at 0x00000000029DB748>,\n",
       " 'ic_habit': <morticia.rad.option_definition.option instance at 0x00000000029DB388>,\n",
       " 'ic_habit_yang2013': <morticia.rad.option_definition.option instance at 0x00000000029DB508>,\n",
       " 'ic_modify': <morticia.rad.option_definition.option instance at 0x00000000029DB188>,\n",
       " 'ic_properties': <morticia.rad.option_definition.option instance at 0x00000000029D5F08>,\n",
       " 'include': <morticia.rad.option_definition.not_yet_lex2py_option instance at 0x0000000006881888>,\n",
       " 'interpret_as_level': <morticia.rad.option_definition.option instance at 0x00000000067F5048>,\n",
       " 'isotropic_source_toa': <morticia.rad.option_definition.option instance at 0x00000000068167C8>,\n",
       " 'latitude': <morticia.rad.option_definition.option instance at 0x0000000006898248>,\n",
       " 'longitude': <morticia.rad.option_definition.option instance at 0x00000000068984C8>,\n",
       " 'mc_aerosol_is': <morticia.rad.option_definition.option instance at 0x00000000029FDB08>,\n",
       " 'mc_albedo_spectral': <morticia.rad.option_definition.option instance at 0x00000000029FDD88>,\n",
       " 'mc_albedo_spectral_file': <morticia.rad.option_definition.option instance at 0x0000000006803D88>,\n",
       " 'mc_azimuth_old': <morticia.rad.option_definition.option instance at 0x00000000029FDEC8>,\n",
       " 'mc_backward': <morticia.rad.option_definition.option instance at 0x00000000029FD288>,\n",
       " 'mc_backward_output': <morticia.rad.option_definition.option instance at 0x000000000688F1C8>,\n",
       " 'mc_backward_sunshape_file': <morticia.rad.option_definition.option instance at 0x00000000067E11C8>,\n",
       " 'mc_backward_writeback': <morticia.rad.option_definition.option instance at 0x00000000067E1308>,\n",
       " 'mc_basename': <morticia.rad.option_definition.option instance at 0x000000000688F748>,\n",
       " 'mc_bcond': <morticia.rad.option_definition.option instance at 0x0000000006898608>,\n",
       " 'mc_coherent_backscatter': <morticia.rad.option_definition.option instance at 0x00000000067E1448>,\n",
       " 'mc_escape': <morticia.rad.option_definition.not_yet_lex2py_option instance at 0x00000000029F8748>,\n",
       " 'mc_ipa': <morticia.rad.option_definition.option instance at 0x000000000681BA48>,\n",
       " 'mc_jacobian': <morticia.rad.option_definition.option instance at 0x000000000688FD48>,\n",
       " 'mc_lidar_file': <morticia.rad.option_definition.option instance at 0x00000000067EF3C8>,\n",
       " 'mc_maxscatters': <morticia.rad.option_definition.option instance at 0x00000000067E1788>,\n",
       " 'mc_panorama': <morticia.rad.option_definition.option instance at 0x00000000068A5348>,\n",
       " 'mc_panorama_view': <morticia.rad.option_definition.option instance at 0x000000000689FE48>,\n",
       " 'mc_photons': <morticia.rad.option_definition.option instance at 0x00000000067E1D08>,\n",
       " 'mc_photons_file': <morticia.rad.option_definition.option instance at 0x00000000067E1F08>,\n",
       " 'mc_polarisation': <morticia.rad.option_definition.option instance at 0x00000000067E6148>,\n",
       " 'mc_rad_alpha': <morticia.rad.option_definition.option instance at 0x00000000067E6388>,\n",
       " 'mc_radial_pathlength_dt': <morticia.rad.option_definition.option instance at 0x00000000067E6708>,\n",
       " 'mc_randomseed': <morticia.rad.option_definition.option instance at 0x00000000067E6A88>,\n",
       " 'mc_refraction': <morticia.rad.option_definition.option instance at 0x00000000067E6C08>,\n",
       " 'mc_ris': <morticia.rad.option_definition.option instance at 0x00000000067E6DC8>,\n",
       " 'mc_satellite_view': <morticia.rad.option_definition.option instance at 0x000000000689F048>,\n",
       " 'mc_sensorposition': <morticia.rad.option_definition.option instance at 0x000000000689F8C8>,\n",
       " 'mc_spherical': <morticia.rad.option_definition.option instance at 0x0000000006898B08>,\n",
       " 'mc_std': <morticia.rad.option_definition.option instance at 0x000000000688FA88>,\n",
       " 'mc_sun_angular_size': <morticia.rad.option_definition.option instance at 0x00000000067EF048>,\n",
       " 'mc_sun_position': <morticia.rad.option_definition.option instance at 0x000000000689F408>,\n",
       " 'mc_surface_reflectalways': <morticia.rad.option_definition.option instance at 0x00000000029FD588>,\n",
       " 'mc_tipa': <morticia.rad.option_definition.option instance at 0x000000000681BCC8>,\n",
       " 'mc_truncate': <morticia.rad.option_definition.option instance at 0x00000000029F8EC8>,\n",
       " 'mc_vroom': <morticia.rad.option_definition.option instance at 0x00000000029F89C8>,\n",
       " 'mixing_ratio': <morticia.rad.option_definition.option instance at 0x0000000006811DC8>,\n",
       " 'mol_abs_param': <morticia.rad.option_definition.option instance at 0x000000000680DC88>,\n",
       " 'mol_file': <morticia.rad.option_definition.option instance at 0x0000000006808F48>,\n",
       " 'mol_modify': <morticia.rad.option_definition.option instance at 0x0000000006811A88>,\n",
       " 'mol_tau_file': <morticia.rad.option_definition.option instance at 0x00000000068116C8>,\n",
       " 'no_absorption': <morticia.rad.option_definition.option instance at 0x00000000067EFB88>,\n",
       " 'no_scattering': <morticia.rad.option_definition.option instance at 0x00000000067EFDC8>,\n",
       " 'number_of_streams': <morticia.rad.option_definition.option instance at 0x0000000006816CC8>,\n",
       " 'output_file': <morticia.rad.option_definition.option instance at 0x0000000006885588>,\n",
       " 'output_format': <morticia.rad.option_definition.option instance at 0x0000000006885708>,\n",
       " 'output_process': <morticia.rad.option_definition.option instance at 0x00000000068853C8>,\n",
       " 'output_quantity': <morticia.rad.option_definition.option instance at 0x0000000006885A48>,\n",
       " 'output_user': <morticia.rad.option_definition.not_yet_lex2py_option instance at 0x0000000006885888>,\n",
       " 'phi': <morticia.rad.option_definition.option instance at 0x0000000006894748>,\n",
       " 'phi0': <morticia.rad.option_definition.option instance at 0x0000000006894508>,\n",
       " 'polradtran': <morticia.rad.option_definition.option instance at 0x0000000006816E88>,\n",
       " 'polradtran_max_delta_tau': <morticia.rad.option_definition.option instance at 0x000000000681B148>,\n",
       " 'polradtran_quad_type': <morticia.rad.option_definition.option instance at 0x0000000006816F88>,\n",
       " 'pressure': <morticia.rad.option_definition.option instance at 0x000000000680D148>,\n",
       " 'pressure_out': <morticia.rad.option_definition.not_yet_lex2py_option instance at 0x000000000688BBC8>,\n",
       " 'print_disort_info': <morticia.rad.option_definition.option instance at 0x00000000068850C8>,\n",
       " 'profile_file': <morticia.rad.option_definition.option instance at 0x00000000029D5108>,\n",
       " 'profile_modify': <morticia.rad.option_definition.option instance at 0x00000000029D5488>,\n",
       " 'profile_properties': <morticia.rad.option_definition.option instance at 0x00000000029D5248>,\n",
       " 'pseudospherical': <morticia.rad.option_definition.option instance at 0x0000000006816208>,\n",
       " 'quiet': <morticia.rad.option_definition.option instance at 0x00000000068819C8>,\n",
       " 'radiosonde': <morticia.rad.option_definition.not_yet_lex2py_option instance at 0x0000000006808A08>,\n",
       " 'radiosonde_levels_only': <morticia.rad.option_definition.option instance at 0x0000000006808B88>,\n",
       " 'raman': <morticia.rad.option_definition.option instance at 0x0000000006816AC8>,\n",
       " 'rayleigh_depol': <morticia.rad.option_definition.option instance at 0x000000000680DA88>,\n",
       " 'refractive_index_file': <morticia.rad.option_definition.option instance at 0x000000000680D308>,\n",
       " 'reptran_file': <morticia.rad.option_definition.option instance at 0x000000000680DE48>,\n",
       " 'reverse_atmosphere': <morticia.rad.option_definition.option instance at 0x00000000067F5608>,\n",
       " 'rte_solver': <morticia.rad.option_definition.option instance at 0x0000000006816088>,\n",
       " 'satellite_geometry': <morticia.rad.option_definition.option instance at 0x00000000029F8348>,\n",
       " 'satellite_pixel': <morticia.rad.option_definition.option instance at 0x00000000029F84C8>,\n",
       " 'sdisort': <morticia.rad.option_definition.option instance at 0x000000000681B308>,\n",
       " 'slit_function_file': <morticia.rad.option_definition.option instance at 0x000000000688B108>,\n",
       " 'sos_nscat': <morticia.rad.option_definition.option instance at 0x000000000681B408>,\n",
       " 'source': <morticia.rad.option_definition.option instance at 0x00000000067EAEC8>,\n",
       " 'spline': <morticia.rad.option_definition.option instance at 0x000000000688B588>,\n",
       " 'spline_file': <morticia.rad.option_definition.option instance at 0x000000000688B788>,\n",
       " 'sslidar': <morticia.rad.option_definition.option instance at 0x0000000006881248>,\n",
       " 'sslidar_nranges': <morticia.rad.option_definition.option instance at 0x0000000006881408>,\n",
       " 'sslidar_polarisation': <morticia.rad.option_definition.option instance at 0x0000000006881548>,\n",
       " 'sur_temperature': <morticia.rad.option_definition.option instance at 0x0000000006803748>,\n",
       " 'surface_temperature_map': <morticia.rad.option_definition.option instance at 0x00000000029F2648>,\n",
       " 'surface_type_map': <morticia.rad.option_definition.option instance at 0x00000000029F2848>,\n",
       " 'sza': <morticia.rad.option_definition.option instance at 0x0000000006894188>,\n",
       " 'sza_file': <morticia.rad.option_definition.option instance at 0x0000000006894388>,\n",
       " 'test_optical_properties': <morticia.rad.option_definition.option instance at 0x0000000006881EC8>,\n",
       " 'thermal_bands_file': <morticia.rad.option_definition.option instance at 0x00000000067EA808>,\n",
       " 'thermal_bandwidth': <morticia.rad.option_definition.option instance at 0x00000000067EAB48>,\n",
       " 'tipa': <morticia.rad.option_definition.option instance at 0x000000000681BEC8>,\n",
       " 'tzs_cloud_top_height': <morticia.rad.option_definition.not_yet_lex2py_option instance at 0x00000000068816C8>,\n",
       " 'umu': <morticia.rad.option_definition.option instance at 0x00000000068949C8>,\n",
       " 'verbose': <morticia.rad.option_definition.option instance at 0x0000000006881B88>,\n",
       " 'wavelength': <morticia.rad.option_definition.option instance at 0x00000000067EA1C8>,\n",
       " 'wavelength_grid_file': <morticia.rad.option_definition.option instance at 0x00000000067EA648>,\n",
       " 'wavelength_index': <morticia.rad.option_definition.option instance at 0x00000000067EA488>,\n",
       " 'wc_file': <morticia.rad.option_definition.option instance at 0x00000000029D5708>,\n",
       " 'wc_modify': <morticia.rad.option_definition.option instance at 0x00000000029D5B08>,\n",
       " 'wc_properties': <morticia.rad.option_definition.option instance at 0x00000000029D58C8>,\n",
       " 'z_interpolate': <morticia.rad.option_definition.not_yet_lex2py_option instance at 0x00000000067F5308>,\n",
       " 'zout': <morticia.rad.option_definition.not_yet_lex2py_option instance at 0x000000000688BD88>,\n",
       " 'zout_interpolate': <morticia.rad.option_definition.option instance at 0x00000000067F5188>,\n",
       " 'zout_sea': <morticia.rad.option_definition.not_yet_lex2py_option instance at 0x000000000688BF48>}"
      ]
     },
     "execution_count": 3,
     "metadata": {},
     "output_type": "execute_result"
    }
   ],
   "source": [
    "Options # Options is a dictionary of available options"
   ]
  },
  {
   "cell_type": "code",
   "execution_count": 4,
   "metadata": {
    "collapsed": false
   },
   "outputs": [
    {
     "data": {
      "text/plain": [
       "['__contains__',\n",
       " '__doc__',\n",
       " '__getitem__',\n",
       " '__init__',\n",
       " '__module__',\n",
       " '__setitem__',\n",
       " '_addBooleanToGuiInput',\n",
       " '_canEnable',\n",
       " '_canEnableContinousOption',\n",
       " '_extra_dependencies',\n",
       " '_isMandatoryMixedOption',\n",
       " '_mandatory',\n",
       " '_set_gui_input',\n",
       " 'canEnable',\n",
       " 'childs',\n",
       " 'continious_update',\n",
       " 'dependencies',\n",
       " 'dict',\n",
       " 'get',\n",
       " 'gui_inputs',\n",
       " 'help',\n",
       " 'isMandatory',\n",
       " 'name',\n",
       " 'non_parent_exceptions',\n",
       " 'non_parents',\n",
       " 'non_unique',\n",
       " 'parents',\n",
       " 'plot',\n",
       " 'showInGui',\n",
       " 'tokens']"
      ]
     },
     "execution_count": 4,
     "metadata": {},
     "output_type": "execute_result"
    }
   ],
   "source": [
    "dir(Options['aerosol_vulcan'])"
   ]
  },
  {
   "cell_type": "code",
   "execution_count": 5,
   "metadata": {
    "collapsed": false
   },
   "outputs": [
    {
     "data": {
      "text/plain": [
       "['__add__',\n",
       " '__class__',\n",
       " '__contains__',\n",
       " '__delattr__',\n",
       " '__delitem__',\n",
       " '__delslice__',\n",
       " '__doc__',\n",
       " '__eq__',\n",
       " '__format__',\n",
       " '__ge__',\n",
       " '__getattribute__',\n",
       " '__getitem__',\n",
       " '__getslice__',\n",
       " '__gt__',\n",
       " '__hash__',\n",
       " '__iadd__',\n",
       " '__imul__',\n",
       " '__init__',\n",
       " '__iter__',\n",
       " '__le__',\n",
       " '__len__',\n",
       " '__lt__',\n",
       " '__mul__',\n",
       " '__ne__',\n",
       " '__new__',\n",
       " '__reduce__',\n",
       " '__reduce_ex__',\n",
       " '__repr__',\n",
       " '__reversed__',\n",
       " '__rmul__',\n",
       " '__setattr__',\n",
       " '__setitem__',\n",
       " '__setslice__',\n",
       " '__sizeof__',\n",
       " '__str__',\n",
       " '__subclasshook__',\n",
       " 'append',\n",
       " 'count',\n",
       " 'extend',\n",
       " 'index',\n",
       " 'insert',\n",
       " 'pop',\n",
       " 'remove',\n",
       " 'reverse',\n",
       " 'sort']"
      ]
     },
     "execution_count": 5,
     "metadata": {},
     "output_type": "execute_result"
    }
   ],
   "source": [
    "dir(Options['sza'].childs)"
   ]
  },
  {
   "cell_type": "code",
   "execution_count": 6,
   "metadata": {
    "collapsed": false
   },
   "outputs": [
    {
     "data": {
      "text/plain": [
       "'\\n\\tThe solar zenith angle (degrees). \\n\\t\\\\fcode{\\n\\tsza value\\n\\t}\\n\\tThe default solar zenith angle is 0.\\n\\t\\t'"
      ]
     },
     "execution_count": 6,
     "metadata": {},
     "output_type": "execute_result"
    }
   ],
   "source": [
    "Options['sza']['documentation']"
   ]
  },
  {
   "cell_type": "code",
   "execution_count": 7,
   "metadata": {
    "collapsed": false
   },
   "outputs": [
    {
     "data": {
      "text/plain": [
       "<morticia.rad.option_definition.addToken instance at 0x0000000006894048>"
      ]
     },
     "execution_count": 7,
     "metadata": {},
     "output_type": "execute_result"
    }
   ],
   "source": [
    "Options['sza'].tokens[0]  # Tokens are the parameters that can appear after the option keyword"
   ]
  },
  {
   "cell_type": "code",
   "execution_count": 96,
   "metadata": {
    "collapsed": false
   },
   "outputs": [
    {
     "data": {
      "text/plain": [
       "float"
      ]
     },
     "execution_count": 96,
     "metadata": {},
     "output_type": "execute_result"
    }
   ],
   "source": [
    "Options['sza'].tokens[0].datatype  # The first token in the 'sza' keyword is the SZA value in degrees"
   ]
  },
  {
   "cell_type": "code",
   "execution_count": 107,
   "metadata": {
    "collapsed": false
   },
   "outputs": [],
   "source": [
    "x = Options['mol_modify'].tokens[0]"
   ]
  },
  {
   "cell_type": "code",
   "execution_count": 113,
   "metadata": {
    "collapsed": false
   },
   "outputs": [
    {
     "name": "stdout",
     "output_type": "stream",
     "text": [
      "['O3', 'O2', 'H2O', 'CO2', 'NO2', 'BRO', 'OCLO', 'HCHO', 'O4', 'SO2', 'CH4', 'N2O', 'CO', 'N2']\n"
     ]
    }
   ],
   "source": [
    "print x.dict['logicals']"
   ]
  },
  {
   "cell_type": "code",
   "execution_count": 117,
   "metadata": {
    "collapsed": false
   },
   "outputs": [
    {
     "name": "stdout",
     "output_type": "stream",
     "text": [
      "mol_modify ['O3', 'O2', 'H2O', 'CO2', 'NO2', 'BRO', 'OCLO', 'HCHO', 'O4', 'SO2', 'CH4', 'N2O', 'CO', 'N2']\n",
      "brdf_rossli ['iso', 'vol', 'geo']\n",
      "deltam ['on', 'off']\n",
      "crs_model ['no2', 'o3', 'rayleigh']\n",
      "include\n",
      "mc_ris ['factor', 'optical_depth']\n",
      "mc_spherical ['1D', '3D']\n",
      "source ['thermal', 'solar']\n",
      "mol_abs_param ['kato', 'kato2', 'kato2.96', 'fu', 'avhrr_kratz', 'sbdart', 'lowtran', 'reptran', 'reptran_channel', 'crs']\n",
      "polradtran ['aziorder', 'nstokes', 'src_code']\n",
      "radiosonde\n",
      "brdf_hapke ['b0', 'h', 'w']\n",
      "mc_backward_output ['edir', 'edn', 'eup', 'fdir', 'fdn', 'fup', 'act', 'abs', 'emis', 'heat']\n",
      "tipa ['dirdiff', 'dir']\n",
      "sslidar ['area', 'E0', 'eff', 'position', 'range']\n",
      "mc_panorama ['distr_photons_over_pixel', 'no_pixel', 'quicklook', 'with_direct_rad', 'weight_with_cos', 'circumsolar_var_red']\n",
      "rte_solver ['disort', 'twostr', 'mystic', 'rodents', 'sslidar', 'null', 'sdisort', 'spsdisort', 'fdisort1', 'fdisort2', 'sos', 'polradtran', 'ftwostr', 'montecarlo', 'tzs', 'sssi', 'sss', 'twostrebe']\n",
      "ck_lowtran_absorption ['O4', 'N2', 'CO', 'SO2', 'NH3', 'NO', 'HNO3']\n",
      "mol_tau_file ['sca', 'abs']\n",
      "output_quantity ['reflectivity', 'transmittance', 'brightness']\n",
      "aerosol_modify ['gg', 'ssa', 'tau', 'tau550']\n",
      "output_format ['ascii', 'flexstor', 'netCDF', 'sat_picture']\n",
      "latitude ['n', 's']\n",
      "cloud_overlap ['rand', 'max', 'maxrand', 'off']\n",
      "z_interpolate\n",
      "longitude ['e', 'w']\n",
      "ck_fu_h2o_continuum ['on', 'off', 'v2.1', 'v2.4']\n",
      "mixing_ratio ['O2', 'H2O', 'CO2', 'NO2', 'CH4', 'N2O', 'F11', 'F12', 'F22']\n",
      "mc_bcond ['periodic', 'mirror', 'absorb']\n",
      "disort_intcor ['phase', 'moments', 'off']\n",
      "mol_file ['O3', 'O2', 'H2O', 'CO2', 'NO2', 'BRO', 'OCLO', 'HCHO', 'O4', 'SO2', 'CH4', 'N2O', 'CO', 'N2']\n",
      "sdisort ['ichapman', 'nscat', 'nrefrac']\n",
      "pressure_out\n",
      "brdf_rpv ['k', 'rho0', 'theta', 'sigma', 't1', 't2', 'scale']\n",
      "aerosol_file ['gg', 'ssa', 'tau', 'explicit', 'moments']\n",
      "brdf_cam ['pcl', 'sal', 'u10', 'uphi']\n",
      "crs_file ['O3', 'O2', 'H2O', 'CO2', 'NO2', 'BRO', 'OCLO', 'HCHO', 'O4', 'SO2', 'CH4', 'N2O', 'CO', 'N2']\n"
     ]
    }
   ],
   "source": [
    "for key in Options:\n",
    "    if Options[key].tokens:\n",
    "        the_first_token = Options[key].tokens[0]\n",
    "        # print key, the_first_token \n",
    "        if 'logicals' in the_first_token.dict:\n",
    "            print key, the_first_token.dict['logicals']\n",
    "    else:\n",
    "        print key   "
   ]
  },
  {
   "cell_type": "code",
   "execution_count": null,
   "metadata": {
    "collapsed": true
   },
   "outputs": [],
   "source": []
  }
 ],
 "metadata": {
  "anaconda-cloud": {},
  "kernelspec": {
   "display_name": "Python [mordevpy27]",
   "language": "python",
   "name": "Python [mordevpy27]"
  },
  "language_info": {
   "codemirror_mode": {
    "name": "ipython",
    "version": 2
   },
   "file_extension": ".py",
   "mimetype": "text/x-python",
   "name": "python",
   "nbconvert_exporter": "python",
   "pygments_lexer": "ipython2",
   "version": "2.7.12"
  }
 },
 "nbformat": 4,
 "nbformat_minor": 0
}
