{
 "cells": [
  {
   "cell_type": "code",
   "execution_count": 1,
   "metadata": {
    "collapsed": true
   },
   "outputs": [],
   "source": [
    "from ipyparallel import Client  # This is the client class for contacting the hub/controller"
   ]
  },
  {
   "cell_type": "code",
   "execution_count": 38,
   "metadata": {},
   "outputs": [],
   "source": [
    "paraclient = Client(profile='nimbus', sshserver='dgriffith@146.64.246.94', password='dgNimbus')"
   ]
  },
  {
   "cell_type": "code",
   "execution_count": 39,
   "metadata": {},
   "outputs": [
    {
     "data": {
      "text/plain": [
       "[0, 1, 2, 3, 4, 5, 6, 7, 8, 9]"
      ]
     },
     "execution_count": 39,
     "metadata": {},
     "output_type": "execute_result"
    }
   ],
   "source": [
    "paraclient.ids"
   ]
  },
  {
   "cell_type": "code",
   "execution_count": 40,
   "metadata": {},
   "outputs": [
    {
     "data": {
      "text/plain": [
       "<AsyncResult: use_dill>"
      ]
     },
     "execution_count": 40,
     "metadata": {},
     "output_type": "execute_result"
    }
   ],
   "source": [
    "# Obtain a \"load-balanced\" view of the engine cluster\n",
    "paraview = paraclient.load_balanced_view()\n",
    "# Set the view to blocking mode, which means that we wait for all engines to complete the task before\n",
    "# control is returned to the client\n",
    "paraview.block = True\n",
    "# We will use dill instead of the standard pickle so that we can send instance methods to engines\n",
    "paraclient[:].use_dill()"
   ]
  },
  {
   "cell_type": "code",
   "execution_count": 41,
   "metadata": {},
   "outputs": [
    {
     "data": {
      "text/plain": [
       "<LoadBalancedView None>"
      ]
     },
     "execution_count": 41,
     "metadata": {},
     "output_type": "execute_result"
    }
   ],
   "source": [
    "paraview"
   ]
  },
  {
   "cell_type": "code",
   "execution_count": 42,
   "metadata": {},
   "outputs": [],
   "source": [
    "parallel_result = paraview.map_sync(lambda x: x**10, range(32))"
   ]
  },
  {
   "cell_type": "code",
   "execution_count": 43,
   "metadata": {},
   "outputs": [
    {
     "data": {
      "text/plain": [
       "[0,\n",
       " 1,\n",
       " 1024,\n",
       " 59049,\n",
       " 1048576,\n",
       " 9765625,\n",
       " 60466176,\n",
       " 282475249,\n",
       " 1073741824,\n",
       " 3486784401L,\n",
       " 10000000000L,\n",
       " 25937424601L,\n",
       " 61917364224L,\n",
       " 137858491849L,\n",
       " 289254654976L,\n",
       " 576650390625L,\n",
       " 1099511627776L,\n",
       " 2015993900449L,\n",
       " 3570467226624L,\n",
       " 6131066257801L,\n",
       " 10240000000000L,\n",
       " 16679880978201L,\n",
       " 26559922791424L,\n",
       " 41426511213649L,\n",
       " 63403380965376L,\n",
       " 95367431640625L,\n",
       " 141167095653376L,\n",
       " 205891132094649L,\n",
       " 296196766695424L,\n",
       " 420707233300201L,\n",
       " 590490000000000L,\n",
       " 819628286980801L]"
      ]
     },
     "execution_count": 43,
     "metadata": {},
     "output_type": "execute_result"
    }
   ],
   "source": [
    "parallel_result"
   ]
  },
  {
   "cell_type": "code",
   "execution_count": 46,
   "metadata": {
    "collapsed": true
   },
   "outputs": [],
   "source": [
    "parallel_result = paraview.map(lambda x: x**10, range(50))"
   ]
  },
  {
   "cell_type": "code",
   "execution_count": 47,
   "metadata": {},
   "outputs": [
    {
     "data": {
      "text/plain": [
       "[0,\n",
       " 1,\n",
       " 1024,\n",
       " 59049,\n",
       " 1048576,\n",
       " 9765625,\n",
       " 60466176,\n",
       " 282475249,\n",
       " 1073741824,\n",
       " 3486784401L,\n",
       " 10000000000L,\n",
       " 25937424601L,\n",
       " 61917364224L,\n",
       " 137858491849L,\n",
       " 289254654976L,\n",
       " 576650390625L,\n",
       " 1099511627776L,\n",
       " 2015993900449L,\n",
       " 3570467226624L,\n",
       " 6131066257801L,\n",
       " 10240000000000L,\n",
       " 16679880978201L,\n",
       " 26559922791424L,\n",
       " 41426511213649L,\n",
       " 63403380965376L,\n",
       " 95367431640625L,\n",
       " 141167095653376L,\n",
       " 205891132094649L,\n",
       " 296196766695424L,\n",
       " 420707233300201L,\n",
       " 590490000000000L,\n",
       " 819628286980801L,\n",
       " 1125899906842624L,\n",
       " 1531578985264449L,\n",
       " 2064377754059776L,\n",
       " 2758547353515625L,\n",
       " 3656158440062976L,\n",
       " 4808584372417849L,\n",
       " 6278211847988224L,\n",
       " 8140406085191601L,\n",
       " 10485760000000000L,\n",
       " 13422659310152401L,\n",
       " 17080198121677824L,\n",
       " 21611482313284249L,\n",
       " 27197360938418176L,\n",
       " 34050628916015625L,\n",
       " 42420747482776576L,\n",
       " 52599132235830049L,\n",
       " 64925062108545024L,\n",
       " 79792266297612001L]"
      ]
     },
     "execution_count": 47,
     "metadata": {},
     "output_type": "execute_result"
    }
   ],
   "source": [
    "parallel_result"
   ]
  },
  {
   "cell_type": "code",
   "execution_count": null,
   "metadata": {
    "collapsed": true
   },
   "outputs": [],
   "source": []
  }
 ],
 "metadata": {
  "kernelspec": {
   "display_name": "Python [mordevpy27]",
   "language": "python",
   "name": "Python [mordevpy27]"
  },
  "language_info": {
   "codemirror_mode": {
    "name": "ipython",
    "version": 2
   },
   "file_extension": ".py",
   "mimetype": "text/x-python",
   "name": "python",
   "nbconvert_exporter": "python",
   "pygments_lexer": "ipython2",
   "version": "2.7.14"
  }
 },
 "nbformat": 4,
 "nbformat_minor": 2
}
