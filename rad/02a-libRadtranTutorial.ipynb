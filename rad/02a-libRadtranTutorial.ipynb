{
 "cells": [
  {
   "cell_type": "markdown",
   "metadata": {},
   "source": [
    "# Tutorial in the Use of libRadtran"
   ]
  },
  {
   "cell_type": "markdown",
   "metadata": {},
   "source": [
    "libRadtran is a collection of tools for computational radiative transfer in the Earth atmosphere. \n",
    "This tutorial only shows the reading of uvspec input files and the reading of uvspec output files, as well as plotting of some outputs.\n",
    "\n",
    "In order to run uvspec cases, a working installation of libRadtran is required, which is generally only possible on unix/linux machines.\n",
    "\n",
    "Here it is shown how to read, modify and write libRadtran/uvspec input files, as well as reading of libRadtran/uvspec output files, together with plotting of some results.\n",
    "\n",
    "For downloads and further information, go to http://www.libradtran.org\n"
   ]
  },
  {
   "cell_type": "code",
   "execution_count": 1,
   "metadata": {
    "collapsed": false
   },
   "outputs": [],
   "source": [
    "import morticia.rad.librad as librad\n",
    "# Use auto reload of librad for development purposes\n",
    "%load_ext autoreload\n",
    "%autoreload 1\n",
    "%aimport morticia.rad.librad\n",
    "import numpy as np\n",
    "import matplotlib as mpl\n",
    "import matplotlib.pyplot as plt\n",
    "# use latex for font rendering\n",
    "mpl.rcParams['text.usetex'] = True  # Use TeX to format labels (takes a bit longer)\n",
    "%matplotlib inline"
   ]
  },
  {
   "cell_type": "code",
   "execution_count": 54,
   "metadata": {
    "collapsed": false
   },
   "outputs": [],
   "source": [
    "# Load a libRadtran example case\n",
    "# Be default, any include files are expanded, creating a single set of option keywords\n",
    "libRadCase=librad.Case(filename='./examples/UVSPEC_AER_0000_0000.INP')"
   ]
  },
  {
   "cell_type": "code",
   "execution_count": 55,
   "metadata": {
    "collapsed": false
   },
   "outputs": [
    {
     "name": "stdout",
     "output_type": "stream",
     "text": [
      "atmosphere_file ../data/atmmod/afglus.dat\n",
      "source solar ../data/solar_flux/atlas_plus_modtran\n",
      "mol_modify O3 300. DU\n",
      "day_of_year 170\n",
      "albedo 0.2\n",
      "sza 32.0\n",
      "rte_solver disort\n",
      "number_of_streams 6\n",
      "wavelength 299.0 341.0\n",
      "slit_function_file ../examples/TRI_SLIT.DAT\n",
      "spline 300 340 1\n",
      "quiet \n",
      "aerosol_vulcan 1\n",
      "aerosol_haze 6\n",
      "aerosol_season 1\n",
      "aerosol_visibility 20.0\n",
      "aerosol_angstrom 1.1 0.2\n",
      "aerosol_modify ssa scale 0.85\n",
      "aerosol_modify gg set 0.70\n",
      "aerosol_file tau ../examples/AERO_TAU.DAT\n",
      "phi 0.0 11.25 22.5 33.75 45.0 56.25 67.5 78.75 90.0 101.25 112.5 123.75 135.0 146.25 157.5 168.75 180.0 191.25 202.5\n",
      "umu -1.0 -0.998756921219 -0.995030775365 -0.988830826225 -0.980172487849 -0.969077286229 -0.955572805786 -0.939692620786 -0.92147621187 -0.900968867902 -0.87822157337 -0.853290881632 -0.826238774316 -0.797132507223 -0.766044443119 -0.73305187183 -0.698236818086 -0.661685837597 -0.623489801859 -0.583743672235 -0.542546263866 -0.5 -0.456210657353 -0.411287103131 -0.365341024366 -0.318486650252 -0.270840468143 -0.222520933956 -0.173648177667 -0.124343704647 -0.0747300935864 -0.0249306917381 0.0249306917381 0.0747300935864 0.124343704647 0.173648177667 0.222520933956 0.270840468143 0.318486650252 0.365341024366 0.411287103131 0.456210657353 0.5 0.542546263866 0.583743672235 0.623489801859 0.661685837597 0.698236818086\n"
     ]
    }
   ],
   "source": [
    "# The printed version is identical to what is written in the libRadtran/uvspec input file\n",
    "print libRadCase"
   ]
  },
  {
   "cell_type": "code",
   "execution_count": 56,
   "metadata": {
    "collapsed": false
   },
   "outputs": [
    {
     "name": "stdout",
     "output_type": "stream",
     "text": [
      "[ 0.]\n",
      "zout\n"
     ]
    }
   ],
   "source": [
    "libRadCase.readout()  # Read uvspec output data for this case"
   ]
  },
  {
   "cell_type": "code",
   "execution_count": 51,
   "metadata": {
    "collapsed": true
   },
   "outputs": [],
   "source": [
    "from morticia.tools.xd import *\n"
   ]
  },
  {
   "cell_type": "code",
   "execution_count": 53,
   "metadata": {
    "collapsed": false
   },
   "outputs": [],
   "source": [
    "z = xd_identity([0.0], 'zout')"
   ]
  },
  {
   "cell_type": "code",
   "execution_count": 15,
   "metadata": {
    "collapsed": false
   },
   "outputs": [
    {
     "ename": "AttributeError",
     "evalue": "Case instance has no attribute 'uu'",
     "output_type": "error",
     "traceback": [
      "\u001b[1;31m---------------------------------------------------------------------------\u001b[0m",
      "\u001b[1;31mAttributeError\u001b[0m                            Traceback (most recent call last)",
      "\u001b[1;32m<ipython-input-15-f82ea2258547>\u001b[0m in \u001b[0;36m<module>\u001b[1;34m()\u001b[0m\n\u001b[1;32m----> 1\u001b[1;33m \u001b[0mlibRadCase\u001b[0m\u001b[1;33m.\u001b[0m\u001b[0mprocess_outputs\u001b[0m\u001b[1;33m(\u001b[0m\u001b[1;33m)\u001b[0m\u001b[1;33m\u001b[0m\u001b[0m\n\u001b[0m",
      "\u001b[1;32mD:\\Projects\\GitHub\\MORTICIA\\morticia\\rad\\librad.py\u001b[0m in \u001b[0;36mprocess_outputs\u001b[1;34m(self)\u001b[0m\n\u001b[0;32m    916\u001b[0m         \u001b[1;31m# and 'stokes'.\u001b[0m\u001b[1;33m\u001b[0m\u001b[1;33m\u001b[0m\u001b[0m\n\u001b[0;32m    917\u001b[0m         \u001b[1;31m# Create each of the axes individually using xd_identity\u001b[0m\u001b[1;33m\u001b[0m\u001b[1;33m\u001b[0m\u001b[0m\n\u001b[1;32m--> 918\u001b[1;33m         \u001b[1;32mif\u001b[0m \u001b[0mlen\u001b[0m\u001b[1;33m(\u001b[0m\u001b[0mself\u001b[0m\u001b[1;33m.\u001b[0m\u001b[0muu\u001b[0m\u001b[1;33m)\u001b[0m\u001b[1;33m:\u001b[0m  \u001b[1;31m# OK, there is some radiance data\u001b[0m\u001b[1;33m\u001b[0m\u001b[0m\n\u001b[0m\u001b[0;32m    919\u001b[0m             \u001b[0muu_shape\u001b[0m \u001b[1;33m=\u001b[0m \u001b[0mself\u001b[0m\u001b[1;33m.\u001b[0m\u001b[0muu\u001b[0m\u001b[1;33m.\u001b[0m\u001b[0mshape\u001b[0m\u001b[1;33m\u001b[0m\u001b[0m\n\u001b[0;32m    920\u001b[0m             \u001b[0mumu\u001b[0m \u001b[1;33m=\u001b[0m \u001b[0mxd_identity\u001b[0m\u001b[1;33m(\u001b[0m\u001b[0mself\u001b[0m\u001b[1;33m.\u001b[0m\u001b[0mumu\u001b[0m\u001b[1;33m,\u001b[0m \u001b[1;34m'umu'\u001b[0m\u001b[1;33m,\u001b[0m \u001b[1;34m''\u001b[0m\u001b[1;33m)\u001b[0m\u001b[1;33m\u001b[0m\u001b[0m\n",
      "\u001b[1;31mAttributeError\u001b[0m: Case instance has no attribute 'uu'"
     ]
    }
   ],
   "source": [
    "libRadCase.process_outputs()"
   ]
  },
  {
   "cell_type": "code",
   "execution_count": 6,
   "metadata": {
    "collapsed": false
   },
   "outputs": [
    {
     "data": {
      "image/png": "[encoded data removed]",
      "text/plain": [
       "<matplotlib.figure.Figure at 0x1a487128>"
      ]
     },
     "metadata": {},
     "output_type": "display_data"
    }
   ],
   "source": [
    "plt.figure(figsize=(10,8))\n",
    "plt.plot(libRadCase.wvl, libRadCase.edir, libRadCase.wvl, libRadCase.edn, libRadCase.wvl, libRadCase.eup)\n",
    "plt.xlabel('Wavlength [$nm$]')\n",
    "plt.ylabel('Irradiance [$mW/m^2/sr/nm$]')\n",
    "plt.legend(['Direct','Diffuse Downwelling','Total Upwelling'], loc='upper left')\n",
    "plt.grid()"
   ]
  },
  {
   "cell_type": "code",
   "execution_count": 7,
   "metadata": {
    "collapsed": true
   },
   "outputs": [],
   "source": [
    "# Thermal two-stream fast irradiances using the RODENTS solver\n",
    "libRadCase=librad.Case(filename='examples/UVSPEC_RODENTS_ZOUT_THERMAL.INP')"
   ]
  },
  {
   "cell_type": "code",
   "execution_count": 8,
   "metadata": {
    "collapsed": false
   },
   "outputs": [],
   "source": [
    "libRadCase.readout()"
   ]
  },
  {
   "cell_type": "code",
   "execution_count": 9,
   "metadata": {
    "collapsed": false
   },
   "outputs": [
    {
     "data": {
      "image/png": "[encoded data removed]",
      "text/plain": [
       "<matplotlib.figure.Figure at 0x1a7c86d8>"
      ]
     },
     "metadata": {},
     "output_type": "display_data"
    }
   ],
   "source": [
    "plt.figure(figsize=(10,8))\n",
    "plt.plot(libRadCase.zout, libRadCase.edn)\n",
    "plt.title('RODENTS Solver : Downward Diffuse Irradiance')\n",
    "plt.xlabel('Altitude Above Surface [km]')\n",
    "plt.ylabel('Diffuse Irradiance [$mW/m^2/sr$]')\n",
    "plt.legend(['Fu Channel ' + str(chan) for chan in range(7,19)])\n",
    "plt.xlim([0,30])\n",
    "plt.grid()"
   ]
  },
  {
   "cell_type": "code",
   "execution_count": 10,
   "metadata": {
    "collapsed": false
   },
   "outputs": [],
   "source": [
    "# Lidar solver example\n",
    "# The lidar is at an altitude of 8.55 km, looking straight down\n",
    "# Ground albedo is 0.2, causing sudden increase in returned signal at that range\n",
    "# There is a cloud layer betweeen 2 and 4 km above ground\n",
    "ss=librad.Case(filename='examples/UVSPEC_SSLIDAR.INP')"
   ]
  },
  {
   "cell_type": "code",
   "execution_count": 11,
   "metadata": {
    "collapsed": false
   },
   "outputs": [],
   "source": [
    "ss.readout()  # Read the uvspec output"
   ]
  },
  {
   "cell_type": "code",
   "execution_count": 12,
   "metadata": {
    "collapsed": false
   },
   "outputs": [
    {
     "data": {
      "image/png": "[encoded data removed]",
      "text/plain": [
       "<matplotlib.figure.Figure at 0x1ab80ba8>"
      ]
     },
     "metadata": {},
     "output_type": "display_data"
    }
   ],
   "source": [
    "plt.figure(figsize=(10,8))\n",
    "plt.semilogy(ss.center_of_range, ss.number_of_photons)\n",
    "plt.xlabel('Range from Laser [$km$]')\n",
    "plt.ylabel('Returned Photons in Bin')\n",
    "plt.grid()\n"
   ]
  },
  {
   "cell_type": "code",
   "execution_count": 38,
   "metadata": {
    "collapsed": false
   },
   "outputs": [],
   "source": [
    "# This case shows use of the RPV (Rahman, Pinty, Verstraete [1993]) BRDF for a \"plowed field\"\n",
    "# The wavelength is 400 nm (only)\n",
    "x = librad.Case(filename='examples/UVSPEC_BRDF.INP')"
   ]
  },
  {
   "cell_type": "code",
   "execution_count": 39,
   "metadata": {
    "collapsed": false
   },
   "outputs": [
    {
     "data": {
      "text/plain": [
       "atmosphere_file ../data/atmmod/afglus.dat\n",
       "source solar ../data/solar_flux/atlas_plus_modtran\n",
       "sza 30.0\n",
       "rte_solver disort\n",
       "deltam on\n",
       "number_of_streams 16\n",
       "wavelength 400.0 400.0\n",
       "brdf_rpv rho0 0.076\n",
       "brdf_rpv k 0.648\n",
       "brdf_rpv theta -0.290\n",
       "umu 0.001 0.01 0.02 0.05 0.1 0.15 0.2 0.25 0.3 0.35 0.4 0.45 0.5 0.55 0.6 0.65 0.7 0.75 0.8 0.81 0.82 0.83 0.84 0.845 0.85 0.86 0.87 0.88 0.89 0.9 0.925 0.95 0.975 1.0\n",
       "phi 0 90 180\n",
       "no_scattering mol\n",
       "no_absorption \n",
       "zout 50.0\n",
       "output_quantity transmittance\n",
       "quiet "
      ]
     },
     "execution_count": 39,
     "metadata": {},
     "output_type": "execute_result"
    }
   ],
   "source": [
    "x"
   ]
  },
  {
   "cell_type": "code",
   "execution_count": 40,
   "metadata": {
    "collapsed": false
   },
   "outputs": [
    {
     "data": {
      "text/plain": [
       "'transmittance'"
      ]
     },
     "execution_count": 40,
     "metadata": {},
     "output_type": "execute_result"
    }
   ],
   "source": [
    "x.output_quantity"
   ]
  },
  {
   "cell_type": "code",
   "execution_count": 41,
   "metadata": {
    "collapsed": false
   },
   "outputs": [],
   "source": [
    "x.readout()"
   ]
  },
  {
   "cell_type": "code",
   "execution_count": 47,
   "metadata": {
    "collapsed": false
   },
   "outputs": [
    {
     "data": {
      "text/plain": [
       "<xray.DataArray 'stokes' (stokes: 1)>\n",
       "array([0])\n",
       "Coordinates:\n",
       "  * stokes   (stokes) int32 0\n",
       "Attributes:\n",
       "    units: \n",
       "    long_name: Stokes Parameter"
      ]
     },
     "execution_count": 47,
     "metadata": {},
     "output_type": "execute_result"
    }
   ],
   "source": [
    "x.xd_uu['stokes']"
   ]
  },
  {
   "cell_type": "code",
   "execution_count": null,
   "metadata": {
    "collapsed": false
   },
   "outputs": [],
   "source": [
    "x.uu.shape"
   ]
  },
  {
   "cell_type": "code",
   "execution_count": null,
   "metadata": {
    "collapsed": false
   },
   "outputs": [],
   "source": [
    "np.zeros(1)"
   ]
  },
  {
   "cell_type": "code",
   "execution_count": null,
   "metadata": {
    "collapsed": false
   },
   "outputs": [],
   "source": [
    "dir(x)"
   ]
  },
  {
   "cell_type": "code",
   "execution_count": 27,
   "metadata": {
    "collapsed": false
   },
   "outputs": [
    {
     "data": {
      "image/png": "[encoded data removed]",
      "text/plain": [
       "<matplotlib.figure.Figure at 0x1d15fbe0>"
      ]
     },
     "metadata": {},
     "output_type": "display_data"
    }
   ],
   "source": [
    "plt.figure(figsize=(10, 8))\n",
    "plt.title('RPV BRDF for a Plowed Field')\n",
    "plt.plot(x.umu, x.uu[:,:,0,0,0])  # Variable order is umu, phi, wvl, zout, nstokes\n",
    "plt.xlabel('Cosine of Zenith Angle')\n",
    "plt.ylabel('Transmittance at TOA')\n",
    "plt.legend(['Azimuth ' + str(phi) + ' deg' for phi in x.phi])\n",
    "plt.grid()"
   ]
  },
  {
   "cell_type": "code",
   "execution_count": 49,
   "metadata": {
    "collapsed": false
   },
   "outputs": [],
   "source": [
    "polz = librad.Case(filename='examples/UVSPEC_AEROSOL_OPAC_POLaZOUT.INP')\n",
    "polz.readout()"
   ]
  },
  {
   "cell_type": "code",
   "execution_count": 50,
   "metadata": {
    "collapsed": false
   },
   "outputs": [
    {
     "data": {
      "text/plain": [
       "3"
      ]
     },
     "execution_count": 50,
     "metadata": {},
     "output_type": "execute_result"
    }
   ],
   "source": [
    "len(polz.uu)"
   ]
  },
  {
   "cell_type": "code",
   "execution_count": 51,
   "metadata": {
    "collapsed": false
   },
   "outputs": [
    {
     "data": {
      "text/plain": [
       "array([  0.,  inf])"
      ]
     },
     "execution_count": 51,
     "metadata": {},
     "output_type": "execute_result"
    }
   ],
   "source": [
    "polz.level_values"
   ]
  },
  {
   "cell_type": "code",
   "execution_count": 52,
   "metadata": {
    "collapsed": false
   },
   "outputs": [
    {
     "data": {
      "text/plain": [
       "(3L, 3L, 2L, 2L, 4L)"
      ]
     },
     "execution_count": 52,
     "metadata": {},
     "output_type": "execute_result"
    }
   ],
   "source": [
    "polz.uu.shape"
   ]
  },
  {
   "cell_type": "code",
   "execution_count": 53,
   "metadata": {
    "collapsed": false
   },
   "outputs": [
    {
     "data": {
      "text/plain": [
       "array([  0.,  inf])"
      ]
     },
     "execution_count": 53,
     "metadata": {},
     "output_type": "execute_result"
    }
   ],
   "source": [
    "polz.zout_sea"
   ]
  },
  {
   "cell_type": "code",
   "execution_count": 54,
   "metadata": {
    "collapsed": false
   },
   "outputs": [
    {
     "data": {
      "text/plain": [
       "['mW', 'm^2', 'nm']"
      ]
     },
     "execution_count": 54,
     "metadata": {},
     "output_type": "execute_result"
    }
   ],
   "source": [
    "polz.rad_units"
   ]
  },
  {
   "cell_type": "code",
   "execution_count": null,
   "metadata": {
    "collapsed": false
   },
   "outputs": [],
   "source": [
    "dir(polz)"
   ]
  },
  {
   "cell_type": "code",
   "execution_count": null,
   "metadata": {
    "collapsed": true
   },
   "outputs": [],
   "source": []
  },
  {
   "cell_type": "code",
   "execution_count": 55,
   "metadata": {
    "collapsed": false
   },
   "outputs": [],
   "source": [
    "# Here is a case with radiances in both umu and phi\n",
    "y = librad.Case(filename='examples/UVSPEC_RADIANCES_ZOUT.INP')"
   ]
  },
  {
   "cell_type": "code",
   "execution_count": 56,
   "metadata": {
    "collapsed": false
   },
   "outputs": [],
   "source": [
    "y.readout()"
   ]
  },
  {
   "cell_type": "code",
   "execution_count": null,
   "metadata": {
    "collapsed": false
   },
   "outputs": [],
   "source": [
    "print y.n_umu, y.n_phi, y.n_wvl, y.n_zout\n",
    "print y.u0u.shape\n",
    "y.u0u[:,1,0]"
   ]
  },
  {
   "cell_type": "code",
   "execution_count": null,
   "metadata": {
    "collapsed": false
   },
   "outputs": [],
   "source": [
    "# Plot radiances \n",
    "plt.figure(figsize=(10, 8), )\n",
    "for iumu in range(y.n_umu):\n",
    "    plt.plot(y.wvl, y.uu[iumu,0,:,0])  # order is umu, phi, wvl, zout, stokes\n",
    "plt.xlabel('Wavelength [$nm$]')\n",
    "plt.ylabel('Radiance [$mW/m^2/sr/nm$]')\n",
    "plt.grid()"
   ]
  },
  {
   "cell_type": "code",
   "execution_count": null,
   "metadata": {
    "collapsed": false
   },
   "outputs": [],
   "source": [
    "plt.figure(figsize=(10, 8))\n",
    "for iphi in range(y.n_phi):\n",
    "    plt.plot(y.wvl, y.uu[2,iphi,:,1]) # order is umu, phi, wvl, zout, stokes\n",
    "plt.xlabel('Wavelength [$nm$]')\n",
    "plt.ylabel('Radiance [$mW/m^2/sr/nm$]')\n",
    "plt.grid()"
   ]
  },
  {
   "cell_type": "code",
   "execution_count": null,
   "metadata": {
    "collapsed": false
   },
   "outputs": [],
   "source": [
    "# Solar irradiance profiles with old LOWTRAN model (fast, but not very accurate)\n",
    "z = librad.Case(filename='examples/UVSPEC_PROFILES4.INP')"
   ]
  },
  {
   "cell_type": "code",
   "execution_count": null,
   "metadata": {
    "collapsed": false
   },
   "outputs": [],
   "source": [
    "z.readout()"
   ]
  },
  {
   "cell_type": "code",
   "execution_count": null,
   "metadata": {
    "collapsed": false
   },
   "outputs": [],
   "source": [
    "plt.figure(figsize=(10, 8))\n",
    "plt.plot(z.wvl, z.edir.T)\n",
    "plt.title('Direct Solar Irradiance (LOWTRAN Model)')\n",
    "plt.legend(['Altitude ' + str(zout) + ' km' for zout in z.zout])\n",
    "plt.xlabel('Wavelength [$nm$]')\n",
    "plt.grid()"
   ]
  },
  {
   "cell_type": "code",
   "execution_count": null,
   "metadata": {
    "collapsed": false
   },
   "outputs": [],
   "source": [
    "# Two-stream irradiances using the fine spectral resolution REPTRAN model\n",
    "lRep = librad.Case(filename='examples/UVSPEC_REPTRAN_SOLAR.INP')"
   ]
  },
  {
   "cell_type": "code",
   "execution_count": null,
   "metadata": {
    "collapsed": false
   },
   "outputs": [],
   "source": [
    "lRep.readout()"
   ]
  },
  {
   "cell_type": "code",
   "execution_count": null,
   "metadata": {
    "collapsed": false
   },
   "outputs": [],
   "source": [
    "plt.figure(figsize=(10,8))\n",
    "plt.plot(lRep.wvl, lRep.edir, lRep.wvl, lRep.edn)\n",
    "plt.title('REPTRAN Solar Band Model : Irradiance')\n",
    "plt.xlabel('Wavelength [nm]')\n",
    "plt.ylabel('Irradiance [$mW/m^2/sr/nm$]')\n",
    "plt.legend(['Direct Solar', 'Diffuse Downwelling'])\n",
    "plt.grid()"
   ]
  },
  {
   "cell_type": "code",
   "execution_count": null,
   "metadata": {
    "collapsed": false
   },
   "outputs": [],
   "source": [
    "z = librad.Case(filename='examples/UVSPEC_RADIANCES_ZOUT.INP')"
   ]
  },
  {
   "cell_type": "code",
   "execution_count": null,
   "metadata": {
    "collapsed": false
   },
   "outputs": [],
   "source": [
    "z.readout()"
   ]
  },
  {
   "cell_type": "code",
   "execution_count": null,
   "metadata": {
    "collapsed": false
   },
   "outputs": [],
   "source": [
    "k = librad.Case(filename='examples/UVSPEC_REPTRAN_THERMAL.INP')\n"
   ]
  },
  {
   "cell_type": "code",
   "execution_count": null,
   "metadata": {
    "collapsed": false
   },
   "outputs": [],
   "source": [
    "k.readout()"
   ]
  },
  {
   "cell_type": "code",
   "execution_count": null,
   "metadata": {
    "collapsed": false
   },
   "outputs": [],
   "source": [
    "k.output_quantity"
   ]
  },
  {
   "cell_type": "code",
   "execution_count": null,
   "metadata": {
    "collapsed": false
   },
   "outputs": [],
   "source": [
    "c = librad.Case(filename='examples/UVSPEC_FILTER_SOLAR.INP')"
   ]
  },
  {
   "cell_type": "code",
   "execution_count": null,
   "metadata": {
    "collapsed": false
   },
   "outputs": [],
   "source": [
    "c"
   ]
  },
  {
   "cell_type": "code",
   "execution_count": null,
   "metadata": {
    "collapsed": true
   },
   "outputs": [],
   "source": [
    "c.readout()"
   ]
  },
  {
   "cell_type": "code",
   "execution_count": null,
   "metadata": {
    "collapsed": false
   },
   "outputs": [],
   "source": [
    "c.rad_units"
   ]
  },
  {
   "cell_type": "code",
   "execution_count": 58,
   "metadata": {
    "collapsed": false
   },
   "outputs": [],
   "source": [
    "p = librad.Case(filename='examples/UVSPEC_AEROSOL_OPAC_POLaZOUT.INP')"
   ]
  },
  {
   "cell_type": "code",
   "execution_count": 59,
   "metadata": {
    "collapsed": false
   },
   "outputs": [],
   "source": [
    "p.readout()"
   ]
  },
  {
   "cell_type": "code",
   "execution_count": null,
   "metadata": {
    "collapsed": false
   },
   "outputs": [],
   "source": [
    "b = librad.Case(filename='examples/UVSPEC_MC.INP')"
   ]
  },
  {
   "cell_type": "code",
   "execution_count": null,
   "metadata": {
    "collapsed": false
   },
   "outputs": [],
   "source": [
    "b.readout()"
   ]
  },
  {
   "cell_type": "code",
   "execution_count": null,
   "metadata": {
    "collapsed": false
   },
   "outputs": [],
   "source": [
    "b.fluxline"
   ]
  },
  {
   "cell_type": "code",
   "execution_count": null,
   "metadata": {
    "collapsed": false
   },
   "outputs": [],
   "source": [
    "b.edir, b.edn, b.eup, b.uavgdir, b.uavgdn, b.uavgup\n"
   ]
  },
  {
   "cell_type": "code",
   "execution_count": null,
   "metadata": {
    "collapsed": false
   },
   "outputs": [],
   "source": [
    "b.wvl"
   ]
  },
  {
   "cell_type": "code",
   "execution_count": null,
   "metadata": {
    "collapsed": false
   },
   "outputs": [],
   "source": [
    "# Reproduce the sunglint case plot for the Sentinel 3 OLCI band 13\n",
    "sung = librad.Case(filename='examples/GUI/radiance_sentinel_sunglint/radiance_sentinel_sunglint.INP')"
   ]
  },
  {
   "cell_type": "code",
   "execution_count": null,
   "metadata": {
    "collapsed": false
   },
   "outputs": [],
   "source": [
    "sung.readout()"
   ]
  },
  {
   "cell_type": "code",
   "execution_count": null,
   "metadata": {
    "collapsed": false
   },
   "outputs": [],
   "source": [
    "sung"
   ]
  },
  {
   "cell_type": "code",
   "execution_count": null,
   "metadata": {
    "collapsed": false
   },
   "outputs": [],
   "source": [
    "plt.figure(figsize=(10,8))\n",
    "plt.plot(np.rad2deg(np.arcsin(-sung.umu[::-1])), sung.uu[1::2],\n",
    "         np.rad2deg(np.arcsin(sung.umu)), sung.uu[-2::-2])\n",
    "plt.xlim([-90,90])\n",
    "plt.ylim([0,110])\n",
    "plt.title('Sunglint in Sentinel 3 OLCI Band 13')\n",
    "plt.ylabel(r\"Radiance [$mW/m^2/sr/nm$]\", fontsize = 12)\n",
    "plt.xlabel(r\"Viewing nadir angle $\\theta$ (degree)\", fontsize = 12)\n",
    "plt.grid()"
   ]
  },
  {
   "cell_type": "code",
   "execution_count": null,
   "metadata": {
    "collapsed": false
   },
   "outputs": [],
   "source": [
    "sung"
   ]
  },
  {
   "cell_type": "code",
   "execution_count": null,
   "metadata": {
    "collapsed": false
   },
   "outputs": [],
   "source": [
    "c,s=libRadCase.run(block=False)"
   ]
  },
  {
   "cell_type": "code",
   "execution_count": null,
   "metadata": {
    "collapsed": false
   },
   "outputs": [],
   "source": [
    "c"
   ]
  },
  {
   "cell_type": "code",
   "execution_count": null,
   "metadata": {
    "collapsed": true
   },
   "outputs": [],
   "source": [
    "import sys"
   ]
  },
  {
   "cell_type": "code",
   "execution_count": null,
   "metadata": {
    "collapsed": false
   },
   "outputs": [],
   "source": [
    "sys.path"
   ]
  },
  {
   "cell_type": "code",
   "execution_count": 60,
   "metadata": {
    "collapsed": false
   },
   "outputs": [
    {
     "data": {
      "text/plain": [
       "<xray.DataArray 'specrad' (umu: 3, phi: 3, wvl: 2, zout: 2, stokes: 4)>\n",
       "array([[[[[  1.95416500e+02,   1.50729800e+00,   0.00000000e+00,\n",
       "             0.00000000e+00],\n",
       "          [  1.95416500e+02,   1.50729800e+00,   0.00000000e+00,\n",
       "             0.00000000e+00]],\n",
       "\n",
       "         [[  1.95416500e+02,   1.50729800e+00,   0.00000000e+00,\n",
       "             0.00000000e+00],\n",
       "          [  1.95416500e+02,   1.50729800e+00,   0.00000000e+00,\n",
       "             0.00000000e+00]]],\n",
       "\n",
       "\n",
       "        [[[  1.00357000e+02,   4.60577400e+00,   1.45117000e+01,\n",
       "             2.15992200e-02],\n",
       "          [  1.00357000e+02,   4.60577400e+00,   1.45117000e+01,\n",
       "             2.15992200e-02]],\n",
       "\n",
       "         [[  1.00357000e+02,   4.60577400e+00,   1.45117000e+01,\n",
       "             2.15992200e-02],\n",
       "          [  1.00357000e+02,   4.60577400e+00,   1.45117000e+01,\n",
       "             2.15992200e-02]]],\n",
       "\n",
       "\n",
       "        [[[  8.08653300e+01,  -2.40141100e+01,  -2.62952800e-06,\n",
       "            -1.37106100e-09],\n",
       "          [  8.08653300e+01,  -2.40141100e+01,  -2.62952800e-06,\n",
       "            -1.37106100e-09]],\n",
       "\n",
       "         [[  8.08653300e+01,  -2.40141100e+01,  -2.62952800e-06,\n",
       "            -1.37106100e-09],\n",
       "          [  8.08653300e+01,  -2.40141100e+01,  -2.62952800e-06,\n",
       "            -1.37106100e-09]]]],\n",
       "\n",
       "\n",
       "\n",
       "       [[[[  1.73264700e+02,  -4.43311900e+00,   0.00000000e+00,\n",
       "             0.00000000e+00],\n",
       "          [  1.73264700e+02,  -4.43311900e+00,   0.00000000e+00,\n",
       "             0.00000000e+00]],\n",
       "\n",
       "         [[  1.73264700e+02,  -4.43311900e+00,   0.00000000e+00,\n",
       "             0.00000000e+00],\n",
       "          [  1.73264700e+02,  -4.43311900e+00,   0.00000000e+00,\n",
       "             0.00000000e+00]]],\n",
       "\n",
       "\n",
       "        [[[  1.06167300e+02,  -7.73972000e+00,   3.41353300e+01,\n",
       "            -1.79722000e-02],\n",
       "          [  1.06167300e+02,  -7.73972000e+00,   3.41353300e+01,\n",
       "            -1.79722000e-02]],\n",
       "\n",
       "         [[  1.06167300e+02,  -7.73972000e+00,   3.41353300e+01,\n",
       "            -1.79722000e-02],\n",
       "          [  1.06167300e+02,  -7.73972000e+00,   3.41353300e+01,\n",
       "            -1.79722000e-02]]],\n",
       "\n",
       "\n",
       "        [[[  9.30066100e+01,  -3.87176000e+01,  -3.93681500e-06,\n",
       "             2.66670600e-09],\n",
       "          [  9.30066100e+01,  -3.87176000e+01,  -3.93681500e-06,\n",
       "             2.66670600e-09]],\n",
       "\n",
       "         [[  9.30066100e+01,  -3.87176000e+01,  -3.93681500e-06,\n",
       "             2.66670600e-09],\n",
       "          [  9.30066100e+01,  -3.87176000e+01,  -3.93681500e-06,\n",
       "             2.66670600e-09]]]],\n",
       "\n",
       "\n",
       "\n",
       "       [[[[  1.39842200e+02,  -1.57891900e+01,   0.00000000e+00,\n",
       "             0.00000000e+00],\n",
       "          [  1.39842200e+02,  -1.57891900e+01,   0.00000000e+00,\n",
       "             0.00000000e+00]],\n",
       "\n",
       "         [[  1.39842200e+02,  -1.57891900e+01,   0.00000000e+00,\n",
       "             0.00000000e+00],\n",
       "          [  1.39842200e+02,  -1.57891900e+01,   0.00000000e+00,\n",
       "             0.00000000e+00]]],\n",
       "\n",
       "\n",
       "        [[[  1.03795300e+02,  -1.12304200e+01,   3.24538900e+01,\n",
       "            -7.25264200e-02],\n",
       "          [  1.03795300e+02,  -1.12304200e+01,   3.24538900e+01,\n",
       "            -7.25264200e-02]],\n",
       "\n",
       "         [[  1.03795300e+02,  -1.12304200e+01,   3.24538900e+01,\n",
       "            -7.25264200e-02],\n",
       "          [  1.03795300e+02,  -1.12304200e+01,   3.24538900e+01,\n",
       "            -7.25264200e-02]]],\n",
       "\n",
       "\n",
       "        [[[  1.03360200e+02,  -2.61252800e+01,  -3.03928300e-06,\n",
       "             1.85439400e-09],\n",
       "          [  1.03360200e+02,  -2.61252800e+01,  -3.03928300e-06,\n",
       "             1.85439400e-09]],\n",
       "\n",
       "         [[  1.03360200e+02,  -2.61252800e+01,  -3.03928300e-06,\n",
       "             1.85439400e-09],\n",
       "          [  1.03360200e+02,  -2.61252800e+01,  -3.03928300e-06,\n",
       "             1.85439400e-09]]]]])\n",
       "Coordinates:\n",
       "  * umu      (umu) float64 -0.8873 -0.5 -0.1127\n",
       "  * phi      (phi) float64 0.0 90.0 180.0\n",
       "  * wvl      (wvl) float64 350.0 351.0\n",
       "  * zout     (zout) float64 0.0 inf\n",
       "  * stokes   (stokes) int32 0 1 2 3\n",
       "Attributes:\n",
       "    units: mW/m^2/sr/nm"
      ]
     },
     "execution_count": 60,
     "metadata": {},
     "output_type": "execute_result"
    }
   ],
   "source": [
    "p.xd_uu"
   ]
  },
  {
   "cell_type": "code",
   "execution_count": null,
   "metadata": {
    "collapsed": true
   },
   "outputs": [],
   "source": []
  }
 ],
 "metadata": {
  "kernelspec": {
   "display_name": "Python 2",
   "language": "python",
   "name": "python2"
  },
  "language_info": {
   "codemirror_mode": {
    "name": "ipython",
    "version": 2
   },
   "file_extension": ".py",
   "mimetype": "text/x-python",
   "name": "python",
   "nbconvert_exporter": "python",
   "pygments_lexer": "ipython2",
   "version": "2.7.11"
  }
 },
 "nbformat": 4,
 "nbformat_minor": 0
}
