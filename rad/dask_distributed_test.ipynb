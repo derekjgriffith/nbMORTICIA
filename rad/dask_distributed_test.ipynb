{
 "cells": [
  {
   "cell_type": "code",
   "execution_count": 1,
   "metadata": {
    "collapsed": true
   },
   "outputs": [],
   "source": [
    "from dask.distributed import Client"
   ]
  },
  {
   "cell_type": "code",
   "execution_count": 2,
   "metadata": {
    "collapsed": true
   },
   "outputs": [],
   "source": [
    "client = Client('146.64.246.94:8786')"
   ]
  },
  {
   "cell_type": "code",
   "execution_count": 3,
   "metadata": {},
   "outputs": [
    {
     "data": {
      "text/html": [
       "<table style=\"border: 2px solid white;\">\n",
       "<tr>\n",
       "<td style=\"vertical-align: top; border: 0px solid white\">\n",
       "<h3>Client</h3>\n",
       "<ul>\n",
       "  <li><b>Scheduler: </b>tcp://146.64.246.94:8786\n",
       "  <li><b>Dashboard: </b><a href='http://146.64.246.94:8787' target='_blank'>http://146.64.246.94:8787</a>\n",
       "</ul>\n",
       "</td>\n",
       "<td style=\"vertical-align: top; border: 0px solid white\">\n",
       "<h3>Cluster</h3>\n",
       "<ul>\n",
       "  <li><b>Workers: </b>2</li>\n",
       "  <li><b>Cores: </b>64</li>\n",
       "  <li><b>Memory: </b>67.42 GB</li>\n",
       "</ul>\n",
       "</td>\n",
       "</tr>\n",
       "</table>"
      ],
      "text/plain": [
       "<Client: scheduler='tcp://146.64.246.94:8786' processes=2 cores=64>"
      ]
     },
     "execution_count": 3,
     "metadata": {},
     "output_type": "execute_result"
    }
   ],
   "source": [
    "client"
   ]
  },
  {
   "cell_type": "code",
   "execution_count": 4,
   "metadata": {},
   "outputs": [
    {
     "data": {
      "text/plain": [
       "-285"
      ]
     },
     "execution_count": 4,
     "metadata": {},
     "output_type": "execute_result"
    }
   ],
   "source": [
    "def square(x):\n",
    "    return x ** 2\n",
    "\n",
    "def neg(x):\n",
    "    return -x\n",
    "\n",
    "A = client.map(square, range(10))\n",
    "B = client.map(neg, A)\n",
    "total = client.submit(sum, B)\n",
    "total.result()"
   ]
  },
  {
   "cell_type": "code",
   "execution_count": 5,
   "metadata": {},
   "outputs": [
    {
     "data": {
      "text/html": [
       "<b>Future: sum</b> <font color=\"gray\">status: </font><font color=\"black\">finished</font>, <font color=\"gray\">type: </font>int, <font color=\"gray\">key: </font>sum-efb4295438733ae3a7fffcfa471b09fc"
      ],
      "text/plain": [
       "<Future: status: finished, type: int, key: sum-efb4295438733ae3a7fffcfa471b09fc>"
      ]
     },
     "execution_count": 5,
     "metadata": {},
     "output_type": "execute_result"
    }
   ],
   "source": [
    "total"
   ]
  },
  {
   "cell_type": "code",
   "execution_count": 7,
   "metadata": {},
   "outputs": [
    {
     "data": {
      "text/plain": [
       "{'address': 'tcp://146.64.246.94:8786',\n",
       " 'id': 'Scheduler-cd704436-b076-4b89-8e99-b2a6e52b5efe',\n",
       " 'services': {'bokeh': 8787},\n",
       " 'type': 'Scheduler',\n",
       " 'workers': {'tcp://146.64.246.94:37175': {'cpu': 10.0,\n",
       "   'executing': 0,\n",
       "   'host': '146.64.246.94',\n",
       "   'in_flight': 0,\n",
       "   'in_memory': 30,\n",
       "   'last-seen': 1515664875.114797,\n",
       "   'last-task': 1515663841.129308,\n",
       "   'local_directory': '/home/dgriffith/libRadtran/libRadtran-2.0.2/work/dask-worker-space/worker-eBEq4o',\n",
       "   'memory': 185294848,\n",
       "   'memory_limit': 33712156672L,\n",
       "   'name': 'tcp://146.64.246.94:37175',\n",
       "   'ncores': 32,\n",
       "   'num_fds': 25,\n",
       "   'pid': 13982,\n",
       "   'read_bytes': 4298.086078460357,\n",
       "   'ready': 0,\n",
       "   'services': {'bokeh': 39407, 'nanny': 42043},\n",
       "   'time': 1515664874.614709,\n",
       "   'time-delay': 0.0011129379272460938,\n",
       "   'write_bytes': 5508.110311810063},\n",
       "  'tcp://146.64.246.94:38699': {'cpu': 10.0,\n",
       "   'executing': 0,\n",
       "   'host': '146.64.246.94',\n",
       "   'in_flight': 0,\n",
       "   'in_memory': 36,\n",
       "   'last-seen': 1515664875.03264,\n",
       "   'last-task': 1515663841.1552026,\n",
       "   'local_directory': '/home/dgriffith/libRadtran/libRadtran-2.0.2/work/dask-worker-space/worker-LfZu8N',\n",
       "   'memory': 186548224,\n",
       "   'memory_limit': 33712156672L,\n",
       "   'name': 'tcp://146.64.246.94:38699',\n",
       "   'ncores': 32,\n",
       "   'num_fds': 25,\n",
       "   'pid': 13963,\n",
       "   'read_bytes': 4295.267776863891,\n",
       "   'ready': 0,\n",
       "   'services': {'bokeh': 8789, 'nanny': 36525},\n",
       "   'time': 1515664874.532902,\n",
       "   'time-delay': 0.0010840892791748047,\n",
       "   'write_bytes': 5504.498584217384}}}"
      ]
     },
     "execution_count": 7,
     "metadata": {},
     "output_type": "execute_result"
    }
   ],
   "source": [
    "client.scheduler_info()"
   ]
  },
  {
   "cell_type": "code",
   "execution_count": null,
   "metadata": {
    "collapsed": true
   },
   "outputs": [],
   "source": []
  }
 ],
 "metadata": {
  "kernelspec": {
   "display_name": "Python [mordevpy27]",
   "language": "python",
   "name": "Python [mordevpy27]"
  },
  "language_info": {
   "codemirror_mode": {
    "name": "ipython",
    "version": 2
   },
   "file_extension": ".py",
   "mimetype": "text/x-python",
   "name": "python",
   "nbconvert_exporter": "python",
   "pygments_lexer": "ipython2",
   "version": "2.7.14"
  }
 },
 "nbformat": 4,
 "nbformat_minor": 2
}
